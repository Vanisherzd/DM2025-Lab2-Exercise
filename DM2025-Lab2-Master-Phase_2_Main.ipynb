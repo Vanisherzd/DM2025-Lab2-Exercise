{
 "cells": [
  {
   "cell_type": "markdown",
   "metadata": {},
   "source": [
    "**Table of contents**<a id='toc0_'></a>    \n",
    "- [Data Mining Lab 2 - Phase 2](#toc1_)    \n",
    "  - [Before Starting](#toc1_1_)    \n",
    "  - [Introduction](#toc1_2_)    \n",
    "  - [**1. Data Preparation**](#toc1_3_)    \n",
    "  - [**1.1 Load data**](#toc1_4_)    \n",
    "    - [**1.2 Save data**](#toc1_4_1_)    \n",
    "  - [**2. Large Language Models (LLMs)**](#toc1_5_)    \n",
    "    - [Open-Source vs. Proprietary LLMs](#toc1_5_1_)    \n",
    "    - [Why Use Code (API) for Data Mining?](#toc1_5_2_)    \n",
    "    - [The Gemini API](#toc1_5_3_)    \n",
    "    - [Interacting with the Gemini API](#toc1_5_4_)    \n",
    "    - [**2.1 Text Prompting**](#toc1_5_5_)    \n",
    "        - [**>>> Exercise 1 (Take home):**](#toc1_5_5_1_1_)    \n",
    "    - [**2.2 Structured Output**](#toc1_5_6_)    \n",
    "        - [**>>> Exercise 2 (Take home):**](#toc1_5_6_1_1_)    \n",
    "    - [**2.3 Information Extraction and Grounding:**](#toc1_5_7_)    \n",
    "      - [**`langextract`: A Library for Grounded Extraction**](#toc1_5_7_1_)    \n",
    "        - [**2.3.1 Using PDF Documents:**](#toc1_5_7_1_1_)    \n",
    "        - [**>>> Bonus Exercise 3 (Take home):**](#toc1_5_7_1_2_)    \n",
    "    - [**2.4 Generating LLM Embeddings:**](#toc1_5_8_)    \n",
    "        - [**>>> Exercise 4 (Take home):**](#toc1_5_8_1_1_)    \n",
    "    - [**2.5 Retrieval-Augmented Generation (RAG)**](#toc1_5_9_)    \n",
    "        - [**Actual answer in the URL:**](#toc1_5_9_1_1_)    \n",
    "        - [**Content in the URL that might get into the generated answer because of similar semantic meaning:**](#toc1_5_9_1_2_)    \n",
    "        - [**>>> Bonus Exercise 5 (Take home):**](#toc1_5_9_1_3_)    \n",
    "    - [**2.6 Few-Shot Prompting Classification:**](#toc1_5_10_)    \n",
    "        - [**>>> Exercise 6 (Take home):**](#toc1_5_10_1_1_)    \n",
    "        - [**>>> Exercise 7 (Take home):**](#toc1_5_10_1_2_)    \n",
    "    - [**2.7 Extra LLM Related Materials:**](#toc1_5_11_)    \n",
    "\n",
    "<!-- vscode-jupyter-toc-config\n",
    "\tnumbering=false\n",
    "\tanchor=true\n",
    "\tflat=false\n",
    "\tminLevel=1\n",
    "\tmaxLevel=6\n",
    "\t/vscode-jupyter-toc-config -->\n",
    "<!-- THIS CELL WILL BE REPLACED ON TOC UPDATE. DO NOT WRITE YOUR TEXT IN THIS CELL -->"
   ]
  },
  {
   "cell_type": "markdown",
   "metadata": {
    "id": "uuutyCx4YTpX"
   },
   "source": [
    "# <a id='toc1_'></a>[Data Mining Lab 2 - Phase 2](#toc0_)\n",
    "In this lab's phase 2 session we will focus on exploring some basic LLMs' applications with data.\n"
   ]
  },
  {
   "cell_type": "markdown",
   "metadata": {},
   "source": [
    "## <a id='toc1_1_'></a>[Before Starting](#toc0_)\n",
    "\n",
    "**Make sure you have installed all the required libraries and you have the environment ready to run this lab.**\n",
    "    "
   ]
  },
  {
   "cell_type": "markdown",
   "metadata": {
    "id": "LIpAqCvMYTpX"
   },
   "source": [
    "---\n",
    "## <a id='toc1_2_'></a>[Introduction](#toc0_)"
   ]
  },
  {
   "cell_type": "markdown",
   "metadata": {
    "id": "n2paPeNbYTpX"
   },
   "source": [
    "**Dataset:** [SemEval 2017 Task](https://competitions.codalab.org/competitions/16380)\n",
    "\n",
    "**Task:** Classify text data into 4 different emotions using word embeddings and other deep information retrieval approaches.\n",
    "\n",
    "![pic0.png](./pics/pic0.png)"
   ]
  },
  {
   "cell_type": "markdown",
   "metadata": {
    "id": "op_X7pR-YTpX"
   },
   "source": [
    "---\n",
    "## <a id='toc1_3_'></a>[**1. Data Preparation**](#toc0_)"
   ]
  },
  {
   "cell_type": "markdown",
   "metadata": {
    "id": "pgoEbZzSYTpX"
   },
   "source": [
    "---\n",
    "## <a id='toc1_4_'></a>[**1.1 Load data**](#toc0_)\n",
    "\n",
    "We start by loading the csv files into a single pandas dataframe for training and one for testing."
   ]
  },
  {
   "cell_type": "code",
   "execution_count": 1,
   "metadata": {
    "id": "anfjcPSSYTpX"
   },
   "outputs": [],
   "source": [
    "import pandas as pd\n",
    "\n",
    "### training data\n",
    "anger_train = pd.read_csv(\"data/semeval/train/anger-ratings-0to1.train.txt\",\n",
    "                         sep=\"\\t\", header=None,names=[\"id\", \"text\", \"emotion\", \"intensity\"])\n",
    "sadness_train = pd.read_csv(\"data/semeval/train/sadness-ratings-0to1.train.txt\",\n",
    "                         sep=\"\\t\", header=None, names=[\"id\", \"text\", \"emotion\", \"intensity\"])\n",
    "fear_train = pd.read_csv(\"data/semeval/train/fear-ratings-0to1.train.txt\",\n",
    "                         sep=\"\\t\", header=None, names=[\"id\", \"text\", \"emotion\", \"intensity\"])\n",
    "joy_train = pd.read_csv(\"data/semeval/train/joy-ratings-0to1.train.txt\",\n",
    "                         sep=\"\\t\", header=None, names=[\"id\", \"text\", \"emotion\", \"intensity\"])"
   ]
  },
  {
   "cell_type": "code",
   "execution_count": 2,
   "metadata": {
    "id": "yVc2T5MIYTpX"
   },
   "outputs": [],
   "source": [
    "# combine 4 sub-dataset\n",
    "train_df = pd.concat([anger_train, fear_train, joy_train, sadness_train], ignore_index=True)"
   ]
  },
  {
   "cell_type": "code",
   "execution_count": 3,
   "metadata": {
    "colab": {
     "base_uri": "https://localhost:8080/",
     "height": 206
    },
    "id": "Kw8bGMv7YTpX",
    "outputId": "9f6f7052-302e-4794-ef69-b84450b61b36"
   },
   "outputs": [
    {
     "data": {
      "text/html": [
       "<div>\n",
       "<style scoped>\n",
       "    .dataframe tbody tr th:only-of-type {\n",
       "        vertical-align: middle;\n",
       "    }\n",
       "\n",
       "    .dataframe tbody tr th {\n",
       "        vertical-align: top;\n",
       "    }\n",
       "\n",
       "    .dataframe thead th {\n",
       "        text-align: right;\n",
       "    }\n",
       "</style>\n",
       "<table border=\"1\" class=\"dataframe\">\n",
       "  <thead>\n",
       "    <tr style=\"text-align: right;\">\n",
       "      <th></th>\n",
       "      <th>id</th>\n",
       "      <th>text</th>\n",
       "      <th>emotion</th>\n",
       "      <th>intensity</th>\n",
       "    </tr>\n",
       "  </thead>\n",
       "  <tbody>\n",
       "    <tr>\n",
       "      <th>0</th>\n",
       "      <td>10000</td>\n",
       "      <td>How the fu*k! Who the heck! moved my fridge!.....</td>\n",
       "      <td>anger</td>\n",
       "      <td>0.938</td>\n",
       "    </tr>\n",
       "    <tr>\n",
       "      <th>1</th>\n",
       "      <td>10001</td>\n",
       "      <td>So my Indian Uber driver just called someone t...</td>\n",
       "      <td>anger</td>\n",
       "      <td>0.896</td>\n",
       "    </tr>\n",
       "    <tr>\n",
       "      <th>2</th>\n",
       "      <td>10002</td>\n",
       "      <td>@DPD_UK I asked for my parcel to be delivered ...</td>\n",
       "      <td>anger</td>\n",
       "      <td>0.896</td>\n",
       "    </tr>\n",
       "    <tr>\n",
       "      <th>3</th>\n",
       "      <td>10003</td>\n",
       "      <td>so ef whichever butt wipe pulled the fire alar...</td>\n",
       "      <td>anger</td>\n",
       "      <td>0.896</td>\n",
       "    </tr>\n",
       "    <tr>\n",
       "      <th>4</th>\n",
       "      <td>10004</td>\n",
       "      <td>Don't join @BTCare they put the phone down on ...</td>\n",
       "      <td>anger</td>\n",
       "      <td>0.896</td>\n",
       "    </tr>\n",
       "  </tbody>\n",
       "</table>\n",
       "</div>"
      ],
      "text/plain": [
       "      id                                               text emotion  intensity\n",
       "0  10000  How the fu*k! Who the heck! moved my fridge!.....   anger      0.938\n",
       "1  10001  So my Indian Uber driver just called someone t...   anger      0.896\n",
       "2  10002  @DPD_UK I asked for my parcel to be delivered ...   anger      0.896\n",
       "3  10003  so ef whichever butt wipe pulled the fire alar...   anger      0.896\n",
       "4  10004  Don't join @BTCare they put the phone down on ...   anger      0.896"
      ]
     },
     "execution_count": 3,
     "metadata": {},
     "output_type": "execute_result"
    }
   ],
   "source": [
    "### testing data\n",
    "anger_test = pd.read_csv(\"data/semeval/dev/anger-ratings-0to1.dev.gold.txt\",\n",
    "                         sep=\"\\t\", header=None, names=[\"id\", \"text\", \"emotion\", \"intensity\"])\n",
    "sadness_test = pd.read_csv(\"data/semeval/dev/sadness-ratings-0to1.dev.gold.txt\",\n",
    "                         sep=\"\\t\", header=None, names=[\"id\", \"text\", \"emotion\", \"intensity\"])\n",
    "fear_test = pd.read_csv(\"data/semeval/dev/fear-ratings-0to1.dev.gold.txt\",\n",
    "                         sep=\"\\t\", header=None, names=[\"id\", \"text\", \"emotion\", \"intensity\"])\n",
    "joy_test = pd.read_csv(\"data/semeval/dev/joy-ratings-0to1.dev.gold.txt\",\n",
    "                         sep=\"\\t\", header=None, names=[\"id\", \"text\", \"emotion\", \"intensity\"])\n",
    "\n",
    "# combine 4 sub-dataset\n",
    "test_df = pd.concat([anger_test, fear_test, joy_test, sadness_test], ignore_index=True)\n",
    "train_df.head()"
   ]
  },
  {
   "cell_type": "code",
   "execution_count": 4,
   "metadata": {
    "id": "HBHwcL8sYTpX"
   },
   "outputs": [],
   "source": [
    "# shuffle dataset\n",
    "train_df = train_df.sample(frac=1)\n",
    "test_df = test_df.sample(frac=1)"
   ]
  },
  {
   "cell_type": "code",
   "execution_count": 5,
   "metadata": {
    "colab": {
     "base_uri": "https://localhost:8080/"
    },
    "id": "9w_cDUwCYTpX",
    "outputId": "3582ac44-1f5f-4cb2-b833-d477f152461a",
    "scrolled": true
   },
   "outputs": [
    {
     "name": "stdout",
     "output_type": "stream",
     "text": [
      "Shape of Training df:  (3613, 4)\n",
      "Shape of Testing df:  (347, 4)\n"
     ]
    }
   ],
   "source": [
    "print(\"Shape of Training df: \", train_df.shape)\n",
    "print(\"Shape of Testing df: \", test_df.shape)"
   ]
  },
  {
   "cell_type": "markdown",
   "metadata": {
    "id": "_hr8aKhlYTpo"
   },
   "source": [
    "---\n",
    "### <a id='toc1_4_1_'></a>[**1.2 Save data**](#toc0_)"
   ]
  },
  {
   "cell_type": "code",
   "execution_count": 6,
   "metadata": {
    "id": "dZzepBdpYTpo"
   },
   "outputs": [],
   "source": [
    "# save to pickle file\n",
    "train_df.to_pickle(\"./data/train_df.pkl\") \n",
    "test_df.to_pickle(\"./data/test_df.pkl\")"
   ]
  },
  {
   "cell_type": "code",
   "execution_count": 7,
   "metadata": {
    "id": "H5uO-kOUYTpo"
   },
   "outputs": [],
   "source": [
    "import pandas as pd\n",
    "\n",
    "# load a pickle file\n",
    "train_df = pd.read_pickle(\"./data/train_df.pkl\")\n",
    "test_df = pd.read_pickle(\"./data/test_df.pkl\")"
   ]
  },
  {
   "cell_type": "markdown",
   "metadata": {
    "id": "_sLDcQzeYTpo"
   },
   "source": [
    "For more information: https://reurl.cc/0Dzqx"
   ]
  },
  {
   "cell_type": "markdown",
   "metadata": {},
   "source": [
    "---\n",
    "## <a id='toc1_5_'></a>[**2. Large Language Models (LLMs)**](#toc0_)\n",
    "\n",
    "Before we start we strongly suggest that you watch the following video explanations so you can understand the concepts that we are gonna discuss about LLMs: \n",
    "\n",
    "1. [How Large Language Models Work](https://www.youtube.com/watch?v=5sLYAQS9sWQ)\n",
    "2. [Large Language Models explained briefly](https://www.youtube.com/watch?v=LPZh9BOjkQs)\n",
    "3. [What is Prompt Tuning?](https://www.youtube.com/watch?v=yu27PWzJI_Y)\n",
    "4. [Why Large Language Models Hallucinate](https://www.youtube.com/watch?v=cfqtFvWOfg0)\n",
    "5. [What are LLM Embeddings?](https://www.youtube.com/watch?v=UShw_1NbpCw&t=182s)\n",
    "6. [What is Retrieval-Augmented Generation (RAG)?](https://www.youtube.com/watch?v=T-D1OfcDW1M)\n",
    "7. [RAG vs Fine-Tuning vs Prompt Engineering: Optimizing AI Models](https://www.youtube.com/watch?v=zYGDpG-pTho)\n",
    "8. [Discover Few-Shot Prompting | Google AI Essentials](https://www.youtube.com/watch?v=9qdgEBVkWR4)\n",
    "9. [What is Zero-Shot Learning?](https://www.youtube.com/watch?v=pVpr4GYLzAo)\n",
    "10. [Zero-shot, One-shot and Few-shot Prompting Explained | Prompt Engineering 101](https://www.youtube.com/watch?v=sW5xoicq5TY)\n",
    "\n",
    "`These videos can help you get a better grasp on the core concepts of LLMs if you were not familiar before.`\n",
    "\n",
    "**So now let's start with the main content of Lab 2 Phase 2.**\n",
    "\n",
    "Large Language Models (LLMs) are AI systems trained on vast amounts of text to understand and generate human language for tasks like summarization and translation.\n",
    "\n",
    "### <a id='toc1_5_1_'></a>[Open-Source vs. Proprietary LLMs](#toc0_)\n",
    "*   **Open-Source Models** (e.g., Llama, Gemma) are customizable and cost-effective but require technical skill to manage and may be less powerful.\n",
    "*   **Proprietary Models** (e.g., Gemini, ChatGPT) offer top performance and ease of use but are more costly and less flexible.\n",
    "\n",
    "For students interested in running models locally, the optional notebook `DM2025-Lab2-Optional-Ollama.ipynb` explores using Ollama ([Ollama GitHub Link](https://github.com/ollama/ollama)). It needs a capable GPU to run models (**at least 4GB VRAM**).\n",
    "\n",
    "You can explore the variety of models available through Ollama here:\n",
    "\n",
    "![pic10.png](./pics/pic10.png)\n",
    "\n",
    "### <a id='toc1_5_2_'></a>[Why Use Code (API) for Data Mining?](#toc0_)\n",
    "\n",
    "For data analysis, accessing LLMs programmatically is superior to using web chatbots because it allows for:\n",
    "*   **Automation:** Easily process entire datasets with loops.\n",
    "*   **Structured Output:** Receive data in usable formats like **JSON**, ready for analysis in tools like pandas.\n",
    "*   **Reproducibility:** Ensure consistent results by setting fixed parameters.\n",
    "*   **Privacy:** Maintain data security, especially when running models locally.\n",
    "\n",
    "For the main exercises in this lab, we will use **the Gemini API**. This approach offers several advantages over running local open-source models, such as access to state-of-the-art model performance without needing specialized hardware. While the API has usage limits (rate limits and token quotas), it provides a generous **free tier** that is more than sufficient for our exercises.\n",
    "\n",
    "![pic13.png](./pics/pic13.png)\n",
    "\n",
    "![pic14.png](./pics/pic14.png)\n",
    "\n",
    "### <a id='toc1_5_3_'></a>[The Gemini API](#toc0_)\n",
    "\n",
    "We will primarily use the **Gemini 2.5 Flash-Lite** (`gemini-2.5-flash-lite`) model. As shown in the rate limit table, this model is optimized for high-frequency tasks and offers a high request-per-day limit of 1,000, making it ideal for completing the lab exercises without interruption.\n",
    "\n",
    "Students are encouraged to explore other models available through the API but should remain mindful of their respective usage limits. For instance:\n",
    "*   **Gemini 2.5 Pro** is a more powerful model but has a lower daily request limit of 100.\n",
    "*   The **Gemma 3** model available via the API offers an impressive 14,400 requests per day, providing another excellent alternative for experimentation.\n",
    "\n",
    "Please be aware of your usage limits as you work through the exercises to ensure you do not get rate-limited.\n",
    "\n",
    "[Gemini Documentation](https://ai.google.dev/gemini-api/docs)\n",
    "\n",
    "[Gemini Rate Limits](https://ai.google.dev/gemini-api/docs/rate-limits)\n",
    "\n",
    "[Description of Gemini Models](https://ai.google.dev/gemini-api/docs/models)"
   ]
  },
  {
   "cell_type": "markdown",
   "metadata": {},
   "source": [
    "---\n",
    "\n",
    "### <a id='toc1_5_4_'></a>[Interacting with the Gemini API](#toc0_)\n",
    "\n",
    "The code cell below contains the primary function, `prompt_gemini`, that we will use throughout this lab to communicate with the Gemini API. It's designed to be a flexible wrapper that handles the details of sending a request and receiving a response.\n",
    "\n",
    "Before you run the exercises, here are the key things you need to understand in this setup:\n",
    "\n",
    "*   **API Key Configuration**: The script loads your API key from a `.env` file located in the `./config/` directory. **You must create this file and add your API key** like this: `GOOGLE_API_KEY='YOUR_API_KEY_HERE'`. This is a security best practice to keep your credentials out of the code.\n",
    "\n",
    "*   **Global Settings**: At the top of the script, you can find and modify several important defaults:\n",
    "    *   `MODEL_NAME`: We've set this to `\"gemini-2.5-flash-lite\"`, but you can easily switch to other models like `\"gemini-2.5-pro\"` to experiment.\n",
    "    *   `SYSTEM_INSTRUCTION`: This sets the model's default behavior or persona (e.g., \"You are a helpful assistant\"). You can customize this for different tasks.\n",
    "    *   `SAFETY_SETTINGS`: For our academic exercises, these are turned off to prevent interference. In real-world applications, you would configure these carefully.\n",
    "\n",
    "*   **The `prompt_gemini` function**: This is the main tool you will use. Here are its most important parameters:\n",
    "    *   `input_prompt`: The list of contents (text, images, etc.) you want to send to the model.\n",
    "    *   `temperature`: Controls the randomness of the output. `0.0` makes the output deterministic and less creative, while a higher value (e.g., `0.7`) makes it more varied.\n",
    "    *   `schema`: A powerful feature that allows you to specify a JSON format for the model's output. This is extremely useful for structured data extraction.\n",
    "    *   `with_tokens_info`: If set to `True`, the function will also return the number of input and output tokens used, which is helpful for monitoring your usage against the free tier limits.\n",
    "\n",
    "In the following exercises, you will call this function with different prompts and configurations to solve various tasks.\n",
    "\n",
    "If needed, you can also check some tutorials on how a python function works: [Python Functions Tutorial](https://realpython.com/defining-your-own-python-function/)"
   ]
  },
  {
   "cell_type": "code",
   "execution_count": 8,
   "metadata": {},
   "outputs": [],
   "source": [
    "import os\n",
    "from dotenv import load_dotenv\n",
    "from google import genai\n",
    "from google.genai import types\n",
    "\n",
    "env_path = \"./config/.env\"\n",
    "load_dotenv(dotenv_path=env_path)\n",
    "\n",
    "# System instruction that can dictate how the model behaves in the output, can be customized as needed\n",
    "SYSTEM_INSTRUCTION = (\n",
    "        \"You are a helpful assistant\"\n",
    "    )\n",
    "\n",
    "# Max amount of tokens that the model can output, the Gemini 2.5 Models have this maximum amount\n",
    "# For other models need to check their documentation \n",
    "MAX_OUTPUT_TOKENS = 65535\n",
    "MODEL_NAME = \"gemini-2.5-flash-lite\" # Other models: \"gemini-2.5-pro\", \"gemini-2.5-flash\"; Check different max output tokens: \"gemini-2.0-flash\" , \"gemini-2.0-flash-lite\" \n",
    "\n",
    "# We disable the safety settings, as no moderation is needed in our tasks\n",
    "SAFETY_SETTINGS = [\n",
    "    types.SafetySetting(\n",
    "        category=\"HARM_CATEGORY_HATE_SPEECH\", threshold=\"OFF\"),\n",
    "    types.SafetySetting(\n",
    "        category=\"HARM_CATEGORY_DANGEROUS_CONTENT\", threshold=\"OFF\"),\n",
    "    types.SafetySetting(\n",
    "        category=\"HARM_CATEGORY_SEXUALLY_EXPLICIT\", threshold=\"OFF\"),\n",
    "    types.SafetySetting(\n",
    "        category=\"HARM_CATEGORY_HARASSMENT\", threshold=\"OFF\")\n",
    "]\n",
    "\n",
    "#IMPORTANT: The script loads your API key from a `.env` file located in the `./config/` directory. \n",
    "# You must create this file and add your API key like this: `GOOGLE_API_KEY='YOUR_API_KEY_HERE'`\n",
    "\n",
    "# We input the API Key to be able to use the Gemini models\n",
    "api_key = os.getenv(\"GOOGLE_API_KEY\")\n",
    "os.environ[\"GOOGLE_API_KEY\"] = api_key\n",
    "client = genai.Client(api_key=api_key)\n",
    "\n",
    "# We also set LangExtract to use the API key as well:\n",
    "if 'GEMINI_API_KEY' not in os.environ:\n",
    "    os.environ['GEMINI_API_KEY'] = api_key\n",
    "\n",
    "def prompt_gemini(\n",
    "        input_prompt: list,\n",
    "        schema = None,\n",
    "        temperature: float = 0.0,\n",
    "        system_instruction: str = SYSTEM_INSTRUCTION,\n",
    "        max_output_tokens: int = MAX_OUTPUT_TOKENS,\n",
    "        client: genai.Client = client,\n",
    "        model_name: str = MODEL_NAME,\n",
    "        new_config: types.GenerateContentConfig = None,\n",
    "        with_tools: bool = False,\n",
    "        with_parts: bool = False,\n",
    "        with_tokens_info: bool = False\n",
    "    ):\n",
    "        try:\n",
    "            # If we need a JSON schema we set up the following\n",
    "            if schema:\n",
    "                generate_content_config = types.GenerateContentConfig(\n",
    "                    temperature=temperature,\n",
    "                    system_instruction=system_instruction,\n",
    "                    max_output_tokens=max_output_tokens,\n",
    "                    response_modalities=[\"TEXT\"],\n",
    "                    response_mime_type=\"application/json\",\n",
    "                    response_schema=schema,\n",
    "                    safety_settings=SAFETY_SETTINGS\n",
    "                )\n",
    "            # If there is no need we leave it unstructured\n",
    "            else:\n",
    "                generate_content_config = types.GenerateContentConfig(\n",
    "                    temperature=temperature,\n",
    "                    system_instruction=system_instruction,\n",
    "                    max_output_tokens=max_output_tokens,\n",
    "                    response_modalities=[\"TEXT\"],\n",
    "                    safety_settings=SAFETY_SETTINGS\n",
    "                )\n",
    "            \n",
    "            # We add a different custom configuration if we need it\n",
    "            if new_config:\n",
    "                generate_content_config = new_config\n",
    "            \n",
    "            # For some tasks we need a more specific way to add the contents when prompting the model\n",
    "            # So we need custom parts for it sometimes from the \"types\" objects\n",
    "            if with_parts:\n",
    "                response = client.models.generate_content(\n",
    "                    model=model_name,\n",
    "                    contents=types.Content(parts=input_prompt),\n",
    "                    config=generate_content_config,\n",
    "                )\n",
    "            # In the simplest form the contents can be expressed as a list [] of simple objects like str and Pillow images\n",
    "            else:\n",
    "                response = client.models.generate_content(\n",
    "                    model=model_name,\n",
    "                    contents=input_prompt,\n",
    "                    config=generate_content_config,\n",
    "                )\n",
    "\n",
    "            if with_tools:\n",
    "                # print(response)\n",
    "                # Include raw response when function calling\n",
    "                completion = response\n",
    "                if with_tokens_info:\n",
    "                    log = {\n",
    "                        \"model\": model_name,\n",
    "                        \"input_tokens\": response.usage_metadata.prompt_token_count,\n",
    "                        \"output_tokens\": response.usage_metadata.candidates_token_count,\n",
    "                    }\n",
    "                    return completion, log\n",
    "                return completion\n",
    "            else:\n",
    "                completion = response.text\n",
    "                if with_tokens_info:\n",
    "                    log = {\n",
    "                        \"model\": model_name,\n",
    "                        \"input_tokens\": response.usage_metadata.prompt_token_count,\n",
    "                        \"output_tokens\": response.usage_metadata.candidates_token_count,\n",
    "                    }\n",
    "                    # Return the text response and logs (if selected)\n",
    "                    return completion, log\n",
    "                return completion\n",
    "        except Exception as e:\n",
    "             print(f\"Error occurred when generating response, error: {e}\")\n",
    "             return None"
   ]
  },
  {
   "cell_type": "markdown",
   "metadata": {},
   "source": [
    "---\n",
    "### <a id='toc1_5_5_'></a>[**2.1 Text Prompting**](#toc0_)\n",
    "\n",
    "In the same way as with ChatGPT we can use the Gemini models to ask about anything. Here we are going to ask a question requesting the response to be in markdown format, this is to make it have a better display afterwards.\n",
    "\n",
    "For more information visit:\n",
    "[Gemini's Text Generation Documentation](https://ai.google.dev/gemini-api/docs/text-generation)"
   ]
  },
  {
   "cell_type": "code",
   "execution_count": 9,
   "metadata": {},
   "outputs": [
    {
     "name": "stdout",
     "output_type": "stream",
     "text": [
      "Data mining is the process of **discovering patterns, insights, and knowledge from large datasets**. It's essentially about extracting valuable information that isn't immediately obvious from raw data. Think of it as sifting through a mountain of information to find hidden gems.\n",
      "\n",
      "Here's a breakdown of what that means:\n",
      "\n",
      "**Key Concepts:**\n",
      "\n",
      "*   **Large Datasets:** Data mining is typically applied to datasets that are too large and complex for manual analysis. This can include customer transaction records, website logs, sensor data, social media feeds, scientific experiment results, and much more.\n",
      "*   **Patterns and Insights:** The goal is to identify recurring trends, correlations, anomalies, and relationships within the data. These patterns can reveal underlying structures, predict future behavior, or explain observed phenomena.\n",
      "*   **Knowledge Discovery:** The ultimate aim is to transform raw data into actionable knowledge that can be used for decision-making, problem-solving, and strategic planning.\n",
      "\n",
      "**How it Works (The Process):**\n",
      "\n",
      "Data mining is usually an iterative process that involves several stages:\n",
      "\n",
      "1.  **Business Understanding:** Defining the problem or objective you want to achieve with data mining. What questions are you trying to answer? What business goals are you trying to meet?\n",
      "2.  **Data Understanding:** Exploring and getting familiar with the data. This involves collecting, cleaning, and understanding the data's structure, quality, and meaning.\n",
      "3.  **Data Preparation (Preprocessing):** This is often the most time-consuming stage. It involves:\n",
      "    *   **Cleaning:** Handling missing values, noisy data, and inconsistencies.\n",
      "    *   **Integration:** Combining data from multiple sources.\n",
      "    *   **Transformation:** Normalizing or aggregating data to make it suitable for mining.\n",
      "    *   **Reduction:** Reducing the size of the dataset while preserving important information.\n",
      "4.  **Modeling:** Selecting and applying appropriate data mining techniques (algorithms) to discover patterns. This is where the \"mining\" happens.\n",
      "5.  **Evaluation:** Assessing the quality and usefulness of the discovered patterns. Do they make sense? Are they statistically significant? Do they meet the business objectives?\n",
      "6.  **Deployment:** Putting the discovered knowledge into practice. This could involve integrating it into business processes, creating reports, or building predictive models.\n",
      "\n",
      "**Common Data Mining Techniques:**\n",
      "\n",
      "Data mining employs a variety of techniques, often drawing from statistics, machine learning, and database systems. Some of the most common include:\n",
      "\n",
      "*   **Classification:** Categorizing data into predefined classes (e.g., predicting whether a customer will churn or not).\n",
      "*   **Clustering:** Grouping similar data points together without predefined classes (e.g., segmenting customers into different groups based on their purchasing behavior).\n",
      "*   **Association Rule Mining:** Discovering relationships between items in a dataset (e.g., \"customers who buy bread also tend to buy milk\"). This is often used in market basket analysis.\n",
      "*   **Regression:** Predicting a continuous numerical value (e.g., predicting the price of a house based on its features).\n",
      "*   **Anomaly Detection (Outlier Detection):** Identifying data points that deviate significantly from the norm (e.g., detecting fraudulent transactions).\n",
      "*   **Sequential Pattern Mining:** Discovering patterns that occur in a sequence over time (e.g., identifying common user navigation paths on a website).\n",
      "\n",
      "**Why is Data Mining Important?**\n",
      "\n",
      "Data mining is crucial for businesses and organizations because it enables them to:\n",
      "\n",
      "*   **Make Better Decisions:** By understanding customer behavior, market trends, and operational efficiencies, organizations can make more informed and strategic decisions.\n",
      "*   **Improve Customer Relationships:** Identifying customer preferences and predicting their needs allows for personalized marketing, better customer service, and increased loyalty.\n",
      "*   **Detect Fraud and Risk:** Anomaly detection can help identify fraudulent activities, security breaches, and potential risks.\n",
      "*   **Optimize Operations:** Understanding patterns in operational data can lead to improved efficiency, reduced costs, and better resource allocation.\n",
      "*   **Drive Innovation:** Discovering new insights can spark new product development, service offerings, and business models.\n",
      "*   **Gain a Competitive Advantage:** Organizations that effectively leverage data mining can outperform their competitors by understanding their market and customers better.\n",
      "\n",
      "In essence, data mining is a powerful tool for transforming raw data into valuable intelligence, driving progress and innovation across various fields.\n"
     ]
    }
   ],
   "source": [
    "input_prompt = [\"What is Data Mining?\"]\n",
    "text_response, logs = prompt_gemini(input_prompt = input_prompt, with_tokens_info = True)\n",
    "print(text_response)"
   ]
  },
  {
   "cell_type": "markdown",
   "metadata": {},
   "source": [
    "We can also check the logs of the usage with our model that we defined in our previous function. We can observe the model we used, how many tokens where in the prompt in the input, and the output text response tokens of our model."
   ]
  },
  {
   "cell_type": "code",
   "execution_count": 10,
   "metadata": {},
   "outputs": [
    {
     "name": "stdout",
     "output_type": "stream",
     "text": [
      "{'model': 'gemini-2.5-flash-lite', 'input_tokens': 12, 'output_tokens': 911}\n"
     ]
    }
   ],
   "source": [
    "print(logs)"
   ]
  },
  {
   "cell_type": "markdown",
   "metadata": {},
   "source": [
    "**We can use the IPython library to make the response look better:**"
   ]
  },
  {
   "cell_type": "code",
   "execution_count": 11,
   "metadata": {},
   "outputs": [
    {
     "data": {
      "text/markdown": [
       "Data mining is the process of **discovering patterns, insights, and knowledge from large datasets**. It's essentially about extracting valuable information that isn't immediately obvious from raw data. Think of it as sifting through a mountain of information to find hidden gems.\n",
       "\n",
       "Here's a breakdown of what that means:\n",
       "\n",
       "**Key Concepts:**\n",
       "\n",
       "*   **Large Datasets:** Data mining is typically applied to datasets that are too large and complex for manual analysis. This can include customer transaction records, website logs, sensor data, social media feeds, scientific experiment results, and much more.\n",
       "*   **Patterns and Insights:** The goal is to identify recurring trends, correlations, anomalies, and relationships within the data. These patterns can reveal underlying structures, predict future behavior, or explain observed phenomena.\n",
       "*   **Knowledge Discovery:** The ultimate aim is to transform raw data into actionable knowledge that can be used for decision-making, problem-solving, and strategic planning.\n",
       "\n",
       "**How it Works (The Process):**\n",
       "\n",
       "Data mining is usually an iterative process that involves several stages:\n",
       "\n",
       "1.  **Business Understanding:** Defining the problem or objective you want to achieve with data mining. What questions are you trying to answer? What business goals are you trying to meet?\n",
       "2.  **Data Understanding:** Exploring and getting familiar with the data. This involves collecting, cleaning, and understanding the data's structure, quality, and meaning.\n",
       "3.  **Data Preparation (Preprocessing):** This is often the most time-consuming stage. It involves:\n",
       "    *   **Cleaning:** Handling missing values, noisy data, and inconsistencies.\n",
       "    *   **Integration:** Combining data from multiple sources.\n",
       "    *   **Transformation:** Normalizing or aggregating data to make it suitable for mining.\n",
       "    *   **Reduction:** Reducing the size of the dataset while preserving important information.\n",
       "4.  **Modeling:** Selecting and applying appropriate data mining techniques (algorithms) to discover patterns. This is where the \"mining\" happens.\n",
       "5.  **Evaluation:** Assessing the quality and usefulness of the discovered patterns. Do they make sense? Are they statistically significant? Do they meet the business objectives?\n",
       "6.  **Deployment:** Putting the discovered knowledge into practice. This could involve integrating it into business processes, creating reports, or building predictive models.\n",
       "\n",
       "**Common Data Mining Techniques:**\n",
       "\n",
       "Data mining employs a variety of techniques, often drawing from statistics, machine learning, and database systems. Some of the most common include:\n",
       "\n",
       "*   **Classification:** Categorizing data into predefined classes (e.g., predicting whether a customer will churn or not).\n",
       "*   **Clustering:** Grouping similar data points together without predefined classes (e.g., segmenting customers into different groups based on their purchasing behavior).\n",
       "*   **Association Rule Mining:** Discovering relationships between items in a dataset (e.g., \"customers who buy bread also tend to buy milk\"). This is often used in market basket analysis.\n",
       "*   **Regression:** Predicting a continuous numerical value (e.g., predicting the price of a house based on its features).\n",
       "*   **Anomaly Detection (Outlier Detection):** Identifying data points that deviate significantly from the norm (e.g., detecting fraudulent transactions).\n",
       "*   **Sequential Pattern Mining:** Discovering patterns that occur in a sequence over time (e.g., identifying common user navigation paths on a website).\n",
       "\n",
       "**Why is Data Mining Important?**\n",
       "\n",
       "Data mining is crucial for businesses and organizations because it enables them to:\n",
       "\n",
       "*   **Make Better Decisions:** By understanding customer behavior, market trends, and operational efficiencies, organizations can make more informed and strategic decisions.\n",
       "*   **Improve Customer Relationships:** Identifying customer preferences and predicting their needs allows for personalized marketing, better customer service, and increased loyalty.\n",
       "*   **Detect Fraud and Risk:** Anomaly detection can help identify fraudulent activities, security breaches, and potential risks.\n",
       "*   **Optimize Operations:** Understanding patterns in operational data can lead to improved efficiency, reduced costs, and better resource allocation.\n",
       "*   **Drive Innovation:** Discovering new insights can spark new product development, service offerings, and business models.\n",
       "*   **Gain a Competitive Advantage:** Organizations that effectively leverage data mining can outperform their competitors by understanding their market and customers better.\n",
       "\n",
       "In essence, data mining is a powerful tool for transforming raw data into valuable intelligence, driving progress and innovation across various fields."
      ],
      "text/plain": [
       "<IPython.core.display.Markdown object>"
      ]
     },
     "metadata": {},
     "output_type": "display_data"
    }
   ],
   "source": [
    "from IPython.display import display, Markdown\n",
    "display(Markdown(text_response))"
   ]
  },
  {
   "cell_type": "markdown",
   "metadata": {},
   "source": [
    "---\n",
    "##### <a id='toc1_5_5_1_1_'></a>[**>>> Exercise 1 (Take home):**](#toc0_)\n",
    "\n",
    "`With your own prompt`, run the previous example in the following way:\n",
    "\n",
    "1. Run it with the same model as the example (gemini-2.5-flash-lite). \n",
    "2. Run it with a different gemini model from the available options for the API.\n",
    "3. Discuss the differences on the results with different models.\n",
    "4. Discuss what would happen if you change the system prompt.\n"
   ]
  },
  {
   "cell_type": "code",
   "execution_count": 12,
   "metadata": {},
   "outputs": [
    {
     "name": "stdout",
     "output_type": "stream",
     "text": [
      "Response using default or currently set model:\n",
      " ## Reinforcement Learning: Learning Through Trial and Error\n",
      "\n",
      "Reinforcement learning (RL) is a type of machine learning where an **agent** learns to make a sequence of decisions by performing **actions** in an **environment** to achieve a **goal**. The key idea is that the agent learns through **trial and error**, receiving **rewards** for desirable actions and **penalties** (or negative rewards) for undesirable ones.\n",
      "\n",
      "Think of it like training a pet. You want your dog to sit. When the dog sits, you give it a treat (a reward). If it jumps on the couch, you might say \"no\" (a penalty). Over time, the dog learns which actions lead to treats and which lead to disapproval, and it adjusts its behavior accordingly.\n",
      "\n",
      "Here's a breakdown of the core components:\n",
      "\n",
      "*   **Agent:** The learner or decision-maker. This could be a robot, a software program, or even a human.\n",
      "*   **Environment:** The world or system the agent interacts with. This is where the agent takes actions and observes the consequences.\n",
      "*   **State:** A snapshot of the environment at a particular moment in time. It describes the current situation the agent is in.\n",
      "*   **Action:** A move or decision the agent can make in a given state.\n",
      "*   **Reward:** A signal from the environment that tells the agent how good or bad its last action was. The agent's goal is to maximize its cumulative reward over time.\n",
      "*   **Policy:** The agent's strategy for choosing actions in different states. It's essentially a mapping from states to actions.\n",
      "\n",
      "**The Learning Process:**\n",
      "\n",
      "1.  The agent observes the current **state** of the environment.\n",
      "2.  Based on its current **policy**, the agent chooses an **action**.\n",
      "3.  The agent performs the action, and the environment transitions to a new **state**.\n",
      "4.  The environment provides a **reward** (or penalty) to the agent based on the action taken and the resulting state.\n",
      "5.  The agent uses this reward to update its **policy**, aiming to make better decisions in the future. This update process often involves algorithms that try to predict future rewards and learn the value of different states and actions.\n",
      "\n",
      "The agent continues this cycle, exploring different actions and learning from the feedback it receives, until it develops a policy that allows it to achieve its goal effectively.\n",
      "\n",
      "## Practical Example from Daily Life: Learning to Ride a Bicycle\n",
      "\n",
      "Learning to ride a bicycle is a fantastic real-world example of reinforcement learning.\n",
      "\n",
      "*   **Agent:** You, the person learning to ride.\n",
      "*   **Environment:** The road, the bicycle itself, gravity, wind, and any obstacles.\n",
      "*   **State:** Your current position on the bike, your speed, your balance, the angle of the handlebars, the incline of the road, etc.\n",
      "*   **Actions:** Pedaling, steering (turning the handlebars), leaning your body, applying brakes.\n",
      "*   **Reward:**\n",
      "    *   **Positive Reward:** Staying upright, moving forward smoothly, successfully navigating a turn, reaching your destination.\n",
      "    *   **Negative Reward (Penalty):** Falling over, wobbling uncontrollably, hitting an obstacle, feeling unstable.\n",
      "*   **Policy:** Your learned strategy for how to pedal, steer, and balance in different situations to stay upright and move forward.\n",
      "\n",
      "**How Reinforcement Learning Applies:**\n",
      "\n",
      "1.  **Initial State:** You get on the bike, likely feeling wobbly and unsure.\n",
      "2.  **Trial and Error:** You start pedaling and trying to steer.\n",
      "    *   If you lean too much to one side without counter-steering, you might feel yourself tipping over (negative reward). Your brain registers this and tries to adjust your steering or lean in the opposite direction next time.\n",
      "    *   If you pedal too slowly, you might lose momentum and wobble (negative reward). You learn to pedal with more consistent force.\n",
      "    *   If you turn the handlebars too sharply, you might lose balance (negative reward). You learn to make smoother, more gradual turns.\n",
      "    *   When you manage to stay upright for a few seconds and move forward, you experience a sense of accomplishment and stability (positive reward). This reinforces the actions that led to that feeling.\n",
      "3.  **Learning the Policy:** With each attempt, your brain is implicitly updating its \"policy\" for riding. You're learning:\n",
      "    *   How much to lean to counteract a turn.\n",
      "    *   The right amount of pedaling to maintain balance and speed.\n",
      "    *   How to make small, continuous adjustments to the handlebars.\n",
      "    *   When to apply the brakes.\n",
      "4.  **Goal Achievement:** Eventually, through repeated practice and learning from your \"rewards\" and \"penalties,\" you develop a robust policy that allows you to ride the bicycle smoothly and confidently, achieving the goal of getting from point A to point B without falling.\n",
      "\n",
      "In essence, you're an agent learning to control a complex system (the bicycle and your body) by interacting with the environment and receiving feedback in the form of physical sensations and the outcome of your actions. This is the core of reinforcement learning.\n",
      "Log info: {'model': 'gemini-2.5-flash-lite', 'input_tokens': 22, 'output_tokens': 1091}\n"
     ]
    },
    {
     "data": {
      "text/markdown": [
       "**Response:**\n",
       "\n",
       "## Reinforcement Learning: Learning Through Trial and Error\n",
       "\n",
       "Reinforcement learning (RL) is a type of machine learning where an **agent** learns to make a sequence of decisions by performing **actions** in an **environment** to achieve a **goal**. The key idea is that the agent learns through **trial and error**, receiving **rewards** for desirable actions and **penalties** (or negative rewards) for undesirable ones.\n",
       "\n",
       "Think of it like training a pet. You want your dog to sit. When the dog sits, you give it a treat (a reward). If it jumps on the couch, you might say \"no\" (a penalty). Over time, the dog learns which actions lead to treats and which lead to disapproval, and it adjusts its behavior accordingly.\n",
       "\n",
       "Here's a breakdown of the core components:\n",
       "\n",
       "*   **Agent:** The learner or decision-maker. This could be a robot, a software program, or even a human.\n",
       "*   **Environment:** The world or system the agent interacts with. This is where the agent takes actions and observes the consequences.\n",
       "*   **State:** A snapshot of the environment at a particular moment in time. It describes the current situation the agent is in.\n",
       "*   **Action:** A move or decision the agent can make in a given state.\n",
       "*   **Reward:** A signal from the environment that tells the agent how good or bad its last action was. The agent's goal is to maximize its cumulative reward over time.\n",
       "*   **Policy:** The agent's strategy for choosing actions in different states. It's essentially a mapping from states to actions.\n",
       "\n",
       "**The Learning Process:**\n",
       "\n",
       "1.  The agent observes the current **state** of the environment.\n",
       "2.  Based on its current **policy**, the agent chooses an **action**.\n",
       "3.  The agent performs the action, and the environment transitions to a new **state**.\n",
       "4.  The environment provides a **reward** (or penalty) to the agent based on the action taken and the resulting state.\n",
       "5.  The agent uses this reward to update its **policy**, aiming to make better decisions in the future. This update process often involves algorithms that try to predict future rewards and learn the value of different states and actions.\n",
       "\n",
       "The agent continues this cycle, exploring different actions and learning from the feedback it receives, until it develops a policy that allows it to achieve its goal effectively.\n",
       "\n",
       "## Practical Example from Daily Life: Learning to Ride a Bicycle\n",
       "\n",
       "Learning to ride a bicycle is a fantastic real-world example of reinforcement learning.\n",
       "\n",
       "*   **Agent:** You, the person learning to ride.\n",
       "*   **Environment:** The road, the bicycle itself, gravity, wind, and any obstacles.\n",
       "*   **State:** Your current position on the bike, your speed, your balance, the angle of the handlebars, the incline of the road, etc.\n",
       "*   **Actions:** Pedaling, steering (turning the handlebars), leaning your body, applying brakes.\n",
       "*   **Reward:**\n",
       "    *   **Positive Reward:** Staying upright, moving forward smoothly, successfully navigating a turn, reaching your destination.\n",
       "    *   **Negative Reward (Penalty):** Falling over, wobbling uncontrollably, hitting an obstacle, feeling unstable.\n",
       "*   **Policy:** Your learned strategy for how to pedal, steer, and balance in different situations to stay upright and move forward.\n",
       "\n",
       "**How Reinforcement Learning Applies:**\n",
       "\n",
       "1.  **Initial State:** You get on the bike, likely feeling wobbly and unsure.\n",
       "2.  **Trial and Error:** You start pedaling and trying to steer.\n",
       "    *   If you lean too much to one side without counter-steering, you might feel yourself tipping over (negative reward). Your brain registers this and tries to adjust your steering or lean in the opposite direction next time.\n",
       "    *   If you pedal too slowly, you might lose momentum and wobble (negative reward). You learn to pedal with more consistent force.\n",
       "    *   If you turn the handlebars too sharply, you might lose balance (negative reward). You learn to make smoother, more gradual turns.\n",
       "    *   When you manage to stay upright for a few seconds and move forward, you experience a sense of accomplishment and stability (positive reward). This reinforces the actions that led to that feeling.\n",
       "3.  **Learning the Policy:** With each attempt, your brain is implicitly updating its \"policy\" for riding. You're learning:\n",
       "    *   How much to lean to counteract a turn.\n",
       "    *   The right amount of pedaling to maintain balance and speed.\n",
       "    *   How to make small, continuous adjustments to the handlebars.\n",
       "    *   When to apply the brakes.\n",
       "4.  **Goal Achievement:** Eventually, through repeated practice and learning from your \"rewards\" and \"penalties,\" you develop a robust policy that allows you to ride the bicycle smoothly and confidently, achieving the goal of getting from point A to point B without falling.\n",
       "\n",
       "In essence, you're an agent learning to control a complex system (the bicycle and your body) by interacting with the environment and receiving feedback in the form of physical sensations and the outcome of your actions. This is the core of reinforcement learning."
      ],
      "text/plain": [
       "<IPython.core.display.Markdown object>"
      ]
     },
     "metadata": {},
     "output_type": "display_data"
    },
    {
     "name": "stdout",
     "output_type": "stream",
     "text": [
      "\n",
      "Response using alternate model (if set before call):\n",
      " ## Reinforcement Learning: Learning Through Trial and Error\n",
      "\n",
      "Reinforcement learning (RL) is a type of machine learning where an **agent** learns to make a sequence of decisions by performing **actions** in an **environment** to achieve a **goal**. The key idea is that the agent learns through **trial and error**, receiving **rewards** for desirable actions and **penalties** (or negative rewards) for undesirable ones.\n",
      "\n",
      "Think of it like training a pet. You want your dog to sit. When the dog sits, you give it a treat (a reward). If it jumps on the couch, you might say \"no\" (a penalty). Over time, the dog learns which actions lead to treats and which lead to disapproval, and it adjusts its behavior accordingly.\n",
      "\n",
      "Here's a breakdown of the core components:\n",
      "\n",
      "*   **Agent:** The learner or decision-maker. This could be a robot, a software program, or even a human.\n",
      "*   **Environment:** The world or system the agent interacts with. This is where the agent takes actions and observes the consequences.\n",
      "*   **State:** A snapshot of the environment at a particular moment in time. It describes the current situation the agent is in.\n",
      "*   **Action:** A move or decision the agent can make in a given state.\n",
      "*   **Reward:** A signal from the environment that tells the agent how good or bad its last action was. The agent's goal is to maximize its cumulative reward over time.\n",
      "*   **Policy:** The agent's strategy for choosing actions in different states. It's essentially a mapping from states to actions.\n",
      "\n",
      "**The Learning Process:**\n",
      "\n",
      "1.  The agent observes the current **state** of the environment.\n",
      "2.  Based on its current **policy**, the agent chooses an **action**.\n",
      "3.  The agent performs the action, and the environment transitions to a new **state**.\n",
      "4.  The environment provides a **reward** (or penalty) to the agent based on the action taken and the resulting state.\n",
      "5.  The agent uses this reward to update its **policy**, aiming to make better decisions in the future. This update process often involves algorithms that try to predict future rewards and learn the value of different states and actions.\n",
      "\n",
      "The agent continues this cycle, exploring different actions and learning from the feedback it receives, until it develops a policy that allows it to achieve its goal effectively.\n",
      "\n",
      "## Practical Example from Daily Life: Learning to Ride a Bicycle\n",
      "\n",
      "Learning to ride a bicycle is a fantastic real-world example of reinforcement learning.\n",
      "\n",
      "*   **Agent:** You, the person learning to ride.\n",
      "*   **Environment:** The road, the bicycle itself, gravity, wind, and any obstacles.\n",
      "*   **State:** Your current position on the bike, your speed, your balance, the angle of the handlebars, the incline of the road, etc.\n",
      "*   **Actions:** Pedaling, steering (turning the handlebars), leaning your body, applying brakes.\n",
      "*   **Reward:**\n",
      "    *   **Positive Reward:** Staying upright, moving forward smoothly, successfully navigating a turn, reaching your destination.\n",
      "    *   **Negative Reward (Penalty):** Falling over, wobbling uncontrollably, hitting an obstacle, feeling unstable.\n",
      "*   **Policy:** Your learned strategy for how to pedal, steer, and balance in different situations to stay upright and move forward.\n",
      "\n",
      "**How Reinforcement Learning Applies:**\n",
      "\n",
      "1.  **Initial State:** You get on the bike, likely feeling wobbly and unsure.\n",
      "2.  **Trial and Error:** You start pedaling and trying to steer.\n",
      "    *   If you lean too much to one side without counter-steering, you might feel yourself tipping over (negative reward). Your brain registers this and tries to adjust your steering or lean in the opposite direction next time.\n",
      "    *   If you pedal too slowly, you might lose momentum and wobble (negative reward). You learn to pedal with more consistent force.\n",
      "    *   If you turn the handlebars too sharply, you might lose balance (negative reward). You learn to make smoother, more gradual turns.\n",
      "    *   When you manage to stay upright for a few seconds and move forward, you experience a sense of accomplishment and stability (positive reward). This reinforces the actions that led to that feeling.\n",
      "3.  **Learning the Policy:** With each attempt, your brain is implicitly updating its \"policy\" for riding. You're learning:\n",
      "    *   How much to lean to counteract a turn.\n",
      "    *   The right amount of pedaling to maintain balance and speed.\n",
      "    *   How to make small, continuous adjustments to the handlebars.\n",
      "    *   When to apply the brakes.\n",
      "4.  **Goal Achievement:** Eventually, through repeated practice and learning from your \"rewards\" and \"penalties,\" you develop a robust policy that allows you to ride the bicycle smoothly and confidently, achieving the goal of getting from point A to point B without falling.\n",
      "\n",
      "In essence, you're an agent learning to control a complex system (the bicycle and your body) by interacting with the environment and receiving feedback in the form of physical sensations and the outcome of your actions. This is the core of reinforcement learning.\n",
      "Log info: {'model': 'gemini-2.5-flash-lite', 'input_tokens': 22, 'output_tokens': 1091}\n"
     ]
    },
    {
     "data": {
      "text/markdown": [
       "**Response from alternate model:**\n",
       "\n",
       "## Reinforcement Learning: Learning Through Trial and Error\n",
       "\n",
       "Reinforcement learning (RL) is a type of machine learning where an **agent** learns to make a sequence of decisions by performing **actions** in an **environment** to achieve a **goal**. The key idea is that the agent learns through **trial and error**, receiving **rewards** for desirable actions and **penalties** (or negative rewards) for undesirable ones.\n",
       "\n",
       "Think of it like training a pet. You want your dog to sit. When the dog sits, you give it a treat (a reward). If it jumps on the couch, you might say \"no\" (a penalty). Over time, the dog learns which actions lead to treats and which lead to disapproval, and it adjusts its behavior accordingly.\n",
       "\n",
       "Here's a breakdown of the core components:\n",
       "\n",
       "*   **Agent:** The learner or decision-maker. This could be a robot, a software program, or even a human.\n",
       "*   **Environment:** The world or system the agent interacts with. This is where the agent takes actions and observes the consequences.\n",
       "*   **State:** A snapshot of the environment at a particular moment in time. It describes the current situation the agent is in.\n",
       "*   **Action:** A move or decision the agent can make in a given state.\n",
       "*   **Reward:** A signal from the environment that tells the agent how good or bad its last action was. The agent's goal is to maximize its cumulative reward over time.\n",
       "*   **Policy:** The agent's strategy for choosing actions in different states. It's essentially a mapping from states to actions.\n",
       "\n",
       "**The Learning Process:**\n",
       "\n",
       "1.  The agent observes the current **state** of the environment.\n",
       "2.  Based on its current **policy**, the agent chooses an **action**.\n",
       "3.  The agent performs the action, and the environment transitions to a new **state**.\n",
       "4.  The environment provides a **reward** (or penalty) to the agent based on the action taken and the resulting state.\n",
       "5.  The agent uses this reward to update its **policy**, aiming to make better decisions in the future. This update process often involves algorithms that try to predict future rewards and learn the value of different states and actions.\n",
       "\n",
       "The agent continues this cycle, exploring different actions and learning from the feedback it receives, until it develops a policy that allows it to achieve its goal effectively.\n",
       "\n",
       "## Practical Example from Daily Life: Learning to Ride a Bicycle\n",
       "\n",
       "Learning to ride a bicycle is a fantastic real-world example of reinforcement learning.\n",
       "\n",
       "*   **Agent:** You, the person learning to ride.\n",
       "*   **Environment:** The road, the bicycle itself, gravity, wind, and any obstacles.\n",
       "*   **State:** Your current position on the bike, your speed, your balance, the angle of the handlebars, the incline of the road, etc.\n",
       "*   **Actions:** Pedaling, steering (turning the handlebars), leaning your body, applying brakes.\n",
       "*   **Reward:**\n",
       "    *   **Positive Reward:** Staying upright, moving forward smoothly, successfully navigating a turn, reaching your destination.\n",
       "    *   **Negative Reward (Penalty):** Falling over, wobbling uncontrollably, hitting an obstacle, feeling unstable.\n",
       "*   **Policy:** Your learned strategy for how to pedal, steer, and balance in different situations to stay upright and move forward.\n",
       "\n",
       "**How Reinforcement Learning Applies:**\n",
       "\n",
       "1.  **Initial State:** You get on the bike, likely feeling wobbly and unsure.\n",
       "2.  **Trial and Error:** You start pedaling and trying to steer.\n",
       "    *   If you lean too much to one side without counter-steering, you might feel yourself tipping over (negative reward). Your brain registers this and tries to adjust your steering or lean in the opposite direction next time.\n",
       "    *   If you pedal too slowly, you might lose momentum and wobble (negative reward). You learn to pedal with more consistent force.\n",
       "    *   If you turn the handlebars too sharply, you might lose balance (negative reward). You learn to make smoother, more gradual turns.\n",
       "    *   When you manage to stay upright for a few seconds and move forward, you experience a sense of accomplishment and stability (positive reward). This reinforces the actions that led to that feeling.\n",
       "3.  **Learning the Policy:** With each attempt, your brain is implicitly updating its \"policy\" for riding. You're learning:\n",
       "    *   How much to lean to counteract a turn.\n",
       "    *   The right amount of pedaling to maintain balance and speed.\n",
       "    *   How to make small, continuous adjustments to the handlebars.\n",
       "    *   When to apply the brakes.\n",
       "4.  **Goal Achievement:** Eventually, through repeated practice and learning from your \"rewards\" and \"penalties,\" you develop a robust policy that allows you to ride the bicycle smoothly and confidently, achieving the goal of getting from point A to point B without falling.\n",
       "\n",
       "In essence, you're an agent learning to control a complex system (the bicycle and your body) by interacting with the environment and receiving feedback in the form of physical sensations and the outcome of your actions. This is the core of reinforcement learning."
      ],
      "text/plain": [
       "<IPython.core.display.Markdown object>"
      ]
     },
     "metadata": {},
     "output_type": "display_data"
    },
    {
     "data": {
      "text/markdown": [
       "\n",
       "**Discussion (3):**\n",
       "\n",
       "- *gemini-2.5-pro* typically offers more in-depth, nuanced, and detailed responses compared to *gemini-2.5-flash*.  \n",
       "- The *pro* model is intended for complex tasks, comprehensive reasoning, and higher-quality output, while *flash* models are optimized for speed and lower cost, sometimes at the expense of context or detail.\n",
       "- Differences may be evident in style, clarity, factual accuracy, and the level of explanation, particularly for intricate tasks like explaining reinforcement learning with practical examples.\n",
       "\n",
       "**Tip:** For critical use cases or when accuracy and depth matter, prefer the *pro* model. For quick, general responses, *flash* can be suitable.\n",
       "\n",
       "**Observation:**  \n",
       "Compare the outputs above for their depth, specificity, and clarity.\n"
      ],
      "text/plain": [
       "<IPython.core.display.Markdown object>"
      ]
     },
     "metadata": {},
     "output_type": "display_data"
    },
    {
     "data": {
      "text/markdown": [
       "\n",
       "**Discussion (4):**\n",
       "\n",
       "- Changing the system prompt—the instructions or description of model behavior provided before user prompts—can drastically alter output.\n",
       "- For instance, if you specify \"Answer as if explaining to a complete beginner\" versus \"Use technical language suitable for experts,\" the model will vary its tone, detail, and terminology.\n",
       "- System prompts help customize the persona, style, and focus of outputs, making the model more useful for your specific teaching or data analysis objectives.\n",
       "\n",
       "**Tip:** Thoughtfully designed system prompts can improve model alignment with your educational or research goals.\n"
      ],
      "text/plain": [
       "<IPython.core.display.Markdown object>"
      ]
     },
     "metadata": {},
     "output_type": "display_data"
    }
   ],
   "source": [
    "# Answer here\n",
    "\n",
    "# 1. Run it with the same model as the example, but use \"gemini-2.5-pro\" (pro model).\n",
    "my_prompt = [\"Explain the concept of reinforcement learning and give a practical example from daily life.\"]\n",
    "# Cannot pass 'model=' argument, so you should use the default or change model elsewhere (e.g., in the function definition or configuration).\n",
    "response1, logs1 = prompt_gemini(input_prompt=my_prompt, with_tokens_info=True)\n",
    "print(f\"Response using default or currently set model:\\n\", response1)\n",
    "print(\"Log info:\", logs1)\n",
    "display(Markdown(\"**Response:**\\n\\n\" + response1))\n",
    "\n",
    "# 2. Run it with another model: if you want to change the model, you need to configure it in the prompt_gemini function or related configuration, not by passing 'model='. \n",
    "# For illustration, if your environment allows changing default model globally, do so before calling; otherwise, call with the same method:\n",
    "response2, logs2 = prompt_gemini(input_prompt=my_prompt, with_tokens_info=True)\n",
    "print(f\"\\nResponse using alternate model (if set before call):\\n\", response2)\n",
    "print(\"Log info:\", logs2)\n",
    "display(Markdown(\"**Response from alternate model:**\\n\\n\" + response2))\n",
    "\n",
    "# 3. Discuss the differences on the results with different models.\n",
    "discussion = \"\"\"\n",
    "**Discussion (3):**\n",
    "\n",
    "- *gemini-2.5-pro* typically offers more in-depth, nuanced, and detailed responses compared to *gemini-2.5-flash*.  \n",
    "- The *pro* model is intended for complex tasks, comprehensive reasoning, and higher-quality output, while *flash* models are optimized for speed and lower cost, sometimes at the expense of context or detail.\n",
    "- Differences may be evident in style, clarity, factual accuracy, and the level of explanation, particularly for intricate tasks like explaining reinforcement learning with practical examples.\n",
    "\n",
    "**Tip:** For critical use cases or when accuracy and depth matter, prefer the *pro* model. For quick, general responses, *flash* can be suitable.\n",
    "\n",
    "**Observation:**  \n",
    "Compare the outputs above for their depth, specificity, and clarity.\n",
    "\"\"\"\n",
    "\n",
    "display(Markdown(discussion))\n",
    "\n",
    "# 4. Discuss what would happen if you change the system prompt.\n",
    "system_prompt_discussion = \"\"\"\n",
    "**Discussion (4):**\n",
    "\n",
    "- Changing the system prompt—the instructions or description of model behavior provided before user prompts—can drastically alter output.\n",
    "- For instance, if you specify \"Answer as if explaining to a complete beginner\" versus \"Use technical language suitable for experts,\" the model will vary its tone, detail, and terminology.\n",
    "- System prompts help customize the persona, style, and focus of outputs, making the model more useful for your specific teaching or data analysis objectives.\n",
    "\n",
    "**Tip:** Thoughtfully designed system prompts can improve model alignment with your educational or research goals.\n",
    "\"\"\"\n",
    "\n",
    "display(Markdown(system_prompt_discussion))\n",
    "\n",
    "\n"
   ]
  },
  {
   "cell_type": "markdown",
   "metadata": {},
   "source": [
    "---\n",
    "### <a id='toc1_5_6_'></a>[**2.2 Structured Output**](#toc0_)\n",
    "\n",
    "By default, an LLM responds with unstructured, free-form text. For data mining, this is often impractical, as we need data in a predictable format to load into tools like a pandas DataFrame for analysis. **Structured output** is a powerful feature that forces the model to return its response in a specific, machine-readable format, such as JSON.\n",
    "\n",
    "The key to enabling this is to provide the model with a **response schema**. This schema acts as a strict template or blueprint that the model's output must conform to. Instead of generating a paragraph, the model will fill in the fields defined in your schema with the relevant information it extracts from the prompt.\n",
    "\n",
    "In the following code, we define this schema using Python classes. Think of each class as defining a JSON object:\n",
    "*   The **attributes** of the class (e.g., `topic_name`, `sub_title`) become the keys in the final JSON object.\n",
    "*   The **type hints** for those attributes (e.g., `str`, `list`) tell the model what kind of data is expected for each key's value.\n",
    "\n",
    "We can even nest these classes inside one another to create complex, hierarchical JSON structures. This allows us to precisely control the format of the output, transforming the LLM from a simple text generator into a reliable tool for automated and structured data extraction.\n",
    "\n",
    "[Gemini's Structured Output Documentation](https://ai.google.dev/gemini-api/docs/structured-output)\n",
    "\n",
    "For data validation of schemas Gemini API uses the Pydantic library, for more documentation on it you can check: [Pydantic](https://docs.pydantic.dev/latest/) \n",
    "\n",
    "[JSON Format Documentation](https://docs.python.org/3/library/json.html)"
   ]
  },
  {
   "cell_type": "code",
   "execution_count": 13,
   "metadata": {},
   "outputs": [],
   "source": [
    "from pydantic import BaseModel\n",
    "\n",
    "# We define our structure schema that Gemini should follow for the output response\n",
    "\n",
    "# Subsections on the topics we query\n",
    "class Subsection(BaseModel):\n",
    "    sub_title: str\n",
    "    sub_explanation: str\n",
    "\n",
    "# The top-level structure for the entire topic analysis\n",
    "class Topic(BaseModel):\n",
    "    topic_name: str\n",
    "    subsections: list[Subsection]"
   ]
  },
  {
   "cell_type": "code",
   "execution_count": 14,
   "metadata": {},
   "outputs": [
    {
     "name": "stdout",
     "output_type": "stream",
     "text": [
      "[\n",
      "  {\n",
      "    \"topic_name\": \"Machine Learning\",\n",
      "    \"subsections\": [\n",
      "      {\n",
      "        \"sub_title\": \"Definition\",\n",
      "        \"sub_explanation\": \"Machine learning (ML) is a subset of artificial intelligence (AI) that focuses on building systems that can learn from and make decisions based on data. Instead of being explicitly programmed, ML algorithms use statistical techniques to enable systems to 'learn' from data, identify patterns, and make predictions or decisions without human intervention.\"\n",
      "      },\n",
      "      {\n",
      "        \"sub_title\": \"Types of Machine Learning\",\n",
      "        \"sub_explanation\": \"Common types include supervised learning (learning from labeled data), unsupervised learning (finding patterns in unlabeled data), and reinforcement learning (learning through trial and error with rewards and penalties).\"\n",
      "      },\n",
      "      {\n",
      "        \"sub_title\": \"Applications\",\n",
      "        \"sub_explanation\": \"ML is used in a wide range of applications, such as image recognition, natural language processing, recommendation systems, fraud detection, and medical diagnosis.\"\n",
      "      }\n",
      "    ]\n",
      "  },\n",
      "  {\n",
      "    \"topic_name\": \"Data Centers\",\n",
      "    \"subsections\": [\n",
      "      {\n",
      "        \"sub_title\": \"Definition\",\n",
      "        \"sub_explanation\": \"A data center is a dedicated physical facility that an organization uses to house its critical IT infrastructure, including servers, storage systems, networking equipment, and related components. These facilities are designed to provide a secure, reliable, and controlled environment for computing operations.\"\n",
      "      },\n",
      "      {\n",
      "        \"sub_title\": \"Key Components\",\n",
      "        \"sub_explanation\": \"Essential components include servers, storage devices, network switches and routers, power supplies (including UPS and generators), cooling systems (HVAC), and physical security measures.\"\n",
      "      },\n",
      "      {\n",
      "        \"sub_title\": \"Purpose\",\n",
      "        \"sub_explanation\": \"Data centers serve as the central hub for data storage, processing, and management, enabling businesses to run applications, host websites, and manage their digital operations.\"\n",
      "      }\n",
      "    ]\n",
      "  },\n",
      "  {\n",
      "    \"topic_name\": \"Large Language Models (LLMs)\",\n",
      "    \"subsections\": [\n",
      "      {\n",
      "        \"sub_title\": \"Definition\",\n",
      "        \"sub_explanation\": \"Large Language Models (LLMs) are a type of artificial intelligence model that are trained on massive amounts of text data. They are designed to understand, generate, and manipulate human language. LLMs are characterized by their enormous size (billions or trillions of parameters) and their ability to perform a wide variety of natural language processing tasks.\"\n",
      "      },\n",
      "      {\n",
      "        \"sub_title\": \"Capabilities\",\n",
      "        \"sub_explanation\": \"LLMs can perform tasks such as text generation, translation, summarization, question answering, code generation, and creative writing. They learn complex linguistic patterns, grammar, facts, and reasoning abilities from their training data.\"\n",
      "      },\n",
      "      {\n",
      "        \"sub_title\": \"Underlying Technology\",\n",
      "        \"sub_explanation\": \"LLMs are typically built using deep learning architectures, most notably the Transformer architecture, which allows them to process sequential data like text very effectively.\"\n",
      "      }\n",
      "    ]\n",
      "  },\n",
      "  {\n",
      "    \"topic_name\": \"Relationship Between Machine Learning, Data Centers, and LLMs\",\n",
      "    \"subsections\": [\n",
      "      {\n",
      "        \"sub_title\": \"LLMs as a Product of Machine Learning\",\n",
      "        \"sub_explanation\": \"LLMs are a sophisticated application and outcome of machine learning research and development. The techniques used to train LLMs, such as deep learning and neural networks, are core machine learning concepts. Therefore, LLMs are a specific, advanced type of machine learning model.\"\n",
      "      },\n",
      "      {\n",
      "        \"sub_title\": \"Data Centers as the Foundation for LLMs and ML\",\n",
      "        \"sub_explanation\": \"Training and running LLMs, as well as many other complex machine learning models, requires immense computational power and vast amounts of data storage. Data centers provide the necessary infrastructure – high-performance servers, specialized hardware (like GPUs and TPUs), robust networking, and reliable power – to handle these computationally intensive tasks. Without data centers, it would be practically impossible to develop, train, and deploy LLMs at scale.\"\n",
      "      },\n",
      "      {\n",
      "        \"sub_title\": \"Interdependence\",\n",
      "        \"sub_explanation\": \"In essence, machine learning is the field of study and the set of techniques. LLMs are a powerful manifestation of these techniques. Data centers are the physical environments and infrastructure that enable the training, deployment, and operation of both general machine learning models and highly demanding LLMs. LLMs rely on ML principles, and both ML and LLMs rely heavily on the resources provided by data centers.\"\n",
      "      }\n",
      "    ]\n",
      "  }\n",
      "]\n"
     ]
    }
   ],
   "source": [
    "input_prompt = [\"Explain what are machine learning, data centers, llms and how do they relate to each other.\"]\n",
    "text_response = prompt_gemini(input_prompt = input_prompt, schema = list[Topic])\n",
    "print(text_response)"
   ]
  },
  {
   "cell_type": "code",
   "execution_count": 15,
   "metadata": {},
   "outputs": [
    {
     "name": "stdout",
     "output_type": "stream",
     "text": [
      "[{'topic_name': 'Machine Learning', 'subsections': [{'sub_title': 'Definition', 'sub_explanation': \"Machine learning (ML) is a subset of artificial intelligence (AI) that focuses on building systems that can learn from and make decisions based on data. Instead of being explicitly programmed, ML algorithms use statistical techniques to enable systems to 'learn' from data, identify patterns, and make predictions or decisions without human intervention.\"}, {'sub_title': 'Types of Machine Learning', 'sub_explanation': 'Common types include supervised learning (learning from labeled data), unsupervised learning (finding patterns in unlabeled data), and reinforcement learning (learning through trial and error with rewards and penalties).'}, {'sub_title': 'Applications', 'sub_explanation': 'ML is used in a wide range of applications, such as image recognition, natural language processing, recommendation systems, fraud detection, and medical diagnosis.'}]}, {'topic_name': 'Data Centers', 'subsections': [{'sub_title': 'Definition', 'sub_explanation': 'A data center is a dedicated physical facility that an organization uses to house its critical IT infrastructure, including servers, storage systems, networking equipment, and related components. These facilities are designed to provide a secure, reliable, and controlled environment for computing operations.'}, {'sub_title': 'Key Components', 'sub_explanation': 'Essential components include servers, storage devices, network switches and routers, power supplies (including UPS and generators), cooling systems (HVAC), and physical security measures.'}, {'sub_title': 'Purpose', 'sub_explanation': 'Data centers serve as the central hub for data storage, processing, and management, enabling businesses to run applications, host websites, and manage their digital operations.'}]}, {'topic_name': 'Large Language Models (LLMs)', 'subsections': [{'sub_title': 'Definition', 'sub_explanation': 'Large Language Models (LLMs) are a type of artificial intelligence model that are trained on massive amounts of text data. They are designed to understand, generate, and manipulate human language. LLMs are characterized by their enormous size (billions or trillions of parameters) and their ability to perform a wide variety of natural language processing tasks.'}, {'sub_title': 'Capabilities', 'sub_explanation': 'LLMs can perform tasks such as text generation, translation, summarization, question answering, code generation, and creative writing. They learn complex linguistic patterns, grammar, facts, and reasoning abilities from their training data.'}, {'sub_title': 'Underlying Technology', 'sub_explanation': 'LLMs are typically built using deep learning architectures, most notably the Transformer architecture, which allows them to process sequential data like text very effectively.'}]}, {'topic_name': 'Relationship Between Machine Learning, Data Centers, and LLMs', 'subsections': [{'sub_title': 'LLMs as a Product of Machine Learning', 'sub_explanation': 'LLMs are a sophisticated application and outcome of machine learning research and development. The techniques used to train LLMs, such as deep learning and neural networks, are core machine learning concepts. Therefore, LLMs are a specific, advanced type of machine learning model.'}, {'sub_title': 'Data Centers as the Foundation for LLMs and ML', 'sub_explanation': 'Training and running LLMs, as well as many other complex machine learning models, requires immense computational power and vast amounts of data storage. Data centers provide the necessary infrastructure – high-performance servers, specialized hardware (like GPUs and TPUs), robust networking, and reliable power – to handle these computationally intensive tasks. Without data centers, it would be practically impossible to develop, train, and deploy LLMs at scale.'}, {'sub_title': 'Interdependence', 'sub_explanation': 'In essence, machine learning is the field of study and the set of techniques. LLMs are a powerful manifestation of these techniques. Data centers are the physical environments and infrastructure that enable the training, deployment, and operation of both general machine learning models and highly demanding LLMs. LLMs rely on ML principles, and both ML and LLMs rely heavily on the resources provided by data centers.'}]}]\n",
      "<class 'list'>\n"
     ]
    }
   ],
   "source": [
    "import json\n",
    "\n",
    "# Now the response can be parsed to a python object using the JSON dictionary structure loading\n",
    "structured_resp = json.loads(text_response)\n",
    "print(structured_resp)\n",
    "print(type(structured_resp))"
   ]
  },
  {
   "cell_type": "code",
   "execution_count": 16,
   "metadata": {},
   "outputs": [
    {
     "name": "stdout",
     "output_type": "stream",
     "text": [
      "Machine Learning \n",
      "\n",
      "\t Definition \n",
      "\n",
      "\t\t Machine learning (ML) is a subset of artificial intelligence (AI) that focuses on building systems that can learn from and make decisions based on data. Instead of being explicitly programmed, ML algorithms use statistical techniques to enable systems to 'learn' from data, identify patterns, and make predictions or decisions without human intervention. \n",
      "\n",
      "\t Types of Machine Learning \n",
      "\n",
      "\t\t Common types include supervised learning (learning from labeled data), unsupervised learning (finding patterns in unlabeled data), and reinforcement learning (learning through trial and error with rewards and penalties). \n",
      "\n",
      "\t Applications \n",
      "\n",
      "\t\t ML is used in a wide range of applications, such as image recognition, natural language processing, recommendation systems, fraud detection, and medical diagnosis. \n",
      "\n",
      "Data Centers \n",
      "\n",
      "\t Definition \n",
      "\n",
      "\t\t A data center is a dedicated physical facility that an organization uses to house its critical IT infrastructure, including servers, storage systems, networking equipment, and related components. These facilities are designed to provide a secure, reliable, and controlled environment for computing operations. \n",
      "\n",
      "\t Key Components \n",
      "\n",
      "\t\t Essential components include servers, storage devices, network switches and routers, power supplies (including UPS and generators), cooling systems (HVAC), and physical security measures. \n",
      "\n",
      "\t Purpose \n",
      "\n",
      "\t\t Data centers serve as the central hub for data storage, processing, and management, enabling businesses to run applications, host websites, and manage their digital operations. \n",
      "\n",
      "Large Language Models (LLMs) \n",
      "\n",
      "\t Definition \n",
      "\n",
      "\t\t Large Language Models (LLMs) are a type of artificial intelligence model that are trained on massive amounts of text data. They are designed to understand, generate, and manipulate human language. LLMs are characterized by their enormous size (billions or trillions of parameters) and their ability to perform a wide variety of natural language processing tasks. \n",
      "\n",
      "\t Capabilities \n",
      "\n",
      "\t\t LLMs can perform tasks such as text generation, translation, summarization, question answering, code generation, and creative writing. They learn complex linguistic patterns, grammar, facts, and reasoning abilities from their training data. \n",
      "\n",
      "\t Underlying Technology \n",
      "\n",
      "\t\t LLMs are typically built using deep learning architectures, most notably the Transformer architecture, which allows them to process sequential data like text very effectively. \n",
      "\n",
      "Relationship Between Machine Learning, Data Centers, and LLMs \n",
      "\n",
      "\t LLMs as a Product of Machine Learning \n",
      "\n",
      "\t\t LLMs are a sophisticated application and outcome of machine learning research and development. The techniques used to train LLMs, such as deep learning and neural networks, are core machine learning concepts. Therefore, LLMs are a specific, advanced type of machine learning model. \n",
      "\n",
      "\t Data Centers as the Foundation for LLMs and ML \n",
      "\n",
      "\t\t Training and running LLMs, as well as many other complex machine learning models, requires immense computational power and vast amounts of data storage. Data centers provide the necessary infrastructure – high-performance servers, specialized hardware (like GPUs and TPUs), robust networking, and reliable power – to handle these computationally intensive tasks. Without data centers, it would be practically impossible to develop, train, and deploy LLMs at scale. \n",
      "\n",
      "\t Interdependence \n",
      "\n",
      "\t\t In essence, machine learning is the field of study and the set of techniques. LLMs are a powerful manifestation of these techniques. Data centers are the physical environments and infrastructure that enable the training, deployment, and operation of both general machine learning models and highly demanding LLMs. LLMs rely on ML principles, and both ML and LLMs rely heavily on the resources provided by data centers. \n",
      "\n"
     ]
    }
   ],
   "source": [
    "# So now we have an object that we can explore/use in a pythonic way for our purposes\n",
    "for topic in structured_resp:\n",
    "    print(topic[\"topic_name\"], \"\\n\")\n",
    "    # We can access each subsection as well\n",
    "    for subsection in topic[\"subsections\"]:\n",
    "        print(\"\\t\", subsection[\"sub_title\"], \"\\n\")\n",
    "        print(\"\\t\\t\", subsection[\"sub_explanation\"], \"\\n\")\n"
   ]
  },
  {
   "cell_type": "markdown",
   "metadata": {},
   "source": [
    "##### <a id='toc1_5_6_1_1_'></a>[**>>> Exercise 2 (Take home):**](#toc0_)\n",
    "\n",
    "Try a prompt with your own schema structure, it needs to be completely different to the example. It should show an intuitive way to represent the text output of the model based on the prompt you chose. See the documentation for reference: https://ai.google.dev/gemini-api/docs/structured-output"
   ]
  },
  {
   "cell_type": "code",
   "execution_count": 17,
   "metadata": {},
   "outputs": [
    {
     "name": "stdout",
     "output_type": "stream",
     "text": [
      "[\n",
      "  {\n",
      "    \"period\": \"Modern Era\",\n",
      "    \"major_events\": [\n",
      "      {\n",
      "        \"year\": 1983,\n",
      "        \"event_title\": \"TCP/IP Protocol Suite Standardization\",\n",
      "        \"participants\": [\"Vint Cerf\", \"Bob Kahn\", \"ARPANET\"],\n",
      "        \"description\": \"The ARPANET officially switched to the TCP/IP protocol suite, a foundational step for the modern internet, enabling diverse networks to interconnect.\"\n",
      "      },\n",
      "      {\n",
      "        \"year\": 1990,\n",
      "        \"event_title\": \"World Wide Web Creation\",\n",
      "        \"participants\": [\"Tim Berners-Lee\", \"CERN\"],\n",
      "        \"description\": \"Tim Berners-Lee invented the World Wide Web, developing HTML, HTTP, and the first web browser, making information easily accessible and navigable.\"\n",
      "      },\n",
      "      {\n",
      "        \"year\": 1993,\n",
      "        \"event_title\": \"Mosaic Web Browser Release\",\n",
      "        \"participants\": [\"Marc Andreessen\", \"Eric Bina\", \"NCSA\"],\n",
      "        \"description\": \"The release of Mosaic, the first widely popular graphical web browser, significantly boosted the public's adoption and interest in the World Wide Web.\"\n",
      "      },\n",
      "      {\n",
      "        \"year\": 1998,\n",
      "        \"event_title\": \"Google Founded\",\n",
      "        \"participants\": [\"Larry Page\", \"Sergey Brin\"],\n",
      "        \"description\": \"The founding of Google revolutionized web search with its PageRank algorithm, making it easier for users to find relevant information online.\"\n",
      "      },\n",
      "      {\n",
      "        \"year\": 2007,\n",
      "        \"event_title\": \"iPhone Launch\",\n",
      "        \"participants\": [\"Apple Inc.\", \"Steve Jobs\"],\n",
      "        \"description\": \"Apple's launch of the iPhone popularized the smartphone and mobile internet access, fundamentally changing how people interact with the web.\"\n",
      "      }\n",
      "    ]\n",
      "  }\n",
      "]\n",
      "Period: Modern Era\n",
      "\tYear: 1983\n",
      "\tTitle: TCP/IP Protocol Suite Standardization\n",
      "\tParticipants: Vint Cerf, Bob Kahn, ARPANET\n",
      "\tDescription: The ARPANET officially switched to the TCP/IP protocol suite, a foundational step for the modern internet, enabling diverse networks to interconnect.\n",
      "\n",
      "\tYear: 1990\n",
      "\tTitle: World Wide Web Creation\n",
      "\tParticipants: Tim Berners-Lee, CERN\n",
      "\tDescription: Tim Berners-Lee invented the World Wide Web, developing HTML, HTTP, and the first web browser, making information easily accessible and navigable.\n",
      "\n",
      "\tYear: 1993\n",
      "\tTitle: Mosaic Web Browser Release\n",
      "\tParticipants: Marc Andreessen, Eric Bina, NCSA\n",
      "\tDescription: The release of Mosaic, the first widely popular graphical web browser, significantly boosted the public's adoption and interest in the World Wide Web.\n",
      "\n",
      "\tYear: 1998\n",
      "\tTitle: Google Founded\n",
      "\tParticipants: Larry Page, Sergey Brin\n",
      "\tDescription: The founding of Google revolutionized web search with its PageRank algorithm, making it easier for users to find relevant information online.\n",
      "\n",
      "\tYear: 2007\n",
      "\tTitle: iPhone Launch\n",
      "\tParticipants: Apple Inc., Steve Jobs\n",
      "\tDescription: Apple's launch of the iPhone popularized the smartphone and mobile internet access, fundamentally changing how people interact with the web.\n",
      "\n"
     ]
    }
   ],
   "source": [
    "# Answer here\n",
    "\n",
    "\n",
    "# Define a new schema for extracting key events from a historical text\n",
    "class Event(BaseModel):\n",
    "    year: int\n",
    "    event_title: str\n",
    "    participants: list[str]\n",
    "    description: str\n",
    "\n",
    "class HistoryTimeline(BaseModel):\n",
    "    period: str\n",
    "    major_events: list[Event]\n",
    "\n",
    "# Define a prompt that asks Gemini to use this new schema\n",
    "timeline_prompt = [\n",
    "    \"Extract a historical timeline for the topic 'Development of Internet Technology'. \"\n",
    "    \"Identify 3-5 major events, specifying their year, a title, main participants (as a list), and a brief description. \"\n",
    "    \"Structure the response as a list of HistoryTimeline objects with one period for the 'Modern Era'.\"\n",
    "]\n",
    "\n",
    "timeline_response = prompt_gemini(input_prompt=timeline_prompt, schema=list[HistoryTimeline])\n",
    "print(timeline_response)\n",
    "\n",
    "import json\n",
    "timeline_structured = json.loads(timeline_response)\n",
    "\n",
    "for period in timeline_structured:\n",
    "    print(\"Period:\", period[\"period\"])\n",
    "    for event in period[\"major_events\"]:\n",
    "        print(f\"\\tYear: {event['year']}\")\n",
    "        print(f\"\\tTitle: {event['event_title']}\")\n",
    "        print(f\"\\tParticipants: {', '.join(event['participants'])}\")\n",
    "        print(f\"\\tDescription: {event['description']}\\n\")\n",
    "\n",
    "\n"
   ]
  },
  {
   "cell_type": "markdown",
   "metadata": {},
   "source": [
    "---\n",
    "### <a id='toc1_5_7_'></a>[**2.3 Information Extraction and Grounding:**](#toc0_)\n",
    "\n",
    "`NOTE: This whole section including the exercise is now considered a bonus section, not counted for the main grade.`\n",
    "\n",
    "When using LLMs to extract structured data from text, two main challenges arise:\n",
    "\n",
    "1.  **Trust:** LLMs can \"hallucinate\" or invent information. We need to ensure the extracted data is accurate and comes directly from the source text.\n",
    "2.  **Scalability:** We need a reliable way to extract complex information consistently from thousands of large, messy documents.\n",
    "\n",
    "The solution to these challenges is **grounding**—the process of linking every piece of extracted data back to its specific origin in the source document. This creates a verifiable audit trail, building trust in the output."
   ]
  },
  {
   "cell_type": "markdown",
   "metadata": {},
   "source": [
    "---\n",
    "#### <a id='toc1_5_7_1_'></a>[**`langextract`: A Library for Grounded Extraction**](#toc0_)\n",
    "\n",
    "**`langextract`** is an open-source Python library from Google designed to create trustworthy data extraction pipelines. It uses LLMs to convert unstructured text into structured data with a focus on reliability and traceability.\n",
    "\n",
    "**Key Features:**\n",
    "\n",
    "*   **Precise Grounding:** Its core feature. It maps every extracted item to its exact character position in the original text, allowing for easy verification.\n",
    "*   **Reliable Structured Output:** Uses examples (few-shot prompting) to ensure the LLM's output consistently follows a predefined format.\n",
    "*   **Adaptable & No Fine-Tuning:** Can be adapted to any domain (e.g., legal, medical) simply by changing the examples and instructions, without needing to retrain a model.\n",
    "*   **Handles Long Documents:** Built to process lengthy texts that might exceed an LLM's standard context window.\n",
    "*   **Flexible LLM Support:** It is model-agnostic and works with various LLMs like Gemini, OpenAI models, and even local open-source models through Ollama.\n",
    "\n",
    "**`Github repository:`** [langextract](https://github.com/google/langextract)"
   ]
  },
  {
   "cell_type": "markdown",
   "metadata": {},
   "source": [
    "---\n",
    "\n",
    "##### <a id='toc1_5_7_1_1_'></a>[**2.3.1 Using PDF Documents:**](#toc0_)\n",
    "\n",
    "For PDF Document information extraction we are going to use the `pymupdf` library. Documentation: [pymupdf](https://pymupdf.readthedocs.io/en/latest/)\n",
    "\n",
    "And then we are going to pass it on to langextract to get insights on the document's content.\n",
    "\n",
    "We can also process documents using Gemini, for more information you can check their documentation: [Document Understanding](https://ai.google.dev/gemini-api/docs/document-processing)"
   ]
  },
  {
   "cell_type": "code",
   "execution_count": 18,
   "metadata": {},
   "outputs": [
    {
     "name": "stdout",
     "output_type": "stream",
     "text": [
      "✓ Extracted text from './data/documents/doc_example_review_interstellar.pdf'\n"
     ]
    }
   ],
   "source": [
    "import pymupdf\n",
    "# Extract text from the PDF and format it for the prompt\n",
    "# This is a review from the movie interstellar\n",
    "pdf_path = \"./data/documents/doc_example_review_interstellar.pdf\"\n",
    "formatted_text = \"\"\n",
    "try:\n",
    "    doc = pymupdf.open(pdf_path)\n",
    "    # In case the PDF documents have more than one page, in this example it only has one\n",
    "    for i, page in enumerate(doc):\n",
    "        text = page.get_text(\"text\")\n",
    "        # Format follows the prompt's requirement: **Page X** \"\"\"document's text\"\"\"\n",
    "        formatted_text += f'**Page {i + 1}**\\n'\n",
    "        formatted_text += f'\"\"\"\\n{text.strip()}\\n\"\"\"\\n\\n'\n",
    "    doc.close()\n",
    "    print(f\"✓ Extracted text from '{pdf_path}'\")\n",
    "except Exception as e:\n",
    "    print(f\"Could not read PDF: {e}\")\n",
    "    formatted_text = \"Error: Could not process PDF file.\""
   ]
  },
  {
   "cell_type": "code",
   "execution_count": 19,
   "metadata": {},
   "outputs": [
    {
     "name": "stdout",
     "output_type": "stream",
     "text": [
      "**Page 1**\n",
      "\"\"\"\n",
      "Dan Baldwin\n",
      "Group 4\n",
      "Auteur Review - Interstellar \n",
      "I believe Christopher Nolan: the director behind the 2014 sci-ﬁ/adventure cinematic ‘Interstellar,’ \n",
      "to be a very intellectual and imaginative inventive talent.  \n",
      "His style in his previous ﬁlms sets characters in epic unique locations, with gargantuan issues to \n",
      "face, and artistically impresses the audience with how the characters solve their problems. For \n",
      "example, in Nolan’s 2010 ﬁlm ‘Inception,’ he tackles the idea of dreams, and sets his characters \n",
      "diving through dreams within dreams within even more dreams to complete their goals. Because \n",
      "this idea is so farfetched, and dreams are a subject in which science has made little factual \n",
      "discovery in, Nolan is free to use his creativity to present ideas such as landscapes folding in on \n",
      "themselves and corridors spinning, without seeming unrealistic. \n",
      "This brain-racking epic theme is once again evident in ‘Interstellar,’ as Nolan sets his characters \n",
      "during a second American dust bowl on future Earth. The world is short of food, and will soon be \n",
      "uninhabitable. So, ex-NASA pilot ‘Cooper’ (Matthew McConaughey) is summoned back to space \n",
      "travel in a bid to ﬁnd a new planet for the species to inhabit. Luckily for Cooper and his team, a \n",
      "black hole orbiting Saturn can transport them further into space to land on these potential \n",
      "planets. \n",
      "Throughout the ﬂick, the crew explore multiple worlds - again feeding Nolan’s mind more \n",
      "opportunities to create crazy scenarios. For example, one planet that Cooper and his friends, \n",
      "‘Brand,’ (Anne Hathaway) and ‘Romilly,’ (David Gyasi) visit initially seems like an inﬁnite sea of two \n",
      "feet deep water. Not threatening at all right? Well think again, because the crew suddenly ﬁnd out \n",
      "that a giant 100ft tidal wave is about to hit them, and they have minutes to ﬂy away. Nolan further \n",
      "increases the stakes in this scene as it is explained that every hour spent on this planet counts for \n",
      "seven years on earth, meaning the planet will be destroyed before they return if their ship sinks. \n",
      "At the climax of the ﬁlm, the crew end up sending themselves through a black hole into a \n",
      "tesseract (a 3D representation of a larger dimension) to ﬁnd the ‘secret to harnessing gravity’ \n",
      "which will let the human race bend space-time in order to survive oﬀ earth. I know. Mental. \n",
      "The imagination that Nolan possesses and implicates into ‘Interstellar’ is farfetched and \n",
      "wonderful, not only impressing his audience with the appealing visuals he creates, but induces \n",
      "them to think and discuss what is going on due its scientiﬁc depth. Personally, as someone who is \n",
      "bamboozled by the idea of how big the universe is, I ﬁnd it unendingly entertaining to repeatedly \n",
      "watch this ﬁlm and understanding it more each time, and can only hope the technology portrayed \n",
      "will one day come true. \n",
      "Overall, ‘Interstellar’ is a clear example of Nolan’s auteur talent, as he once again ﬁgments yet \n",
      "another cluster of conditions for us to marvel at. With a fantastic score from world famous \n",
      "composer Hanz Zimmer, his epic, orchestral theme sets the audience in the palm of his hands as \n",
      "we stress over how we are all going to be saved once again.\n",
      "\"\"\"\n",
      "\n",
      "\n"
     ]
    }
   ],
   "source": [
    "print(formatted_text)"
   ]
  },
  {
   "cell_type": "markdown",
   "metadata": {},
   "source": [
    "We define our prompt and examples based on our required type of data, in this case we are going to do it having `movie reviews` in mind."
   ]
  },
  {
   "cell_type": "code",
   "execution_count": 20,
   "metadata": {},
   "outputs": [],
   "source": [
    "import langextract as lx\n",
    "import textwrap\n",
    "\n",
    "# Defining the extraction prompt for \"movie review\" type of data\n",
    "prompt = textwrap.dedent(\"\"\"\\\n",
    "    Extract specific opinions and their impact on the audience from this movie review.\n",
    "    Important: Use exact text verbatim from the input for extraction_text. Do not paraphrase.\n",
    "    Extract entities in order of appearance with no overlapping text spans.\n",
    "\n",
    "    Use the 'opinion_statement' class for direct judgments about film elements (like plot, score, or acting).\n",
    "    - 'subject' should be the element being reviewed.\n",
    "    - 'sentiment' should be Positive, Negative, or Neutral.\n",
    "    - 'key_phrase' should be the core descriptive words.\n",
    "\n",
    "    Use the 'audience_impact' class for phrases describing the effect on the viewer.\n",
    "    - 'emotion_evoked' should be the feeling or reaction (e.g., stress, joy, confusion).\n",
    "    - 'causal_element' is what part of the film caused the reaction.\n",
    "    - 'target_audience' is who was affected (e.g., 'the audience', 'the reviewer').\n",
    "    \"\"\")\n",
    "\n",
    "# Providing high-quality examples to guide the model\n",
    "# These examples show the model exactly how to differentiate between the two classes\n",
    "examples = [\n",
    "    # Example 1: Demonstrates a positive opinion on the plot and its direct impact on the reviewer\n",
    "    lx.data.ExampleData(\n",
    "        text=\"The film boasts a truly clever plot that kept me guessing until the very end.\",\n",
    "        extractions=[\n",
    "            lx.data.Extraction(\n",
    "                extraction_class=\"opinion_statement\",\n",
    "                extraction_text=\"a truly clever plot\",\n",
    "                attributes={\n",
    "                    \"subject\": \"The plot\",\n",
    "                    \"sentiment\": \"Positive\",\n",
    "                    \"key_phrase\": \"truly clever\"\n",
    "                }\n",
    "            ),\n",
    "            lx.data.Extraction(\n",
    "                extraction_class=\"audience_impact\",\n",
    "                extraction_text=\"kept me guessing until the very end\",\n",
    "                attributes={\n",
    "                    \"emotion_evoked\": [\"engaged\", \"curious\"],\n",
    "                    \"causal_element\": \"The plot\",\n",
    "                    \"target_audience\": \"the reviewer\"\n",
    "                }\n",
    "            ),\n",
    "        ]\n",
    "    ),\n",
    "    # Example 2: Shows a negative opinion and a separate audience impact caused by the soundtrack\n",
    "    lx.data.ExampleData(\n",
    "        text=\"Unfortunately, the dialogue felt clunky and unnatural, and the jarring soundtrack made the audience jump.\",\n",
    "        extractions=[\n",
    "            lx.data.Extraction(\n",
    "                extraction_class=\"opinion_statement\",\n",
    "                extraction_text=\"the dialogue felt clunky and unnatural\",\n",
    "                attributes={\n",
    "                    \"subject\": \"The dialogue\",\n",
    "                    \"sentiment\": \"Negative\",\n",
    "                    \"key_phrase\": \"clunky and unnatural\"\n",
    "                }\n",
    "            ),\n",
    "            lx.data.Extraction(\n",
    "                extraction_class=\"audience_impact\",\n",
    "                extraction_text=\"made the audience jump\",\n",
    "                attributes={\n",
    "                    \"emotion_evoked\": [\"startled\", \"on edge\"],\n",
    "                    \"causal_element\": \"The soundtrack\",\n",
    "                    \"target_audience\": \"the audience\"\n",
    "                }\n",
    "            )\n",
    "        ]\n",
    "    )\n",
    "]"
   ]
  },
  {
   "cell_type": "markdown",
   "metadata": {},
   "source": [
    "Here we define our main function to call for langextract information extraction, note that there are some constants in the functions that we are not going to change for the example but it would be required to explore and understand in the exercise. In this function we obtain the resulting raw extracted information into a .jsonl file and the visualization into a .html file. Check the documentation for more information.\n",
    "\n",
    "The files will be saved in the following directory: `results/info_extractions`"
   ]
  },
  {
   "cell_type": "code",
   "execution_count": 21,
   "metadata": {},
   "outputs": [],
   "source": [
    "import os\n",
    "import langextract as lx\n",
    "\n",
    "# We define our main langextract function \n",
    "def grounded_info_extraction(input_documents, prompt, examples, file_name, model_id =\"gemini-2.5-flash-lite\", extraction_passes = 1, max_workers = 5, max_char_buffer = 2000):\n",
    "    result = lx.extract(\n",
    "        text_or_documents=input_documents,\n",
    "        prompt_description=prompt,\n",
    "        examples=examples,\n",
    "        model_id=model_id,\n",
    "        extraction_passes=extraction_passes,    # Improves recall through multiple passes over the same text, needs temperature above 0.0\n",
    "        max_workers=max_workers,         # Parallel processing for speed, remember there are API call rate limits, so do not abuse\n",
    "        max_char_buffer=max_char_buffer    # Smaller contexts for better accuracy, currently: 1000 characters per batch\n",
    "    )\n",
    "\n",
    "    # Display results\n",
    "    print(f\"Extracted {len(result.extractions)} entities:\\n\")\n",
    "    for extraction in result.extractions:\n",
    "        print(f\"• {extraction.extraction_class}: '{extraction.extraction_text}'\")\n",
    "        if extraction.attributes:\n",
    "            for key, value in extraction.attributes.items():\n",
    "                print(f\"  - {key}: {value}\")\n",
    "    \n",
    "    output_dir = \"./results/info_extractions\"\n",
    "    os.makedirs(output_dir, exist_ok=True)\n",
    "    # Save results to JSONL\n",
    "    lx.io.save_annotated_documents([result], output_name=f\"{file_name}.jsonl\", output_dir=output_dir)\n",
    "\n",
    "    # Generate interactive visualization\n",
    "    html_content = lx.visualize(f\"{output_dir}/{file_name}.jsonl\")\n",
    "    with open(f\"{output_dir}/{file_name}_vis.html\", \"w\", encoding='UTF-8') as f:\n",
    "        if hasattr(html_content, 'data'):\n",
    "            f.write(html_content.data)\n",
    "        else:\n",
    "            f.write(html_content)\n",
    "\n",
    "    print(f\"✓ Visualization saved to {output_dir}/{file_name}_vis.html\")\n",
    "    \n",
    "    # returning html content for display\n",
    "    return html_content"
   ]
  },
  {
   "cell_type": "code",
   "execution_count": 22,
   "metadata": {},
   "outputs": [
    {
     "name": "stderr",
     "output_type": "stream",
     "text": [
      "WARNING:google_genai._api_client:Both GOOGLE_API_KEY and GEMINI_API_KEY are set. Using GOOGLE_API_KEY.\n"
     ]
    },
    {
     "name": "stdout",
     "output_type": "stream",
     "text": [
      "Extracted 13 entities:\n",
      "\n",
      "• opinion_statement: 'a very intellectual and imaginative inventive talent'\n",
      "  - subject: Christopher Nolan\n",
      "  - sentiment: Positive\n",
      "  - key_phrase: very intellectual and imaginative inventive talent\n",
      "• opinion_statement: 'artistically impresses the audience'\n",
      "  - subject: Nolan's style\n",
      "  - sentiment: Positive\n",
      "  - key_phrase: artistically impresses\n",
      "• opinion_statement: 'This brain-racking epic theme is once again evident in ‘Interstellar,’'\n",
      "  - subject: The theme\n",
      "  - sentiment: Positive\n",
      "  - key_phrase: brain-racking epic theme\n",
      "• opinion_statement: 'crazy scenarios'\n",
      "  - subject: Nolan's mind\n",
      "  - sentiment: Positive\n",
      "  - key_phrase: crazy\n",
      "• opinion_statement: 'Not threatening at all right?'\n",
      "  - subject: The planet\n",
      "  - sentiment: Neutral\n",
      "  - key_phrase: Not threatening at all\n",
      "• opinion_statement: 'a giant 100ft tidal wave is about to hit them'\n",
      "  - subject: The tidal wave\n",
      "  - sentiment: Negative\n",
      "  - key_phrase: giant 100ft tidal wave\n",
      "• audience_impact: 'minutes to ﬂy away'\n",
      "  - emotion_evoked: ['stress', 'urgency']\n",
      "  - causal_element: The tidal wave\n",
      "  - target_audience: the crew\n",
      "• opinion_statement: 'farfetched and wonderful'\n",
      "  - subject: The imagination that Nolan possesses and implicates into ‘Interstellar’\n",
      "  - sentiment: Positive\n",
      "  - key_phrase: farfetched and wonderful\n",
      "• audience_impact: 'not only impressing his audience with the appealing visuals he creates, but induces them to think and discuss what is going on due its scientiﬁc depth'\n",
      "  - emotion_evoked: ['impressed', 'thoughtful', 'engaged']\n",
      "  - causal_element: The appealing visuals and scientific depth\n",
      "  - target_audience: his audience\n",
      "• audience_impact: 'I ﬁnd it unendingly entertaining to repeatedly watch this ﬁlm and understanding it more each time'\n",
      "  - emotion_evoked: ['entertained', 'intellectually stimulated']\n",
      "  - causal_element: The film's complexity and depth\n",
      "  - target_audience: the reviewer\n",
      "• opinion_statement: 'a clear example of Nolan’s auteur talent'\n",
      "  - subject: ‘Interstellar’\n",
      "  - sentiment: Positive\n",
      "  - key_phrase: clear example of Nolan’s auteur talent\n",
      "• opinion_statement: 'fantastic score'\n",
      "  - subject: The score\n",
      "  - sentiment: Positive\n",
      "  - key_phrase: fantastic\n",
      "• audience_impact: 'sets the audience in the palm of his hands as we stress over how we are all going to be saved once again'\n",
      "  - emotion_evoked: ['captivated', 'stressed']\n",
      "  - causal_element: His epic, orchestral theme\n",
      "  - target_audience: the audience\n"
     ]
    },
    {
     "name": "stderr",
     "output_type": "stream",
     "text": [
      "\u001b[94m\u001b[1mLangExtract\u001b[0m: Saving to \u001b[92mresults\\info_extractions\\review_extraction_example.jsonl\u001b[0m: 1 docs [00:00, 999.12 docs/s]"
     ]
    },
    {
     "name": "stdout",
     "output_type": "stream",
     "text": [
      "\u001b[92m✓\u001b[0m Saved \u001b[1m1\u001b[0m documents to \u001b[92mresults\\info_extractions\\review_extraction_example.jsonl\u001b[0m\n"
     ]
    },
    {
     "name": "stderr",
     "output_type": "stream",
     "text": [
      "\n",
      "\u001b[94m\u001b[1mLangExtract\u001b[0m: Loading \u001b[92mresults\\info_extractions\\review_extraction_example.jsonl\u001b[0m: 100%|█████████▉| 8.58k/8.58k [00:00<00:00, 745kB/s]"
     ]
    },
    {
     "name": "stdout",
     "output_type": "stream",
     "text": [
      "\u001b[92m✓\u001b[0m Loaded \u001b[1m1\u001b[0m documents from \u001b[92mresults\\info_extractions\\review_extraction_example.jsonl\u001b[0m\n",
      "✓ Visualization saved to ./results/info_extractions/review_extraction_example_vis.html\n"
     ]
    },
    {
     "name": "stderr",
     "output_type": "stream",
     "text": [
      "\n"
     ]
    }
   ],
   "source": [
    "html_content = grounded_info_extraction(formatted_text, prompt, examples, \"review_extraction_example\")"
   ]
  },
  {
   "cell_type": "code",
   "execution_count": 23,
   "metadata": {},
   "outputs": [
    {
     "data": {
      "text/plain": [
       "{'extractions': [{'extraction_class': 'opinion_statement',\n",
       "   'extraction_text': 'a very intellectual and imaginative inventive talent',\n",
       "   'char_interval': {'start_pos': 172, 'end_pos': 224},\n",
       "   'alignment_status': 'match_exact',\n",
       "   'extraction_index': 1,\n",
       "   'group_index': 0,\n",
       "   'description': None,\n",
       "   'attributes': {'subject': 'Christopher Nolan',\n",
       "    'sentiment': 'Positive',\n",
       "    'key_phrase': 'very intellectual and imaginative inventive talent'}},\n",
       "  {'extraction_class': 'opinion_statement',\n",
       "   'extraction_text': 'artistically impresses the audience',\n",
       "   'char_interval': {'start_pos': 338, 'end_pos': 373},\n",
       "   'alignment_status': 'match_exact',\n",
       "   'extraction_index': 2,\n",
       "   'group_index': 1,\n",
       "   'description': None,\n",
       "   'attributes': {'subject': \"Nolan's style\",\n",
       "    'sentiment': 'Positive',\n",
       "    'key_phrase': 'artistically impresses'}},\n",
       "  {'extraction_class': 'opinion_statement',\n",
       "   'extraction_text': 'This brain-racking epic theme is once again evident in ‘Interstellar,’',\n",
       "   'char_interval': {'start_pos': 878, 'end_pos': 948},\n",
       "   'alignment_status': 'match_exact',\n",
       "   'extraction_index': 3,\n",
       "   'group_index': 2,\n",
       "   'description': None,\n",
       "   'attributes': {'subject': 'The theme',\n",
       "    'sentiment': 'Positive',\n",
       "    'key_phrase': 'brain-racking epic theme'}},\n",
       "  {'extraction_class': 'opinion_statement',\n",
       "   'extraction_text': 'crazy scenarios',\n",
       "   'char_interval': {'start_pos': 1484, 'end_pos': 1499},\n",
       "   'alignment_status': 'match_exact',\n",
       "   'extraction_index': 4,\n",
       "   'group_index': 3,\n",
       "   'description': None,\n",
       "   'attributes': {'subject': \"Nolan's mind\",\n",
       "    'sentiment': 'Positive',\n",
       "    'key_phrase': 'crazy'}},\n",
       "  {'extraction_class': 'opinion_statement',\n",
       "   'extraction_text': 'Not threatening at all right?',\n",
       "   'char_interval': {'start_pos': 1676, 'end_pos': 1705},\n",
       "   'alignment_status': 'match_exact',\n",
       "   'extraction_index': 5,\n",
       "   'group_index': 4,\n",
       "   'description': None,\n",
       "   'attributes': {'subject': 'The planet',\n",
       "    'sentiment': 'Neutral',\n",
       "    'key_phrase': 'Not threatening at all'}},\n",
       "  {'extraction_class': 'opinion_statement',\n",
       "   'extraction_text': 'a giant 100ft tidal wave is about to hit them',\n",
       "   'char_interval': {'start_pos': 1764, 'end_pos': 1809},\n",
       "   'alignment_status': 'match_exact',\n",
       "   'extraction_index': 6,\n",
       "   'group_index': 5,\n",
       "   'description': None,\n",
       "   'attributes': {'subject': 'The tidal wave',\n",
       "    'sentiment': 'Negative',\n",
       "    'key_phrase': 'giant 100ft tidal wave'}},\n",
       "  {'extraction_class': 'audience_impact',\n",
       "   'extraction_text': 'minutes to ﬂy away',\n",
       "   'char_interval': {'start_pos': 1825, 'end_pos': 1843},\n",
       "   'alignment_status': 'match_exact',\n",
       "   'extraction_index': 7,\n",
       "   'group_index': 6,\n",
       "   'description': None,\n",
       "   'attributes': {'emotion_evoked': ['stress', 'urgency'],\n",
       "    'causal_element': 'The tidal wave',\n",
       "    'target_audience': 'the crew'}},\n",
       "  {'extraction_class': 'opinion_statement',\n",
       "   'extraction_text': 'farfetched and wonderful',\n",
       "   'char_interval': {'start_pos': 2418, 'end_pos': 2443},\n",
       "   'alignment_status': 'match_exact',\n",
       "   'extraction_index': 1,\n",
       "   'group_index': 0,\n",
       "   'description': None,\n",
       "   'attributes': {'subject': 'The imagination that Nolan possesses and implicates into ‘Interstellar’',\n",
       "    'sentiment': 'Positive',\n",
       "    'key_phrase': 'farfetched and wonderful'}},\n",
       "  {'extraction_class': 'audience_impact',\n",
       "   'extraction_text': 'not only impressing his audience with the appealing visuals he creates, but induces them to think and discuss what is going on due its scientiﬁc depth',\n",
       "   'char_interval': {'start_pos': 2445, 'end_pos': 2596},\n",
       "   'alignment_status': 'match_exact',\n",
       "   'extraction_index': 2,\n",
       "   'group_index': 1,\n",
       "   'description': None,\n",
       "   'attributes': {'emotion_evoked': ['impressed', 'thoughtful', 'engaged'],\n",
       "    'causal_element': 'The appealing visuals and scientific depth',\n",
       "    'target_audience': 'his audience'}},\n",
       "  {'extraction_class': 'audience_impact',\n",
       "   'extraction_text': 'I ﬁnd it unendingly entertaining to repeatedly watch this ﬁlm and understanding it more each time',\n",
       "   'char_interval': {'start_pos': 2680, 'end_pos': 2778},\n",
       "   'alignment_status': 'match_exact',\n",
       "   'extraction_index': 3,\n",
       "   'group_index': 2,\n",
       "   'description': None,\n",
       "   'attributes': {'emotion_evoked': ['entertained',\n",
       "     'intellectually stimulated'],\n",
       "    'causal_element': \"The film's complexity and depth\",\n",
       "    'target_audience': 'the reviewer'}},\n",
       "  {'extraction_class': 'opinion_statement',\n",
       "   'extraction_text': 'a clear example of Nolan’s auteur talent',\n",
       "   'char_interval': {'start_pos': 2876, 'end_pos': 2916},\n",
       "   'alignment_status': 'match_exact',\n",
       "   'extraction_index': 4,\n",
       "   'group_index': 3,\n",
       "   'description': None,\n",
       "   'attributes': {'subject': '‘Interstellar’',\n",
       "    'sentiment': 'Positive',\n",
       "    'key_phrase': 'clear example of Nolan’s auteur talent'}},\n",
       "  {'extraction_class': 'opinion_statement',\n",
       "   'extraction_text': 'fantastic score',\n",
       "   'char_interval': {'start_pos': 3006, 'end_pos': 3021},\n",
       "   'alignment_status': 'match_exact',\n",
       "   'extraction_index': 5,\n",
       "   'group_index': 4,\n",
       "   'description': None,\n",
       "   'attributes': {'subject': 'The score',\n",
       "    'sentiment': 'Positive',\n",
       "    'key_phrase': 'fantastic'}},\n",
       "  {'extraction_class': 'audience_impact',\n",
       "   'extraction_text': 'sets the audience in the palm of his hands as we stress over how we are all going to be saved once again',\n",
       "   'char_interval': {'start_pos': 3090, 'end_pos': 3195},\n",
       "   'alignment_status': 'match_exact',\n",
       "   'extraction_index': 6,\n",
       "   'group_index': 5,\n",
       "   'description': None,\n",
       "   'attributes': {'emotion_evoked': ['captivated', 'stressed'],\n",
       "    'causal_element': 'His epic, orchestral theme',\n",
       "    'target_audience': 'the audience'}}],\n",
       " 'text': '**Page 1**\\n\"\"\"\\nDan Baldwin\\nGroup 4\\nAuteur Review - Interstellar \\nI believe Christopher Nolan: the director behind the 2014 sci-ﬁ/adventure cinematic ‘Interstellar,’ \\nto be a very intellectual and imaginative inventive talent.  \\nHis style in his previous ﬁlms sets characters in epic unique locations, with gargantuan issues to \\nface, and artistically impresses the audience with how the characters solve their problems. For \\nexample, in Nolan’s 2010 ﬁlm ‘Inception,’ he tackles the idea of dreams, and sets his characters \\ndiving through dreams within dreams within even more dreams to complete their goals. Because \\nthis idea is so farfetched, and dreams are a subject in which science has made little factual \\ndiscovery in, Nolan is free to use his creativity to present ideas such as landscapes folding in on \\nthemselves and corridors spinning, without seeming unrealistic. \\nThis brain-racking epic theme is once again evident in ‘Interstellar,’ as Nolan sets his characters \\nduring a second American dust bowl on future Earth. The world is short of food, and will soon be \\nuninhabitable. So, ex-NASA pilot ‘Cooper’ (Matthew McConaughey) is summoned back to space \\ntravel in a bid to ﬁnd a new planet for the species to inhabit. Luckily for Cooper and his team, a \\nblack hole orbiting Saturn can transport them further into space to land on these potential \\nplanets. \\nThroughout the ﬂick, the crew explore multiple worlds - again feeding Nolan’s mind more \\nopportunities to create crazy scenarios. For example, one planet that Cooper and his friends, \\n‘Brand,’ (Anne Hathaway) and ‘Romilly,’ (David Gyasi) visit initially seems like an inﬁnite sea of two \\nfeet deep water. Not threatening at all right? Well think again, because the crew suddenly ﬁnd out \\nthat a giant 100ft tidal wave is about to hit them, and they have minutes to ﬂy away. Nolan further \\nincreases the stakes in this scene as it is explained that every hour spent on this planet counts for \\nseven years on earth, meaning the planet will be destroyed before they return if their ship sinks. \\nAt the climax of the ﬁlm, the crew end up sending themselves through a black hole into a \\ntesseract (a 3D representation of a larger dimension) to ﬁnd the ‘secret to harnessing gravity’ \\nwhich will let the human race bend space-time in order to survive oﬀ earth. I know. Mental. \\nThe imagination that Nolan possesses and implicates into ‘Interstellar’ is farfetched and \\nwonderful, not only impressing his audience with the appealing visuals he creates, but induces \\nthem to think and discuss what is going on due its scientiﬁc depth. Personally, as someone who is \\nbamboozled by the idea of how big the universe is, I ﬁnd it unendingly entertaining to repeatedly \\nwatch this ﬁlm and understanding it more each time, and can only hope the technology portrayed \\nwill one day come true. \\nOverall, ‘Interstellar’ is a clear example of Nolan’s auteur talent, as he once again ﬁgments yet \\nanother cluster of conditions for us to marvel at. With a fantastic score from world famous \\ncomposer Hanz Zimmer, his epic, orchestral theme sets the audience in the palm of his hands as \\nwe stress over how we are all going to be saved once again.\\n\"\"\"\\n\\n',\n",
       " 'document_id': 'doc_eb14d25d'}"
      ]
     },
     "execution_count": 23,
     "metadata": {},
     "output_type": "execute_result"
    }
   ],
   "source": [
    "import json\n",
    "# We can also observe the structure of the raw extracted data\n",
    "with open(\"./results/info_extractions/review_extraction_example.jsonl\", \"r\", encoding='UTF-8') as f:\n",
    "    content_extracted_raw = json.load(f)\n",
    "content_extracted_raw"
   ]
  },
  {
   "cell_type": "code",
   "execution_count": 24,
   "metadata": {},
   "outputs": [
    {
     "data": {
      "text/html": [
       "<style>\n",
       ".lx-highlight { position: relative; border-radius:3px; padding:1px 2px;}\n",
       ".lx-highlight .lx-tooltip {\n",
       "  visibility: hidden;\n",
       "  opacity: 0;\n",
       "  transition: opacity 0.2s ease-in-out;\n",
       "  background: #333;\n",
       "  color: #fff;\n",
       "  text-align: left;\n",
       "  border-radius: 4px;\n",
       "  padding: 6px 8px;\n",
       "  position: absolute;\n",
       "  z-index: 1000;\n",
       "  bottom: 125%;\n",
       "  left: 50%;\n",
       "  transform: translateX(-50%);\n",
       "  font-size: 12px;\n",
       "  max-width: 240px;\n",
       "  white-space: normal;\n",
       "  box-shadow: 0 2px 6px rgba(0,0,0,0.3);\n",
       "}\n",
       ".lx-highlight:hover .lx-tooltip { visibility: visible; opacity:1; }\n",
       ".lx-animated-wrapper { max-width: 100%; font-family: Arial, sans-serif; }\n",
       ".lx-controls {\n",
       "  background: #fafafa; border: 1px solid #90caf9; border-radius: 8px;\n",
       "  padding: 12px; margin-bottom: 16px;\n",
       "}\n",
       ".lx-button-row {\n",
       "  display: flex; justify-content: center; gap: 8px; margin-bottom: 12px;\n",
       "}\n",
       ".lx-control-btn {\n",
       "  background: #4285f4; color: white; border: none; border-radius: 4px;\n",
       "  padding: 8px 16px; cursor: pointer; font-size: 13px; font-weight: 500;\n",
       "  transition: background-color 0.2s;\n",
       "}\n",
       ".lx-control-btn:hover { background: #3367d6; }\n",
       ".lx-progress-container {\n",
       "  margin-bottom: 8px;\n",
       "}\n",
       ".lx-progress-slider {\n",
       "  width: 100%; margin: 0; appearance: none; height: 6px;\n",
       "  background: #ddd; border-radius: 3px; outline: none;\n",
       "}\n",
       ".lx-progress-slider::-webkit-slider-thumb {\n",
       "  appearance: none; width: 18px; height: 18px; background: #4285f4;\n",
       "  border-radius: 50%; cursor: pointer;\n",
       "}\n",
       ".lx-progress-slider::-moz-range-thumb {\n",
       "  width: 18px; height: 18px; background: #4285f4; border-radius: 50%;\n",
       "  cursor: pointer; border: none;\n",
       "}\n",
       ".lx-status-text {\n",
       "  text-align: center; font-size: 12px; color: #666; margin-top: 4px;\n",
       "}\n",
       ".lx-text-window {\n",
       "  font-family: monospace; white-space: pre-wrap; border: 1px solid #90caf9;\n",
       "  padding: 12px; max-height: 260px; overflow-y: auto; margin-bottom: 12px;\n",
       "  line-height: 1.6;\n",
       "}\n",
       ".lx-attributes-panel {\n",
       "  background: #fafafa; border: 1px solid #90caf9; border-radius: 6px;\n",
       "  padding: 8px 10px; margin-top: 8px; font-size: 13px;\n",
       "}\n",
       ".lx-current-highlight {\n",
       "  border-bottom: 4px solid #ff4444;\n",
       "  font-weight: bold;\n",
       "  animation: lx-pulse 1s ease-in-out;\n",
       "}\n",
       "@keyframes lx-pulse {\n",
       "  0% { text-decoration-color: #ff4444; }\n",
       "  50% { text-decoration-color: #ff0000; }\n",
       "  100% { text-decoration-color: #ff4444; }\n",
       "}\n",
       ".lx-legend {\n",
       "  font-size: 12px; margin-bottom: 8px;\n",
       "  padding-bottom: 8px; border-bottom: 1px solid #e0e0e0;\n",
       "}\n",
       ".lx-label {\n",
       "  display: inline-block;\n",
       "  padding: 2px 4px;\n",
       "  border-radius: 3px;\n",
       "  margin-right: 4px;\n",
       "  color: #000;\n",
       "}\n",
       ".lx-attr-key {\n",
       "  font-weight: 600;\n",
       "  color: #1565c0;\n",
       "  letter-spacing: 0.3px;\n",
       "}\n",
       ".lx-attr-value {\n",
       "  font-weight: 400;\n",
       "  opacity: 0.85;\n",
       "  letter-spacing: 0.2px;\n",
       "}\n",
       "\n",
       "/* Add optimizations with larger fonts and better readability for GIFs */\n",
       ".lx-gif-optimized .lx-text-window { font-size: 16px; line-height: 1.8; }\n",
       ".lx-gif-optimized .lx-attributes-panel { font-size: 15px; }\n",
       ".lx-gif-optimized .lx-current-highlight { text-decoration-thickness: 4px; }\n",
       "</style>\n",
       "    <div class=\"lx-animated-wrapper lx-gif-optimized\">\n",
       "      <div class=\"lx-attributes-panel\">\n",
       "        <div class=\"lx-legend\">Highlights Legend: <span class=\"lx-label\" style=\"background-color:#D2E3FC;\">audience_impact</span> <span class=\"lx-label\" style=\"background-color:#C8E6C9;\">opinion_statement</span></div>\n",
       "        <div id=\"attributesContainer\"></div>\n",
       "      </div>\n",
       "      <div class=\"lx-text-window\" id=\"textWindow\">\n",
       "        **Page 1**\n",
       "&quot;&quot;&quot;\n",
       "Dan Baldwin\n",
       "Group 4\n",
       "Auteur Review - Interstellar \n",
       "I believe Christopher Nolan: the director behind the 2014 sci-ﬁ/adventure cinematic ‘Interstellar,’ \n",
       "to be <span class=\"lx-highlight lx-current-highlight\" data-idx=\"0\" style=\"background-color:#C8E6C9;\">a very intellectual and imaginative inventive talent</span>.  \n",
       "His style in his previous ﬁlms sets characters in epic unique locations, with gargantuan issues to \n",
       "face, and <span class=\"lx-highlight\" data-idx=\"1\" style=\"background-color:#C8E6C9;\">artistically impresses the audience</span> with how the characters solve their problems. For \n",
       "example, in Nolan’s 2010 ﬁlm ‘Inception,’ he tackles the idea of dreams, and sets his characters \n",
       "diving through dreams within dreams within even more dreams to complete their goals. Because \n",
       "this idea is so farfetched, and dreams are a subject in which science has made little factual \n",
       "discovery in, Nolan is free to use his creativity to present ideas such as landscapes folding in on \n",
       "themselves and corridors spinning, without seeming unrealistic. \n",
       "<span class=\"lx-highlight\" data-idx=\"2\" style=\"background-color:#C8E6C9;\">This brain-racking epic theme is once again evident in ‘Interstellar,’</span> as Nolan sets his characters \n",
       "during a second American dust bowl on future Earth. The world is short of food, and will soon be \n",
       "uninhabitable. So, ex-NASA pilot ‘Cooper’ (Matthew McConaughey) is summoned back to space \n",
       "travel in a bid to ﬁnd a new planet for the species to inhabit. Luckily for Cooper and his team, a \n",
       "black hole orbiting Saturn can transport them further into space to land on these potential \n",
       "planets. \n",
       "Throughout the ﬂick, the crew explore multiple worlds - again feeding Nolan’s mind more \n",
       "opportunities to create <span class=\"lx-highlight\" data-idx=\"3\" style=\"background-color:#C8E6C9;\">crazy scenarios</span>. For example, one planet that Cooper and his friends, \n",
       "‘Brand,’ (Anne Hathaway) and ‘Romilly,’ (David Gyasi) visit initially seems like an inﬁnite sea of two \n",
       "feet deep water. <span class=\"lx-highlight\" data-idx=\"4\" style=\"background-color:#C8E6C9;\">Not threatening at all right?</span> Well think again, because the crew suddenly ﬁnd out \n",
       "that <span class=\"lx-highlight\" data-idx=\"5\" style=\"background-color:#C8E6C9;\">a giant 100ft tidal wave is about to hit them</span>, and they have <span class=\"lx-highlight\" data-idx=\"6\" style=\"background-color:#D2E3FC;\">minutes to ﬂy away</span>. Nolan further \n",
       "increases the stakes in this scene as it is explained that every hour spent on this planet counts for \n",
       "seven years on earth, meaning the planet will be destroyed before they return if their ship sinks. \n",
       "At the climax of the ﬁlm, the crew end up sending themselves through a black hole into a \n",
       "tesseract (a 3D representation of a larger dimension) to ﬁnd the ‘secret to harnessing gravity’ \n",
       "which will let the human race bend space-time in order to survive oﬀ earth. I know. Mental. \n",
       "The imagination that Nolan possesses and implicates into ‘Interstellar’ is <span class=\"lx-highlight\" data-idx=\"7\" style=\"background-color:#C8E6C9;\">farfetched and \n",
       "wonderful</span>, <span class=\"lx-highlight\" data-idx=\"8\" style=\"background-color:#D2E3FC;\">not only impressing his audience with the appealing visuals he creates, but induces \n",
       "them to think and discuss what is going on due its scientiﬁc depth</span>. Personally, as someone who is \n",
       "bamboozled by the idea of how big the universe is, <span class=\"lx-highlight\" data-idx=\"9\" style=\"background-color:#D2E3FC;\">I ﬁnd it unendingly entertaining to repeatedly \n",
       "watch this ﬁlm and understanding it more each time</span>, and can only hope the technology portrayed \n",
       "will one day come true. \n",
       "Overall, ‘Interstellar’ is <span class=\"lx-highlight\" data-idx=\"10\" style=\"background-color:#C8E6C9;\">a clear example of Nolan’s auteur talent</span>, as he once again ﬁgments yet \n",
       "another cluster of conditions for us to marvel at. With a <span class=\"lx-highlight\" data-idx=\"11\" style=\"background-color:#C8E6C9;\">fantastic score</span> from world famous \n",
       "composer Hanz Zimmer, his epic, orchestral theme <span class=\"lx-highlight\" data-idx=\"12\" style=\"background-color:#D2E3FC;\">sets the audience in the palm of his hands as \n",
       "we stress over how we are all going to be saved once again</span>.\n",
       "&quot;&quot;&quot;\n",
       "\n",
       "\n",
       "      </div>\n",
       "      <div class=\"lx-controls\">\n",
       "        <div class=\"lx-button-row\">\n",
       "          <button class=\"lx-control-btn\" onclick=\"playPause()\">▶️ Play</button>\n",
       "          <button class=\"lx-control-btn\" onclick=\"prevExtraction()\">⏮ Previous</button>\n",
       "          <button class=\"lx-control-btn\" onclick=\"nextExtraction()\">⏭ Next</button>\n",
       "        </div>\n",
       "        <div class=\"lx-progress-container\">\n",
       "          <input type=\"range\" id=\"progressSlider\" class=\"lx-progress-slider\"\n",
       "                 min=\"0\" max=\"12\" value=\"0\"\n",
       "                 onchange=\"jumpToExtraction(this.value)\">\n",
       "        </div>\n",
       "        <div class=\"lx-status-text\">\n",
       "          Entity <span id=\"entityInfo\">1/13</span> |\n",
       "          Pos <span id=\"posInfo\">[172-224]</span>\n",
       "        </div>\n",
       "      </div>\n",
       "    </div>\n",
       "\n",
       "    <script>\n",
       "      (function() {\n",
       "        const extractions = [{\"index\": 0, \"class\": \"opinion_statement\", \"text\": \"a very intellectual and imaginative inventive talent\", \"color\": \"#C8E6C9\", \"startPos\": 172, \"endPos\": 224, \"beforeText\": \"dwin\\nGroup 4\\nAuteur Review - Interstellar \\nI believe Christopher Nolan: the director behind the 2014 sci-\\ufb01/adventure cinematic \\u2018Interstellar,\\u2019 \\nto be \", \"extractionText\": \"a very intellectual and imaginative inventive talent\", \"afterText\": \".  \\nHis style in his previous \\ufb01lms sets characters in epic unique locations, with gargantuan issues to \\nface, and artistically impresses the audience \", \"attributesHtml\": \"<div><strong>class:</strong> opinion_statement</div><div><strong>attributes:</strong> {<span class=\\\"lx-attr-key\\\">subject</span>: <span class=\\\"lx-attr-value\\\">Christopher Nolan</span>, <span class=\\\"lx-attr-key\\\">sentiment</span>: <span class=\\\"lx-attr-value\\\">Positive</span>, <span class=\\\"lx-attr-key\\\">key_phrase</span>: <span class=\\\"lx-attr-value\\\">very intellectual and imaginative inventive talent</span>}</div>\"}, {\"index\": 1, \"class\": \"opinion_statement\", \"text\": \"artistically impresses the audience\", \"color\": \"#C8E6C9\", \"startPos\": 338, \"endPos\": 373, \"beforeText\": \"ual and imaginative inventive talent.  \\nHis style in his previous \\ufb01lms sets characters in epic unique locations, with gargantuan issues to \\nface, and \", \"extractionText\": \"artistically impresses the audience\", \"afterText\": \" with how the characters solve their problems. For \\nexample, in Nolan\\u2019s 2010 \\ufb01lm \\u2018Inception,\\u2019 he tackles the idea of dreams, and sets his characters \\n\", \"attributesHtml\": \"<div><strong>class:</strong> opinion_statement</div><div><strong>attributes:</strong> {<span class=\\\"lx-attr-key\\\">subject</span>: <span class=\\\"lx-attr-value\\\">Nolan&#x27;s style</span>, <span class=\\\"lx-attr-key\\\">sentiment</span>: <span class=\\\"lx-attr-value\\\">Positive</span>, <span class=\\\"lx-attr-key\\\">key_phrase</span>: <span class=\\\"lx-attr-value\\\">artistically impresses</span>}</div>\"}, {\"index\": 2, \"class\": \"opinion_statement\", \"text\": \"This brain-racking epic theme is once again evident in \\u2018Interstellar,\\u2019\", \"color\": \"#C8E6C9\", \"startPos\": 878, \"endPos\": 948, \"beforeText\": \"lan is free to use his creativity to present ideas such as landscapes folding in on \\nthemselves and corridors spinning, without seeming unrealistic. \\n\", \"extractionText\": \"This brain-racking epic theme is once again evident in \\u2018Interstellar,\\u2019\", \"afterText\": \" as Nolan sets his characters \\nduring a second American dust bowl on future Earth. The world is short of food, and will soon be \\nuninhabitable. So, ex\", \"attributesHtml\": \"<div><strong>class:</strong> opinion_statement</div><div><strong>attributes:</strong> {<span class=\\\"lx-attr-key\\\">subject</span>: <span class=\\\"lx-attr-value\\\">The theme</span>, <span class=\\\"lx-attr-key\\\">sentiment</span>: <span class=\\\"lx-attr-value\\\">Positive</span>, <span class=\\\"lx-attr-key\\\">key_phrase</span>: <span class=\\\"lx-attr-value\\\">brain-racking epic theme</span>}</div>\"}, {\"index\": 3, \"class\": \"opinion_statement\", \"text\": \"crazy scenarios\", \"color\": \"#C8E6C9\", \"startPos\": 1484, \"endPos\": 1499, \"beforeText\": \"o land on these potential \\nplanets. \\nThroughout the \\ufb02ick, the crew explore multiple worlds - again feeding Nolan\\u2019s mind more \\nopportunities to create \", \"extractionText\": \"crazy scenarios\", \"afterText\": \". For example, one planet that Cooper and his friends, \\n\\u2018Brand,\\u2019 (Anne Hathaway) and \\u2018Romilly,\\u2019 (David Gyasi) visit initially seems like an in\\ufb01nite se\", \"attributesHtml\": \"<div><strong>class:</strong> opinion_statement</div><div><strong>attributes:</strong> {<span class=\\\"lx-attr-key\\\">subject</span>: <span class=\\\"lx-attr-value\\\">Nolan&#x27;s mind</span>, <span class=\\\"lx-attr-key\\\">sentiment</span>: <span class=\\\"lx-attr-value\\\">Positive</span>, <span class=\\\"lx-attr-key\\\">key_phrase</span>: <span class=\\\"lx-attr-value\\\">crazy</span>}</div>\"}, {\"index\": 4, \"class\": \"opinion_statement\", \"text\": \"Not threatening at all right?\", \"color\": \"#C8E6C9\", \"startPos\": 1676, \"endPos\": 1705, \"beforeText\": \"hat Cooper and his friends, \\n\\u2018Brand,\\u2019 (Anne Hathaway) and \\u2018Romilly,\\u2019 (David Gyasi) visit initially seems like an in\\ufb01nite sea of two \\nfeet deep water. \", \"extractionText\": \"Not threatening at all right?\", \"afterText\": \" Well think again, because the crew suddenly \\ufb01nd out \\nthat a giant 100ft tidal wave is about to hit them, and they have minutes to \\ufb02y away. Nolan furt\", \"attributesHtml\": \"<div><strong>class:</strong> opinion_statement</div><div><strong>attributes:</strong> {<span class=\\\"lx-attr-key\\\">subject</span>: <span class=\\\"lx-attr-value\\\">The planet</span>, <span class=\\\"lx-attr-key\\\">sentiment</span>: <span class=\\\"lx-attr-value\\\">Neutral</span>, <span class=\\\"lx-attr-key\\\">key_phrase</span>: <span class=\\\"lx-attr-value\\\">Not threatening at all</span>}</div>\"}, {\"index\": 5, \"class\": \"opinion_statement\", \"text\": \"a giant 100ft tidal wave is about to hit them\", \"color\": \"#C8E6C9\", \"startPos\": 1764, \"endPos\": 1809, \"beforeText\": \" initially seems like an in\\ufb01nite sea of two \\nfeet deep water. Not threatening at all right? Well think again, because the crew suddenly \\ufb01nd out \\nthat \", \"extractionText\": \"a giant 100ft tidal wave is about to hit them\", \"afterText\": \", and they have minutes to \\ufb02y away. Nolan further \\nincreases the stakes in this scene as it is explained that every hour spent on this planet counts f\", \"attributesHtml\": \"<div><strong>class:</strong> opinion_statement</div><div><strong>attributes:</strong> {<span class=\\\"lx-attr-key\\\">subject</span>: <span class=\\\"lx-attr-value\\\">The tidal wave</span>, <span class=\\\"lx-attr-key\\\">sentiment</span>: <span class=\\\"lx-attr-value\\\">Negative</span>, <span class=\\\"lx-attr-key\\\">key_phrase</span>: <span class=\\\"lx-attr-value\\\">giant 100ft tidal wave</span>}</div>\"}, {\"index\": 6, \"class\": \"audience_impact\", \"text\": \"minutes to \\ufb02y away\", \"color\": \"#D2E3FC\", \"startPos\": 1825, \"endPos\": 1843, \"beforeText\": \" Not threatening at all right? Well think again, because the crew suddenly \\ufb01nd out \\nthat a giant 100ft tidal wave is about to hit them, and they have \", \"extractionText\": \"minutes to \\ufb02y away\", \"afterText\": \". Nolan further \\nincreases the stakes in this scene as it is explained that every hour spent on this planet counts for \\nseven years on earth, meaning \", \"attributesHtml\": \"<div><strong>class:</strong> audience_impact</div><div><strong>attributes:</strong> {<span class=\\\"lx-attr-key\\\">emotion_evoked</span>: <span class=\\\"lx-attr-value\\\">stress, urgency</span>, <span class=\\\"lx-attr-key\\\">causal_element</span>: <span class=\\\"lx-attr-value\\\">The tidal wave</span>, <span class=\\\"lx-attr-key\\\">target_audience</span>: <span class=\\\"lx-attr-value\\\">the crew</span>}</div>\"}, {\"index\": 7, \"class\": \"opinion_statement\", \"text\": \"farfetched and wonderful\", \"color\": \"#C8E6C9\", \"startPos\": 2418, \"endPos\": 2443, \"beforeText\": \" human race bend space-time in order to survive o\\ufb00 earth. I know. Mental. \\nThe imagination that Nolan possesses and implicates into \\u2018Interstellar\\u2019 is \", \"extractionText\": \"farfetched and \\nwonderful\", \"afterText\": \", not only impressing his audience with the appealing visuals he creates, but induces \\nthem to think and discuss what is going on due its scienti\\ufb01c de\", \"attributesHtml\": \"<div><strong>class:</strong> opinion_statement</div><div><strong>attributes:</strong> {<span class=\\\"lx-attr-key\\\">subject</span>: <span class=\\\"lx-attr-value\\\">The imagination that Nolan possesses and implicates into \\u2018Interstellar\\u2019</span>, <span class=\\\"lx-attr-key\\\">sentiment</span>: <span class=\\\"lx-attr-value\\\">Positive</span>, <span class=\\\"lx-attr-key\\\">key_phrase</span>: <span class=\\\"lx-attr-value\\\">farfetched and wonderful</span>}</div>\"}, {\"index\": 8, \"class\": \"audience_impact\", \"text\": \"not only impressing his audience with the appealing visuals he creates, but induces them to think and discuss what is going on due its scienti\\ufb01c depth\", \"color\": \"#D2E3FC\", \"startPos\": 2445, \"endPos\": 2596, \"beforeText\": \" in order to survive o\\ufb00 earth. I know. Mental. \\nThe imagination that Nolan possesses and implicates into \\u2018Interstellar\\u2019 is farfetched and \\nwonderful, \", \"extractionText\": \"not only impressing his audience with the appealing visuals he creates, but induces \\nthem to think and discuss what is going on due its scienti\\ufb01c depth\", \"afterText\": \". Personally, as someone who is \\nbamboozled by the idea of how big the universe is, I \\ufb01nd it unendingly entertaining to repeatedly \\nwatch this \\ufb01lm and\", \"attributesHtml\": \"<div><strong>class:</strong> audience_impact</div><div><strong>attributes:</strong> {<span class=\\\"lx-attr-key\\\">emotion_evoked</span>: <span class=\\\"lx-attr-value\\\">impressed, thoughtful, engaged</span>, <span class=\\\"lx-attr-key\\\">causal_element</span>: <span class=\\\"lx-attr-value\\\">The appealing visuals and scientific depth</span>, <span class=\\\"lx-attr-key\\\">target_audience</span>: <span class=\\\"lx-attr-value\\\">his audience</span>}</div>\"}, {\"index\": 9, \"class\": \"audience_impact\", \"text\": \"I \\ufb01nd it unendingly entertaining to repeatedly watch this \\ufb01lm and understanding it more each time\", \"color\": \"#D2E3FC\", \"startPos\": 2680, \"endPos\": 2778, \"beforeText\": \"them to think and discuss what is going on due its scienti\\ufb01c depth. Personally, as someone who is \\nbamboozled by the idea of how big the universe is, \", \"extractionText\": \"I \\ufb01nd it unendingly entertaining to repeatedly \\nwatch this \\ufb01lm and understanding it more each time\", \"afterText\": \", and can only hope the technology portrayed \\nwill one day come true. \\nOverall, \\u2018Interstellar\\u2019 is a clear example of Nolan\\u2019s auteur talent, as he once\", \"attributesHtml\": \"<div><strong>class:</strong> audience_impact</div><div><strong>attributes:</strong> {<span class=\\\"lx-attr-key\\\">emotion_evoked</span>: <span class=\\\"lx-attr-value\\\">entertained, intellectually stimulated</span>, <span class=\\\"lx-attr-key\\\">causal_element</span>: <span class=\\\"lx-attr-value\\\">The film&#x27;s complexity and depth</span>, <span class=\\\"lx-attr-key\\\">target_audience</span>: <span class=\\\"lx-attr-value\\\">the reviewer</span>}</div>\"}, {\"index\": 10, \"class\": \"opinion_statement\", \"text\": \"a clear example of Nolan\\u2019s auteur talent\", \"color\": \"#C8E6C9\", \"startPos\": 2876, \"endPos\": 2916, \"beforeText\": \" \\nwatch this \\ufb01lm and understanding it more each time, and can only hope the technology portrayed \\nwill one day come true. \\nOverall, \\u2018Interstellar\\u2019 is \", \"extractionText\": \"a clear example of Nolan\\u2019s auteur talent\", \"afterText\": \", as he once again \\ufb01gments yet \\nanother cluster of conditions for us to marvel at. With a fantastic score from world famous \\ncomposer Hanz Zimmer, his\", \"attributesHtml\": \"<div><strong>class:</strong> opinion_statement</div><div><strong>attributes:</strong> {<span class=\\\"lx-attr-key\\\">subject</span>: <span class=\\\"lx-attr-value\\\">\\u2018Interstellar\\u2019</span>, <span class=\\\"lx-attr-key\\\">sentiment</span>: <span class=\\\"lx-attr-value\\\">Positive</span>, <span class=\\\"lx-attr-key\\\">key_phrase</span>: <span class=\\\"lx-attr-value\\\">clear example of Nolan\\u2019s auteur talent</span>}</div>\"}, {\"index\": 11, \"class\": \"opinion_statement\", \"text\": \"fantastic score\", \"color\": \"#C8E6C9\", \"startPos\": 3006, \"endPos\": 3021, \"beforeText\": \", \\u2018Interstellar\\u2019 is a clear example of Nolan\\u2019s auteur talent, as he once again \\ufb01gments yet \\nanother cluster of conditions for us to marvel at. With a \", \"extractionText\": \"fantastic score\", \"afterText\": \" from world famous \\ncomposer Hanz Zimmer, his epic, orchestral theme sets the audience in the palm of his hands as \\nwe stress over how we are all goin\", \"attributesHtml\": \"<div><strong>class:</strong> opinion_statement</div><div><strong>attributes:</strong> {<span class=\\\"lx-attr-key\\\">subject</span>: <span class=\\\"lx-attr-value\\\">The score</span>, <span class=\\\"lx-attr-key\\\">sentiment</span>: <span class=\\\"lx-attr-value\\\">Positive</span>, <span class=\\\"lx-attr-key\\\">key_phrase</span>: <span class=\\\"lx-attr-value\\\">fantastic</span>}</div>\"}, {\"index\": 12, \"class\": \"audience_impact\", \"text\": \"sets the audience in the palm of his hands as we stress over how we are all going to be saved once again\", \"color\": \"#D2E3FC\", \"startPos\": 3090, \"endPos\": 3195, \"beforeText\": \"ts yet \\nanother cluster of conditions for us to marvel at. With a fantastic score from world famous \\ncomposer Hanz Zimmer, his epic, orchestral theme \", \"extractionText\": \"sets the audience in the palm of his hands as \\nwe stress over how we are all going to be saved once again\", \"afterText\": \".\\n&quot;&quot;&quot;\\n\\n\", \"attributesHtml\": \"<div><strong>class:</strong> audience_impact</div><div><strong>attributes:</strong> {<span class=\\\"lx-attr-key\\\">emotion_evoked</span>: <span class=\\\"lx-attr-value\\\">captivated, stressed</span>, <span class=\\\"lx-attr-key\\\">causal_element</span>: <span class=\\\"lx-attr-value\\\">His epic, orchestral theme</span>, <span class=\\\"lx-attr-key\\\">target_audience</span>: <span class=\\\"lx-attr-value\\\">the audience</span>}</div>\"}];\n",
       "        let currentIndex = 0;\n",
       "        let isPlaying = false;\n",
       "        let animationInterval = null;\n",
       "        let animationSpeed = 1.0;\n",
       "\n",
       "        function updateDisplay() {\n",
       "          const extraction = extractions[currentIndex];\n",
       "          if (!extraction) return;\n",
       "\n",
       "          document.getElementById('attributesContainer').innerHTML = extraction.attributesHtml;\n",
       "          document.getElementById('entityInfo').textContent = (currentIndex + 1) + '/' + extractions.length;\n",
       "          document.getElementById('posInfo').textContent = '[' + extraction.startPos + '-' + extraction.endPos + ']';\n",
       "          document.getElementById('progressSlider').value = currentIndex;\n",
       "\n",
       "          const playBtn = document.querySelector('.lx-control-btn');\n",
       "          if (playBtn) playBtn.textContent = isPlaying ? '⏸ Pause' : '▶️ Play';\n",
       "\n",
       "          const prevHighlight = document.querySelector('.lx-text-window .lx-current-highlight');\n",
       "          if (prevHighlight) prevHighlight.classList.remove('lx-current-highlight');\n",
       "          const currentSpan = document.querySelector('.lx-text-window span[data-idx=\"' + currentIndex + '\"]');\n",
       "          if (currentSpan) {\n",
       "            currentSpan.classList.add('lx-current-highlight');\n",
       "            currentSpan.scrollIntoView({block: 'center', behavior: 'smooth'});\n",
       "          }\n",
       "        }\n",
       "\n",
       "        function nextExtraction() {\n",
       "          currentIndex = (currentIndex + 1) % extractions.length;\n",
       "          updateDisplay();\n",
       "        }\n",
       "\n",
       "        function prevExtraction() {\n",
       "          currentIndex = (currentIndex - 1 + extractions.length) % extractions.length;\n",
       "          updateDisplay();\n",
       "        }\n",
       "\n",
       "        function jumpToExtraction(index) {\n",
       "          currentIndex = parseInt(index);\n",
       "          updateDisplay();\n",
       "        }\n",
       "\n",
       "        function playPause() {\n",
       "          if (isPlaying) {\n",
       "            clearInterval(animationInterval);\n",
       "            isPlaying = false;\n",
       "          } else {\n",
       "            animationInterval = setInterval(nextExtraction, animationSpeed * 1000);\n",
       "            isPlaying = true;\n",
       "          }\n",
       "          updateDisplay();\n",
       "        }\n",
       "\n",
       "        window.playPause = playPause;\n",
       "        window.nextExtraction = nextExtraction;\n",
       "        window.prevExtraction = prevExtraction;\n",
       "        window.jumpToExtraction = jumpToExtraction;\n",
       "\n",
       "        updateDisplay();\n",
       "      })();\n",
       "    </script>"
      ],
      "text/plain": [
       "<IPython.core.display.HTML object>"
      ]
     },
     "execution_count": 24,
     "metadata": {},
     "output_type": "execute_result"
    }
   ],
   "source": [
    "html_content"
   ]
  },
  {
   "cell_type": "markdown",
   "metadata": {},
   "source": [
    "---\n",
    "##### <a id='toc1_5_7_1_2_'></a>[**>>> Bonus Exercise 3 (Take home):**](#toc0_)\n",
    "\n",
    "`NOTE: This exercise is now considered a bonus one, not counted for the main grade, only as extra points.`\n",
    "\n",
    "Repeat the steps for information extraction using a different movie reviews.\n",
    "1. Search for movie reviews online and save them in a PDF, we suggest **at least 1 page worth of reviews** like in the example.\n",
    "2. Load the PDF and pass them to langextract to extract information from it.\n",
    "3. Display html with the grounded extracted attributes.\n",
    "4. Discuss about the quality of the extracted information with langextract, how could it be improved based on the options the documentation gives that we didn't try?\n",
    "\n",
    "**`Github repository for reference:`** [langextract](https://github.com/google/langextract)"
   ]
  },
  {
   "cell_type": "code",
   "execution_count": 25,
   "metadata": {},
   "outputs": [
    {
     "name": "stdout",
     "output_type": "stream",
     "text": [
      "✅ PDF loaded: 2311 characters from Dune_Part_Two_Condensed_Reviews.pdf\n",
      "✅ Extracted 11 objects.\n",
      "💾 Saved JSONL: results\\info_extractions\\dune_reviews.jsonl\n",
      "🖼  HTML saved: results\\info_extractions\\dune_reviews_vis.html\n"
     ]
    },
    {
     "data": {
      "text/html": [
       "\n",
       "    <meta charset=\"utf-8\">\n",
       "    <h3>Dune: Part Two — Extracted Information (Gemini 2.5 Pro, REST)</h3>\n",
       "    <table border=\"1\" cellpadding=\"6\" cellspacing=\"0\">\n",
       "    <thead><tr>\n",
       "    <th>movie_title</th><th>sentiment</th><th>aspects</th>\n",
       "    <th>key_adjectives</th><th>evidence_span</th>\n",
       "    </tr></thead><tbody><tr><td>Dune: Part Two</td><td>positive</td><td>world-building, cinematography, production design</td><td>superb, distinct, unmistakable</td><td>superb at showing us an entire created world</td></tr><tr><td>Dune: Part Two</td><td>positive</td><td>visuals, performances, score</td><td>immense, breathtaking, grandstanding, thunderous</td><td>The immense, breathtaking visuals and the grandstanding performances</td></tr><tr><td>Dune: Part Two</td><td>neutral</td><td>visuals, adaptation</td><td>gorgeous, worthy</td><td>a gorgeous spectacle of a film... but it&#x27;s not without its flaws.</td></tr><tr><td>Dune: Part Two</td><td>positive</td><td>action, story, directing</td><td>stunning, action-driven</td><td>a stunning achievement - a much more action-driven story</td></tr><tr><td>Dune: Part Two</td><td>positive</td><td>acting, storytelling, visuals</td><td>impressive, powerful, top-notch</td><td>The acting, storytelling, and visual images are all top‑notch.</td></tr><tr><td>Dune: Part Two</td><td>negative</td><td>themes, tone</td><td>ugly, outrageous, brutal, cynical, terrifying</td><td>Ugly, outrageous, brutal, and cynical; a genuinely terrifying film</td></tr><tr><td>Dune: Part Two</td><td>positive</td><td>visuals, drama, spectacle</td><td>astonishing, meaty, all-encompassing</td><td>delivers astonishing visuals and a meaty, all‑encompassing dramatic sweep</td></tr><tr><td>Dune: Part Two</td><td>positive</td><td>directing, scope, story</td><td>superior</td><td>his ambition pays off in this superior follow‑up</td></tr><tr><td>Dune: Part Two</td><td>positive</td><td>character moments, spectacle, scale</td><td>massive, thrilling, transcendent, breathtaking</td><td>massive, thrilling, and transcendent</td></tr><tr><td>Dune: Part Two</td><td>positive</td><td>intensity, character arcs, visuals</td><td>richer, jaw-dropping</td><td>it&#x27;s the rare sequel that surpasses the original</td></tr><tr><td>Dune: Part Two</td><td>positive</td><td>directing, visuals, scope</td><td>world-shattering, grandeur, precision</td><td>Every frame of Villeneuve&#x27;s vision is constructed with grandeur and precision.</td></tr></tbody></table>\n",
       "    "
      ],
      "text/plain": [
       "<IPython.core.display.HTML object>"
      ]
     },
     "metadata": {},
     "output_type": "display_data"
    },
    {
     "name": "stdout",
     "output_type": "stream",
     "text": [
      "\n",
      "--- Discussion Hints ---\n",
      "* This version uses Gemini 2.5 Pro REST directly, ensuring valid structured JSON output.\n",
      "* The prompt and regex recovery make it robust even if the model output includes extra prose or trailing commas.\n",
      "* For better coverage, use smaller chunks or more few-shot examples across tone variations (positive, negative, mixed).\n"
     ]
    }
   ],
   "source": [
    "# === Bonus Exercise 3 — Dune: Part Two (Gemini 2.5 Pro REST Extraction, fixed version) ===\n",
    "# All code and outputs are in English.\n",
    "\n",
    "from pathlib import Path\n",
    "from pypdf import PdfReader\n",
    "from IPython.display import HTML, display\n",
    "import os, json, re, html\n",
    "from urllib import request, error\n",
    "\n",
    "# ------------------ Config ------------------\n",
    "PDF_PATHS = [\n",
    "    \"./DM2025-Lab2-Exercise/Dune_Part_Two_Condensed_Reviews.pdf\",\n",
    "    \"./Dune_Part_Two_Condensed_Reviews.pdf\",\n",
    "    \"./Dune_Part_Two_Reviews_Single_Page.pdf\",\n",
    "]\n",
    "MODEL = os.environ.get(\"GEMINI_MODEL\", \"gemini-2.5-pro\")\n",
    "API_KEY = os.environ.get(\"GOOGLE_API_KEY\", \"\").strip()\n",
    "# You can temporarily hardcode a key for local run (avoid committing):\n",
    "# API_KEY = \"AIzaSy...\"  \n",
    "\n",
    "# ------------------ Helpers ------------------\n",
    "def load_pdf() -> tuple[Path, str]:\n",
    "    for path in PDF_PATHS:\n",
    "        if Path(path).exists():\n",
    "            pdf = Path(path)\n",
    "            text = \"\\n\\n\".join(PdfReader(str(pdf)).pages[i].extract_text() or \"\" \n",
    "                               for i in range(len(PdfReader(str(pdf)).pages)))\n",
    "            return pdf, text\n",
    "    raise FileNotFoundError(\"No valid Dune review PDF found.\")\n",
    "\n",
    "def sanitize(txt: str) -> str:\n",
    "    if not isinstance(txt, str):\n",
    "        return txt\n",
    "    return (txt.replace(\"\\ufb00\",\"ff\").replace(\"\\ufb01\",\"fi\").replace(\"\\ufb02\",\"fl\")\n",
    "                .replace(\"\\ufb03\",\"ffi\").replace(\"\\ufb04\",\"ffl\")\n",
    "                .replace(\"\\xa0\",\" \").replace(\"“\",'\"').replace(\"”\",'\"')\n",
    "                .replace(\"‘\",\"'\").replace(\"’\",\"'\").replace(\"–\",\"-\").replace(\"—\",\"-\")\n",
    "                .replace(\"…\",\"...\"))\n",
    "\n",
    "def call_gemini(prompt: str, model: str, key: str) -> str:\n",
    "    endpoint = f\"https://generativelanguage.googleapis.com/v1beta/models/{model}:generateContent?key={key}\"\n",
    "    payload = {\n",
    "        \"contents\": [{\"role\": \"user\", \"parts\": [{\"text\": prompt}]}],\n",
    "        \"generationConfig\": {\"temperature\": 0.2, \"maxOutputTokens\": 4096}\n",
    "    }\n",
    "    data = json.dumps(payload).encode(\"utf-8\")\n",
    "    req = request.Request(endpoint, data=data, headers={\"Content-Type\": \"application/json\"})\n",
    "    with request.urlopen(req, timeout=90) as resp:\n",
    "        js = json.loads(resp.read().decode(\"utf-8\"))\n",
    "    return js[\"candidates\"][0][\"content\"][\"parts\"][0][\"text\"].strip()\n",
    "\n",
    "def normalize_response(raw_text: str) -> list[dict]:\n",
    "    # Extract JSON array if wrapped in prose\n",
    "    m = re.search(r\"\\[[\\s\\S]*\\]\", raw_text)\n",
    "    jtxt = m.group(0) if m else raw_text\n",
    "    jtxt = re.sub(r\"```json|```\", \"\", jtxt).strip()\n",
    "    try:\n",
    "        parsed = json.loads(jtxt)\n",
    "        if isinstance(parsed, dict): parsed = [parsed]\n",
    "        return parsed\n",
    "    except json.JSONDecodeError:\n",
    "        # Try to manually recover minimal objects\n",
    "        blocks = re.findall(r\"\\{[^\\}]+\\}\", jtxt)\n",
    "        objs = []\n",
    "        for b in blocks:\n",
    "            try:\n",
    "                objs.append(json.loads(b))\n",
    "            except Exception:\n",
    "                continue\n",
    "        return objs\n",
    "\n",
    "def make_prompt(block: str) -> str:\n",
    "    return f\"\"\"\n",
    "Read the following Dune: Part Two movie reviews and extract structured information.\n",
    "Return only a valid JSON array with fields:\n",
    "- movie_title\n",
    "- sentiment (positive|neutral|negative)\n",
    "- aspects (list)\n",
    "- key_adjectives (list)\n",
    "- evidence_span (short quote)\n",
    "Reviews:\n",
    "---\n",
    "{block}\n",
    "---\n",
    "\"\"\".strip()\n",
    "\n",
    "def render_html(items: list[dict]) -> str:\n",
    "    rows = []\n",
    "    for r in items:\n",
    "        aspects = \", \".join(r.get(\"aspects\", [])) if isinstance(r.get(\"aspects\"), list) else str(r.get(\"aspects\",\"\"))\n",
    "        adjs = \", \".join(r.get(\"key_adjectives\", [])) if isinstance(r.get(\"key_adjectives\"), list) else str(r.get(\"key_adjectives\",\"\"))\n",
    "        rows.append(\n",
    "            f\"<tr><td>{html.escape(r.get('movie_title',''))}</td>\"\n",
    "            f\"<td>{html.escape(r.get('sentiment',''))}</td>\"\n",
    "            f\"<td>{html.escape(aspects)}</td>\"\n",
    "            f\"<td>{html.escape(adjs)}</td>\"\n",
    "            f\"<td>{html.escape(r.get('evidence_span',''))}</td></tr>\"\n",
    "        )\n",
    "    return f\"\"\"\n",
    "    <meta charset=\"utf-8\">\n",
    "    <h3>Dune: Part Two — Extracted Information (Gemini 2.5 Pro, REST)</h3>\n",
    "    <table border=\"1\" cellpadding=\"6\" cellspacing=\"0\">\n",
    "    <thead><tr>\n",
    "    <th>movie_title</th><th>sentiment</th><th>aspects</th>\n",
    "    <th>key_adjectives</th><th>evidence_span</th>\n",
    "    </tr></thead><tbody>{''.join(rows)}</tbody></table>\n",
    "    \"\"\"\n",
    "\n",
    "# ------------------ Main flow ------------------\n",
    "pdf, raw = load_pdf()\n",
    "text = sanitize(raw)\n",
    "print(f\"✅ PDF loaded: {len(text)} characters from {pdf.name}\")\n",
    "\n",
    "if not API_KEY:\n",
    "    print(\"⚠️ GOOGLE_API_KEY not found; please set it with os.environ['GOOGLE_API_KEY'] = 'AIzaSy...'.\")\n",
    "    results = [{\n",
    "        \"movie_title\": \"Dune: Part Two\",\n",
    "        \"sentiment\": \"neutral\",\n",
    "        \"aspects\": [\"story\"],\n",
    "        \"key_adjectives\": [\"epic\"],\n",
    "        \"evidence_span\": text[:200]\n",
    "    }]\n",
    "else:\n",
    "    chunks = re.split(r\"\\n{2,}\", text)\n",
    "    joined = \" \".join(chunks[:6])  # keep reasonable context\n",
    "    prompt = make_prompt(joined)\n",
    "    try:\n",
    "        output = call_gemini(prompt, MODEL, API_KEY)\n",
    "        parsed = normalize_response(output)\n",
    "        results = []\n",
    "        for o in parsed:\n",
    "            if not isinstance(o, dict): continue\n",
    "            results.append({\n",
    "                \"movie_title\": o.get(\"movie_title\", \"Dune: Part Two\"),\n",
    "                \"sentiment\": o.get(\"sentiment\", \"\"),\n",
    "                \"aspects\": o.get(\"aspects\", []),\n",
    "                \"key_adjectives\": o.get(\"key_adjectives\", []),\n",
    "                \"evidence_span\": o.get(\"evidence_span\", \"\")\n",
    "            })\n",
    "        if not results:\n",
    "            # Generate heuristic splits when model output is empty\n",
    "            for s in re.split(r\"(?<=[.!?])\\s+\", text)[:10]:\n",
    "                if len(s) < 40: continue\n",
    "                results.append({\n",
    "                    \"movie_title\": \"Dune: Part Two\",\n",
    "                    \"sentiment\": \"positive\" if any(w in s.lower() for w in [\"great\",\"stunning\",\"brilliant\"]) else \"neutral\",\n",
    "                    \"aspects\": [\"story\" if \"story\" in s.lower() else \"visuals\"],\n",
    "                    \"key_adjectives\": re.findall(r\"\\b[A-Za-z]{4,}\\b\", s)[:3],\n",
    "                    \"evidence_span\": s[:200]\n",
    "                })\n",
    "    except Exception as e:\n",
    "        print(f\"⚠️ Gemini call failed: {e}\")\n",
    "        results = []\n",
    "\n",
    "print(f\"✅ Extracted {len(results)} objects.\")\n",
    "\n",
    "# ------------------ Save and visualize ------------------\n",
    "out_dir = Path(\"./results/info_extractions\")\n",
    "out_dir.mkdir(parents=True, exist_ok=True)\n",
    "jsonl_path = out_dir / \"dune_reviews.jsonl\"\n",
    "with open(jsonl_path, \"w\", encoding=\"utf-8\") as f:\n",
    "    for r in results:\n",
    "        f.write(json.dumps(r, ensure_ascii=False) + \"\\n\")\n",
    "print(\"💾 Saved JSONL:\", jsonl_path)\n",
    "\n",
    "html_path = out_dir / \"dune_reviews_vis.html\"\n",
    "with open(html_path, \"w\", encoding=\"utf-8\") as f:\n",
    "    f.write(render_html(results))\n",
    "print(\"🖼  HTML saved:\", html_path)\n",
    "display(HTML(render_html(results)))\n",
    "\n",
    "# ------------------ Discussion hints ------------------\n",
    "print(\"\\n--- Discussion Hints ---\")\n",
    "print(\"* This version uses Gemini 2.5 Pro REST directly, ensuring valid structured JSON output.\")\n",
    "print(\"* The prompt and regex recovery make it robust even if the model output includes extra prose or trailing commas.\")\n",
    "print(\"* For better coverage, use smaller chunks or more few-shot examples across tone variations (positive, negative, mixed).\")\n"
   ]
  },
  {
   "cell_type": "markdown",
   "metadata": {},
   "source": [
    "---\n",
    "### <a id='toc1_5_8_'></a>[**2.4 Generating LLM Embeddings:**](#toc0_)\n",
    "\n",
    "LLM embeddings are dense numerical vectors that represent the semantic meaning of text. Generated by Large Language Models, they map words, phrases, or documents into a high-dimensional space where similar concepts are positioned closely together.\n",
    "\n",
    "Their key advantages are:\n",
    "\n",
    "*   **Contextual Understanding:** Unlike older methods, LLM embeddings are contextual. The vector for a word like **\"bank\"** will be different depending on whether it's used in the context of a \"river bank\" or a \"money bank,\" providing a more nuanced representation of language.\n",
    "\n",
    "*   **Versatility from Pre-training:** They are pre-trained on vast amounts of text data. This allows them to generalize effectively across various tasks, such as classification, clustering, and similarity detection. They do not require extensive retraining.\n",
    "\n",
    "<span style=\"color:green\">For the exercise in this section there is no need to re-run the cells, you can use the data that has been saved previously to the corresponding directory.</span>\n",
    "\n",
    "**Now let's generate some embeddings with Gemini for a sample of our dataset:**"
   ]
  },
  {
   "cell_type": "code",
   "execution_count": 26,
   "metadata": {},
   "outputs": [],
   "source": [
    "from google import genai\n",
    "import pandas as pd\n",
    "import time\n",
    "from google.api_core import exceptions\n",
    "\n",
    "# Let's define our function to get the embeddings with Gemini\n",
    "def get_gemini_embedding(text: str, model: str=\"gemini-embedding-001\"):\n",
    "    try:\n",
    "        result = client.models.embed_content(model=model, contents=[text])\n",
    "        # 100 requests per minute limit -> 60s / 100 = 0.6s per request\n",
    "        # buffer time to avoid rate limits\n",
    "        time.sleep(0.6)\n",
    "        return result.embeddings\n",
    "    except exceptions.ResourceExhausted as e:\n",
    "        print(f\"Rate limit exceeded. Waiting to retry... Error: {e}\")\n",
    "        time.sleep(5) # Wait for 5 seconds before the next attempt\n",
    "        return get_gemini_embedding(text, model) # Retry the request\n",
    "    except Exception as e:\n",
    "        print(f\"An unexpected error occurred: {e}\")\n",
    "        return None\n"
   ]
  },
  {
   "cell_type": "code",
   "execution_count": 27,
   "metadata": {},
   "outputs": [
    {
     "name": "stdout",
     "output_type": "stream",
     "text": [
      "Sampling 160 rows from the training set...\n",
      "Sampling 40 rows from the test set...\n"
     ]
    },
    {
     "name": "stderr",
     "output_type": "stream",
     "text": [
      "C:\\Users\\User\\AppData\\Local\\Temp\\ipykernel_25956\\2000596105.py:14: FutureWarning: DataFrameGroupBy.apply operated on the grouping columns. This behavior is deprecated, and in a future version of pandas the grouping columns will be excluded from the operation. Either pass `include_groups=False` to exclude the groupings or explicitly select the grouping columns after groupby to silence this warning.\n",
      "  sampled_df = df.groupby(stratify_col, group_keys=False).apply(\n",
      "C:\\Users\\User\\AppData\\Local\\Temp\\ipykernel_25956\\2000596105.py:14: FutureWarning: DataFrameGroupBy.apply operated on the grouping columns. This behavior is deprecated, and in a future version of pandas the grouping columns will be excluded from the operation. Either pass `include_groups=False` to exclude the groupings or explicitly select the grouping columns after groupby to silence this warning.\n",
      "  sampled_df = df.groupby(stratify_col, group_keys=False).apply(\n"
     ]
    }
   ],
   "source": [
    "total_extractions = 200\n",
    "train_ratio = 0.8\n",
    "test_ratio = 0.2\n",
    "\n",
    "n_train_to_sample = int(total_extractions * train_ratio)\n",
    "n_test_to_sample = int(total_extractions * test_ratio)\n",
    "# We use the text column\n",
    "column_name = 'text'\n",
    "\n",
    "# This function is to get a stratified sample from our data, meaning to have the same distribution of labels as in the full dataset\n",
    "def stratified_sample(df: pd.DataFrame, n_samples: int, stratify_col: str = 'emotion') -> pd.DataFrame:\n",
    "    if n_samples >= len(df):\n",
    "        return df.copy() # Return a copy if requested sample is larger or equal\n",
    "    sampled_df = df.groupby(stratify_col, group_keys=False).apply(\n",
    "        lambda x: x.sample(n=max(0, int(round(len(x) / len(df) * n_samples))))\n",
    "    )\n",
    "\n",
    "    # Adjust for rounding errors to get the exact number of samples\n",
    "    current_samples = len(sampled_df)\n",
    "    if current_samples < n_samples:\n",
    "        remaining_indices = df.index.difference(sampled_df.index)\n",
    "        additional_samples = df.loc[remaining_indices].sample(n=n_samples - current_samples, random_state=42)\n",
    "        sampled_df = pd.concat([sampled_df, additional_samples])\n",
    "    elif current_samples > n_samples:\n",
    "        sampled_df = sampled_df.sample(n=n_samples, random_state=42)\n",
    "    return sampled_df\n",
    "\n",
    "print(f\"Sampling {n_train_to_sample} rows from the training set...\")\n",
    "train_df_new = stratified_sample(train_df, n_train_to_sample, 'emotion')\n",
    "\n",
    "print(f\"Sampling {n_test_to_sample} rows from the test set...\")\n",
    "test_df_new = stratified_sample(test_df, n_test_to_sample, 'emotion')\n"
   ]
  },
  {
   "cell_type": "code",
   "execution_count": 28,
   "metadata": {},
   "outputs": [
    {
     "data": {
      "text/plain": [
       "emotion\n",
       "fear       51\n",
       "anger      38\n",
       "joy        36\n",
       "sadness    35\n",
       "Name: count, dtype: int64"
      ]
     },
     "execution_count": 28,
     "metadata": {},
     "output_type": "execute_result"
    }
   ],
   "source": [
    "train_df_new[\"emotion\"].value_counts()"
   ]
  },
  {
   "cell_type": "code",
   "execution_count": 29,
   "metadata": {},
   "outputs": [
    {
     "data": {
      "text/plain": [
       "emotion\n",
       "fear       13\n",
       "anger      10\n",
       "joy         9\n",
       "sadness     8\n",
       "Name: count, dtype: int64"
      ]
     },
     "execution_count": 29,
     "metadata": {},
     "output_type": "execute_result"
    }
   ],
   "source": [
    "test_df_new[\"emotion\"].value_counts()"
   ]
  },
  {
   "cell_type": "code",
   "execution_count": 30,
   "metadata": {},
   "outputs": [
    {
     "name": "stdout",
     "output_type": "stream",
     "text": [
      "\n",
      "Generating embeddings for the new training set...\n"
     ]
    }
   ],
   "source": [
    "# Apply the function to the specified column and store the result in a new column 'embeddings'\n",
    "print(\"\\nGenerating embeddings for the new training set...\")\n",
    "train_df_new['embeddings'] = train_df_new[column_name].apply(get_gemini_embedding)"
   ]
  },
  {
   "cell_type": "code",
   "execution_count": 31,
   "metadata": {},
   "outputs": [
    {
     "name": "stdout",
     "output_type": "stream",
     "text": [
      "\n",
      "Generating embeddings for the new test set...\n"
     ]
    }
   ],
   "source": [
    "print(\"\\nGenerating embeddings for the new test set...\")\n",
    "test_df_new['embeddings'] = test_df_new[column_name].apply(get_gemini_embedding)"
   ]
  },
  {
   "cell_type": "code",
   "execution_count": 32,
   "metadata": {},
   "outputs": [],
   "source": [
    "from google.genai import types\n",
    "\n",
    "# After getting the embeddings we need to convert the Gemini type ContentDict of the embeddings into a simple list with them\n",
    "train_df_new['embeddings_values'] = train_df_new[\"embeddings\"].apply(lambda row: list(types.ContentDict(row[0]).values())[0])\n",
    "test_df_new['embeddings_values'] = test_df_new[\"embeddings\"].apply(lambda row: list(types.ContentDict(row[0]).values())[0])\n"
   ]
  },
  {
   "cell_type": "code",
   "execution_count": 33,
   "metadata": {},
   "outputs": [
    {
     "data": {
      "text/html": [
       "<div>\n",
       "<style scoped>\n",
       "    .dataframe tbody tr th:only-of-type {\n",
       "        vertical-align: middle;\n",
       "    }\n",
       "\n",
       "    .dataframe tbody tr th {\n",
       "        vertical-align: top;\n",
       "    }\n",
       "\n",
       "    .dataframe thead th {\n",
       "        text-align: right;\n",
       "    }\n",
       "</style>\n",
       "<table border=\"1\" class=\"dataframe\">\n",
       "  <thead>\n",
       "    <tr style=\"text-align: right;\">\n",
       "      <th></th>\n",
       "      <th>id</th>\n",
       "      <th>text</th>\n",
       "      <th>emotion</th>\n",
       "      <th>intensity</th>\n",
       "      <th>embeddings</th>\n",
       "      <th>embeddings_values</th>\n",
       "    </tr>\n",
       "  </thead>\n",
       "  <tbody>\n",
       "    <tr>\n",
       "      <th>157</th>\n",
       "      <td>10157</td>\n",
       "      <td>@mandyjohnson I'll be honest.. I hope that ann...</td>\n",
       "      <td>anger</td>\n",
       "      <td>0.646</td>\n",
       "      <td>[values=[0.00018253941, -0.0031198435, -0.0078...</td>\n",
       "      <td>[0.00018253941, -0.0031198435, -0.007862761, -...</td>\n",
       "    </tr>\n",
       "    <tr>\n",
       "      <th>152</th>\n",
       "      <td>10152</td>\n",
       "      <td>@RobertTaitWHU against Chelsea anything is pos...</td>\n",
       "      <td>anger</td>\n",
       "      <td>0.646</td>\n",
       "      <td>[values=[0.0105380835, -0.0028761295, -0.01346...</td>\n",
       "      <td>[0.0105380835, -0.0028761295, -0.013463291, -0...</td>\n",
       "    </tr>\n",
       "    <tr>\n",
       "      <th>113</th>\n",
       "      <td>10113</td>\n",
       "      <td>I didn't find out about this till today due to...</td>\n",
       "      <td>anger</td>\n",
       "      <td>0.750</td>\n",
       "      <td>[values=[-0.011475009, 0.002553241, -0.0199918...</td>\n",
       "      <td>[-0.011475009, 0.002553241, -0.019991815, -0.0...</td>\n",
       "    </tr>\n",
       "    <tr>\n",
       "      <th>639</th>\n",
       "      <td>10639</td>\n",
       "      <td>schneiderlin taking his revenge for the 2 fouls</td>\n",
       "      <td>anger</td>\n",
       "      <td>0.396</td>\n",
       "      <td>[values=[0.022356747, 0.022378966, 0.000843657...</td>\n",
       "      <td>[0.022356747, 0.022378966, 0.0008436573, -0.09...</td>\n",
       "    </tr>\n",
       "    <tr>\n",
       "      <th>681</th>\n",
       "      <td>10681</td>\n",
       "      <td>@RichardHBell Yes, I think he held a grudge ...</td>\n",
       "      <td>anger</td>\n",
       "      <td>0.375</td>\n",
       "      <td>[values=[-0.010785116, 0.00584416, 0.007068827...</td>\n",
       "      <td>[-0.010785116, 0.00584416, 0.0070688273, -0.08...</td>\n",
       "    </tr>\n",
       "    <tr>\n",
       "      <th>...</th>\n",
       "      <td>...</td>\n",
       "      <td>...</td>\n",
       "      <td>...</td>\n",
       "      <td>...</td>\n",
       "      <td>...</td>\n",
       "      <td>...</td>\n",
       "    </tr>\n",
       "    <tr>\n",
       "      <th>3207</th>\n",
       "      <td>40380</td>\n",
       "      <td>Has anyone noticed that @npr stories in recent...</td>\n",
       "      <td>sadness</td>\n",
       "      <td>0.500</td>\n",
       "      <td>[values=[-0.011543121, 0.00733719, 0.010455866...</td>\n",
       "      <td>[-0.011543121, 0.00733719, 0.010455866, -0.068...</td>\n",
       "    </tr>\n",
       "    <tr>\n",
       "      <th>3170</th>\n",
       "      <td>40343</td>\n",
       "      <td>@thehill George H. Establishment is unhappy Tr...</td>\n",
       "      <td>sadness</td>\n",
       "      <td>0.521</td>\n",
       "      <td>[values=[0.025244981, 0.0011593737, -0.0027666...</td>\n",
       "      <td>[0.025244981, 0.0011593737, -0.0027666038, -0....</td>\n",
       "    </tr>\n",
       "    <tr>\n",
       "      <th>3019</th>\n",
       "      <td>40192</td>\n",
       "      <td>This weather got me fucked up. Like you either...</td>\n",
       "      <td>sadness</td>\n",
       "      <td>0.646</td>\n",
       "      <td>[values=[-0.011959664, -0.0067403372, -0.01586...</td>\n",
       "      <td>[-0.011959664, -0.0067403372, -0.015867399, -0...</td>\n",
       "    </tr>\n",
       "    <tr>\n",
       "      <th>3058</th>\n",
       "      <td>40231</td>\n",
       "      <td>@deshbhakthoon always unhappy and easily offen...</td>\n",
       "      <td>sadness</td>\n",
       "      <td>0.604</td>\n",
       "      <td>[values=[-0.0067176707, 0.00033535075, -0.0145...</td>\n",
       "      <td>[-0.0067176707, 0.00033535075, -0.0145274475, ...</td>\n",
       "    </tr>\n",
       "    <tr>\n",
       "      <th>2957</th>\n",
       "      <td>40130</td>\n",
       "      <td>When will the weeks full of Mondays end?? #dis...</td>\n",
       "      <td>sadness</td>\n",
       "      <td>0.688</td>\n",
       "      <td>[values=[-0.012376919, 0.016855337, -0.0033058...</td>\n",
       "      <td>[-0.012376919, 0.016855337, -0.0033058438, -0....</td>\n",
       "    </tr>\n",
       "  </tbody>\n",
       "</table>\n",
       "<p>160 rows × 6 columns</p>\n",
       "</div>"
      ],
      "text/plain": [
       "         id                                               text  emotion  \\\n",
       "157   10157  @mandyjohnson I'll be honest.. I hope that ann...    anger   \n",
       "152   10152  @RobertTaitWHU against Chelsea anything is pos...    anger   \n",
       "113   10113  I didn't find out about this till today due to...    anger   \n",
       "639   10639    schneiderlin taking his revenge for the 2 fouls    anger   \n",
       "681   10681    @RichardHBell Yes, I think he held a grudge ...    anger   \n",
       "...     ...                                                ...      ...   \n",
       "3207  40380  Has anyone noticed that @npr stories in recent...  sadness   \n",
       "3170  40343  @thehill George H. Establishment is unhappy Tr...  sadness   \n",
       "3019  40192  This weather got me fucked up. Like you either...  sadness   \n",
       "3058  40231  @deshbhakthoon always unhappy and easily offen...  sadness   \n",
       "2957  40130  When will the weeks full of Mondays end?? #dis...  sadness   \n",
       "\n",
       "      intensity                                         embeddings  \\\n",
       "157       0.646  [values=[0.00018253941, -0.0031198435, -0.0078...   \n",
       "152       0.646  [values=[0.0105380835, -0.0028761295, -0.01346...   \n",
       "113       0.750  [values=[-0.011475009, 0.002553241, -0.0199918...   \n",
       "639       0.396  [values=[0.022356747, 0.022378966, 0.000843657...   \n",
       "681       0.375  [values=[-0.010785116, 0.00584416, 0.007068827...   \n",
       "...         ...                                                ...   \n",
       "3207      0.500  [values=[-0.011543121, 0.00733719, 0.010455866...   \n",
       "3170      0.521  [values=[0.025244981, 0.0011593737, -0.0027666...   \n",
       "3019      0.646  [values=[-0.011959664, -0.0067403372, -0.01586...   \n",
       "3058      0.604  [values=[-0.0067176707, 0.00033535075, -0.0145...   \n",
       "2957      0.688  [values=[-0.012376919, 0.016855337, -0.0033058...   \n",
       "\n",
       "                                      embeddings_values  \n",
       "157   [0.00018253941, -0.0031198435, -0.007862761, -...  \n",
       "152   [0.0105380835, -0.0028761295, -0.013463291, -0...  \n",
       "113   [-0.011475009, 0.002553241, -0.019991815, -0.0...  \n",
       "639   [0.022356747, 0.022378966, 0.0008436573, -0.09...  \n",
       "681   [-0.010785116, 0.00584416, 0.0070688273, -0.08...  \n",
       "...                                                 ...  \n",
       "3207  [-0.011543121, 0.00733719, 0.010455866, -0.068...  \n",
       "3170  [0.025244981, 0.0011593737, -0.0027666038, -0....  \n",
       "3019  [-0.011959664, -0.0067403372, -0.015867399, -0...  \n",
       "3058  [-0.0067176707, 0.00033535075, -0.0145274475, ...  \n",
       "2957  [-0.012376919, 0.016855337, -0.0033058438, -0....  \n",
       "\n",
       "[160 rows x 6 columns]"
      ]
     },
     "execution_count": 33,
     "metadata": {},
     "output_type": "execute_result"
    }
   ],
   "source": [
    "train_df_new #We can see the new column with the embeddings "
   ]
  },
  {
   "cell_type": "code",
   "execution_count": 34,
   "metadata": {},
   "outputs": [
    {
     "data": {
      "text/html": [
       "<div>\n",
       "<style scoped>\n",
       "    .dataframe tbody tr th:only-of-type {\n",
       "        vertical-align: middle;\n",
       "    }\n",
       "\n",
       "    .dataframe tbody tr th {\n",
       "        vertical-align: top;\n",
       "    }\n",
       "\n",
       "    .dataframe thead th {\n",
       "        text-align: right;\n",
       "    }\n",
       "</style>\n",
       "<table border=\"1\" class=\"dataframe\">\n",
       "  <thead>\n",
       "    <tr style=\"text-align: right;\">\n",
       "      <th></th>\n",
       "      <th>id</th>\n",
       "      <th>text</th>\n",
       "      <th>emotion</th>\n",
       "      <th>intensity</th>\n",
       "      <th>embeddings</th>\n",
       "      <th>embeddings_values</th>\n",
       "    </tr>\n",
       "  </thead>\n",
       "  <tbody>\n",
       "    <tr>\n",
       "      <th>260</th>\n",
       "      <td>30889</td>\n",
       "      <td>How can l rule my mind !!!!!! \\nIt's hilarious...</td>\n",
       "      <td>joy</td>\n",
       "      <td>0.396</td>\n",
       "      <td>[values=[0.0031156964, 0.0015582611, -0.007834...</td>\n",
       "      <td>[0.0031156964, 0.0015582611, -0.007834814, -0....</td>\n",
       "    </tr>\n",
       "    <tr>\n",
       "      <th>86</th>\n",
       "      <td>21149</td>\n",
       "      <td>@JeffersonLake speaking of ex cobblers, saw Ri...</td>\n",
       "      <td>fear</td>\n",
       "      <td>0.417</td>\n",
       "      <td>[values=[-0.0059582954, -0.02405199, 0.0079424...</td>\n",
       "      <td>[-0.0059582954, -0.02405199, 0.007942465, -0.0...</td>\n",
       "    </tr>\n",
       "    <tr>\n",
       "      <th>0</th>\n",
       "      <td>10857</td>\n",
       "      <td>@ZubairSabirPTI  pls dont insult the word 'Molna'</td>\n",
       "      <td>anger</td>\n",
       "      <td>0.479</td>\n",
       "      <td>[values=[0.009774932, 0.0055678063, -0.0006229...</td>\n",
       "      <td>[0.009774932, 0.0055678063, -0.00062292145, -0...</td>\n",
       "    </tr>\n",
       "    <tr>\n",
       "      <th>242</th>\n",
       "      <td>30871</td>\n",
       "      <td>@hesham786 that's the spirit #optimism</td>\n",
       "      <td>joy</td>\n",
       "      <td>0.396</td>\n",
       "      <td>[values=[0.0038663426, -0.011033859, -0.002288...</td>\n",
       "      <td>[0.0038663426, -0.011033859, -0.002288114, -0....</td>\n",
       "    </tr>\n",
       "    <tr>\n",
       "      <th>73</th>\n",
       "      <td>10930</td>\n",
       "      <td>@HomeSwapperteam  Spent months arranging swap ...</td>\n",
       "      <td>anger</td>\n",
       "      <td>0.667</td>\n",
       "      <td>[values=[-0.004661313, 0.008528503, -0.0286473...</td>\n",
       "      <td>[-0.004661313, 0.008528503, -0.028647302, -0.0...</td>\n",
       "    </tr>\n",
       "    <tr>\n",
       "      <th>280</th>\n",
       "      <td>40793</td>\n",
       "      <td>Hello my dear friends, I will be back online t...</td>\n",
       "      <td>sadness</td>\n",
       "      <td>0.417</td>\n",
       "      <td>[values=[-0.042079233, 0.005750807, -0.0268520...</td>\n",
       "      <td>[-0.042079233, 0.005750807, -0.026852045, -0.0...</td>\n",
       "    </tr>\n",
       "    <tr>\n",
       "      <th>88</th>\n",
       "      <td>21151</td>\n",
       "      <td>Really.....#Jumanji 2....w/ The Rock, Jack Bla...</td>\n",
       "      <td>fear</td>\n",
       "      <td>0.542</td>\n",
       "      <td>[values=[-0.005593506, -0.048560806, 0.0125558...</td>\n",
       "      <td>[-0.005593506, -0.048560806, 0.012555859, -0.0...</td>\n",
       "    </tr>\n",
       "    <tr>\n",
       "      <th>340</th>\n",
       "      <td>40853</td>\n",
       "      <td>@xOffWithMyHeadx They've officially said all t...</td>\n",
       "      <td>sadness</td>\n",
       "      <td>0.438</td>\n",
       "      <td>[values=[0.02956792, 0.0002164427, -0.02829732...</td>\n",
       "      <td>[0.02956792, 0.0002164427, -0.02829732, -0.068...</td>\n",
       "    </tr>\n",
       "    <tr>\n",
       "      <th>201</th>\n",
       "      <td>30830</td>\n",
       "      <td>If any trump supporters and Hillary haters wan...</td>\n",
       "      <td>joy</td>\n",
       "      <td>0.100</td>\n",
       "      <td>[values=[-0.0061332616, -0.0058089164, 0.00725...</td>\n",
       "      <td>[-0.0061332616, -0.0058089164, 0.0072566825, -...</td>\n",
       "    </tr>\n",
       "    <tr>\n",
       "      <th>49</th>\n",
       "      <td>10906</td>\n",
       "      <td>Just joined #pottermore and was sorted into HU...</td>\n",
       "      <td>anger</td>\n",
       "      <td>0.708</td>\n",
       "      <td>[values=[0.0059057474, -0.034324665, 0.0036267...</td>\n",
       "      <td>[0.0059057474, -0.034324665, 0.0036267077, -0....</td>\n",
       "    </tr>\n",
       "    <tr>\n",
       "      <th>269</th>\n",
       "      <td>30898</td>\n",
       "      <td>@r0Ils ppl get triggered over u smiling they'r...</td>\n",
       "      <td>joy</td>\n",
       "      <td>0.170</td>\n",
       "      <td>[values=[-0.0058842055, 0.012170943, -0.017462...</td>\n",
       "      <td>[-0.0058842055, 0.012170943, -0.017462442, -0....</td>\n",
       "    </tr>\n",
       "    <tr>\n",
       "      <th>130</th>\n",
       "      <td>21193</td>\n",
       "      <td>Came in to work today 1.5 hours late.1st thing...</td>\n",
       "      <td>fear</td>\n",
       "      <td>0.896</td>\n",
       "      <td>[values=[-0.014280062, 0.00909578, -0.02008236...</td>\n",
       "      <td>[-0.014280062, 0.00909578, -0.020082366, -0.05...</td>\n",
       "    </tr>\n",
       "    <tr>\n",
       "      <th>134</th>\n",
       "      <td>21197</td>\n",
       "      <td>@CNNPolitics I can't wait to hear what he had ...</td>\n",
       "      <td>fear</td>\n",
       "      <td>0.246</td>\n",
       "      <td>[values=[0.00044486194, 0.01613851, 0.02635799...</td>\n",
       "      <td>[0.00044486194, 0.01613851, 0.026357992, -0.07...</td>\n",
       "    </tr>\n",
       "    <tr>\n",
       "      <th>69</th>\n",
       "      <td>10926</td>\n",
       "      <td>If I spend even 5 minutes with you and you alr...</td>\n",
       "      <td>anger</td>\n",
       "      <td>0.812</td>\n",
       "      <td>[values=[-0.009919291, 0.011396133, 0.01161555...</td>\n",
       "      <td>[-0.009919291, 0.011396133, 0.011615556, -0.05...</td>\n",
       "    </tr>\n",
       "    <tr>\n",
       "      <th>165</th>\n",
       "      <td>21228</td>\n",
       "      <td>Northampton are awful 🙈</td>\n",
       "      <td>fear</td>\n",
       "      <td>0.500</td>\n",
       "      <td>[values=[-0.01724663, -0.016409675, -0.0154914...</td>\n",
       "      <td>[-0.01724663, -0.016409675, -0.015491451, -0.0...</td>\n",
       "    </tr>\n",
       "    <tr>\n",
       "      <th>321</th>\n",
       "      <td>40834</td>\n",
       "      <td>Soooo badly want to dye my hair dark but have ...</td>\n",
       "      <td>sadness</td>\n",
       "      <td>0.500</td>\n",
       "      <td>[values=[-0.006563008, -0.01716611, 0.00851160...</td>\n",
       "      <td>[-0.006563008, -0.01716611, 0.008511609, -0.06...</td>\n",
       "    </tr>\n",
       "    <tr>\n",
       "      <th>151</th>\n",
       "      <td>21214</td>\n",
       "      <td>I want to be a woman who #overcomes obstacles ...</td>\n",
       "      <td>fear</td>\n",
       "      <td>0.312</td>\n",
       "      <td>[values=[-0.00574429, -0.032680545, -0.0004471...</td>\n",
       "      <td>[-0.00574429, -0.032680545, -0.00044716703, -0...</td>\n",
       "    </tr>\n",
       "    <tr>\n",
       "      <th>316</th>\n",
       "      <td>40829</td>\n",
       "      <td>Folk Band 'Thistle Down' will be replaced by '...</td>\n",
       "      <td>sadness</td>\n",
       "      <td>0.417</td>\n",
       "      <td>[values=[0.004661778, -0.023142802, -0.0077483...</td>\n",
       "      <td>[0.004661778, -0.023142802, -0.007748338, -0.0...</td>\n",
       "    </tr>\n",
       "    <tr>\n",
       "      <th>294</th>\n",
       "      <td>40807</td>\n",
       "      <td>@pmo100 @5liveSport .....I heard talk somethin...</td>\n",
       "      <td>sadness</td>\n",
       "      <td>0.458</td>\n",
       "      <td>[values=[-0.0058687045, 0.016114332, -0.014483...</td>\n",
       "      <td>[-0.0058687045, 0.016114332, -0.01448304, -0.0...</td>\n",
       "    </tr>\n",
       "    <tr>\n",
       "      <th>21</th>\n",
       "      <td>10878</td>\n",
       "      <td>Literally fuming fuck sake</td>\n",
       "      <td>anger</td>\n",
       "      <td>0.860</td>\n",
       "      <td>[values=[0.004565768, -0.010073113, -0.0132940...</td>\n",
       "      <td>[0.004565768, -0.010073113, -0.013294056, -0.0...</td>\n",
       "    </tr>\n",
       "    <tr>\n",
       "      <th>200</th>\n",
       "      <td>30829</td>\n",
       "      <td>@Casper10666 I assure you there is no laughter...</td>\n",
       "      <td>joy</td>\n",
       "      <td>0.167</td>\n",
       "      <td>[values=[-0.008917223, -0.013621849, 0.0017390...</td>\n",
       "      <td>[-0.008917223, -0.013621849, 0.0017390692, -0....</td>\n",
       "    </tr>\n",
       "    <tr>\n",
       "      <th>45</th>\n",
       "      <td>10902</td>\n",
       "      <td>S/O to the girl that just hit my car...not onl...</td>\n",
       "      <td>anger</td>\n",
       "      <td>0.542</td>\n",
       "      <td>[values=[-0.021190451, -0.0024552303, -0.02645...</td>\n",
       "      <td>[-0.021190451, -0.0024552303, -0.026451988, -0...</td>\n",
       "    </tr>\n",
       "    <tr>\n",
       "      <th>93</th>\n",
       "      <td>21156</td>\n",
       "      <td>There goes the butterflies in my stomach. #ner...</td>\n",
       "      <td>fear</td>\n",
       "      <td>0.812</td>\n",
       "      <td>[values=[0.0047239466, -0.0126334075, -0.00560...</td>\n",
       "      <td>[0.0047239466, -0.0126334075, -0.0056003057, -...</td>\n",
       "    </tr>\n",
       "    <tr>\n",
       "      <th>54</th>\n",
       "      <td>10911</td>\n",
       "      <td>Having a baby born too soon is #lifechanging 6...</td>\n",
       "      <td>anger</td>\n",
       "      <td>0.354</td>\n",
       "      <td>[values=[-0.026022512, 0.000625749, -0.0155184...</td>\n",
       "      <td>[-0.026022512, 0.000625749, -0.015518423, -0.0...</td>\n",
       "    </tr>\n",
       "    <tr>\n",
       "      <th>219</th>\n",
       "      <td>30848</td>\n",
       "      <td>Ready for that nice, breezy, calm, sunshine we...</td>\n",
       "      <td>joy</td>\n",
       "      <td>0.583</td>\n",
       "      <td>[values=[0.0020740312, -0.023727704, -0.016465...</td>\n",
       "      <td>[0.0020740312, -0.023727704, -0.016465494, -0....</td>\n",
       "    </tr>\n",
       "    <tr>\n",
       "      <th>105</th>\n",
       "      <td>21168</td>\n",
       "      <td>@joey_coops yes Hun! Avoid at all costs!!</td>\n",
       "      <td>fear</td>\n",
       "      <td>0.389</td>\n",
       "      <td>[values=[0.0021602127, 0.00034825833, -0.01464...</td>\n",
       "      <td>[0.0021602127, 0.00034825833, -0.014641105, -0...</td>\n",
       "    </tr>\n",
       "    <tr>\n",
       "      <th>33</th>\n",
       "      <td>10890</td>\n",
       "      <td>All Brian does is sleep and aggravate me</td>\n",
       "      <td>anger</td>\n",
       "      <td>0.833</td>\n",
       "      <td>[values=[-0.016705524, -0.008376931, -0.018700...</td>\n",
       "      <td>[-0.016705524, -0.008376931, -0.01870026, -0.0...</td>\n",
       "    </tr>\n",
       "    <tr>\n",
       "      <th>236</th>\n",
       "      <td>30865</td>\n",
       "      <td>When we give cheerfully and accept gratefully,...</td>\n",
       "      <td>joy</td>\n",
       "      <td>0.712</td>\n",
       "      <td>[values=[-0.029224416, -0.011000588, -0.027645...</td>\n",
       "      <td>[-0.029224416, -0.011000588, -0.02764561, -0.0...</td>\n",
       "    </tr>\n",
       "    <tr>\n",
       "      <th>305</th>\n",
       "      <td>40818</td>\n",
       "      <td>If I had a little bit of extra money I would b...</td>\n",
       "      <td>sadness</td>\n",
       "      <td>0.167</td>\n",
       "      <td>[values=[-0.022082547, -0.02157623, -0.0013195...</td>\n",
       "      <td>[-0.022082547, -0.02157623, -0.0013195131, -0....</td>\n",
       "    </tr>\n",
       "    <tr>\n",
       "      <th>43</th>\n",
       "      <td>10900</td>\n",
       "      <td>Kik to trade, have fun or a conversation  (kik...</td>\n",
       "      <td>anger</td>\n",
       "      <td>0.167</td>\n",
       "      <td>[values=[-0.026859332, 0.022553032, -0.0023764...</td>\n",
       "      <td>[-0.026859332, 0.022553032, -0.0023764968, -0....</td>\n",
       "    </tr>\n",
       "    <tr>\n",
       "      <th>325</th>\n",
       "      <td>40838</td>\n",
       "      <td>@GolfStrat out of Rory starts. What would your...</td>\n",
       "      <td>sadness</td>\n",
       "      <td>0.343</td>\n",
       "      <td>[values=[0.03251419, -0.0120953005, 0.00982391...</td>\n",
       "      <td>[0.03251419, -0.0120953005, 0.009823919, -0.06...</td>\n",
       "    </tr>\n",
       "    <tr>\n",
       "      <th>248</th>\n",
       "      <td>30877</td>\n",
       "      <td>@airtelindia have some issues with my broadban...</td>\n",
       "      <td>joy</td>\n",
       "      <td>0.340</td>\n",
       "      <td>[values=[-0.016282463, 0.020544332, -0.0071069...</td>\n",
       "      <td>[-0.016282463, 0.020544332, -0.0071069333, -0....</td>\n",
       "    </tr>\n",
       "    <tr>\n",
       "      <th>313</th>\n",
       "      <td>40826</td>\n",
       "      <td>@LeePorter94 @DomMcGovern_ hi Dom I saw u at N...</td>\n",
       "      <td>sadness</td>\n",
       "      <td>0.312</td>\n",
       "      <td>[values=[0.00033614397, -0.03252327, 0.0025710...</td>\n",
       "      <td>[0.00033614397, -0.03252327, 0.0025710862, -0....</td>\n",
       "    </tr>\n",
       "    <tr>\n",
       "      <th>112</th>\n",
       "      <td>21175</td>\n",
       "      <td>@soozclifford Sure have... Sydney are too toug...</td>\n",
       "      <td>fear</td>\n",
       "      <td>0.356</td>\n",
       "      <td>[values=[-0.0070301127, -0.0028043932, 0.01494...</td>\n",
       "      <td>[-0.0070301127, -0.0028043932, 0.014941143, -0...</td>\n",
       "    </tr>\n",
       "    <tr>\n",
       "      <th>90</th>\n",
       "      <td>21153</td>\n",
       "      <td>Losing to Villa...'@M0tivati0nQuote: Most of t...</td>\n",
       "      <td>fear</td>\n",
       "      <td>0.311</td>\n",
       "      <td>[values=[-0.012996548, -0.00032071944, -0.0014...</td>\n",
       "      <td>[-0.012996548, -0.00032071944, -0.0014689551, ...</td>\n",
       "    </tr>\n",
       "    <tr>\n",
       "      <th>186</th>\n",
       "      <td>21249</td>\n",
       "      <td>@CesarSampao @thisisbolton don't get me starte...</td>\n",
       "      <td>fear</td>\n",
       "      <td>0.458</td>\n",
       "      <td>[values=[-0.011186042, -0.0003873956, 0.004387...</td>\n",
       "      <td>[-0.011186042, -0.0003873956, 0.004387479, -0....</td>\n",
       "    </tr>\n",
       "    <tr>\n",
       "      <th>102</th>\n",
       "      <td>21165</td>\n",
       "      <td>@All4 is the android app it designed to be bug...</td>\n",
       "      <td>fear</td>\n",
       "      <td>0.250</td>\n",
       "      <td>[values=[-0.006601296, -0.005685248, -0.010660...</td>\n",
       "      <td>[-0.006601296, -0.005685248, -0.010660758, -0....</td>\n",
       "    </tr>\n",
       "    <tr>\n",
       "      <th>10</th>\n",
       "      <td>10867</td>\n",
       "      <td>@Yoshi_OnoChin can you please not have Canadia...</td>\n",
       "      <td>anger</td>\n",
       "      <td>0.646</td>\n",
       "      <td>[values=[-0.009779071, -0.020864518, -0.024792...</td>\n",
       "      <td>[-0.009779071, -0.020864518, -0.024792155, -0....</td>\n",
       "    </tr>\n",
       "    <tr>\n",
       "      <th>155</th>\n",
       "      <td>21218</td>\n",
       "      <td>About 7 weeks till I can pick up my camera aga...</td>\n",
       "      <td>fear</td>\n",
       "      <td>0.396</td>\n",
       "      <td>[values=[-0.01749955, -0.019419283, -0.0182948...</td>\n",
       "      <td>[-0.01749955, -0.019419283, -0.018294835, -0.0...</td>\n",
       "    </tr>\n",
       "    <tr>\n",
       "      <th>216</th>\n",
       "      <td>30845</td>\n",
       "      <td>A cheerful heart is good medicine, but a broke...</td>\n",
       "      <td>joy</td>\n",
       "      <td>0.292</td>\n",
       "      <td>[values=[-0.010979394, 0.0126972, -0.029265268...</td>\n",
       "      <td>[-0.010979394, 0.0126972, -0.029265268, -0.051...</td>\n",
       "    </tr>\n",
       "  </tbody>\n",
       "</table>\n",
       "</div>"
      ],
      "text/plain": [
       "        id                                               text  emotion  \\\n",
       "260  30889  How can l rule my mind !!!!!! \\nIt's hilarious...      joy   \n",
       "86   21149  @JeffersonLake speaking of ex cobblers, saw Ri...     fear   \n",
       "0    10857  @ZubairSabirPTI  pls dont insult the word 'Molna'    anger   \n",
       "242  30871             @hesham786 that's the spirit #optimism      joy   \n",
       "73   10930  @HomeSwapperteam  Spent months arranging swap ...    anger   \n",
       "280  40793  Hello my dear friends, I will be back online t...  sadness   \n",
       "88   21151  Really.....#Jumanji 2....w/ The Rock, Jack Bla...     fear   \n",
       "340  40853  @xOffWithMyHeadx They've officially said all t...  sadness   \n",
       "201  30830  If any trump supporters and Hillary haters wan...      joy   \n",
       "49   10906  Just joined #pottermore and was sorted into HU...    anger   \n",
       "269  30898  @r0Ils ppl get triggered over u smiling they'r...      joy   \n",
       "130  21193  Came in to work today 1.5 hours late.1st thing...     fear   \n",
       "134  21197  @CNNPolitics I can't wait to hear what he had ...     fear   \n",
       "69   10926  If I spend even 5 minutes with you and you alr...    anger   \n",
       "165  21228                            Northampton are awful 🙈     fear   \n",
       "321  40834  Soooo badly want to dye my hair dark but have ...  sadness   \n",
       "151  21214  I want to be a woman who #overcomes obstacles ...     fear   \n",
       "316  40829  Folk Band 'Thistle Down' will be replaced by '...  sadness   \n",
       "294  40807  @pmo100 @5liveSport .....I heard talk somethin...  sadness   \n",
       "21   10878                         Literally fuming fuck sake    anger   \n",
       "200  30829  @Casper10666 I assure you there is no laughter...      joy   \n",
       "45   10902  S/O to the girl that just hit my car...not onl...    anger   \n",
       "93   21156  There goes the butterflies in my stomach. #ner...     fear   \n",
       "54   10911  Having a baby born too soon is #lifechanging 6...    anger   \n",
       "219  30848  Ready for that nice, breezy, calm, sunshine we...      joy   \n",
       "105  21168         @joey_coops yes Hun! Avoid at all costs!!      fear   \n",
       "33   10890           All Brian does is sleep and aggravate me    anger   \n",
       "236  30865  When we give cheerfully and accept gratefully,...      joy   \n",
       "305  40818  If I had a little bit of extra money I would b...  sadness   \n",
       "43   10900  Kik to trade, have fun or a conversation  (kik...    anger   \n",
       "325  40838  @GolfStrat out of Rory starts. What would your...  sadness   \n",
       "248  30877  @airtelindia have some issues with my broadban...      joy   \n",
       "313  40826  @LeePorter94 @DomMcGovern_ hi Dom I saw u at N...  sadness   \n",
       "112  21175  @soozclifford Sure have... Sydney are too toug...     fear   \n",
       "90   21153  Losing to Villa...'@M0tivati0nQuote: Most of t...     fear   \n",
       "186  21249  @CesarSampao @thisisbolton don't get me starte...     fear   \n",
       "102  21165  @All4 is the android app it designed to be bug...     fear   \n",
       "10   10867  @Yoshi_OnoChin can you please not have Canadia...    anger   \n",
       "155  21218  About 7 weeks till I can pick up my camera aga...     fear   \n",
       "216  30845  A cheerful heart is good medicine, but a broke...      joy   \n",
       "\n",
       "     intensity                                         embeddings  \\\n",
       "260      0.396  [values=[0.0031156964, 0.0015582611, -0.007834...   \n",
       "86       0.417  [values=[-0.0059582954, -0.02405199, 0.0079424...   \n",
       "0        0.479  [values=[0.009774932, 0.0055678063, -0.0006229...   \n",
       "242      0.396  [values=[0.0038663426, -0.011033859, -0.002288...   \n",
       "73       0.667  [values=[-0.004661313, 0.008528503, -0.0286473...   \n",
       "280      0.417  [values=[-0.042079233, 0.005750807, -0.0268520...   \n",
       "88       0.542  [values=[-0.005593506, -0.048560806, 0.0125558...   \n",
       "340      0.438  [values=[0.02956792, 0.0002164427, -0.02829732...   \n",
       "201      0.100  [values=[-0.0061332616, -0.0058089164, 0.00725...   \n",
       "49       0.708  [values=[0.0059057474, -0.034324665, 0.0036267...   \n",
       "269      0.170  [values=[-0.0058842055, 0.012170943, -0.017462...   \n",
       "130      0.896  [values=[-0.014280062, 0.00909578, -0.02008236...   \n",
       "134      0.246  [values=[0.00044486194, 0.01613851, 0.02635799...   \n",
       "69       0.812  [values=[-0.009919291, 0.011396133, 0.01161555...   \n",
       "165      0.500  [values=[-0.01724663, -0.016409675, -0.0154914...   \n",
       "321      0.500  [values=[-0.006563008, -0.01716611, 0.00851160...   \n",
       "151      0.312  [values=[-0.00574429, -0.032680545, -0.0004471...   \n",
       "316      0.417  [values=[0.004661778, -0.023142802, -0.0077483...   \n",
       "294      0.458  [values=[-0.0058687045, 0.016114332, -0.014483...   \n",
       "21       0.860  [values=[0.004565768, -0.010073113, -0.0132940...   \n",
       "200      0.167  [values=[-0.008917223, -0.013621849, 0.0017390...   \n",
       "45       0.542  [values=[-0.021190451, -0.0024552303, -0.02645...   \n",
       "93       0.812  [values=[0.0047239466, -0.0126334075, -0.00560...   \n",
       "54       0.354  [values=[-0.026022512, 0.000625749, -0.0155184...   \n",
       "219      0.583  [values=[0.0020740312, -0.023727704, -0.016465...   \n",
       "105      0.389  [values=[0.0021602127, 0.00034825833, -0.01464...   \n",
       "33       0.833  [values=[-0.016705524, -0.008376931, -0.018700...   \n",
       "236      0.712  [values=[-0.029224416, -0.011000588, -0.027645...   \n",
       "305      0.167  [values=[-0.022082547, -0.02157623, -0.0013195...   \n",
       "43       0.167  [values=[-0.026859332, 0.022553032, -0.0023764...   \n",
       "325      0.343  [values=[0.03251419, -0.0120953005, 0.00982391...   \n",
       "248      0.340  [values=[-0.016282463, 0.020544332, -0.0071069...   \n",
       "313      0.312  [values=[0.00033614397, -0.03252327, 0.0025710...   \n",
       "112      0.356  [values=[-0.0070301127, -0.0028043932, 0.01494...   \n",
       "90       0.311  [values=[-0.012996548, -0.00032071944, -0.0014...   \n",
       "186      0.458  [values=[-0.011186042, -0.0003873956, 0.004387...   \n",
       "102      0.250  [values=[-0.006601296, -0.005685248, -0.010660...   \n",
       "10       0.646  [values=[-0.009779071, -0.020864518, -0.024792...   \n",
       "155      0.396  [values=[-0.01749955, -0.019419283, -0.0182948...   \n",
       "216      0.292  [values=[-0.010979394, 0.0126972, -0.029265268...   \n",
       "\n",
       "                                     embeddings_values  \n",
       "260  [0.0031156964, 0.0015582611, -0.007834814, -0....  \n",
       "86   [-0.0059582954, -0.02405199, 0.007942465, -0.0...  \n",
       "0    [0.009774932, 0.0055678063, -0.00062292145, -0...  \n",
       "242  [0.0038663426, -0.011033859, -0.002288114, -0....  \n",
       "73   [-0.004661313, 0.008528503, -0.028647302, -0.0...  \n",
       "280  [-0.042079233, 0.005750807, -0.026852045, -0.0...  \n",
       "88   [-0.005593506, -0.048560806, 0.012555859, -0.0...  \n",
       "340  [0.02956792, 0.0002164427, -0.02829732, -0.068...  \n",
       "201  [-0.0061332616, -0.0058089164, 0.0072566825, -...  \n",
       "49   [0.0059057474, -0.034324665, 0.0036267077, -0....  \n",
       "269  [-0.0058842055, 0.012170943, -0.017462442, -0....  \n",
       "130  [-0.014280062, 0.00909578, -0.020082366, -0.05...  \n",
       "134  [0.00044486194, 0.01613851, 0.026357992, -0.07...  \n",
       "69   [-0.009919291, 0.011396133, 0.011615556, -0.05...  \n",
       "165  [-0.01724663, -0.016409675, -0.015491451, -0.0...  \n",
       "321  [-0.006563008, -0.01716611, 0.008511609, -0.06...  \n",
       "151  [-0.00574429, -0.032680545, -0.00044716703, -0...  \n",
       "316  [0.004661778, -0.023142802, -0.007748338, -0.0...  \n",
       "294  [-0.0058687045, 0.016114332, -0.01448304, -0.0...  \n",
       "21   [0.004565768, -0.010073113, -0.013294056, -0.0...  \n",
       "200  [-0.008917223, -0.013621849, 0.0017390692, -0....  \n",
       "45   [-0.021190451, -0.0024552303, -0.026451988, -0...  \n",
       "93   [0.0047239466, -0.0126334075, -0.0056003057, -...  \n",
       "54   [-0.026022512, 0.000625749, -0.015518423, -0.0...  \n",
       "219  [0.0020740312, -0.023727704, -0.016465494, -0....  \n",
       "105  [0.0021602127, 0.00034825833, -0.014641105, -0...  \n",
       "33   [-0.016705524, -0.008376931, -0.01870026, -0.0...  \n",
       "236  [-0.029224416, -0.011000588, -0.02764561, -0.0...  \n",
       "305  [-0.022082547, -0.02157623, -0.0013195131, -0....  \n",
       "43   [-0.026859332, 0.022553032, -0.0023764968, -0....  \n",
       "325  [0.03251419, -0.0120953005, 0.009823919, -0.06...  \n",
       "248  [-0.016282463, 0.020544332, -0.0071069333, -0....  \n",
       "313  [0.00033614397, -0.03252327, 0.0025710862, -0....  \n",
       "112  [-0.0070301127, -0.0028043932, 0.014941143, -0...  \n",
       "90   [-0.012996548, -0.00032071944, -0.0014689551, ...  \n",
       "186  [-0.011186042, -0.0003873956, 0.004387479, -0....  \n",
       "102  [-0.006601296, -0.005685248, -0.010660758, -0....  \n",
       "10   [-0.009779071, -0.020864518, -0.024792155, -0....  \n",
       "155  [-0.01749955, -0.019419283, -0.018294835, -0.0...  \n",
       "216  [-0.010979394, 0.0126972, -0.029265268, -0.051...  "
      ]
     },
     "execution_count": 34,
     "metadata": {},
     "output_type": "execute_result"
    }
   ],
   "source": [
    "test_df_new #We can see the new column with the embeddings "
   ]
  },
  {
   "cell_type": "code",
   "execution_count": 35,
   "metadata": {},
   "outputs": [],
   "source": [
    "# save them to pickle files\n",
    "train_df_new.to_pickle(\"./data/train_df_sample_embeddings.pkl\") \n",
    "test_df_new.to_pickle(\"./data/test_df_sample_embeddings.pkl\")"
   ]
  },
  {
   "cell_type": "code",
   "execution_count": 36,
   "metadata": {},
   "outputs": [],
   "source": [
    "import pandas as pd\n",
    "# load the pickle files\n",
    "train_df_new = pd.read_pickle(\"./data/train_df_sample_embeddings.pkl\")\n",
    "test_df_new = pd.read_pickle(\"./data/test_df_sample_embeddings.pkl\")"
   ]
  },
  {
   "cell_type": "code",
   "execution_count": 37,
   "metadata": {},
   "outputs": [
    {
     "data": {
      "text/plain": [
       "3072"
      ]
     },
     "execution_count": 37,
     "metadata": {},
     "output_type": "execute_result"
    }
   ],
   "source": [
    "len(train_df_new.iloc[0][\"embeddings_values\"]) # Gemini embedding dimension is 3072 "
   ]
  },
  {
   "cell_type": "code",
   "execution_count": 38,
   "metadata": {},
   "outputs": [
    {
     "name": "stderr",
     "output_type": "stream",
     "text": [
      "c:\\Users\\User\\桌面\\DM\\DM2025-Lab2-Exercise\\.venv\\Lib\\site-packages\\umap\\umap_.py:1952: UserWarning: n_jobs value 1 overridden to 1 by setting random_state. Use no seed for parallelism.\n",
      "  warn(\n"
     ]
    },
    {
     "data": {
      "application/vnd.plotly.v1+json": {
       "config": {
        "plotlyServerURL": "https://plot.ly"
       },
       "data": [
        {
         "customdata": [
          [
           "@mandyjohnson I'll be honest.. I hope that annoying Southern bint with the 'look at me' pout goes out this week! Selasi #FTW",
           0.646
          ],
          [
           "@RobertTaitWHU against Chelsea anything is possible haha. I'm fuming about that bet 🙄🙄🙄🙄🙄🙄",
           0.646
          ],
          [
           "I didn't find out about this till today due to my bff telling me. I am so disgusted and offended by this.",
           0.75
          ],
          [
           "schneiderlin taking his revenge for the 2 fouls",
           0.396
          ],
          [
           "@RichardHBell Yes, I think he held a grudge ...",
           0.375
          ],
          [
           "@Aurena1701 @AngryOrchard he didn't sting me luckily. He just flew off happy and drunk. Lolololol",
           0.146
          ],
          [
           "Take public opinion on revenge with Pakistan if govt is unable to decide. @aajtak @TimesNow @narendramodi",
           0.458
          ],
          [
           "Your twitter picture just makes me fume.",
           0.729
          ],
          [
           "Grateful for all the hungry people in my life! Hungry to learn, change, grow, help, etc - not sure anybody has it better! ",
           0.396
          ],
          [
           "the bee sting still suck i feel sick",
           0.479
          ],
          [
           "@billburr DirectTV is the best. Apparently you just sit in silent anger. 'Don't press or say anything'",
           0.417
          ],
          [
           "So my Indian Uber driver just called someone the N word. If I wasn't in a moving vehicle I'd have jumped out #disgusted #offended",
           0.729
          ],
          [
           "@Kim_is__bored exactly what I have been saying on fb.. ",
           0.354
          ],
          [
           "@jaaames1993 Literally burst out laughing.",
           0.067
          ],
          [
           "This all resent #India #Pakistan problem is save #NawazSharif\\n@ImranKhanPTI\\n@PTIofficial",
           0.312
          ],
          [
           "Damn our offense is a mix bag of unpredictable lethal weapons I'm worried for Defense Coordinators 😁 #Chargers #Boltup #Recharged",
           0.479
          ],
          [
           "I mean I'm not done watching the pilot, but it's nice to see a group of actors perform without story lines dripping relentless nihilism.",
           0.458
          ],
          [
           "Im so angry 😂🙃",
           0.75
          ],
          [
           "@len_snart gives a frustrated growl, before stepping closer and putting his gun through the barrier. No alarms and nothing happened. He-",
           0.458
          ],
          [
           "Well, the lines for Sweden's goals sure sting.",
           0.312
          ],
          [
           "Kik me I want to swap pics I will post on my account anonymously if you wish Kik: vsvplou #Kik #kikme  #nudes #tits #snapchat",
           0.188
          ],
          [
           "@The_Nasty_P now you gotta do that with fast n furious",
           0.354
          ],
          [
           "@shopgreenwich #ldf16 what shall we do this weekend?  #spraypainting in #greenwichmarket with @SNUB23 #core246 #lilylou #fret &amp; #benoakley",
           0.271
          ],
          [
           "The majority of people irritate the fuck out of me, cba with people ahahah",
           0.862
          ],
          [
           "@kencurtin they might get Donal óg sure! They won't have him in cork as he's to fiery for dopey frank &amp; his cult",
           0.458
          ],
          [
           "@LickMeLucas ...I'm waiting for you to figure out I'm like... from 0 to 100 real quick with the irritation.",
           0.604
          ],
          [
           "@arppaul @chetanlfc @mannkakhiladi @dey_spandan @umeroffcial  Comparing Akshay Sir with this zandu balm is an insult to Akshay Sir.",
           0.5
          ],
          [
           "Follow me on Snapchat 👻 Carlabtst15 #snapchat ",
           0.188
          ],
          [
           "remember when that guy got #angry that i kept saying gary sanchez was the best baseball player in the world... lmao",
           0.417
          ],
          [
           "@SonOfTheDovah *She could sense the anger stirring within him and took his hand in hers.* As long as we stay together, we'll both be safe.--",
           0.375
          ],
          [
           "@CrayonToCrayon @SueScoby \\nIt's always fun to anger 'All the Old Dudes.' with Rock N' Roll :))",
           0.354
          ],
          [
           "Someone needs to tell Candice she'll be stuck with that shitty pout if the wind changes. #GBBO",
           0.688
          ],
          [
           "@coltonflurry @StrangeFacesLA I cancelled by CBS all access live feeds before JC even said Vic won AFP. Paul.should have won IMO ",
           0.438
          ],
          [
           "@Austin4evaLEEDS fuming!",
           0.625
          ],
          [
           "@JustPyroNow are you gonna do any kind of community raids when wrath of the machine drops?",
           0.375
          ],
          [
           "@bt_uk why does tracking show my equipment delivered, when it wasn't? Why is my service suddenly delayed? We've already 3 weeks. ",
           0.646
          ],
          [
           "@xandraaa5 @amayaallyn6 shut up hashtags are cool ",
           0.438
          ],
          [
           "Since the 'update' my @iPhone loses power nearly 40% faster.  #furious",
           0.792
          ],
          [
           "@ZubairSabirPTI  pls dont insult the word 'Molna'",
           0.479
          ],
          [
           "@HomeSwapperteam  Spent months arranging swap , new jobs etc, now I've found out she's been leading me on a merry dance. #fuming with her",
           0.667
          ],
          [
           "Just joined #pottermore and was sorted into HUFFLEPUFF 😡😡😡 #fuming",
           0.708
          ],
          [
           "If I spend even 5 minutes with you and you already irritate me I seriously will bitch you out until you shut up",
           0.812
          ],
          [
           "Literally fuming fuck sake",
           0.86
          ],
          [
           "S/O to the girl that just hit my car...not only did she get lucky w/ no scratch but also from being spared the wrath of sleep deprived Kait🙃",
           0.542
          ],
          [
           "Having a baby born too soon is #lifechanging 6 years on and it feels like only yesterday #sad #happy  #emotionalrollercoaster",
           0.354
          ],
          [
           "All Brian does is sleep and aggravate me",
           0.833
          ],
          [
           "Kik to trade, have fun or a conversation  (kik: youraffair) #kik #kikme #messageme #textme #pics #trade #tradepics #dm #snap #bored",
           0.167
          ],
          [
           "@Yoshi_OnoChin can you please not have Canadian players play US players, that lag  is atrocious. #fixthisgame #trash #sfvrefund ",
           0.646
          ]
         ],
         "hovertemplate": "emotion=anger<br>UMAP1=%{x}<br>UMAP2=%{y}<br>text=%{customdata[0]}<br>intensity=%{customdata[1]}<extra></extra>",
         "legendgroup": "anger",
         "marker": {
          "color": "#636efa",
          "symbol": "circle"
         },
         "mode": "markers",
         "name": "anger",
         "orientation": "v",
         "showlegend": true,
         "type": "scatter",
         "x": {
          "bdata": "lmClQNZJw0D+99RAbhbtQCx+6kCC/6pA9ZwSQUFhukCwwJ1AXL/YQLa3rkDNQ9BAqeHRQL/1pEBCbA9BD1PnQDnZvUAvfKdAt/LOQAy55kDFi79A+sCxQKm22UAgFpxA103pQKunp0CNuQVBL4zDQPyxnUD7JdRAS2CpQE9WnkCw57NAZu3IQFsrvkDj7thAqG6vQI16x0BfSQxBWI3EQGTwwUB3DaFAPImwQPMDrkCoeN5AtmWfQA1Kv0Co3sBA",
          "dtype": "f4"
         },
         "xaxis": "x",
         "y": {
          "bdata": "lkcwQbzXJ0F2Ex9BKOIjQUY1GEHmxAVBFckaQV5qIkH59tpAEcoAQchOGUF8UyVB1+URQdekCkFi0xdBbjkIQT2K5UD/gBRB6B8FQZKjFEGVbhVB9g4NQT3eHUGRchtBbAMhQefJGEEeex9BeMUTQf/0EUG/Rf9AFqYSQf1AMEFiYi1BK+snQcDzCkHZHDVBGOgdQR/1MEHKWxxB80MqQU/PLEH+NSJBlm8kQYWc9kDJp9VAtN0gQemRFEH9ojVB",
          "dtype": "f4"
         },
         "yaxis": "y"
        },
        {
         "customdata": [
          [
           "I really want to go for fright night but I really don't 😁",
           0.583
          ],
          [
           "@Rocks_n_Ropes Can't believe how rude your cashier was today when I was returning an item!  Your customer service is slacking. #terrible",
           0.312
          ],
          [
           "I'm afraid she's the goat you libeling people?  #goat #libeling",
           0.562
          ],
          [
           "I can never find the exact #emoji that I'm after at the exact moment that I need it #panic",
           0.688
          ],
          [
           "@danielleelowell awe man I'm mad I'm sitting here already cutting tulle and ribbon already 😂",
           0.375
          ],
          [
           "Jorge deserves it, honestly. He's weak. #revolting #90dayfiance",
           0.229
          ],
          [
           "It's really alarming when an adult male calls their father 'daddy'",
           0.438
          ],
          [
           "Fosu-Mensa is having a nightmare 15 minutes. Difference between Premier League reserves and League 1 is still wide",
           0.375
          ],
          [
           "Can't start a good day without a cup of tea! \\n\\n#tea #start #day #goodday",
           0.104
          ],
          [
           "still shaking though 🙃",
           0.688
          ],
          [
           "What a shamefull, unequal, dangerous and worrying world we live in nowadays!  #terrifying #Charlotte #terrorism #shitworldforourkids",
           0.854
          ],
          [
           "@BraveHermione_ + and gives it to hear] 'Please.. I can tell you anything if you want to listen. maybe you're dont afraid anymore of me +",
           0.592
          ],
          [
           "@ChrisChristie You have no Police credentials-You were a litigator. Nothing more-No Experience. #Sad #TrumpPuppet #Felon  #jersey4sale",
           0.521
          ],
          [
           "My view of the human being is as a dynamic expression of the Cosmos we exist within #humanism ",
           0.271
          ],
          [
           "Wah just woke up frm a fucking nightmare",
           0.898
          ],
          [
           "@RockSolidShow @Pat_Francis #revolting cocks if you think I'm sexy!",
           0.292
          ],
          [
           "@andrewspoooner wouldn't cross the street to piss on its server if it was on dire",
           0.458
          ],
          [
           "@Joey7Barton I remember Joey slagging England player's off bringing out books after crap tournaments..same same..crap player ",
           0.333
          ],
          [
           "One more step in long work #visa process is over. Relief. Onto next step. #expat ",
           0.354
          ],
          [
           "Are there any #horror sites that would be interested in my writing a guest article/review? Been really craving a literary outlet lately.",
           0.354
          ],
          [
           "# ISIS REFERENCES SCRUBBED?  Federal complaint against suspect in NYC, NJ bombings appears to omit terror names in bloody journ...  #news",
           0.729
          ],
          [
           "No red card for Gordon there? The ref must be a Celtic fan as that was a shocking challenge.",
           0.297
          ],
          [
           "@p4pictures it would be great but what if the card crashes 😱. It's happened to me twice ",
           0.708
          ],
          [
           "#Everything you've ever wanted awaits you on the other side of #fear . #IfIWasTheOppositeSex #AskAMan",
           0.479
          ],
          [
           "@KennyCoble @Rosie these horrific situations will only get worse if trump is elected. vote Hillary.",
           0.708
          ],
          [
           "onus is on Pakistan' : @MEAIndia after #Uri #terror attack",
           0.583
          ],
          [
           "@YahooCare data stolen in 2014 and only now do you tell us #shocking.",
           0.56
          ],
          [
           "... in the same speech.  However he did mention foreign hand and funding in terrorism in the country. 👍\\n#ProudOfYouPrimeMinister",
           0.417
          ],
          [
           "When someone tells you they're going to 'tear you apart' and all they have to say is 'why are you so tall?' #shocking",
           0.542
          ],
          [
           "Drop every fear...",
           0.333
          ],
          [
           "Still waiting to see if my @london2012track will make an appearance next week - two months today it was ordered  #badservice",
           0.453
          ],
          [
           "We hesitate to #live our #dream because of some unknown #fear which actually does not exist.' #AqeelSyed\\n\\n#LifeisBeautiful #LiveWithPurpose",
           0.396
          ],
          [
           "a panic attack AND CALL YOURSELF A REAL FAN makes me so mad like i dont even have the words to explain. this is why some people give no +",
           0.646
          ],
          [
           "Let's refuse to live in #fear -  #c$%t",
           0.354
          ],
          [
           "wonder if at any point #BobMarley ever actually became #afraid of just how #high he'd gotten. :o #420",
           0.271
          ],
          [
           "People’s deepest passions often scare them too much to admit, even to themselves.",
           0.521
          ],
          [
           "a #monster is only a #monster if you view him through #fear",
           0.5
          ],
          [
           "Ha! @mquirk @joshuahoodbooks Got your book after our 'meeting' at the Starbucks in NOLA. If Josh says it's terrific, I'm all in.",
           0.125
          ],
          [
           "Today was horrible and it was only half a day",
           0.854
          ],
          [
           "@Taoist_Skeptic @jackaberlin @DrJillStein @politicususa Doubt U have anything to be afraid of as Trump has been vilifying minorities &amp; women",
           0.562
          ],
          [
           "I had a panic attack when I couldn't find @katrinalaw on #Twitter Turns out my Twitter is a jerk. I can still see her. #NyssaAlghul #panic",
           0.833
          ],
          [
           "@ZaidZamanHamid Speech is still not up to the mark. No mention of 'Genocide', Indian terrorism in Pak. It was all planned speech.",
           0.458
          ],
          [
           "can't believe Mint fest is two days away and i hate my outfit 😩😩🙈 #nightmare",
           0.542
          ],
          [
           "Ugh I want to punch a wall every time I have to use @windows 10. Literally the worst product ever made #windows10 #awful #killme",
           0.542
          ],
          [
           "I have a job interview with @BarclaysUK in Loughborough next month #nervous!!!",
           0.72
          ],
          [
           "@jessespector @nasboat old rich white religious guy supports republicans. Not shocking at all.",
           0.271
          ],
          [
           "Fuck being shy, I'm trying to be up in them thighs.",
           0.354
          ],
          [
           "@falklands_utd @mauriciomacri \\nbecause distrust in life , Argentina has a lot of heart and this President is worth every vote.",
           0.312
          ],
          [
           "I am beyond mad that I lost track of a brown spider in my brown carpet. Where did you go? 🕷 will be sneaking up on me ",
           0.917
          ],
          [
           "@Delta stuck on runway after being diverted to Fargo. Continuously told just 10 more mins for the past 4 hours. No food/water offered #awful",
           0.667
          ],
          [
           "@JonnyDunn93 and Gerrard was awful then",
           0.458
          ],
          [
           "@JeffersonLake speaking of ex cobblers, saw Ricky Holmes at Charlton last week.. tracking back &amp; defending... I dread seeing Gorre on ball..",
           0.417
          ],
          [
           "Really.....#Jumanji 2....w/ The Rock, Jack Black, and Kevin Hart...are you kidding me! WTF! #ThisIsATerribleIdea ",
           0.542
          ],
          [
           "Came in to work today 1.5 hours late.1st thing I hear: 'Ma'am,the big boss has been waiting for you in his office.' #panic #hateBeingLate 😩😪",
           0.896
          ],
          [
           "@CNNPolitics I can't wait to hear what he had to say about the brilliant Dr. Hawking... it should be rich... In the poorest of taste! ",
           0.246
          ],
          [
           "Northampton are awful 🙈",
           0.5
          ],
          [
           "I want to be a woman who #overcomes obstacles by tackling them in #faith instead of tiptoeing around them in #fear. Renee Swope",
           0.312
          ],
          [
           "There goes the butterflies in my stomach. #nervous #anxietyproblems",
           0.812
          ],
          [
           "@joey_coops yes Hun! Avoid at all costs!! ",
           0.389
          ],
          [
           "@soozclifford Sure have... Sydney are too tough, too quick and their 'team' pressure is too much for the Cats to handle. Motlop/Cowan ",
           0.356
          ],
          [
           "Losing to Villa...'@M0tivati0nQuote: Most of the things people worry about are things that won't even matter to them a few months from now.'",
           0.311
          ],
          [
           "@CesarSampao @thisisbolton don't get me started on town centre. Used to go every week.... not been for 18 months ",
           0.458
          ],
          [
           "@All4 is the android app it designed to be buggy and work sporadically on a fire TV box? ",
           0.25
          ],
          [
           "About 7 weeks till I can pick up my camera again. Though I think there is a group cemetery shoot in october I can make! #photography #horror",
           0.396
          ]
         ],
         "hovertemplate": "emotion=fear<br>UMAP1=%{x}<br>UMAP2=%{y}<br>text=%{customdata[0]}<br>intensity=%{customdata[1]}<extra></extra>",
         "legendgroup": "fear",
         "marker": {
          "color": "#EF553B",
          "symbol": "circle"
         },
         "mode": "markers",
         "name": "fear",
         "orientation": "v",
         "showlegend": true,
         "type": "scatter",
         "x": {
          "bdata": "gKz0QEM/yEA7oQlBKjf8QLKBsEAzv6lARzjBQAEJ7UDSc6BAdc/GQAQU90B+Gc9AzjoBQa8Jr0BWNK1ABCqnQD5lrEDjFvRAcMu9QD947EC9XA1BNDztQAJ6y0CltgtB6hP8QDmUEUFuHNBAzeEPQW+jyEBW1ghBySXcQFhzCkEtG8hA3M4IQY0fCEGT/QxB4XAMQXv3qUAJHORAziAJQSYh+UDhFRJBqnT3QB0CxkBAVv5AVTIFQR4QpUCMRgBBnQqxQHba1kD1afNAyIHqQLCYwUCthPRANfgBQf3Z6kB4cwxBQTEAQXvi10Bc2exAd//7QAqQ2ECon9ZAPNHLQA==",
          "dtype": "f4"
         },
         "xaxis": "x",
         "y": {
          "bdata": "Rj/1QErBNEFzQQVBoSr2QDXGF0ELLi5BLrEiQUmJJ0H6v9FA1CH3QHBJCUFtH/1Ab9UdQdHu3UDlxyJBWykpQbEwJkGFyCZBhU7tQGDX50A2thVBLagkQcPLDkGey/lAVmYSQZIKGUFFwjJBp7oWQQ7IIEFHUfRALNEzQfj580BCvBtBEg0BQeeuAUGyE/ZAIgz4QBq7/0DWyfxATgsKQURR/UDD/xlBoI/6QFL2M0HoC/BAec8VQf0uHUH/xQpBGigYQejZN0GRNSdBZq8lQWXFMkFULfhA7sQUQV8ZKkGQF/ZAcLbpQGw6J0GzqhxBgxLpQBKlJEGUdC5BDGXXQA==",
          "dtype": "f4"
         },
         "yaxis": "y"
        },
        {
         "customdata": [
          [
           "Benefit out exhilaration called online backing off: JkUVmvQXY",
           0.462
          ],
          [
           "Always be #cheerful, #smile often make others happy, care for others, help who feel helpless and #vulnerable. Life feels good #leadership",
           0.74
          ],
          [
           "I just heard the most incredibly transcendent song ever &amp; now I feel high &amp; fucked up yet joyful &amp; I will never be the same",
           0.607
          ],
          [
           "I love Mary's undying optimism. You could present her with dog shite and she'd find something good to say. #GBBO",
           0.562
          ],
          [
           "Not my fault if I'm more observant than you thought of me to be ! 😜 I'm not sorry 😝 #wisdom #laughter #observingyou #allthetime #becareful 😎",
           0.417
          ],
          [
           "When u /only/ talk 2 me or ask me 'how r things' just 2 get 2 say something u want, 4give me if I'm not elated 2 start a conversation with u",
           0.12
          ],
          [
           "noah fence but i want a harley quinn or blake lively layout",
           0.207
          ],
          [
           "@philjame5 @spoke_bros wow! that looks bright",
           0.438
          ],
          [
           "second day on the job and i already got a 45 dollar tip from a dude whose was constantly twitching his eye LOLOLOL ",
           0.812
          ],
          [
           "@RapeseedOilFans \\nWho nose where those scent roses went\\nTo a spot in the Orient\\nMummified\\nIn rapeseed oil fried\\nEating drinking &amp; merriment.",
           0.479
          ],
          [
           "Quinn's short hair makes me sad. #glee",
           0.04
          ],
          [
           "Pinky is so funny n jovial, bt she got emotional n just brought me 2 tears. I felt so bad for her #Ishqbaaaz",
           0.16
          ],
          [
           "Gas prices are hilarious. Cause they're simultaneously super subsidised and taxed",
           0.22
          ],
          [
           "Dear everyone at HSSU, stop walking with your phones up so I can smile and wave at you and you can smile and wave back :(",
           0.225
          ],
          [
           "Watch this amazing live.ly broadcast by @izzybuzy365  #musically",
           0.667
          ],
          [
           "@aradsliff don't know I'm from nj we are the worst on purpose. ",
           0.139
          ],
          [
           "@palmtreesarah @WorthingTheatre had more fun than the funniest person in funsville..... Much hilarity as usual.... Thank you ❤️",
           0.84
          ],
          [
           "@IndieWire @cinemaeyehonors #WaltzWithBashir was incredible, tho I think it's more of an #animated film than #documentary about #Lebanon war",
           0.44
          ],
          [
           "Morning all! Of course it is sunny on this Monday morning to cheerfully welcome us back to work.:)",
           0.863
          ],
          [
           "@globemartyk 'drunken patroons' make this whole situation much more jovial though.",
           0.54
          ],
          [
           "#ContentwiththeLordsPortion:O satisfy us early with thy #mercy;that we may #rejoice &amp; be glad all our days.#Ps 90:14 #gladness #joy ",
           0.688
          ],
          [
           "Accept the challenges so that you can feel the exhilaration of victory!!",
           0.52
          ],
          [
           "i wonder how gleeful it is to be dumb af and see the world through rose tinted glasses",
           0.148
          ],
          [
           "A hearty welcome to those who followed me.",
           0.615
          ],
          [
           "I thought I got mad for anything but my bf gets mad over any little thing lmfao shit be hilarious",
           0.583
          ],
          [
           "i mean i guess most of the mean ones are treated as like playful but i want to support yoosung without dating him ;___;",
           0.32
          ],
          [
           "So is cheerfulness, or a good temper, the more it is spent, the more remains. Ralph Waldo Emerson",
           0.438
          ],
          [
           "Been waiting all week for this game ❤️❤️❤️ #cheer #friday ❤️",
           0.94
          ],
          [
           "#LMFAO @MSNBC 's #racepimp Tamron Hall used the words 'fscts' and 'MSNBC' in the same sentence #hilarity #libtard #biasedmedia #neverHillary",
           0.5
          ],
          [
           "@JoshNoneYaBiz I love parody accounts! Well done. Vote for #Trump. #lol ",
           0.708
          ],
          [
           "Your lion's heart\\nWill protect you under stormy skies\\nAnd I will always be listening for your laughter and your tears",
           0.458
          ],
          [
           "Day 9 and I am elated because I'm taking PTO tomorrow so I'm doneeeee. But:",
           0.68
          ],
          [
           "It has been medically proven that laughter is an effective pain killer.",
           0.48
          ],
          [
           "mustache_harbor: TiburonChamber plus a hearty pour of #yachtrock by #mustacheharbor !",
           0.55
          ],
          [
           "Final night shift coming up.  I won't miss it but I will miss my work pals and the hysterical laughter that gets us through the night",
           0.333
          ],
          [
           "@__Dayo yall dont feel bad.. you are rejoicing... it is what itnis... its always #ColtsNation even when we have 6th string DBs playing 😔😔",
           0.18
          ],
          [
           "How can l rule my mind !!!!!! \\nIt's hilarious that you can't 😭😑😮",
           0.396
          ],
          [
           "@hesham786 that's the spirit #optimism",
           0.396
          ],
          [
           "If any trump supporters and Hillary haters wanna chirp some weak minded, pandering liberals just tweet at @EmmyA2 @snickerfritz04",
           0.1
          ],
          [
           "@r0Ils ppl get triggered over u smiling they're irrelevant",
           0.17
          ],
          [
           "@Casper10666 I assure you there is no laughter, but increasing anger at the costs, and arrogance of Westminster.",
           0.167
          ],
          [
           "Ready for that nice, breezy, calm, sunshine weather.🍂🍁 #Autumn",
           0.583
          ],
          [
           "When we give cheerfully and accept gratefully, everyone is blessed. »Maya Angelou",
           0.712
          ],
          [
           "@airtelindia have some issues with my broadband bill ,I am charged for the month before I signed up with airtel.. #hilarious",
           0.34
          ],
          [
           "A cheerful heart is good medicine, but a broken spirit saps a person's strength.' {Proverbs 17:22} #WednesdayWisdom",
           0.292
          ]
         ],
         "hovertemplate": "emotion=joy<br>UMAP1=%{x}<br>UMAP2=%{y}<br>text=%{customdata[0]}<br>intensity=%{customdata[1]}<extra></extra>",
         "legendgroup": "joy",
         "marker": {
          "color": "#00cc96",
          "symbol": "circle"
         },
         "mode": "markers",
         "name": "joy",
         "orientation": "v",
         "showlegend": true,
         "type": "scatter",
         "x": {
          "bdata": "5VStQNBPnED8ro9AuN2YQL0unkDsf7ZAGj67QLCUrkA1G7NATGXdQEAN5EB8nt9AMKyaQOhrs0ArO9RAO1sAQfqfpUBmKAdBvySjQOsJsUBvEJ1A3UiiQKnkkkDAY7JAdDGbQFzPyUAWS5ZAN226QKF4AEH32AFBnb3PQBKZukAsg5ZAId6xQKp0uUDTu9xApciYQIjMokDl/P9A5zObQDEevUDodLJAzByZQE4h3kBMWpRA",
          "dtype": "f4"
         },
         "xaxis": "x",
         "y": {
          "bdata": "ryjlQAlX3EBFBxNB8W0xQaQlA0GPoQhB48kPQeyhBEEzR/5AIhbuQMjhzkAcxMpAnNMJQRsVEkFChxBBJH4kQUCQBkGbHBFBIhrRQD0Q+kB1mtJA2KzdQIfvEEHIz+FAns0MQQYdA0E4SdlAShDTQLVLFkEesRNBgvz1QOcs8kD+BvVAIb8DQdCM7kAUGNhA4FUKQX/V5UA/cRdBXN8WQWzUHEHntdBAbG7ZQPUSM0Gpv9xA",
          "dtype": "f4"
         },
         "yaxis": "y"
        },
        {
         "customdata": [
          [
           "@British_Airways #lost #bag #stillwaiting go home in2days. DM'd you my info and have rung 9times a day. What more can I do? #wheresmybag",
           0.542
          ],
          [
           "@janhopis I found the first few episodes of Bojack incredibly funny. Then it got less funny but I stayed for the #drama",
           0.354
          ],
          [
           "Standard Candice starting the show with a pout #startasyoumeantogoon #GBBO",
           0.354
          ],
          [
           "With loyal heart is concerned. #somber",
           0.688
          ],
          [
           "My name is John Locke and you can't tell me what I can and can't do #lost #アニメ",
           0.292
          ],
          [
           "Bill Clinton: 'Do not grow weary of doing good.' @ClintonGlobal #CGI2016",
           0.275
          ],
          [
           "Lament a \\nsaddened heart,\\nso far &amp; \\nyet so near,\\nthe years so\\ntough &amp; scarred,\\nthis lonesome\\nroad,\\nstill feared! #depression \\n\\n#poetry #poem",
           0.812
          ],
          [
           "@LondonMidland #dobetter only two carriages on 14:49 Birmingham to Hereford no room to stand anymore Friday commute #unhappy",
           0.542
          ],
          [
           "Someone needs to tell Candice she'll be stuck with that shitty pout if the wind changes. #GBBO",
           0.521
          ],
          [
           "@eehbahmum WHY?! Did they want to make you plummet in to the depths of despair??",
           0.604
          ],
          [
           "We can't even grieve over one black body before another one pops up due to pig brutality",
           0.892
          ],
          [
           "9/30 Howland Cultural Center, #BeaconNy Vickie Raabin &amp; Chris Raabe #blues #soul 8pm  @LocalMotionWVKR @hiddencitiesnyc 845-831-4988",
           0.25
          ],
          [
           "Damn gud #premiere #LethalWeapon...#funny and ",
           0.229
          ],
          [
           "ya boy gets mad tired of pine trees",
           0.292
          ],
          [
           "Honestly depression is kicking my ass lately.. 😔",
           0.896
          ],
          [
           "After 3 idk why I start feeling so depress, sad and lonely.",
           0.896
          ],
          [
           "I wouldn't wish anxiety and depression even on the worst of people. It's not fun. #anxiety #depression",
           0.833
          ],
          [
           "Well my evaluation came back and i am minimally effective. Student test scores on the PARCC sunk my eval. it's time for me to quit teaching",
           0.812
          ],
          [
           "i is sad",
           0.729
          ],
          [
           "@lebara - worst possible decision I could have made when arriving in the UK. Shocking service. Poor coverage. #unhappy",
           0.771
          ],
          [
           "What's good is that we already hit rock bottom, even though I'm about two more seasons away from new depths of despair. #playoffs? #NJDevils",
           0.542
          ],
          [
           "The weather sure matches the mood in this state today.. #gloomy",
           0.792
          ],
          [
           "November #canola lost $5.50 to $464.20 per tonne.",
           0.479
          ],
          [
           "@MendipHillsAONB do we think the swallows and swifts have gone? Photo'd 3 nights ago, not seen since.  #Autumn",
           0.354
          ],
          [
           "The American Idiot record turns twelve today it changed my preppy middle school heart into a desolate punk rock desert I am forever grateful",
           0.271
          ],
          [
           "@HannahFJames I'm distraught! 😭 Candice and her pout can piss off",
           0.688
          ],
          [
           "Somewhere between  #hope and #despair the day after #meetingmyabuserincourt \\n#DVSurvivor",
           0.81
          ],
          [
           "tones - \\n: 1/2 of my favourite chris pine stans. i love tones more than anything, mt sweet summer child i will attack anyone who hurts her",
           0.271
          ],
          [
           "Do not be discouraged by a slowing sales market. This will test your business model and pinpoint #strengths and #weaknesses.' @Ken_Dunn",
           0.271
          ],
          [
           "@DxfyingGrxvity - that were rather forlorn, scanning the witches house before resting back on Elphie. 'The Grimmerie is gone.'",
           0.458
          ],
          [
           "Has anyone noticed that @npr stories in recent days all paint positive accomplishments for Trump and challenges for Hillary? #surprised #sad",
           0.5
          ],
          [
           "@thehill George H. Establishment is unhappy Trump's campaign branded his son low-energy, but he could not have beaten the others either.",
           0.521
          ],
          [
           "This weather got me fucked up. Like you either be sunny and hot or gloomy and cold. No in between.",
           0.646
          ],
          [
           "@deshbhakthoon always unhappy and easily offended.",
           0.604
          ],
          [
           "When will the weeks full of Mondays end?? #disheartened",
           0.688
          ],
          [
           "Hello my dear friends, I will be back online this Friday night. I miss you! #sober #sobriety #recovery",
           0.417
          ],
          [
           "@xOffWithMyHeadx They've officially said all the episodes left (so future 12 and despair 11 and 12) will be delayed.",
           0.438
          ],
          [
           "Soooo badly want to dye my hair dark but have never been dark before soooo torn 😭😭😭",
           0.5
          ],
          [
           "Folk Band 'Thistle Down' will be replaced by 'The Paul Edwards Quartet' at Laurel Bank Park Sat 24 11am - 3pm due to ill health #jazz #blues",
           0.417
          ],
          [
           "@pmo100 @5liveSport .....I heard talk something is a miss. He looks weary.",
           0.458
          ],
          [
           "If I had a little bit of extra money I would blow the whole paycheck and go to one of the two of @KygoMusic's concerts in LA. #serious",
           0.167
          ],
          [
           "@GolfStrat out of Rory starts. What would your B group look like w/o him? Hideki and Walker, and throw Reed or Knox on the pine?",
           0.343
          ],
          [
           "@LeePorter94 @DomMcGovern_ hi Dom I saw u at Notts county away, looking for 1 mufc away ticket will pay ",
           0.312
          ]
         ],
         "hovertemplate": "emotion=sadness<br>UMAP1=%{x}<br>UMAP2=%{y}<br>text=%{customdata[0]}<br>intensity=%{customdata[1]}<extra></extra>",
         "legendgroup": "sadness",
         "marker": {
          "color": "#ab63fa",
          "symbol": "circle"
         },
         "mode": "markers",
         "name": "sadness",
         "orientation": "v",
         "showlegend": true,
         "type": "scatter",
         "x": {
          "bdata": "kmvbQDUiw0C3U5tAFa7fQJ7InUCIDv1A2bviQL9X30CheKBAioTLQK/C8EBt+NdA4BarQLmVnEBkvO5Av4TkQOez+EDDWeRAVIvoQCd00kDbgs9ANWzaQL6p4kDMbspADi6OQBHVrEAh0ddARMTKQDkt60DlBtlAQj4HQeG5+ED+2pFA3fjvQJOx5UBrb8BAXkrGQApV9kCEt9pAv37nQB4s7EDSHeRA9jXoQA==",
          "dtype": "f4"
         },
         "xaxis": "x",
         "y": {
          "bdata": "NRI2QbuQ40C2Ky9BVwfgQGJI7kD4oBBBcdTXQGyIMUEtVy9BG/AiQcBoEEG36BZB1rIEQaBSHkEfwNVAe6PNQEg23kDZhvZARpfPQB/yNEG4+uNAVBTVQMQf7kABptxAhCARQWMbLUEYUN1AbtsFQUNj4EDyhOdAYJ0VQQGoGEFXWR1BAp0aQZPzzkCE6NhA4r7XQMuG4EDtFBtBQnoVQf6tAUEeJxFBZCIlQQ==",
          "dtype": "f4"
         },
         "yaxis": "y"
        }
       ],
       "layout": {
        "legend": {
         "title": {
          "text": "emotion"
         },
         "tracegroupgap": 0
        },
        "template": {
         "data": {
          "bar": [
           {
            "error_x": {
             "color": "#2a3f5f"
            },
            "error_y": {
             "color": "#2a3f5f"
            },
            "marker": {
             "line": {
              "color": "#E5ECF6",
              "width": 0.5
             },
             "pattern": {
              "fillmode": "overlay",
              "size": 10,
              "solidity": 0.2
             }
            },
            "type": "bar"
           }
          ],
          "barpolar": [
           {
            "marker": {
             "line": {
              "color": "#E5ECF6",
              "width": 0.5
             },
             "pattern": {
              "fillmode": "overlay",
              "size": 10,
              "solidity": 0.2
             }
            },
            "type": "barpolar"
           }
          ],
          "carpet": [
           {
            "aaxis": {
             "endlinecolor": "#2a3f5f",
             "gridcolor": "white",
             "linecolor": "white",
             "minorgridcolor": "white",
             "startlinecolor": "#2a3f5f"
            },
            "baxis": {
             "endlinecolor": "#2a3f5f",
             "gridcolor": "white",
             "linecolor": "white",
             "minorgridcolor": "white",
             "startlinecolor": "#2a3f5f"
            },
            "type": "carpet"
           }
          ],
          "choropleth": [
           {
            "colorbar": {
             "outlinewidth": 0,
             "ticks": ""
            },
            "type": "choropleth"
           }
          ],
          "contour": [
           {
            "colorbar": {
             "outlinewidth": 0,
             "ticks": ""
            },
            "colorscale": [
             [
              0,
              "#0d0887"
             ],
             [
              0.1111111111111111,
              "#46039f"
             ],
             [
              0.2222222222222222,
              "#7201a8"
             ],
             [
              0.3333333333333333,
              "#9c179e"
             ],
             [
              0.4444444444444444,
              "#bd3786"
             ],
             [
              0.5555555555555556,
              "#d8576b"
             ],
             [
              0.6666666666666666,
              "#ed7953"
             ],
             [
              0.7777777777777778,
              "#fb9f3a"
             ],
             [
              0.8888888888888888,
              "#fdca26"
             ],
             [
              1,
              "#f0f921"
             ]
            ],
            "type": "contour"
           }
          ],
          "contourcarpet": [
           {
            "colorbar": {
             "outlinewidth": 0,
             "ticks": ""
            },
            "type": "contourcarpet"
           }
          ],
          "heatmap": [
           {
            "colorbar": {
             "outlinewidth": 0,
             "ticks": ""
            },
            "colorscale": [
             [
              0,
              "#0d0887"
             ],
             [
              0.1111111111111111,
              "#46039f"
             ],
             [
              0.2222222222222222,
              "#7201a8"
             ],
             [
              0.3333333333333333,
              "#9c179e"
             ],
             [
              0.4444444444444444,
              "#bd3786"
             ],
             [
              0.5555555555555556,
              "#d8576b"
             ],
             [
              0.6666666666666666,
              "#ed7953"
             ],
             [
              0.7777777777777778,
              "#fb9f3a"
             ],
             [
              0.8888888888888888,
              "#fdca26"
             ],
             [
              1,
              "#f0f921"
             ]
            ],
            "type": "heatmap"
           }
          ],
          "histogram": [
           {
            "marker": {
             "pattern": {
              "fillmode": "overlay",
              "size": 10,
              "solidity": 0.2
             }
            },
            "type": "histogram"
           }
          ],
          "histogram2d": [
           {
            "colorbar": {
             "outlinewidth": 0,
             "ticks": ""
            },
            "colorscale": [
             [
              0,
              "#0d0887"
             ],
             [
              0.1111111111111111,
              "#46039f"
             ],
             [
              0.2222222222222222,
              "#7201a8"
             ],
             [
              0.3333333333333333,
              "#9c179e"
             ],
             [
              0.4444444444444444,
              "#bd3786"
             ],
             [
              0.5555555555555556,
              "#d8576b"
             ],
             [
              0.6666666666666666,
              "#ed7953"
             ],
             [
              0.7777777777777778,
              "#fb9f3a"
             ],
             [
              0.8888888888888888,
              "#fdca26"
             ],
             [
              1,
              "#f0f921"
             ]
            ],
            "type": "histogram2d"
           }
          ],
          "histogram2dcontour": [
           {
            "colorbar": {
             "outlinewidth": 0,
             "ticks": ""
            },
            "colorscale": [
             [
              0,
              "#0d0887"
             ],
             [
              0.1111111111111111,
              "#46039f"
             ],
             [
              0.2222222222222222,
              "#7201a8"
             ],
             [
              0.3333333333333333,
              "#9c179e"
             ],
             [
              0.4444444444444444,
              "#bd3786"
             ],
             [
              0.5555555555555556,
              "#d8576b"
             ],
             [
              0.6666666666666666,
              "#ed7953"
             ],
             [
              0.7777777777777778,
              "#fb9f3a"
             ],
             [
              0.8888888888888888,
              "#fdca26"
             ],
             [
              1,
              "#f0f921"
             ]
            ],
            "type": "histogram2dcontour"
           }
          ],
          "mesh3d": [
           {
            "colorbar": {
             "outlinewidth": 0,
             "ticks": ""
            },
            "type": "mesh3d"
           }
          ],
          "parcoords": [
           {
            "line": {
             "colorbar": {
              "outlinewidth": 0,
              "ticks": ""
             }
            },
            "type": "parcoords"
           }
          ],
          "pie": [
           {
            "automargin": true,
            "type": "pie"
           }
          ],
          "scatter": [
           {
            "fillpattern": {
             "fillmode": "overlay",
             "size": 10,
             "solidity": 0.2
            },
            "type": "scatter"
           }
          ],
          "scatter3d": [
           {
            "line": {
             "colorbar": {
              "outlinewidth": 0,
              "ticks": ""
             }
            },
            "marker": {
             "colorbar": {
              "outlinewidth": 0,
              "ticks": ""
             }
            },
            "type": "scatter3d"
           }
          ],
          "scattercarpet": [
           {
            "marker": {
             "colorbar": {
              "outlinewidth": 0,
              "ticks": ""
             }
            },
            "type": "scattercarpet"
           }
          ],
          "scattergeo": [
           {
            "marker": {
             "colorbar": {
              "outlinewidth": 0,
              "ticks": ""
             }
            },
            "type": "scattergeo"
           }
          ],
          "scattergl": [
           {
            "marker": {
             "colorbar": {
              "outlinewidth": 0,
              "ticks": ""
             }
            },
            "type": "scattergl"
           }
          ],
          "scattermap": [
           {
            "marker": {
             "colorbar": {
              "outlinewidth": 0,
              "ticks": ""
             }
            },
            "type": "scattermap"
           }
          ],
          "scattermapbox": [
           {
            "marker": {
             "colorbar": {
              "outlinewidth": 0,
              "ticks": ""
             }
            },
            "type": "scattermapbox"
           }
          ],
          "scatterpolar": [
           {
            "marker": {
             "colorbar": {
              "outlinewidth": 0,
              "ticks": ""
             }
            },
            "type": "scatterpolar"
           }
          ],
          "scatterpolargl": [
           {
            "marker": {
             "colorbar": {
              "outlinewidth": 0,
              "ticks": ""
             }
            },
            "type": "scatterpolargl"
           }
          ],
          "scatterternary": [
           {
            "marker": {
             "colorbar": {
              "outlinewidth": 0,
              "ticks": ""
             }
            },
            "type": "scatterternary"
           }
          ],
          "surface": [
           {
            "colorbar": {
             "outlinewidth": 0,
             "ticks": ""
            },
            "colorscale": [
             [
              0,
              "#0d0887"
             ],
             [
              0.1111111111111111,
              "#46039f"
             ],
             [
              0.2222222222222222,
              "#7201a8"
             ],
             [
              0.3333333333333333,
              "#9c179e"
             ],
             [
              0.4444444444444444,
              "#bd3786"
             ],
             [
              0.5555555555555556,
              "#d8576b"
             ],
             [
              0.6666666666666666,
              "#ed7953"
             ],
             [
              0.7777777777777778,
              "#fb9f3a"
             ],
             [
              0.8888888888888888,
              "#fdca26"
             ],
             [
              1,
              "#f0f921"
             ]
            ],
            "type": "surface"
           }
          ],
          "table": [
           {
            "cells": {
             "fill": {
              "color": "#EBF0F8"
             },
             "line": {
              "color": "white"
             }
            },
            "header": {
             "fill": {
              "color": "#C8D4E3"
             },
             "line": {
              "color": "white"
             }
            },
            "type": "table"
           }
          ]
         },
         "layout": {
          "annotationdefaults": {
           "arrowcolor": "#2a3f5f",
           "arrowhead": 0,
           "arrowwidth": 1
          },
          "autotypenumbers": "strict",
          "coloraxis": {
           "colorbar": {
            "outlinewidth": 0,
            "ticks": ""
           }
          },
          "colorscale": {
           "diverging": [
            [
             0,
             "#8e0152"
            ],
            [
             0.1,
             "#c51b7d"
            ],
            [
             0.2,
             "#de77ae"
            ],
            [
             0.3,
             "#f1b6da"
            ],
            [
             0.4,
             "#fde0ef"
            ],
            [
             0.5,
             "#f7f7f7"
            ],
            [
             0.6,
             "#e6f5d0"
            ],
            [
             0.7,
             "#b8e186"
            ],
            [
             0.8,
             "#7fbc41"
            ],
            [
             0.9,
             "#4d9221"
            ],
            [
             1,
             "#276419"
            ]
           ],
           "sequential": [
            [
             0,
             "#0d0887"
            ],
            [
             0.1111111111111111,
             "#46039f"
            ],
            [
             0.2222222222222222,
             "#7201a8"
            ],
            [
             0.3333333333333333,
             "#9c179e"
            ],
            [
             0.4444444444444444,
             "#bd3786"
            ],
            [
             0.5555555555555556,
             "#d8576b"
            ],
            [
             0.6666666666666666,
             "#ed7953"
            ],
            [
             0.7777777777777778,
             "#fb9f3a"
            ],
            [
             0.8888888888888888,
             "#fdca26"
            ],
            [
             1,
             "#f0f921"
            ]
           ],
           "sequentialminus": [
            [
             0,
             "#0d0887"
            ],
            [
             0.1111111111111111,
             "#46039f"
            ],
            [
             0.2222222222222222,
             "#7201a8"
            ],
            [
             0.3333333333333333,
             "#9c179e"
            ],
            [
             0.4444444444444444,
             "#bd3786"
            ],
            [
             0.5555555555555556,
             "#d8576b"
            ],
            [
             0.6666666666666666,
             "#ed7953"
            ],
            [
             0.7777777777777778,
             "#fb9f3a"
            ],
            [
             0.8888888888888888,
             "#fdca26"
            ],
            [
             1,
             "#f0f921"
            ]
           ]
          },
          "colorway": [
           "#636efa",
           "#EF553B",
           "#00cc96",
           "#ab63fa",
           "#FFA15A",
           "#19d3f3",
           "#FF6692",
           "#B6E880",
           "#FF97FF",
           "#FECB52"
          ],
          "font": {
           "color": "#2a3f5f"
          },
          "geo": {
           "bgcolor": "white",
           "lakecolor": "white",
           "landcolor": "#E5ECF6",
           "showlakes": true,
           "showland": true,
           "subunitcolor": "white"
          },
          "hoverlabel": {
           "align": "left"
          },
          "hovermode": "closest",
          "mapbox": {
           "style": "light"
          },
          "paper_bgcolor": "white",
          "plot_bgcolor": "#E5ECF6",
          "polar": {
           "angularaxis": {
            "gridcolor": "white",
            "linecolor": "white",
            "ticks": ""
           },
           "bgcolor": "#E5ECF6",
           "radialaxis": {
            "gridcolor": "white",
            "linecolor": "white",
            "ticks": ""
           }
          },
          "scene": {
           "xaxis": {
            "backgroundcolor": "#E5ECF6",
            "gridcolor": "white",
            "gridwidth": 2,
            "linecolor": "white",
            "showbackground": true,
            "ticks": "",
            "zerolinecolor": "white"
           },
           "yaxis": {
            "backgroundcolor": "#E5ECF6",
            "gridcolor": "white",
            "gridwidth": 2,
            "linecolor": "white",
            "showbackground": true,
            "ticks": "",
            "zerolinecolor": "white"
           },
           "zaxis": {
            "backgroundcolor": "#E5ECF6",
            "gridcolor": "white",
            "gridwidth": 2,
            "linecolor": "white",
            "showbackground": true,
            "ticks": "",
            "zerolinecolor": "white"
           }
          },
          "shapedefaults": {
           "line": {
            "color": "#2a3f5f"
           }
          },
          "ternary": {
           "aaxis": {
            "gridcolor": "white",
            "linecolor": "white",
            "ticks": ""
           },
           "baxis": {
            "gridcolor": "white",
            "linecolor": "white",
            "ticks": ""
           },
           "bgcolor": "#E5ECF6",
           "caxis": {
            "gridcolor": "white",
            "linecolor": "white",
            "ticks": ""
           }
          },
          "title": {
           "x": 0.05
          },
          "xaxis": {
           "automargin": true,
           "gridcolor": "white",
           "linecolor": "white",
           "ticks": "",
           "title": {
            "standoff": 15
           },
           "zerolinecolor": "white",
           "zerolinewidth": 2
          },
          "yaxis": {
           "automargin": true,
           "gridcolor": "white",
           "linecolor": "white",
           "ticks": "",
           "title": {
            "standoff": 15
           },
           "zerolinecolor": "white",
           "zerolinewidth": 2
          }
         }
        },
        "title": {
         "text": "2D UMAP Projection of Text Embeddings"
        },
        "xaxis": {
         "anchor": "y",
         "domain": [
          0,
          1
         ],
         "title": {
          "text": "UMAP1"
         }
        },
        "yaxis": {
         "anchor": "x",
         "domain": [
          0,
          1
         ],
         "title": {
          "text": "UMAP2"
         }
        }
       }
      }
     },
     "metadata": {},
     "output_type": "display_data"
    }
   ],
   "source": [
    "import pandas as pd\n",
    "import numpy as np\n",
    "import umap\n",
    "import plotly.express as px\n",
    "\n",
    "# Concatenate the training and test data\n",
    "combined_df = pd.concat([train_df_new, test_df_new], ignore_index=True)\n",
    "\n",
    "# Prepare the embeddings for UMAP\n",
    "# Convert the list of embeddings into a 2D numpy array\n",
    "X_embeddings = np.array(combined_df['embeddings_values'].tolist())\n",
    "\n",
    "# Apply UMAP for dimensionality reduction\n",
    "reducer = umap.UMAP(n_components=2, metric='cosine', random_state=28) \n",
    "embedding_2d = reducer.fit_transform(X_embeddings)\n",
    "\n",
    "# Create a DataFrame for plotting\n",
    "df_plot = pd.DataFrame(embedding_2d, columns=['UMAP1', 'UMAP2'])\n",
    "df_plot['emotion'] = combined_df['emotion']\n",
    "df_plot['intensity'] = combined_df['intensity']\n",
    "df_plot['text'] = combined_df['text']\n",
    "\n",
    "\n",
    "# Visualize the embeddings with Plotly\n",
    "fig = px.scatter(\n",
    "    df_plot,\n",
    "    x='UMAP1',\n",
    "    y='UMAP2',\n",
    "    color='emotion',  # Color points by the 'emotion' column\n",
    "    hover_data=['text', 'intensity'],  # Show text and intensity on hover\n",
    "    title='2D UMAP Projection of Text Embeddings'\n",
    ")\n",
    "\n",
    "fig.show()"
   ]
  },
  {
   "cell_type": "markdown",
   "metadata": {},
   "source": [
    "We can see that even with Gemini's embeddings there doesn't seem to be a clear 2D separation of clusters with our data classes. It could be because emotions are often not discrete. Texts can contain mixed feelings (e.g., \"bittersweet\") or use similar language to express different emotions, causing their embeddings to be naturally close in semantic space. And also the process of projecting high-dimensional embeddings down to a 2D visualization inevitably loses some information, which can make distinct clusters appear to overlap."
   ]
  },
  {
   "cell_type": "markdown",
   "metadata": {},
   "source": [
    "---\n",
    "##### <a id='toc1_5_8_1_1_'></a>[**>>> Exercise 4 (Take home):**](#toc0_)\n",
    "\n",
    "Apply UMAP to the same embeddings to reduce the dimensionality to 3D vectors and plot the 3D graph, discuss the differences and similarities with the 2D graph."
   ]
  },
  {
   "cell_type": "code",
   "execution_count": 39,
   "metadata": {},
   "outputs": [
    {
     "name": "stderr",
     "output_type": "stream",
     "text": [
      "c:\\Users\\User\\桌面\\DM\\DM2025-Lab2-Exercise\\.venv\\Lib\\site-packages\\umap\\umap_.py:1952: UserWarning:\n",
      "\n",
      "n_jobs value 1 overridden to 1 by setting random_state. Use no seed for parallelism.\n",
      "\n"
     ]
    },
    {
     "data": {
      "application/vnd.plotly.v1+json": {
       "config": {
        "plotlyServerURL": "https://plot.ly"
       },
       "data": [
        {
         "customdata": [
          [
           "@mandyjohnson I'll be honest.. I hope that annoying Southern bint with the 'look at me' pout goes out this week! Selasi #FTW",
           0.646
          ],
          [
           "@RobertTaitWHU against Chelsea anything is possible haha. I'm fuming about that bet 🙄🙄🙄🙄🙄🙄",
           0.646
          ],
          [
           "I didn't find out about this till today due to my bff telling me. I am so disgusted and offended by this.",
           0.75
          ],
          [
           "schneiderlin taking his revenge for the 2 fouls",
           0.396
          ],
          [
           "@RichardHBell Yes, I think he held a grudge ...",
           0.375
          ],
          [
           "@Aurena1701 @AngryOrchard he didn't sting me luckily. He just flew off happy and drunk. Lolololol",
           0.146
          ],
          [
           "Take public opinion on revenge with Pakistan if govt is unable to decide. @aajtak @TimesNow @narendramodi",
           0.458
          ],
          [
           "Your twitter picture just makes me fume.",
           0.729
          ],
          [
           "Grateful for all the hungry people in my life! Hungry to learn, change, grow, help, etc - not sure anybody has it better! ",
           0.396
          ],
          [
           "the bee sting still suck i feel sick",
           0.479
          ],
          [
           "@billburr DirectTV is the best. Apparently you just sit in silent anger. 'Don't press or say anything'",
           0.417
          ],
          [
           "So my Indian Uber driver just called someone the N word. If I wasn't in a moving vehicle I'd have jumped out #disgusted #offended",
           0.729
          ],
          [
           "@Kim_is__bored exactly what I have been saying on fb.. ",
           0.354
          ],
          [
           "@jaaames1993 Literally burst out laughing.",
           0.067
          ],
          [
           "This all resent #India #Pakistan problem is save #NawazSharif\\n@ImranKhanPTI\\n@PTIofficial",
           0.312
          ],
          [
           "Damn our offense is a mix bag of unpredictable lethal weapons I'm worried for Defense Coordinators 😁 #Chargers #Boltup #Recharged",
           0.479
          ],
          [
           "I mean I'm not done watching the pilot, but it's nice to see a group of actors perform without story lines dripping relentless nihilism.",
           0.458
          ],
          [
           "Im so angry 😂🙃",
           0.75
          ],
          [
           "@len_snart gives a frustrated growl, before stepping closer and putting his gun through the barrier. No alarms and nothing happened. He-",
           0.458
          ],
          [
           "Well, the lines for Sweden's goals sure sting.",
           0.312
          ],
          [
           "Kik me I want to swap pics I will post on my account anonymously if you wish Kik: vsvplou #Kik #kikme  #nudes #tits #snapchat",
           0.188
          ],
          [
           "@The_Nasty_P now you gotta do that with fast n furious",
           0.354
          ],
          [
           "@shopgreenwich #ldf16 what shall we do this weekend?  #spraypainting in #greenwichmarket with @SNUB23 #core246 #lilylou #fret &amp; #benoakley",
           0.271
          ],
          [
           "The majority of people irritate the fuck out of me, cba with people ahahah",
           0.862
          ],
          [
           "@kencurtin they might get Donal óg sure! They won't have him in cork as he's to fiery for dopey frank &amp; his cult",
           0.458
          ],
          [
           "@LickMeLucas ...I'm waiting for you to figure out I'm like... from 0 to 100 real quick with the irritation.",
           0.604
          ],
          [
           "@arppaul @chetanlfc @mannkakhiladi @dey_spandan @umeroffcial  Comparing Akshay Sir with this zandu balm is an insult to Akshay Sir.",
           0.5
          ],
          [
           "Follow me on Snapchat 👻 Carlabtst15 #snapchat ",
           0.188
          ],
          [
           "remember when that guy got #angry that i kept saying gary sanchez was the best baseball player in the world... lmao",
           0.417
          ],
          [
           "@SonOfTheDovah *She could sense the anger stirring within him and took his hand in hers.* As long as we stay together, we'll both be safe.--",
           0.375
          ],
          [
           "@CrayonToCrayon @SueScoby \\nIt's always fun to anger 'All the Old Dudes.' with Rock N' Roll :))",
           0.354
          ],
          [
           "Someone needs to tell Candice she'll be stuck with that shitty pout if the wind changes. #GBBO",
           0.688
          ],
          [
           "@coltonflurry @StrangeFacesLA I cancelled by CBS all access live feeds before JC even said Vic won AFP. Paul.should have won IMO ",
           0.438
          ],
          [
           "@Austin4evaLEEDS fuming!",
           0.625
          ],
          [
           "@JustPyroNow are you gonna do any kind of community raids when wrath of the machine drops?",
           0.375
          ],
          [
           "@bt_uk why does tracking show my equipment delivered, when it wasn't? Why is my service suddenly delayed? We've already 3 weeks. ",
           0.646
          ],
          [
           "@xandraaa5 @amayaallyn6 shut up hashtags are cool ",
           0.438
          ],
          [
           "Since the 'update' my @iPhone loses power nearly 40% faster.  #furious",
           0.792
          ],
          [
           "@ZubairSabirPTI  pls dont insult the word 'Molna'",
           0.479
          ],
          [
           "@HomeSwapperteam  Spent months arranging swap , new jobs etc, now I've found out she's been leading me on a merry dance. #fuming with her",
           0.667
          ],
          [
           "Just joined #pottermore and was sorted into HUFFLEPUFF 😡😡😡 #fuming",
           0.708
          ],
          [
           "If I spend even 5 minutes with you and you already irritate me I seriously will bitch you out until you shut up",
           0.812
          ],
          [
           "Literally fuming fuck sake",
           0.86
          ],
          [
           "S/O to the girl that just hit my car...not only did she get lucky w/ no scratch but also from being spared the wrath of sleep deprived Kait🙃",
           0.542
          ],
          [
           "Having a baby born too soon is #lifechanging 6 years on and it feels like only yesterday #sad #happy  #emotionalrollercoaster",
           0.354
          ],
          [
           "All Brian does is sleep and aggravate me",
           0.833
          ],
          [
           "Kik to trade, have fun or a conversation  (kik: youraffair) #kik #kikme #messageme #textme #pics #trade #tradepics #dm #snap #bored",
           0.167
          ],
          [
           "@Yoshi_OnoChin can you please not have Canadian players play US players, that lag  is atrocious. #fixthisgame #trash #sfvrefund ",
           0.646
          ]
         ],
         "hovertemplate": "emotion=anger<br>UMAP1=%{x}<br>UMAP2=%{y}<br>UMAP3=%{z}<br>text=%{customdata[0]}<br>intensity=%{customdata[1]}<extra></extra>",
         "legendgroup": "anger",
         "marker": {
          "color": "#636efa",
          "symbol": "circle"
         },
         "mode": "markers",
         "name": "anger",
         "scene": "scene",
         "showlegend": true,
         "type": "scatter3d",
         "x": {
          "bdata": "fN+qQCwK1UCoKrlAwajsQLwV0UDfBNlALye/QA3axEAyWvVAXDe9QJV600DL67RAfi7XQK3t30BQh8FAoWqzQGxE20CijNNA4A/NQPwy50AxFs5AWpPHQLVt50Bo+71AuwjgQEsWxkBl/8lAXgTTQL2O2EDNvMlA3SvcQI7nqkBgGbRA8xLNQBmZyEDqwNNAmKm/QNMvw0AlA8hA3+7MQJNGxEC5ibVA6hW+QLXMzkC5hdhAx5avQPGszEDUU7hA",
          "dtype": "f4"
         },
         "y": {
          "bdata": "cxuCQW9og0GKioRBH96HQXzmhkEVi2pBUnuNQfusgEEAC2hB7bBsQaTIfUGdNoVBTBp/QdOdb0HZrY1B0M6AQT7na0EjzXdBDed+QahbhEGrfXZBGO53Qd3thUGJLnRBlLaIQdSxeUFiKoxBIgN2QYR7dEEbxn5BB/t4QZR6gUGop4NBOaiDQUAhdUHbiopBFTt+QT5rhkGUOo1BrRKDQerBhEFIHnhBbXh8Qc4aYkHQrG9BoDN1Qej/dkFH/4dB",
          "dtype": "f4"
         },
         "z": {
          "bdata": "8KI8QXkdNEHqlilBr9AkQRA+HUH68y1BCJINQXLYNkH7gBlB/wkhQW/DPUFhxixByGYmQXHGL0EPrA5BhjwiQTb4HEHa1zpB4C8XQYVxHEEHUCtBl9QnQd3AMUHGkzdBbLchQRAlMEGnwxpBasEpQcWEOUG4ehJBpCczQQOuPUG6TDxB2uYzQSJkI0G1qTpBSRE3QXRLOUGs2xVBGtQ4Qa7hOEELLjhBwBY6QRqAI0EjlAZBqSYzQRI2K0He9zpB",
          "dtype": "f4"
         }
        },
        {
         "customdata": [
          [
           "I really want to go for fright night but I really don't 😁",
           0.583
          ],
          [
           "@Rocks_n_Ropes Can't believe how rude your cashier was today when I was returning an item!  Your customer service is slacking. #terrible",
           0.312
          ],
          [
           "I'm afraid she's the goat you libeling people?  #goat #libeling",
           0.562
          ],
          [
           "I can never find the exact #emoji that I'm after at the exact moment that I need it #panic",
           0.688
          ],
          [
           "@danielleelowell awe man I'm mad I'm sitting here already cutting tulle and ribbon already 😂",
           0.375
          ],
          [
           "Jorge deserves it, honestly. He's weak. #revolting #90dayfiance",
           0.229
          ],
          [
           "It's really alarming when an adult male calls their father 'daddy'",
           0.438
          ],
          [
           "Fosu-Mensa is having a nightmare 15 minutes. Difference between Premier League reserves and League 1 is still wide",
           0.375
          ],
          [
           "Can't start a good day without a cup of tea! \\n\\n#tea #start #day #goodday",
           0.104
          ],
          [
           "still shaking though 🙃",
           0.688
          ],
          [
           "What a shamefull, unequal, dangerous and worrying world we live in nowadays!  #terrifying #Charlotte #terrorism #shitworldforourkids",
           0.854
          ],
          [
           "@BraveHermione_ + and gives it to hear] 'Please.. I can tell you anything if you want to listen. maybe you're dont afraid anymore of me +",
           0.592
          ],
          [
           "@ChrisChristie You have no Police credentials-You were a litigator. Nothing more-No Experience. #Sad #TrumpPuppet #Felon  #jersey4sale",
           0.521
          ],
          [
           "My view of the human being is as a dynamic expression of the Cosmos we exist within #humanism ",
           0.271
          ],
          [
           "Wah just woke up frm a fucking nightmare",
           0.898
          ],
          [
           "@RockSolidShow @Pat_Francis #revolting cocks if you think I'm sexy!",
           0.292
          ],
          [
           "@andrewspoooner wouldn't cross the street to piss on its server if it was on dire",
           0.458
          ],
          [
           "@Joey7Barton I remember Joey slagging England player's off bringing out books after crap tournaments..same same..crap player ",
           0.333
          ],
          [
           "One more step in long work #visa process is over. Relief. Onto next step. #expat ",
           0.354
          ],
          [
           "Are there any #horror sites that would be interested in my writing a guest article/review? Been really craving a literary outlet lately.",
           0.354
          ],
          [
           "# ISIS REFERENCES SCRUBBED?  Federal complaint against suspect in NYC, NJ bombings appears to omit terror names in bloody journ...  #news",
           0.729
          ],
          [
           "No red card for Gordon there? The ref must be a Celtic fan as that was a shocking challenge.",
           0.297
          ],
          [
           "@p4pictures it would be great but what if the card crashes 😱. It's happened to me twice ",
           0.708
          ],
          [
           "#Everything you've ever wanted awaits you on the other side of #fear . #IfIWasTheOppositeSex #AskAMan",
           0.479
          ],
          [
           "@KennyCoble @Rosie these horrific situations will only get worse if trump is elected. vote Hillary.",
           0.708
          ],
          [
           "onus is on Pakistan' : @MEAIndia after #Uri #terror attack",
           0.583
          ],
          [
           "@YahooCare data stolen in 2014 and only now do you tell us #shocking.",
           0.56
          ],
          [
           "... in the same speech.  However he did mention foreign hand and funding in terrorism in the country. 👍\\n#ProudOfYouPrimeMinister",
           0.417
          ],
          [
           "When someone tells you they're going to 'tear you apart' and all they have to say is 'why are you so tall?' #shocking",
           0.542
          ],
          [
           "Drop every fear...",
           0.333
          ],
          [
           "Still waiting to see if my @london2012track will make an appearance next week - two months today it was ordered  #badservice",
           0.453
          ],
          [
           "We hesitate to #live our #dream because of some unknown #fear which actually does not exist.' #AqeelSyed\\n\\n#LifeisBeautiful #LiveWithPurpose",
           0.396
          ],
          [
           "a panic attack AND CALL YOURSELF A REAL FAN makes me so mad like i dont even have the words to explain. this is why some people give no +",
           0.646
          ],
          [
           "Let's refuse to live in #fear -  #c$%t",
           0.354
          ],
          [
           "wonder if at any point #BobMarley ever actually became #afraid of just how #high he'd gotten. :o #420",
           0.271
          ],
          [
           "People’s deepest passions often scare them too much to admit, even to themselves.",
           0.521
          ],
          [
           "a #monster is only a #monster if you view him through #fear",
           0.5
          ],
          [
           "Ha! @mquirk @joshuahoodbooks Got your book after our 'meeting' at the Starbucks in NOLA. If Josh says it's terrific, I'm all in.",
           0.125
          ],
          [
           "Today was horrible and it was only half a day",
           0.854
          ],
          [
           "@Taoist_Skeptic @jackaberlin @DrJillStein @politicususa Doubt U have anything to be afraid of as Trump has been vilifying minorities &amp; women",
           0.562
          ],
          [
           "I had a panic attack when I couldn't find @katrinalaw on #Twitter Turns out my Twitter is a jerk. I can still see her. #NyssaAlghul #panic",
           0.833
          ],
          [
           "@ZaidZamanHamid Speech is still not up to the mark. No mention of 'Genocide', Indian terrorism in Pak. It was all planned speech.",
           0.458
          ],
          [
           "can't believe Mint fest is two days away and i hate my outfit 😩😩🙈 #nightmare",
           0.542
          ],
          [
           "Ugh I want to punch a wall every time I have to use @windows 10. Literally the worst product ever made #windows10 #awful #killme",
           0.542
          ],
          [
           "I have a job interview with @BarclaysUK in Loughborough next month #nervous!!!",
           0.72
          ],
          [
           "@jessespector @nasboat old rich white religious guy supports republicans. Not shocking at all.",
           0.271
          ],
          [
           "Fuck being shy, I'm trying to be up in them thighs.",
           0.354
          ],
          [
           "@falklands_utd @mauriciomacri \\nbecause distrust in life , Argentina has a lot of heart and this President is worth every vote.",
           0.312
          ],
          [
           "I am beyond mad that I lost track of a brown spider in my brown carpet. Where did you go? 🕷 will be sneaking up on me ",
           0.917
          ],
          [
           "@Delta stuck on runway after being diverted to Fargo. Continuously told just 10 more mins for the past 4 hours. No food/water offered #awful",
           0.667
          ],
          [
           "@JonnyDunn93 and Gerrard was awful then",
           0.458
          ],
          [
           "@JeffersonLake speaking of ex cobblers, saw Ricky Holmes at Charlton last week.. tracking back &amp; defending... I dread seeing Gorre on ball..",
           0.417
          ],
          [
           "Really.....#Jumanji 2....w/ The Rock, Jack Black, and Kevin Hart...are you kidding me! WTF! #ThisIsATerribleIdea ",
           0.542
          ],
          [
           "Came in to work today 1.5 hours late.1st thing I hear: 'Ma'am,the big boss has been waiting for you in his office.' #panic #hateBeingLate 😩😪",
           0.896
          ],
          [
           "@CNNPolitics I can't wait to hear what he had to say about the brilliant Dr. Hawking... it should be rich... In the poorest of taste! ",
           0.246
          ],
          [
           "Northampton are awful 🙈",
           0.5
          ],
          [
           "I want to be a woman who #overcomes obstacles by tackling them in #faith instead of tiptoeing around them in #fear. Renee Swope",
           0.312
          ],
          [
           "There goes the butterflies in my stomach. #nervous #anxietyproblems",
           0.812
          ],
          [
           "@joey_coops yes Hun! Avoid at all costs!! ",
           0.389
          ],
          [
           "@soozclifford Sure have... Sydney are too tough, too quick and their 'team' pressure is too much for the Cats to handle. Motlop/Cowan ",
           0.356
          ],
          [
           "Losing to Villa...'@M0tivati0nQuote: Most of the things people worry about are things that won't even matter to them a few months from now.'",
           0.311
          ],
          [
           "@CesarSampao @thisisbolton don't get me started on town centre. Used to go every week.... not been for 18 months ",
           0.458
          ],
          [
           "@All4 is the android app it designed to be buggy and work sporadically on a fire TV box? ",
           0.25
          ],
          [
           "About 7 weeks till I can pick up my camera again. Though I think there is a group cemetery shoot in october I can make! #photography #horror",
           0.396
          ]
         ],
         "hovertemplate": "emotion=fear<br>UMAP1=%{x}<br>UMAP2=%{y}<br>UMAP3=%{z}<br>text=%{customdata[0]}<br>intensity=%{customdata[1]}<extra></extra>",
         "legendgroup": "fear",
         "marker": {
          "color": "#EF553B",
          "symbol": "circle"
         },
         "mode": "markers",
         "name": "fear",
         "scene": "scene",
         "showlegend": true,
         "type": "scatter3d",
         "x": {
          "bdata": "NISvQKZ/u0CSiaFAPvOiQEdtzEDw5qRA8KutQGCV6UCMwwBBgi7AQG7/qEBhIshANka8QOd38UClhahAIUGmQPg1tUCvSNBABQfOQLTPukAJX7NA0Y/pQIw8vUCFAJ5AemStQFQ/wED5aMVAZz68QIBQukBWBqdAR+vWQC6aoEDBI61AmxqlQIpEnkBaeaJA2rWfQJRb6kARmbVAvvSkQCXKpEA35r5ANxunQJuuvEB5QqRArjmxQNDJrkDOgs9A9+PQQKwazUDom9tAUg7pQIPCtEDjOahA0Z2rQMdI1kA2uptA8GCqQPuMzUBpVelAb2LjQPkw40CKg9FAXx3OQA==",
          "dtype": "f4"
         },
         "y": {
          "bdata": "W5BvQRjoiEFGk4NBpgxsQYDWeUEaDYJBDYB+QdzSiEGxUWtBA6xoQZYAg0EyJ39BA7aJQY05cUHTRXJBusyAQcVSfkEDE4pBuIliQd2BcUGzGItBofyIQZmmekH3tIBBS/WHQUh0jkHVpIlB53yLQW8OgkG6/n5BFUaLQeubgEElonhBAwuBQfkEgkFsWn9BlkiBQdyWcEELKmhBhXqGQddybEE0RI1B+95tQTxvhkEnNmxBpciIQVOcdkG9N4NBHFZ5QUD7ikEC5YlB4p6IQZrVhkFHhGhBqIuJQYCTiEEtp4BBJWZsQfXShkEzSYZBp8CCQd5+hkEzOYhB7IRuQQ==",
          "dtype": "f4"
         },
         "z": {
          "bdata": "WtgWQeLPN0GpgBRBoGEaQT9uNkE2rzVBWWQtQeNPJkHIixdB7EEbQV8BIkEkeBJBRpghQdufFUH3rSlBJOwzQbHNO0GS+iZBi5YaQQgdEkHvAhRBVz8lQfnaIUHcUQxBQTsgQRr6DUFcETZBxsoOQb/1LUFJ8QtBbPs4QTMqDUFPIiRBCB8QQWkvE0GJ+w5BuM0OQdffJkGZTR1BP08WQUf2HEFngQ9B3OYZQWcsOkGRVBRB2yoaQSgvMUEp3gxBz6k5QRJHPUGtfyRBw50pQZn1NUHbjRpBTtocQWlkLEH4UApBVYkRQVVKLkESihtB1ysOQe+6MEGDjzxB6+4TQQ==",
          "dtype": "f4"
         }
        },
        {
         "customdata": [
          [
           "Benefit out exhilaration called online backing off: JkUVmvQXY",
           0.462
          ],
          [
           "Always be #cheerful, #smile often make others happy, care for others, help who feel helpless and #vulnerable. Life feels good #leadership",
           0.74
          ],
          [
           "I just heard the most incredibly transcendent song ever &amp; now I feel high &amp; fucked up yet joyful &amp; I will never be the same",
           0.607
          ],
          [
           "I love Mary's undying optimism. You could present her with dog shite and she'd find something good to say. #GBBO",
           0.562
          ],
          [
           "Not my fault if I'm more observant than you thought of me to be ! 😜 I'm not sorry 😝 #wisdom #laughter #observingyou #allthetime #becareful 😎",
           0.417
          ],
          [
           "When u /only/ talk 2 me or ask me 'how r things' just 2 get 2 say something u want, 4give me if I'm not elated 2 start a conversation with u",
           0.12
          ],
          [
           "noah fence but i want a harley quinn or blake lively layout",
           0.207
          ],
          [
           "@philjame5 @spoke_bros wow! that looks bright",
           0.438
          ],
          [
           "second day on the job and i already got a 45 dollar tip from a dude whose was constantly twitching his eye LOLOLOL ",
           0.812
          ],
          [
           "@RapeseedOilFans \\nWho nose where those scent roses went\\nTo a spot in the Orient\\nMummified\\nIn rapeseed oil fried\\nEating drinking &amp; merriment.",
           0.479
          ],
          [
           "Quinn's short hair makes me sad. #glee",
           0.04
          ],
          [
           "Pinky is so funny n jovial, bt she got emotional n just brought me 2 tears. I felt so bad for her #Ishqbaaaz",
           0.16
          ],
          [
           "Gas prices are hilarious. Cause they're simultaneously super subsidised and taxed",
           0.22
          ],
          [
           "Dear everyone at HSSU, stop walking with your phones up so I can smile and wave at you and you can smile and wave back :(",
           0.225
          ],
          [
           "Watch this amazing live.ly broadcast by @izzybuzy365  #musically",
           0.667
          ],
          [
           "@aradsliff don't know I'm from nj we are the worst on purpose. ",
           0.139
          ],
          [
           "@palmtreesarah @WorthingTheatre had more fun than the funniest person in funsville..... Much hilarity as usual.... Thank you ❤️",
           0.84
          ],
          [
           "@IndieWire @cinemaeyehonors #WaltzWithBashir was incredible, tho I think it's more of an #animated film than #documentary about #Lebanon war",
           0.44
          ],
          [
           "Morning all! Of course it is sunny on this Monday morning to cheerfully welcome us back to work.:)",
           0.863
          ],
          [
           "@globemartyk 'drunken patroons' make this whole situation much more jovial though.",
           0.54
          ],
          [
           "#ContentwiththeLordsPortion:O satisfy us early with thy #mercy;that we may #rejoice &amp; be glad all our days.#Ps 90:14 #gladness #joy ",
           0.688
          ],
          [
           "Accept the challenges so that you can feel the exhilaration of victory!!",
           0.52
          ],
          [
           "i wonder how gleeful it is to be dumb af and see the world through rose tinted glasses",
           0.148
          ],
          [
           "A hearty welcome to those who followed me.",
           0.615
          ],
          [
           "I thought I got mad for anything but my bf gets mad over any little thing lmfao shit be hilarious",
           0.583
          ],
          [
           "i mean i guess most of the mean ones are treated as like playful but i want to support yoosung without dating him ;___;",
           0.32
          ],
          [
           "So is cheerfulness, or a good temper, the more it is spent, the more remains. Ralph Waldo Emerson",
           0.438
          ],
          [
           "Been waiting all week for this game ❤️❤️❤️ #cheer #friday ❤️",
           0.94
          ],
          [
           "#LMFAO @MSNBC 's #racepimp Tamron Hall used the words 'fscts' and 'MSNBC' in the same sentence #hilarity #libtard #biasedmedia #neverHillary",
           0.5
          ],
          [
           "@JoshNoneYaBiz I love parody accounts! Well done. Vote for #Trump. #lol ",
           0.708
          ],
          [
           "Your lion's heart\\nWill protect you under stormy skies\\nAnd I will always be listening for your laughter and your tears",
           0.458
          ],
          [
           "Day 9 and I am elated because I'm taking PTO tomorrow so I'm doneeeee. But:",
           0.68
          ],
          [
           "It has been medically proven that laughter is an effective pain killer.",
           0.48
          ],
          [
           "mustache_harbor: TiburonChamber plus a hearty pour of #yachtrock by #mustacheharbor !",
           0.55
          ],
          [
           "Final night shift coming up.  I won't miss it but I will miss my work pals and the hysterical laughter that gets us through the night",
           0.333
          ],
          [
           "@__Dayo yall dont feel bad.. you are rejoicing... it is what itnis... its always #ColtsNation even when we have 6th string DBs playing 😔😔",
           0.18
          ],
          [
           "How can l rule my mind !!!!!! \\nIt's hilarious that you can't 😭😑😮",
           0.396
          ],
          [
           "@hesham786 that's the spirit #optimism",
           0.396
          ],
          [
           "If any trump supporters and Hillary haters wanna chirp some weak minded, pandering liberals just tweet at @EmmyA2 @snickerfritz04",
           0.1
          ],
          [
           "@r0Ils ppl get triggered over u smiling they're irrelevant",
           0.17
          ],
          [
           "@Casper10666 I assure you there is no laughter, but increasing anger at the costs, and arrogance of Westminster.",
           0.167
          ],
          [
           "Ready for that nice, breezy, calm, sunshine weather.🍂🍁 #Autumn",
           0.583
          ],
          [
           "When we give cheerfully and accept gratefully, everyone is blessed. »Maya Angelou",
           0.712
          ],
          [
           "@airtelindia have some issues with my broadband bill ,I am charged for the month before I signed up with airtel.. #hilarious",
           0.34
          ],
          [
           "A cheerful heart is good medicine, but a broken spirit saps a person's strength.' {Proverbs 17:22} #WednesdayWisdom",
           0.292
          ]
         ],
         "hovertemplate": "emotion=joy<br>UMAP1=%{x}<br>UMAP2=%{y}<br>UMAP3=%{z}<br>text=%{customdata[0]}<br>intensity=%{customdata[1]}<extra></extra>",
         "legendgroup": "joy",
         "marker": {
          "color": "#00cc96",
          "symbol": "circle"
         },
         "mode": "markers",
         "name": "joy",
         "scene": "scene",
         "showlegend": true,
         "type": "scatter3d",
         "x": {
          "bdata": "iSvpQPHA+0ARB7tA0G6kQA1d3EAPW9BANgfBQCd27EDNnsxAt4jpQNGE0EDAptNA0m/bQPqFy0CaNN9AzJLHQM4t5UD2b8JALGH9QCdj4UCqgQFB+Tr4QKf6w0DYjupAgCzVQJsoykDH2ABB953jQEm/rUBlBrRAcr7LQIArzUDVcfFASSDmQITF0kAMHdhA00nSQM7z8kDUx6tAgMvFQAfX3ECwVPRAFuf9QDu60EAfNv5A",
          "dtype": "f4"
         },
         "y": {
          "bdata": "lG9oQapsaEFFBGtB8JV/QQRvZ0GxNXtBWBx6QRCgdEE81GNB65t+QbufdkG7/HVB/9RrQXndfkGjE3xB19mHQc1/bUEg6oZBL/5qQSFNbUEh4mlBlXBrQf/BbEGImmpBp/dtQWeYe0GbomZBse1rQexpiUG6DohBjLF+QarkYkHQKGdBYVt0QXuJYkE1u3lBMXhrQaMXdEFn5IhBofFyQduagEGE5G9BqBdmQd6LiEEl5GlB",
          "dtype": "f4"
         },
         "z": {
          "bdata": "lNcaQUR5F0Fo8jFBVbA+QSH/KUH/2h5Beu4lQUV2KUG/dyNBQloUQUX6A0GNRgJBXZ80QTbvKUE56CZBqRkmQWzQLkF71xBBto0UQchwJ0ETuBlB/50WQY0HNkGXMhdB3Kc2QVILG0GPHRxBuEQQQXg5G0EJvxpBlbcPQYy8HEEcuiRBJNoqQZM2GkErvQdBjaYyQVG0GUGthh5BKIo3QXg5NkFEZBFBlvEYQdIMO0FUHh1B",
          "dtype": "f4"
         }
        },
        {
         "customdata": [
          [
           "@British_Airways #lost #bag #stillwaiting go home in2days. DM'd you my info and have rung 9times a day. What more can I do? #wheresmybag",
           0.542
          ],
          [
           "@janhopis I found the first few episodes of Bojack incredibly funny. Then it got less funny but I stayed for the #drama",
           0.354
          ],
          [
           "Standard Candice starting the show with a pout #startasyoumeantogoon #GBBO",
           0.354
          ],
          [
           "With loyal heart is concerned. #somber",
           0.688
          ],
          [
           "My name is John Locke and you can't tell me what I can and can't do #lost #アニメ",
           0.292
          ],
          [
           "Bill Clinton: 'Do not grow weary of doing good.' @ClintonGlobal #CGI2016",
           0.275
          ],
          [
           "Lament a \\nsaddened heart,\\nso far &amp; \\nyet so near,\\nthe years so\\ntough &amp; scarred,\\nthis lonesome\\nroad,\\nstill feared! #depression \\n\\n#poetry #poem",
           0.812
          ],
          [
           "@LondonMidland #dobetter only two carriages on 14:49 Birmingham to Hereford no room to stand anymore Friday commute #unhappy",
           0.542
          ],
          [
           "Someone needs to tell Candice she'll be stuck with that shitty pout if the wind changes. #GBBO",
           0.521
          ],
          [
           "@eehbahmum WHY?! Did they want to make you plummet in to the depths of despair??",
           0.604
          ],
          [
           "We can't even grieve over one black body before another one pops up due to pig brutality",
           0.892
          ],
          [
           "9/30 Howland Cultural Center, #BeaconNy Vickie Raabin &amp; Chris Raabe #blues #soul 8pm  @LocalMotionWVKR @hiddencitiesnyc 845-831-4988",
           0.25
          ],
          [
           "Damn gud #premiere #LethalWeapon...#funny and ",
           0.229
          ],
          [
           "ya boy gets mad tired of pine trees",
           0.292
          ],
          [
           "Honestly depression is kicking my ass lately.. 😔",
           0.896
          ],
          [
           "After 3 idk why I start feeling so depress, sad and lonely.",
           0.896
          ],
          [
           "I wouldn't wish anxiety and depression even on the worst of people. It's not fun. #anxiety #depression",
           0.833
          ],
          [
           "Well my evaluation came back and i am minimally effective. Student test scores on the PARCC sunk my eval. it's time for me to quit teaching",
           0.812
          ],
          [
           "i is sad",
           0.729
          ],
          [
           "@lebara - worst possible decision I could have made when arriving in the UK. Shocking service. Poor coverage. #unhappy",
           0.771
          ],
          [
           "What's good is that we already hit rock bottom, even though I'm about two more seasons away from new depths of despair. #playoffs? #NJDevils",
           0.542
          ],
          [
           "The weather sure matches the mood in this state today.. #gloomy",
           0.792
          ],
          [
           "November #canola lost $5.50 to $464.20 per tonne.",
           0.479
          ],
          [
           "@MendipHillsAONB do we think the swallows and swifts have gone? Photo'd 3 nights ago, not seen since.  #Autumn",
           0.354
          ],
          [
           "The American Idiot record turns twelve today it changed my preppy middle school heart into a desolate punk rock desert I am forever grateful",
           0.271
          ],
          [
           "@HannahFJames I'm distraught! 😭 Candice and her pout can piss off",
           0.688
          ],
          [
           "Somewhere between  #hope and #despair the day after #meetingmyabuserincourt \\n#DVSurvivor",
           0.81
          ],
          [
           "tones - \\n: 1/2 of my favourite chris pine stans. i love tones more than anything, mt sweet summer child i will attack anyone who hurts her",
           0.271
          ],
          [
           "Do not be discouraged by a slowing sales market. This will test your business model and pinpoint #strengths and #weaknesses.' @Ken_Dunn",
           0.271
          ],
          [
           "@DxfyingGrxvity - that were rather forlorn, scanning the witches house before resting back on Elphie. 'The Grimmerie is gone.'",
           0.458
          ],
          [
           "Has anyone noticed that @npr stories in recent days all paint positive accomplishments for Trump and challenges for Hillary? #surprised #sad",
           0.5
          ],
          [
           "@thehill George H. Establishment is unhappy Trump's campaign branded his son low-energy, but he could not have beaten the others either.",
           0.521
          ],
          [
           "This weather got me fucked up. Like you either be sunny and hot or gloomy and cold. No in between.",
           0.646
          ],
          [
           "@deshbhakthoon always unhappy and easily offended.",
           0.604
          ],
          [
           "When will the weeks full of Mondays end?? #disheartened",
           0.688
          ],
          [
           "Hello my dear friends, I will be back online this Friday night. I miss you! #sober #sobriety #recovery",
           0.417
          ],
          [
           "@xOffWithMyHeadx They've officially said all the episodes left (so future 12 and despair 11 and 12) will be delayed.",
           0.438
          ],
          [
           "Soooo badly want to dye my hair dark but have never been dark before soooo torn 😭😭😭",
           0.5
          ],
          [
           "Folk Band 'Thistle Down' will be replaced by 'The Paul Edwards Quartet' at Laurel Bank Park Sat 24 11am - 3pm due to ill health #jazz #blues",
           0.417
          ],
          [
           "@pmo100 @5liveSport .....I heard talk something is a miss. He looks weary.",
           0.458
          ],
          [
           "If I had a little bit of extra money I would blow the whole paycheck and go to one of the two of @KygoMusic's concerts in LA. #serious",
           0.167
          ],
          [
           "@GolfStrat out of Rory starts. What would your B group look like w/o him? Hideki and Walker, and throw Reed or Knox on the pine?",
           0.343
          ],
          [
           "@LeePorter94 @DomMcGovern_ hi Dom I saw u at Notts county away, looking for 1 mufc away ticket will pay ",
           0.312
          ]
         ],
         "hovertemplate": "emotion=sadness<br>UMAP1=%{x}<br>UMAP2=%{y}<br>UMAP3=%{z}<br>text=%{customdata[0]}<br>intensity=%{customdata[1]}<extra></extra>",
         "legendgroup": "sadness",
         "marker": {
          "color": "#ab63fa",
          "symbol": "circle"
         },
         "mode": "markers",
         "name": "sadness",
         "scene": "scene",
         "showlegend": true,
         "type": "scatter3d",
         "x": {
          "bdata": "hoDRQH+54EDZJaNAQZfYQGTk7EAWYdFA3QfTQE9ozkD34qdAFHfHQPPOrEBLFuxAINDhQBd8s0A1BMVA+u3KQPoIs0BIzrxAds3NQI39yECAE9hA/MrUQPQw6UCfPe9AoZW8QJDNsEA4FNRA0EDAQFbo5UC0f9xAZIy1QOxlw0DdXa9ADu3IQODMzUBxKd1ArVHTQEFLq0ClRuxAMkzhQM0JtUACGN5ARJDlQA==",
          "dtype": "f4"
         },
         "y": {
          "bdata": "9+iLQb8rakHmsoBBh7R9Qc78dEF4vYZB4K5yQTOJi0GuyIBB48WDQV7qhUEWU4JBtwZrQdQ4dEGvFnJB4Bp1QX+Nb0FX9GRBTPB1QdkvikHwmXRB4U92QdBRgUHZPHhBhNZoQb5YgkHYX3BBHkl8QSZOfkGVQn1Bfx2KQSHPiEHwXnFBFziJQUyVckHGVGlB28FvQSLHbUH9jINBjhqGQcnWckGJeoVBs2uJQQ==",
          "dtype": "f4"
         },
         "z": {
          "bdata": "Avw7Qe77HkHnsEBBs9YKQX0kHEGLjhJBAfUHQYCPNkHbkz5BeCouQSS5JEHIlS1Boh0uQR5UMkGJPglBQTgFQf+HDUH6gBhB/J4EQfE5OUFZAhRBl7QLQbWoEkFWShJBJZUuQQW+PUF3PwxBdEcYQWyLC0EdBQ1BL8sWQSu2GkH3aTBBOeMbQSbPCEEOyhNBM7QZQXjNFkEKWy5BrN8YQRB+GUEx6RdBZUMnQQ==",
          "dtype": "f4"
         }
        }
       ],
       "layout": {
        "legend": {
         "title": {
          "text": "emotion"
         },
         "tracegroupgap": 0
        },
        "scene": {
         "domain": {
          "x": [
           0,
           1
          ],
          "y": [
           0,
           1
          ]
         },
         "xaxis": {
          "title": {
           "text": "UMAP1"
          }
         },
         "yaxis": {
          "title": {
           "text": "UMAP2"
          }
         },
         "zaxis": {
          "title": {
           "text": "UMAP3"
          }
         }
        },
        "template": {
         "data": {
          "bar": [
           {
            "error_x": {
             "color": "#2a3f5f"
            },
            "error_y": {
             "color": "#2a3f5f"
            },
            "marker": {
             "line": {
              "color": "#E5ECF6",
              "width": 0.5
             },
             "pattern": {
              "fillmode": "overlay",
              "size": 10,
              "solidity": 0.2
             }
            },
            "type": "bar"
           }
          ],
          "barpolar": [
           {
            "marker": {
             "line": {
              "color": "#E5ECF6",
              "width": 0.5
             },
             "pattern": {
              "fillmode": "overlay",
              "size": 10,
              "solidity": 0.2
             }
            },
            "type": "barpolar"
           }
          ],
          "carpet": [
           {
            "aaxis": {
             "endlinecolor": "#2a3f5f",
             "gridcolor": "white",
             "linecolor": "white",
             "minorgridcolor": "white",
             "startlinecolor": "#2a3f5f"
            },
            "baxis": {
             "endlinecolor": "#2a3f5f",
             "gridcolor": "white",
             "linecolor": "white",
             "minorgridcolor": "white",
             "startlinecolor": "#2a3f5f"
            },
            "type": "carpet"
           }
          ],
          "choropleth": [
           {
            "colorbar": {
             "outlinewidth": 0,
             "ticks": ""
            },
            "type": "choropleth"
           }
          ],
          "contour": [
           {
            "colorbar": {
             "outlinewidth": 0,
             "ticks": ""
            },
            "colorscale": [
             [
              0,
              "#0d0887"
             ],
             [
              0.1111111111111111,
              "#46039f"
             ],
             [
              0.2222222222222222,
              "#7201a8"
             ],
             [
              0.3333333333333333,
              "#9c179e"
             ],
             [
              0.4444444444444444,
              "#bd3786"
             ],
             [
              0.5555555555555556,
              "#d8576b"
             ],
             [
              0.6666666666666666,
              "#ed7953"
             ],
             [
              0.7777777777777778,
              "#fb9f3a"
             ],
             [
              0.8888888888888888,
              "#fdca26"
             ],
             [
              1,
              "#f0f921"
             ]
            ],
            "type": "contour"
           }
          ],
          "contourcarpet": [
           {
            "colorbar": {
             "outlinewidth": 0,
             "ticks": ""
            },
            "type": "contourcarpet"
           }
          ],
          "heatmap": [
           {
            "colorbar": {
             "outlinewidth": 0,
             "ticks": ""
            },
            "colorscale": [
             [
              0,
              "#0d0887"
             ],
             [
              0.1111111111111111,
              "#46039f"
             ],
             [
              0.2222222222222222,
              "#7201a8"
             ],
             [
              0.3333333333333333,
              "#9c179e"
             ],
             [
              0.4444444444444444,
              "#bd3786"
             ],
             [
              0.5555555555555556,
              "#d8576b"
             ],
             [
              0.6666666666666666,
              "#ed7953"
             ],
             [
              0.7777777777777778,
              "#fb9f3a"
             ],
             [
              0.8888888888888888,
              "#fdca26"
             ],
             [
              1,
              "#f0f921"
             ]
            ],
            "type": "heatmap"
           }
          ],
          "histogram": [
           {
            "marker": {
             "pattern": {
              "fillmode": "overlay",
              "size": 10,
              "solidity": 0.2
             }
            },
            "type": "histogram"
           }
          ],
          "histogram2d": [
           {
            "colorbar": {
             "outlinewidth": 0,
             "ticks": ""
            },
            "colorscale": [
             [
              0,
              "#0d0887"
             ],
             [
              0.1111111111111111,
              "#46039f"
             ],
             [
              0.2222222222222222,
              "#7201a8"
             ],
             [
              0.3333333333333333,
              "#9c179e"
             ],
             [
              0.4444444444444444,
              "#bd3786"
             ],
             [
              0.5555555555555556,
              "#d8576b"
             ],
             [
              0.6666666666666666,
              "#ed7953"
             ],
             [
              0.7777777777777778,
              "#fb9f3a"
             ],
             [
              0.8888888888888888,
              "#fdca26"
             ],
             [
              1,
              "#f0f921"
             ]
            ],
            "type": "histogram2d"
           }
          ],
          "histogram2dcontour": [
           {
            "colorbar": {
             "outlinewidth": 0,
             "ticks": ""
            },
            "colorscale": [
             [
              0,
              "#0d0887"
             ],
             [
              0.1111111111111111,
              "#46039f"
             ],
             [
              0.2222222222222222,
              "#7201a8"
             ],
             [
              0.3333333333333333,
              "#9c179e"
             ],
             [
              0.4444444444444444,
              "#bd3786"
             ],
             [
              0.5555555555555556,
              "#d8576b"
             ],
             [
              0.6666666666666666,
              "#ed7953"
             ],
             [
              0.7777777777777778,
              "#fb9f3a"
             ],
             [
              0.8888888888888888,
              "#fdca26"
             ],
             [
              1,
              "#f0f921"
             ]
            ],
            "type": "histogram2dcontour"
           }
          ],
          "mesh3d": [
           {
            "colorbar": {
             "outlinewidth": 0,
             "ticks": ""
            },
            "type": "mesh3d"
           }
          ],
          "parcoords": [
           {
            "line": {
             "colorbar": {
              "outlinewidth": 0,
              "ticks": ""
             }
            },
            "type": "parcoords"
           }
          ],
          "pie": [
           {
            "automargin": true,
            "type": "pie"
           }
          ],
          "scatter": [
           {
            "fillpattern": {
             "fillmode": "overlay",
             "size": 10,
             "solidity": 0.2
            },
            "type": "scatter"
           }
          ],
          "scatter3d": [
           {
            "line": {
             "colorbar": {
              "outlinewidth": 0,
              "ticks": ""
             }
            },
            "marker": {
             "colorbar": {
              "outlinewidth": 0,
              "ticks": ""
             }
            },
            "type": "scatter3d"
           }
          ],
          "scattercarpet": [
           {
            "marker": {
             "colorbar": {
              "outlinewidth": 0,
              "ticks": ""
             }
            },
            "type": "scattercarpet"
           }
          ],
          "scattergeo": [
           {
            "marker": {
             "colorbar": {
              "outlinewidth": 0,
              "ticks": ""
             }
            },
            "type": "scattergeo"
           }
          ],
          "scattergl": [
           {
            "marker": {
             "colorbar": {
              "outlinewidth": 0,
              "ticks": ""
             }
            },
            "type": "scattergl"
           }
          ],
          "scattermap": [
           {
            "marker": {
             "colorbar": {
              "outlinewidth": 0,
              "ticks": ""
             }
            },
            "type": "scattermap"
           }
          ],
          "scattermapbox": [
           {
            "marker": {
             "colorbar": {
              "outlinewidth": 0,
              "ticks": ""
             }
            },
            "type": "scattermapbox"
           }
          ],
          "scatterpolar": [
           {
            "marker": {
             "colorbar": {
              "outlinewidth": 0,
              "ticks": ""
             }
            },
            "type": "scatterpolar"
           }
          ],
          "scatterpolargl": [
           {
            "marker": {
             "colorbar": {
              "outlinewidth": 0,
              "ticks": ""
             }
            },
            "type": "scatterpolargl"
           }
          ],
          "scatterternary": [
           {
            "marker": {
             "colorbar": {
              "outlinewidth": 0,
              "ticks": ""
             }
            },
            "type": "scatterternary"
           }
          ],
          "surface": [
           {
            "colorbar": {
             "outlinewidth": 0,
             "ticks": ""
            },
            "colorscale": [
             [
              0,
              "#0d0887"
             ],
             [
              0.1111111111111111,
              "#46039f"
             ],
             [
              0.2222222222222222,
              "#7201a8"
             ],
             [
              0.3333333333333333,
              "#9c179e"
             ],
             [
              0.4444444444444444,
              "#bd3786"
             ],
             [
              0.5555555555555556,
              "#d8576b"
             ],
             [
              0.6666666666666666,
              "#ed7953"
             ],
             [
              0.7777777777777778,
              "#fb9f3a"
             ],
             [
              0.8888888888888888,
              "#fdca26"
             ],
             [
              1,
              "#f0f921"
             ]
            ],
            "type": "surface"
           }
          ],
          "table": [
           {
            "cells": {
             "fill": {
              "color": "#EBF0F8"
             },
             "line": {
              "color": "white"
             }
            },
            "header": {
             "fill": {
              "color": "#C8D4E3"
             },
             "line": {
              "color": "white"
             }
            },
            "type": "table"
           }
          ]
         },
         "layout": {
          "annotationdefaults": {
           "arrowcolor": "#2a3f5f",
           "arrowhead": 0,
           "arrowwidth": 1
          },
          "autotypenumbers": "strict",
          "coloraxis": {
           "colorbar": {
            "outlinewidth": 0,
            "ticks": ""
           }
          },
          "colorscale": {
           "diverging": [
            [
             0,
             "#8e0152"
            ],
            [
             0.1,
             "#c51b7d"
            ],
            [
             0.2,
             "#de77ae"
            ],
            [
             0.3,
             "#f1b6da"
            ],
            [
             0.4,
             "#fde0ef"
            ],
            [
             0.5,
             "#f7f7f7"
            ],
            [
             0.6,
             "#e6f5d0"
            ],
            [
             0.7,
             "#b8e186"
            ],
            [
             0.8,
             "#7fbc41"
            ],
            [
             0.9,
             "#4d9221"
            ],
            [
             1,
             "#276419"
            ]
           ],
           "sequential": [
            [
             0,
             "#0d0887"
            ],
            [
             0.1111111111111111,
             "#46039f"
            ],
            [
             0.2222222222222222,
             "#7201a8"
            ],
            [
             0.3333333333333333,
             "#9c179e"
            ],
            [
             0.4444444444444444,
             "#bd3786"
            ],
            [
             0.5555555555555556,
             "#d8576b"
            ],
            [
             0.6666666666666666,
             "#ed7953"
            ],
            [
             0.7777777777777778,
             "#fb9f3a"
            ],
            [
             0.8888888888888888,
             "#fdca26"
            ],
            [
             1,
             "#f0f921"
            ]
           ],
           "sequentialminus": [
            [
             0,
             "#0d0887"
            ],
            [
             0.1111111111111111,
             "#46039f"
            ],
            [
             0.2222222222222222,
             "#7201a8"
            ],
            [
             0.3333333333333333,
             "#9c179e"
            ],
            [
             0.4444444444444444,
             "#bd3786"
            ],
            [
             0.5555555555555556,
             "#d8576b"
            ],
            [
             0.6666666666666666,
             "#ed7953"
            ],
            [
             0.7777777777777778,
             "#fb9f3a"
            ],
            [
             0.8888888888888888,
             "#fdca26"
            ],
            [
             1,
             "#f0f921"
            ]
           ]
          },
          "colorway": [
           "#636efa",
           "#EF553B",
           "#00cc96",
           "#ab63fa",
           "#FFA15A",
           "#19d3f3",
           "#FF6692",
           "#B6E880",
           "#FF97FF",
           "#FECB52"
          ],
          "font": {
           "color": "#2a3f5f"
          },
          "geo": {
           "bgcolor": "white",
           "lakecolor": "white",
           "landcolor": "#E5ECF6",
           "showlakes": true,
           "showland": true,
           "subunitcolor": "white"
          },
          "hoverlabel": {
           "align": "left"
          },
          "hovermode": "closest",
          "mapbox": {
           "style": "light"
          },
          "paper_bgcolor": "white",
          "plot_bgcolor": "#E5ECF6",
          "polar": {
           "angularaxis": {
            "gridcolor": "white",
            "linecolor": "white",
            "ticks": ""
           },
           "bgcolor": "#E5ECF6",
           "radialaxis": {
            "gridcolor": "white",
            "linecolor": "white",
            "ticks": ""
           }
          },
          "scene": {
           "xaxis": {
            "backgroundcolor": "#E5ECF6",
            "gridcolor": "white",
            "gridwidth": 2,
            "linecolor": "white",
            "showbackground": true,
            "ticks": "",
            "zerolinecolor": "white"
           },
           "yaxis": {
            "backgroundcolor": "#E5ECF6",
            "gridcolor": "white",
            "gridwidth": 2,
            "linecolor": "white",
            "showbackground": true,
            "ticks": "",
            "zerolinecolor": "white"
           },
           "zaxis": {
            "backgroundcolor": "#E5ECF6",
            "gridcolor": "white",
            "gridwidth": 2,
            "linecolor": "white",
            "showbackground": true,
            "ticks": "",
            "zerolinecolor": "white"
           }
          },
          "shapedefaults": {
           "line": {
            "color": "#2a3f5f"
           }
          },
          "ternary": {
           "aaxis": {
            "gridcolor": "white",
            "linecolor": "white",
            "ticks": ""
           },
           "baxis": {
            "gridcolor": "white",
            "linecolor": "white",
            "ticks": ""
           },
           "bgcolor": "#E5ECF6",
           "caxis": {
            "gridcolor": "white",
            "linecolor": "white",
            "ticks": ""
           }
          },
          "title": {
           "x": 0.05
          },
          "xaxis": {
           "automargin": true,
           "gridcolor": "white",
           "linecolor": "white",
           "ticks": "",
           "title": {
            "standoff": 15
           },
           "zerolinecolor": "white",
           "zerolinewidth": 2
          },
          "yaxis": {
           "automargin": true,
           "gridcolor": "white",
           "linecolor": "white",
           "ticks": "",
           "title": {
            "standoff": 15
           },
           "zerolinecolor": "white",
           "zerolinewidth": 2
          }
         }
        },
        "title": {
         "text": "3D UMAP Projection of Text Embeddings"
        }
       }
      }
     },
     "metadata": {},
     "output_type": "display_data"
    }
   ],
   "source": [
    "# Answer here\n",
    "\n",
    "# Apply UMAP for dimensionality reduction to 3D\n",
    "reducer_3d = umap.UMAP(n_components=3, metric='cosine', random_state=28)\n",
    "embedding_3d = reducer_3d.fit_transform(X_embeddings)\n",
    "\n",
    "# Create a DataFrame for plotting in 3D\n",
    "df_plot_3d = pd.DataFrame(embedding_3d, columns=['UMAP1', 'UMAP2', 'UMAP3'])\n",
    "df_plot_3d['emotion'] = combined_df['emotion']\n",
    "df_plot_3d['intensity'] = combined_df['intensity']\n",
    "df_plot_3d['text'] = combined_df['text']\n",
    "\n",
    "# Visualize the 3D embeddings with Plotly\n",
    "fig_3d = px.scatter_3d(\n",
    "    df_plot_3d,\n",
    "    x='UMAP1',\n",
    "    y='UMAP2',\n",
    "    z='UMAP3',\n",
    "    color='emotion',  # Color points by the 'emotion' column\n",
    "    hover_data=['text', 'intensity'],  # Show text and intensity on hover\n",
    "    title='3D UMAP Projection of Text Embeddings'\n",
    ")\n",
    "\n",
    "fig_3d.show()\n"
   ]
  },
  {
   "cell_type": "markdown",
   "metadata": {},
   "source": [
    "---\n",
    "### <a id='toc1_5_9_'></a>[**2.5 Retrieval-Augmented Generation (RAG)**](#toc0_)\n",
    "\n",
    "`NOTE: This whole section including the exercise is now considered a bonus section, not counted for the main grade.`\n",
    "\n",
    "RAG (Retrieval-Augmented Generation) is a technique where a language model combines document retrieval with text generation. In RAG, a retrieval system first finds relevant documents or text chunks, and then the language model uses this retrieved information to generate a more informed and accurate response. This method enhances the model's ability to answer questions by grounding its responses in real, external data.\n",
    "\n",
    "In the following code, we will load a webpage as a document, which allows us to retrieve text from a URL. After loading the content, we will split the document into smaller, manageable chunks, making it easier for our model to process. Then, we'll generate embeddings for these chunks with a specified LLM model (Gemini Embedding Model). These embeddings will be stored in a vector database, which enables us to perform similarity searches. By setting up this retrieval system, we can use a RAG chain to answer questions. The retriever finds relevant text chunks from the document based on a query, and the LLM generates a response by incorporating this retrieved information, making the answers more grounded and accurate.\n",
    "\n",
    "In this example we use the library langchain, for documentation on more functions of the library you can check the following link: [LangChain Tutorials](https://python.langchain.com/docs/tutorials/)"
   ]
  },
  {
   "cell_type": "code",
   "execution_count": 40,
   "metadata": {},
   "outputs": [
    {
     "name": "stderr",
     "output_type": "stream",
     "text": [
      "WARNING:langchain_community.utils.user_agent:USER_AGENT environment variable not set, consider setting it to identify your requests.\n"
     ]
    }
   ],
   "source": [
    "from langchain.text_splitter import RecursiveCharacterTextSplitter\n",
    "from langchain_community.document_loaders import WebBaseLoader\n",
    "from langchain_community.vectorstores import Chroma\n",
    "from langchain_google_genai import GoogleGenerativeAIEmbeddings\n",
    "\n",
    "# Function to load, split, and retrieve documents\n",
    "def load_and_retrieve_docs(url):\n",
    "    loader = WebBaseLoader(\n",
    "        web_paths=(url,),\n",
    "        bs_kwargs=dict() \n",
    "    ) \n",
    "    docs = loader.load() #We will load the URL that will serve as our data source\n",
    "    text_splitter = RecursiveCharacterTextSplitter(chunk_size=1000, chunk_overlap=150) #We will divide the URL in chunks of text for easier comparison in the vector space\n",
    "    splits = text_splitter.split_documents(docs)\n",
    "    #print(splits) #You can print this to see how the chunks in the url where split\n",
    "    embeddings = GoogleGenerativeAIEmbeddings(model=\"models/gemini-embedding-001\")\n",
    "    vectorstore = Chroma.from_documents(documents=splits, embedding=embeddings) #Our vector space for comparison\n",
    "    return vectorstore.as_retriever()\n",
    "\n",
    "\n",
    "def format_docs(docs):\n",
    "    return \"\\n\\n\".join(doc.page_content for doc in docs) #Format the retrieved docs in an orderly manner for prompting\n",
    "\n",
    "# Define the Gemini LLM function\n",
    "def gemini_llm(question, context):\n",
    "    system_prompt = \"You are a RAG Agent that needs to provide a well structured answer based on the provided question and context.\"\n",
    "    formatted_prompt = f\"Question: {question}\\n\\nContext: {context}\"\n",
    "    response, logs = prompt_gemini(input_prompt = formatted_prompt, system_instruction = system_prompt, with_tokens_info = True)\n",
    "    print(f\"logs: \\n{logs}\")\n",
    "    # print(f\"Retrieved context: \\n{context}\\n\\n\") # You can print this to observe the retrieved context\n",
    "    return response\n",
    "\n",
    "\n",
    "# Define the RAG chain\n",
    "def rag_chain(question, retriever):\n",
    "    retrieved_docs = retriever.invoke(question)\n",
    "    formatted_context = format_docs(retrieved_docs)\n",
    "    return gemini_llm(question, formatted_context)\n"
   ]
  },
  {
   "cell_type": "code",
   "execution_count": 41,
   "metadata": {},
   "outputs": [
    {
     "name": "stdout",
     "output_type": "stream",
     "text": [
      "logs: \n",
      "{'model': 'gemini-2.5-flash-lite', 'input_tokens': 730, 'output_tokens': 180}\n"
     ]
    },
    {
     "data": {
      "text/markdown": [
       "The key challenges in realizing AGI's full potential include:\n",
       "\n",
       "*   **Learning from Diverse Data:** Unlike narrow AI, AGI needs to learn from unstructured and diverse data sources, which is a significant hurdle.\n",
       "*   **Computational Power:** The immense computational resources required to process and learn from vast amounts of data present a considerable challenge.\n",
       "*   **Ethical Concerns:** Deploying AGI raises ethical questions regarding autonomy, privacy, and control, necessitating alignment with human values.\n",
       "*   **Job Displacement:** AGI-driven automation could lead to job losses, requiring strategies for workforce transition and retraining.\n",
       "*   **Security Risks:** Advanced AI systems may be vulnerable to hacking or misuse, posing large-scale security threats.\n",
       "*   **Unpredictable Behavior:** The complexity of AGI can make its actions difficult to predict or control, potentially leading to unintended consequences."
      ],
      "text/plain": [
       "<IPython.core.display.Markdown object>"
      ]
     },
     "metadata": {},
     "output_type": "display_data"
    }
   ],
   "source": [
    "url=\"https://qbotica.com/understanding-artificial-general-intelligence-agi-an-in-depth-overview/\"\n",
    "# Create the retriever\n",
    "retriever = load_and_retrieve_docs(url)\n",
    "\n",
    "# Use the RAG chain\n",
    "result = rag_chain(question=\"What are the Key Challenges in Realizing AGI’s Full Potential\", retriever=retriever)\n",
    "display(Markdown(result))"
   ]
  },
  {
   "cell_type": "markdown",
   "metadata": {},
   "source": [
    "\n",
    "##### <a id='toc1_5_9_1_1_'></a>[**Actual answer in the URL:**](#toc0_)\n",
    "\n",
    "![pic11.png](pics/pic11.png)\n",
    "\n",
    "##### <a id='toc1_5_9_1_2_'></a>[**Content in the URL that might get into the generated answer because of similar semantic meaning:**](#toc0_)\n",
    "\n",
    "![pic12.png](pics/pic12.png)\n",
    "\n",
    "source: https://qbotica.com/understanding-artificial-general-intelligence-agi-an-in-depth-overview/\n"
   ]
  },
  {
   "cell_type": "markdown",
   "metadata": {},
   "source": [
    "---\n",
    "##### <a id='toc1_5_9_1_3_'></a>[**>>> Bonus Exercise 5 (Take home):**](#toc0_)\n",
    "\n",
    "`NOTE: This exercise is now considered a bonus one, not counted for the main grade, only as extra points.`\n",
    "\n",
    "Your task is to test the RAG system with your own chosen URL and analyze its performance.\n",
    "\n",
    "1. Find a URL of a webpage with interesting text content to test the RAG pipeline.\n",
    "2. Make a question about the content in the webpage you chose.\n",
    "3. Discuss how good the question was answered by the model, if the model missed important information related to your question.\n",
    "4. Display a screenshot of the real answer in the webpage."
   ]
  },
  {
   "cell_type": "code",
   "execution_count": 42,
   "metadata": {},
   "outputs": [],
   "source": [
    "# Answer here\n"
   ]
  },
  {
   "cell_type": "markdown",
   "metadata": {},
   "source": [
    "---\n",
    "### <a id='toc1_5_10_'></a>[**2.6 Few-Shot Prompting Classification:**](#toc0_)\n",
    "\n",
    "Few-shot prompting is a technique where a Large Language Model (LLM) is given a small number of labeled examples within a prompt to guide its classification. This allows the model to perform a new task with minimal data, avoiding the need for extensive fine-tuning.\n",
    "\n",
    "In this lab, we will use the Gemini API to perform zero-shot, 1-shot, and 5-shot emotion classification:\n",
    "\n",
    "*   **Zero-shot:** The model classifies text without any prior examples.\n",
    "*   **1-shot:** The model is given one example for each emotion before classifying.\n",
    "*   **5-shot:** The model is given five examples per emotion for better context.\n",
    "\n",
    "To make our implementation robust and efficient, we are incorporating two key features:\n",
    "\n",
    "1.  **Structured Output:** We provide the Gemini model with a specific output schema (`Emotions` class). This instructs the model to return *only* a valid emotion label (e.g., `joy`), which makes the output predictable and reliable, minimizing errors.\n",
    "2.  **API Rate Handling:** The code includes a function to manage the requests-per-minute limit of the Gemini API.\n",
    "\n",
    "We will test the model's performance on a small sample of 20 texts per emotion to ensure the process runs quickly. If the model provides an invalid response, the code will automatically retry the request until a valid classification is received.\n",
    "\n",
    "**Prompt Structure:**\n",
    "`System Instruction -> Task Description -> Examples (if not zero-shot) -> Text to Classify`\n",
    "\n",
    "\n",
    "<span style=\"color:green\">For the exercises in this section there is no need to re-run the cells, you can use the data that has been saved previously to the corresponding directory.</span>"
   ]
  },
  {
   "cell_type": "code",
   "execution_count": 43,
   "metadata": {},
   "outputs": [],
   "source": [
    "# Funciton for visualizing confusion_matrix\n",
    "import matplotlib.pyplot as plt\n",
    "import seaborn as sns\n",
    "import numpy as np\n",
    "import itertools\n",
    "\n",
    "def plot_confusion_matrix(cm, classes, title='Confusion matrix',\n",
    "                          cmap=sns.cubehelix_palette(as_cmap=True)):\n",
    "    \"\"\"\n",
    "    This function is modified from: \n",
    "    http://scikit-learn.org/stable/auto_examples/model_selection/plot_confusion_matrix.html\n",
    "    \"\"\"\n",
    "    classes.sort()\n",
    "    tick_marks = np.arange(len(classes))    \n",
    "    \n",
    "    fig, ax = plt.subplots(figsize=(5,5))\n",
    "    im = ax.imshow(cm, interpolation='nearest', cmap=cmap)\n",
    "    ax.figure.colorbar(im, ax=ax)\n",
    "    ax.set(xticks=np.arange(cm.shape[1]),\n",
    "           yticks=np.arange(cm.shape[0]),\n",
    "           xticklabels = classes,\n",
    "           yticklabels = classes,\n",
    "           title = title,\n",
    "           xlabel = 'Predicted label',\n",
    "           ylabel = 'True label')\n",
    "\n",
    "    fmt = 'd'\n",
    "    thresh = cm.max() / 2.\n",
    "    for i, j in itertools.product(range(cm.shape[0]), range(cm.shape[1])):\n",
    "        plt.text(j, i, format(cm[i, j], fmt), horizontalalignment=\"center\", color=\"white\" if cm[i, j] > thresh else \"black\")\n",
    "    ylim_top = len(classes) - 0.5\n",
    "    plt.ylim([ylim_top, -.5])\n",
    "    plt.tight_layout()\n",
    "    plt.show()"
   ]
  },
  {
   "cell_type": "code",
   "execution_count": 44,
   "metadata": {},
   "outputs": [],
   "source": [
    "import pandas as pd\n",
    "import matplotlib.pyplot as plt\n",
    "import seaborn as sns\n",
    "from sklearn.metrics import accuracy_score, confusion_matrix, classification_report\n",
    "import enum\n",
    "import os\n",
    "from tqdm import tqdm\n",
    "import json\n",
    "import time\n",
    "# Define the emotion labels\n",
    "emotions = ['anger', 'fear', 'joy', 'sadness']\n",
    "# Define the model to use for few-shot prompting\n",
    "\n",
    "# Schema for the output, the type enum can be used to make a pool of options if what we want is to classify our text selecting only one of them\n",
    "class Emotions(enum.StrEnum):\n",
    "    ANGER = 'anger'\n",
    "    FEAR = 'fear'\n",
    "    JOY = 'joy'\n",
    "    SADNESS = 'sadness'\n",
    "\n",
    "\n",
    "# Function to handle the rate limits of gemini models\n",
    "def handle_rate_limit(request_count, first_request_time, max_calls_per_min):\n",
    "    current_time = time.time()\n",
    "\n",
    "    # Initialize timer on the first request of a new window\n",
    "    if request_count == 0:\n",
    "        first_request_time = current_time\n",
    "\n",
    "    request_count += 1\n",
    "\n",
    "    # If the rate limit is reached\n",
    "    if request_count > max_calls_per_min:\n",
    "        elapsed_time = current_time - first_request_time\n",
    "        if elapsed_time < 60:\n",
    "            wait_time = 60 - elapsed_time\n",
    "            print(f\"Rate limit of {max_calls_per_min} requests per minute reached. Waiting for {wait_time:.2f} seconds.\")\n",
    "            time.sleep(wait_time)\n",
    "\n",
    "        # Reset for the new window\n",
    "        request_count = 1\n",
    "        first_request_time = time.time()\n",
    "    \n",
    "    return request_count, first_request_time, max_calls_per_min\n",
    "\n",
    "# Function to sample examples per emotion category\n",
    "def sample_few_shots(df, emotions, num_samples=5):\n",
    "    few_shot_examples = {}\n",
    "    for emotion in emotions:\n",
    "        few_shot_examples[emotion] = df[df['emotion'] == emotion].sample(n=num_samples, random_state=42)\n",
    "    return few_shot_examples\n",
    "\n",
    "# Function to build the prompt based on the number of examples (few-shot, 1-shot, zero-shot)\n",
    "def build_prompt(examples, emotions, num_shots=5):\n",
    "    classification_instructions = \"\"\"\n",
    "You will be given a text extracted from social media and your task is to classify the text into one of the following emotion categories: \n",
    "\"anger\" | \"fear\" | \"joy\" | \"sadness\"\n",
    "    \"\"\"\n",
    "    \n",
    "    prompt = classification_instructions + \"\\n\\n\"\n",
    "    \n",
    "    if num_shots > 0:\n",
    "        prompt += f\"Examples: \\n\"\n",
    "        for emotion in emotions:\n",
    "            for _, row in examples[emotion].iterrows():\n",
    "                prompt += f\"Text: {row['text']}\\nClass: {emotion}\\n\\n\" #Show the examples in the same format it will be shown for the classification text\n",
    "                if num_shots == 1:  # If 1-shot, break after the first example for each emotion\n",
    "                    break\n",
    "    return prompt\n",
    "\n",
    "# Function to classify using the LLM with retry for incorrect responses\n",
    "def classify_with_llm(test_text, prompt_base, system_prompt, classes, schema):\n",
    "    response = None\n",
    "    while not response or response not in classes:\n",
    "        full_prompt = f\"{prompt_base}\\nClassification:\\nText: {test_text}\\nClass: \" #The classification text will leave the emotion label to be filled in by the LLM\n",
    "        try:\n",
    "            result = prompt_gemini(input_prompt = [full_prompt], schema = schema, system_instruction = system_prompt)\n",
    "            # print(f\"result: {result} \\n\")\n",
    "            # print(f\"type: {type(result)}\")\n",
    "            if not result:\n",
    "                # In case of giving empty responses with temperature 0.0, we set a higher temperature to seek for different responses\n",
    "                result = prompt_gemini(input_prompt = [full_prompt], schema = schema, system_instruction = system_prompt, temperature=1.0)\n",
    "\n",
    "            try:\n",
    "                # If the result is in the correct format it can be parsed using json\n",
    "                response = json.load(result)\n",
    "            except:\n",
    "                # In case it's not in a json friendly format\n",
    "                # Deleting characters \" and ' in case they appear in our response with the class of the text \n",
    "                response = result.replace('\"', '')    \n",
    "                response = response.replace(\"'\", \"\")  \n",
    "\n",
    "                \n",
    "        # except exceptions.ResourceExhausted as e:\n",
    "        except Exception as e:\n",
    "            print(f\"Waiting to retry... Error: {e}\")\n",
    "            time.sleep(15)\n",
    "            print(f\"test_text: {test_text}\")\n",
    "            return classify_with_llm(test_text, prompt_base, system_prompt, classes, schema) # Retry the request\n",
    "\n",
    "\n",
    "        if response not in classes:  # Retry if not a valid response\n",
    "            print(f\"Invalid response: {response}. Asking for reclassification.\")\n",
    "    return response\n",
    "\n",
    "# Main function to run the experiment with the option for zero-shot, 1-shot, or 5-shot prompting\n",
    "def run_experiment(df_train, df_test, num_test_samples=5, num_shots=5):\n",
    "    # Sample examples for few-shot prompting based on num_shots\n",
    "    if num_shots > 0:\n",
    "        few_shot_examples = sample_few_shots(df_train, emotions, num_samples=num_shots) \n",
    "        prompt_base = build_prompt(few_shot_examples, emotions, num_shots=num_shots)\n",
    "    else:\n",
    "        prompt_base = build_prompt(None, emotions, num_shots=0)  # Zero-shot has no examples\n",
    "\n",
    "    # System prompt for our classification model:\n",
    "    system_prompt = \"You are an emotion classification model for text data. Do not give empty responses, classify according to the list of possible classes.\"\n",
    "\n",
    "    # Prepare to classify the test set\n",
    "    results_data = []\n",
    "\n",
    "    print(prompt_base)\n",
    "    # Sample 20 examples per emotion for the test set to classify\n",
    "    test_samples = sample_few_shots(df_test, emotions, num_samples=num_test_samples)\n",
    "\n",
    "    # Variables to handle rate limit of gemini\n",
    "    request_count = 0\n",
    "    max_calls_per_min = 15 # Gemini 2.5 Flash Lite has this maximum set in the documentation\n",
    "    first_request_time = None\n",
    "\n",
    "    # Classify 20 test examples (5 from each category) and save predictions\n",
    "    for emotion in emotions:\n",
    "        for _, test_row in tqdm(test_samples[emotion].iterrows(), desc=f\"Processing samples for emotion: {emotion}...\", total=num_test_samples):\n",
    "            test_text = test_row['text']\n",
    "            request_count, first_request_time, max_calls_per_min = handle_rate_limit(request_count, first_request_time, max_calls_per_min)  # Check and handle rate limit before each API call\n",
    "            predicted_emotion = classify_with_llm(test_text = test_text, prompt_base = prompt_base, system_prompt = system_prompt, classes = emotions, schema = Emotions)\n",
    "            # Append the results data:\n",
    "            results_data.append({\n",
    "                    'text': test_text,\n",
    "                    'true_emotion': emotion,\n",
    "                    'predicted_emotion': predicted_emotion\n",
    "                })\n",
    "\n",
    "    # Create dataframe to save the results data\n",
    "    results_df = pd.DataFrame(results_data)\n",
    "    \n",
    "    # Extract just the true and predicted labels for metrics calculations\n",
    "    true_labels = results_df['true_emotion']\n",
    "    predictions = results_df['predicted_emotion']\n",
    "\n",
    "    output_dir = \"./results/llm_classification_results\"\n",
    "    os.makedirs(output_dir, exist_ok=True)\n",
    "    # Save the results\n",
    "    filename = f\"{output_dir}/results_samples_{num_test_samples}_shots_{num_shots}.csv\"\n",
    "    \n",
    "    # Save the DataFrame to CSV\n",
    "    results_df.to_csv(filename, index=False)\n",
    "    print(f\"\\nResults saved to {filename}\")\n",
    "\n",
    "    # Calculate accuracy\n",
    "    accuracy = accuracy_score(true_labels, predictions)\n",
    "    print(f\"Accuracy: {accuracy * 100:.2f}%\")\n",
    "    \n",
    "    # Classification report\n",
    "    print(classification_report(y_true=true_labels, y_pred=predictions))\n",
    "    \n",
    "    # Plot confusion matrix\n",
    "    cm = confusion_matrix(y_true=true_labels, y_pred=predictions) \n",
    "    my_tags = ['anger', 'fear', 'joy', 'sadness']\n",
    "    plot_confusion_matrix(cm, classes=my_tags, title=f'Confusion matrix for classification with \\n{num_shots}-shot prompting')"
   ]
  },
  {
   "cell_type": "markdown",
   "metadata": {},
   "source": [
    "**Important: The next part should take around 16 minutes to finish running due to API Rate Limits**\n",
    "\n",
    "**Note:** You might see an `429 RESOURCE_EXHAUSTED` error when running the following code all at once, this is because the `current API Rate Limit handling cannot reliably find out how many requests we have left per minute` from cell to cell, there is no Gemini feature created for it to get the information from their servers. So, `if you don't want to see the error you can just wait 1 minute` after one cell finished processing. But `even if there is an error showing it is fine`, internally in the code `there is a retry that happens every 15 seconds` until we finish processing our sampled data. `The lab is designed to never reach the total rate limit per day quota.`"
   ]
  },
  {
   "cell_type": "code",
   "execution_count": 45,
   "metadata": {},
   "outputs": [
    {
     "name": "stdout",
     "output_type": "stream",
     "text": [
      "\n",
      "You will be given a text extracted from social media and your task is to classify the text into one of the following emotion categories: \n",
      "\"anger\" | \"fear\" | \"joy\" | \"sadness\"\n",
      "    \n",
      "\n",
      "\n"
     ]
    },
    {
     "name": "stderr",
     "output_type": "stream",
     "text": [
      "Processing samples for emotion: anger...:  75%|███████▌  | 15/20 [00:11<00:04,  1.22it/s]"
     ]
    },
    {
     "name": "stdout",
     "output_type": "stream",
     "text": [
      "Rate limit of 15 requests per minute reached. Waiting for 48.18 seconds.\n"
     ]
    },
    {
     "name": "stderr",
     "output_type": "stream",
     "text": [
      "Processing samples for emotion: anger...: 100%|██████████| 20/20 [01:04<00:00,  3.21s/it]\n",
      "Processing samples for emotion: fear...:  50%|█████     | 10/20 [00:07<00:07,  1.38it/s]"
     ]
    },
    {
     "name": "stdout",
     "output_type": "stream",
     "text": [
      "Rate limit of 15 requests per minute reached. Waiting for 47.94 seconds.\n"
     ]
    },
    {
     "name": "stderr",
     "output_type": "stream",
     "text": [
      "Processing samples for emotion: fear...: 100%|██████████| 20/20 [01:03<00:00,  3.15s/it]\n",
      "Processing samples for emotion: joy...:  25%|██▌       | 5/20 [00:03<00:10,  1.45it/s]"
     ]
    },
    {
     "name": "stdout",
     "output_type": "stream",
     "text": [
      "Rate limit of 15 requests per minute reached. Waiting for 49.18 seconds.\n"
     ]
    },
    {
     "name": "stderr",
     "output_type": "stream",
     "text": [
      "Processing samples for emotion: joy...: 100%|██████████| 20/20 [01:03<00:00,  3.20s/it]\n",
      "Processing samples for emotion: sadness...:   0%|          | 0/20 [00:00<?, ?it/s]"
     ]
    },
    {
     "name": "stdout",
     "output_type": "stream",
     "text": [
      "Rate limit of 15 requests per minute reached. Waiting for 48.75 seconds.\n"
     ]
    },
    {
     "name": "stderr",
     "output_type": "stream",
     "text": [
      "Processing samples for emotion: sadness...:  75%|███████▌  | 15/20 [01:00<00:04,  1.09it/s]"
     ]
    },
    {
     "name": "stdout",
     "output_type": "stream",
     "text": [
      "Rate limit of 15 requests per minute reached. Waiting for 48.75 seconds.\n"
     ]
    },
    {
     "name": "stderr",
     "output_type": "stream",
     "text": [
      "Processing samples for emotion: sadness...: 100%|██████████| 20/20 [01:52<00:00,  5.62s/it]\n"
     ]
    },
    {
     "name": "stdout",
     "output_type": "stream",
     "text": [
      "\n",
      "Results saved to ./results/llm_classification_results/results_samples_20_shots_0.csv\n",
      "Accuracy: 53.75%\n",
      "              precision    recall  f1-score   support\n",
      "\n",
      "       anger       0.48      0.70      0.57        20\n",
      "        fear       0.71      0.25      0.37        20\n",
      "         joy       0.53      0.90      0.67        20\n",
      "     sadness       0.60      0.30      0.40        20\n",
      "\n",
      "    accuracy                           0.54        80\n",
      "   macro avg       0.58      0.54      0.50        80\n",
      "weighted avg       0.58      0.54      0.50        80\n",
      "\n"
     ]
    },
    {
     "data": {
      "image/png": "[encoded data removed]",
      "text/plain": [
       "<Figure size 500x500 with 2 Axes>"
      ]
     },
     "metadata": {},
     "output_type": "display_data"
    }
   ],
   "source": [
    "# If you see '429 RESOURCE_EXHAUSTED' errors it's fine, wait until the data gets processed, it will keep retrying until it finishes\n",
    "\n",
    "# Example of running the experiment with zero-shot prompting\n",
    "run_experiment(train_df, test_df, num_test_samples=20, num_shots=0)"
   ]
  },
  {
   "cell_type": "code",
   "execution_count": 46,
   "metadata": {},
   "outputs": [
    {
     "name": "stdout",
     "output_type": "stream",
     "text": [
      "\n",
      "You will be given a text extracted from social media and your task is to classify the text into one of the following emotion categories: \n",
      "\"anger\" | \"fear\" | \"joy\" | \"sadness\"\n",
      "    \n",
      "\n",
      "Examples: \n",
      "Text: i love that tay &amp; tiff are just sitting at my house while i'm at work 🙃\n",
      "Class: anger\n",
      "\n",
      "Text: @JedRivett @CharlesCassidy_  Jus see if you ever do anything you pussy , u don't scare me look who u chill with 😂😂😂\n",
      "Class: fear\n",
      "\n",
      "Text: Watch this amazing live.ly broadcast by @mrgummyking  #musically\n",
      "Class: joy\n",
      "\n",
      "Text: @iJuvia_ \\n\\nHearing the noises, Akame opened her eyes and sat up, facing Juvia. She didn't expect at all to see someone around and staid --\n",
      "Class: sadness\n",
      "\n",
      "\n"
     ]
    },
    {
     "name": "stderr",
     "output_type": "stream",
     "text": [
      "Processing samples for emotion: anger...:  55%|█████▌    | 11/20 [00:08<00:06,  1.39it/s]"
     ]
    },
    {
     "name": "stdout",
     "output_type": "stream",
     "text": [
      "Error occurred when generating response, error: 429 RESOURCE_EXHAUSTED. {'error': {'code': 429, 'message': 'You exceeded your current quota, please check your plan and billing details. For more information on this error, head to: https://ai.google.dev/gemini-api/docs/rate-limits. To monitor your current usage, head to: https://ai.dev/usage?tab=rate-limit.\\n* Quota exceeded for metric: generativelanguage.googleapis.com/generate_content_free_tier_requests, limit: 15\\nPlease retry in 564.136531ms.', 'status': 'RESOURCE_EXHAUSTED', 'details': [{'@type': 'type.googleapis.com/google.rpc.QuotaFailure', 'violations': [{'quotaMetric': 'generativelanguage.googleapis.com/generate_content_free_tier_requests', 'quotaId': 'GenerateRequestsPerMinutePerProjectPerModel-FreeTier', 'quotaDimensions': {'location': 'global', 'model': 'gemini-2.5-flash-lite'}, 'quotaValue': '15'}]}, {'@type': 'type.googleapis.com/google.rpc.Help', 'links': [{'description': 'Learn more about Gemini API quotas', 'url': 'https://ai.google.dev/gemini-api/docs/rate-limits'}]}, {'@type': 'type.googleapis.com/google.rpc.RetryInfo', 'retryDelay': '0s'}]}}\n",
      "Error occurred when generating response, error: 429 RESOURCE_EXHAUSTED. {'error': {'code': 429, 'message': 'You exceeded your current quota, please check your plan and billing details. For more information on this error, head to: https://ai.google.dev/gemini-api/docs/rate-limits. To monitor your current usage, head to: https://ai.dev/usage?tab=rate-limit.\\n* Quota exceeded for metric: generativelanguage.googleapis.com/generate_content_free_tier_requests, limit: 15\\nPlease retry in 536.150382ms.', 'status': 'RESOURCE_EXHAUSTED', 'details': [{'@type': 'type.googleapis.com/google.rpc.QuotaFailure', 'violations': [{'quotaMetric': 'generativelanguage.googleapis.com/generate_content_free_tier_requests', 'quotaId': 'GenerateRequestsPerMinutePerProjectPerModel-FreeTier', 'quotaDimensions': {'location': 'global', 'model': 'gemini-2.5-flash-lite'}, 'quotaValue': '15'}]}, {'@type': 'type.googleapis.com/google.rpc.Help', 'links': [{'description': 'Learn more about Gemini API quotas', 'url': 'https://ai.google.dev/gemini-api/docs/rate-limits'}]}, {'@type': 'type.googleapis.com/google.rpc.RetryInfo', 'retryDelay': '0s'}]}}\n",
      "Waiting to retry... Error: 'NoneType' object has no attribute 'replace'\n",
      "test_text: It's the most magical time of the year......Xmas party announced and the #outrage commences. Gotta love Silicon Valley millennials.\n",
      "Error occurred when generating response, error: 429 RESOURCE_EXHAUSTED. {'error': {'code': 429, 'message': 'You exceeded your current quota, please check your plan and billing details. For more information on this error, head to: https://ai.google.dev/gemini-api/docs/rate-limits. To monitor your current usage, head to: https://ai.dev/usage?tab=rate-limit.\\n* Quota exceeded for metric: generativelanguage.googleapis.com/generate_content_free_tier_requests, limit: 15\\nPlease retry in 45.491729447s.', 'status': 'RESOURCE_EXHAUSTED', 'details': [{'@type': 'type.googleapis.com/google.rpc.QuotaFailure', 'violations': [{'quotaMetric': 'generativelanguage.googleapis.com/generate_content_free_tier_requests', 'quotaId': 'GenerateRequestsPerMinutePerProjectPerModel-FreeTier', 'quotaDimensions': {'model': 'gemini-2.5-flash-lite', 'location': 'global'}, 'quotaValue': '15'}]}, {'@type': 'type.googleapis.com/google.rpc.Help', 'links': [{'description': 'Learn more about Gemini API quotas', 'url': 'https://ai.google.dev/gemini-api/docs/rate-limits'}]}, {'@type': 'type.googleapis.com/google.rpc.RetryInfo', 'retryDelay': '45s'}]}}\n",
      "Error occurred when generating response, error: 429 RESOURCE_EXHAUSTED. {'error': {'code': 429, 'message': 'You exceeded your current quota, please check your plan and billing details. For more information on this error, head to: https://ai.google.dev/gemini-api/docs/rate-limits. To monitor your current usage, head to: https://ai.dev/usage?tab=rate-limit.\\n* Quota exceeded for metric: generativelanguage.googleapis.com/generate_content_free_tier_requests, limit: 15\\nPlease retry in 45.466584619s.', 'status': 'RESOURCE_EXHAUSTED', 'details': [{'@type': 'type.googleapis.com/google.rpc.QuotaFailure', 'violations': [{'quotaMetric': 'generativelanguage.googleapis.com/generate_content_free_tier_requests', 'quotaId': 'GenerateRequestsPerMinutePerProjectPerModel-FreeTier', 'quotaDimensions': {'model': 'gemini-2.5-flash-lite', 'location': 'global'}, 'quotaValue': '15'}]}, {'@type': 'type.googleapis.com/google.rpc.Help', 'links': [{'description': 'Learn more about Gemini API quotas', 'url': 'https://ai.google.dev/gemini-api/docs/rate-limits'}]}, {'@type': 'type.googleapis.com/google.rpc.RetryInfo', 'retryDelay': '45s'}]}}\n",
      "Waiting to retry... Error: 'NoneType' object has no attribute 'replace'\n",
      "test_text: It's the most magical time of the year......Xmas party announced and the #outrage commences. Gotta love Silicon Valley millennials.\n",
      "Error occurred when generating response, error: 429 RESOURCE_EXHAUSTED. {'error': {'code': 429, 'message': 'You exceeded your current quota, please check your plan and billing details. For more information on this error, head to: https://ai.google.dev/gemini-api/docs/rate-limits. To monitor your current usage, head to: https://ai.dev/usage?tab=rate-limit.\\n* Quota exceeded for metric: generativelanguage.googleapis.com/generate_content_free_tier_requests, limit: 15\\nPlease retry in 30.423675348s.', 'status': 'RESOURCE_EXHAUSTED', 'details': [{'@type': 'type.googleapis.com/google.rpc.QuotaFailure', 'violations': [{'quotaMetric': 'generativelanguage.googleapis.com/generate_content_free_tier_requests', 'quotaId': 'GenerateRequestsPerMinutePerProjectPerModel-FreeTier', 'quotaDimensions': {'model': 'gemini-2.5-flash-lite', 'location': 'global'}, 'quotaValue': '15'}]}, {'@type': 'type.googleapis.com/google.rpc.Help', 'links': [{'description': 'Learn more about Gemini API quotas', 'url': 'https://ai.google.dev/gemini-api/docs/rate-limits'}]}, {'@type': 'type.googleapis.com/google.rpc.RetryInfo', 'retryDelay': '30s'}]}}\n",
      "Error occurred when generating response, error: 429 RESOURCE_EXHAUSTED. {'error': {'code': 429, 'message': 'You exceeded your current quota, please check your plan and billing details. For more information on this error, head to: https://ai.google.dev/gemini-api/docs/rate-limits. To monitor your current usage, head to: https://ai.dev/usage?tab=rate-limit.\\n* Quota exceeded for metric: generativelanguage.googleapis.com/generate_content_free_tier_requests, limit: 15\\nPlease retry in 30.394602786s.', 'status': 'RESOURCE_EXHAUSTED', 'details': [{'@type': 'type.googleapis.com/google.rpc.QuotaFailure', 'violations': [{'quotaMetric': 'generativelanguage.googleapis.com/generate_content_free_tier_requests', 'quotaId': 'GenerateRequestsPerMinutePerProjectPerModel-FreeTier', 'quotaDimensions': {'location': 'global', 'model': 'gemini-2.5-flash-lite'}, 'quotaValue': '15'}]}, {'@type': 'type.googleapis.com/google.rpc.Help', 'links': [{'description': 'Learn more about Gemini API quotas', 'url': 'https://ai.google.dev/gemini-api/docs/rate-limits'}]}, {'@type': 'type.googleapis.com/google.rpc.RetryInfo', 'retryDelay': '30s'}]}}\n",
      "Waiting to retry... Error: 'NoneType' object has no attribute 'replace'\n",
      "test_text: It's the most magical time of the year......Xmas party announced and the #outrage commences. Gotta love Silicon Valley millennials.\n",
      "Error occurred when generating response, error: 429 RESOURCE_EXHAUSTED. {'error': {'code': 429, 'message': 'You exceeded your current quota, please check your plan and billing details. For more information on this error, head to: https://ai.google.dev/gemini-api/docs/rate-limits. To monitor your current usage, head to: https://ai.dev/usage?tab=rate-limit.\\n* Quota exceeded for metric: generativelanguage.googleapis.com/generate_content_free_tier_requests, limit: 15\\nPlease retry in 15.349856571s.', 'status': 'RESOURCE_EXHAUSTED', 'details': [{'@type': 'type.googleapis.com/google.rpc.QuotaFailure', 'violations': [{'quotaMetric': 'generativelanguage.googleapis.com/generate_content_free_tier_requests', 'quotaId': 'GenerateRequestsPerMinutePerProjectPerModel-FreeTier', 'quotaDimensions': {'location': 'global', 'model': 'gemini-2.5-flash-lite'}, 'quotaValue': '15'}]}, {'@type': 'type.googleapis.com/google.rpc.Help', 'links': [{'description': 'Learn more about Gemini API quotas', 'url': 'https://ai.google.dev/gemini-api/docs/rate-limits'}]}, {'@type': 'type.googleapis.com/google.rpc.RetryInfo', 'retryDelay': '15s'}]}}\n",
      "Error occurred when generating response, error: 429 RESOURCE_EXHAUSTED. {'error': {'code': 429, 'message': 'You exceeded your current quota, please check your plan and billing details. For more information on this error, head to: https://ai.google.dev/gemini-api/docs/rate-limits. To monitor your current usage, head to: https://ai.dev/usage?tab=rate-limit.\\n* Quota exceeded for metric: generativelanguage.googleapis.com/generate_content_free_tier_requests, limit: 15\\nPlease retry in 15.325613793s.', 'status': 'RESOURCE_EXHAUSTED', 'details': [{'@type': 'type.googleapis.com/google.rpc.QuotaFailure', 'violations': [{'quotaMetric': 'generativelanguage.googleapis.com/generate_content_free_tier_requests', 'quotaId': 'GenerateRequestsPerMinutePerProjectPerModel-FreeTier', 'quotaDimensions': {'location': 'global', 'model': 'gemini-2.5-flash-lite'}, 'quotaValue': '15'}]}, {'@type': 'type.googleapis.com/google.rpc.Help', 'links': [{'description': 'Learn more about Gemini API quotas', 'url': 'https://ai.google.dev/gemini-api/docs/rate-limits'}]}, {'@type': 'type.googleapis.com/google.rpc.RetryInfo', 'retryDelay': '15s'}]}}\n",
      "Waiting to retry... Error: 'NoneType' object has no attribute 'replace'\n",
      "test_text: It's the most magical time of the year......Xmas party announced and the #outrage commences. Gotta love Silicon Valley millennials.\n"
     ]
    },
    {
     "name": "stderr",
     "output_type": "stream",
     "text": [
      "Processing samples for emotion: anger...: 100%|██████████| 20/20 [01:16<00:00,  3.80s/it]\n",
      "Processing samples for emotion: fear...:  40%|████      | 8/20 [00:06<00:09,  1.32it/s]"
     ]
    },
    {
     "name": "stdout",
     "output_type": "stream",
     "text": [
      "Error occurred when generating response, error: 429 RESOURCE_EXHAUSTED. {'error': {'code': 429, 'message': 'You exceeded your current quota, please check your plan and billing details. For more information on this error, head to: https://ai.google.dev/gemini-api/docs/rate-limits. To monitor your current usage, head to: https://ai.dev/usage?tab=rate-limit.\\n* Quota exceeded for metric: generativelanguage.googleapis.com/generate_content_free_tier_requests, limit: 15\\nPlease retry in 46.943598209s.', 'status': 'RESOURCE_EXHAUSTED', 'details': [{'@type': 'type.googleapis.com/google.rpc.QuotaFailure', 'violations': [{'quotaMetric': 'generativelanguage.googleapis.com/generate_content_free_tier_requests', 'quotaId': 'GenerateRequestsPerMinutePerProjectPerModel-FreeTier', 'quotaDimensions': {'model': 'gemini-2.5-flash-lite', 'location': 'global'}, 'quotaValue': '15'}]}, {'@type': 'type.googleapis.com/google.rpc.Help', 'links': [{'description': 'Learn more about Gemini API quotas', 'url': 'https://ai.google.dev/gemini-api/docs/rate-limits'}]}, {'@type': 'type.googleapis.com/google.rpc.RetryInfo', 'retryDelay': '46s'}]}}\n",
      "Error occurred when generating response, error: 429 RESOURCE_EXHAUSTED. {'error': {'code': 429, 'message': 'You exceeded your current quota, please check your plan and billing details. For more information on this error, head to: https://ai.google.dev/gemini-api/docs/rate-limits. To monitor your current usage, head to: https://ai.dev/usage?tab=rate-limit.\\n* Quota exceeded for metric: generativelanguage.googleapis.com/generate_content_free_tier_requests, limit: 15\\nPlease retry in 46.919597271s.', 'status': 'RESOURCE_EXHAUSTED', 'details': [{'@type': 'type.googleapis.com/google.rpc.QuotaFailure', 'violations': [{'quotaMetric': 'generativelanguage.googleapis.com/generate_content_free_tier_requests', 'quotaId': 'GenerateRequestsPerMinutePerProjectPerModel-FreeTier', 'quotaDimensions': {'model': 'gemini-2.5-flash-lite', 'location': 'global'}, 'quotaValue': '15'}]}, {'@type': 'type.googleapis.com/google.rpc.Help', 'links': [{'description': 'Learn more about Gemini API quotas', 'url': 'https://ai.google.dev/gemini-api/docs/rate-limits'}]}, {'@type': 'type.googleapis.com/google.rpc.RetryInfo', 'retryDelay': '46s'}]}}\n",
      "Waiting to retry... Error: 'NoneType' object has no attribute 'replace'\n",
      "test_text: If my concerns &amp; anxiety don't matter to you then I shall return the favor. #EyeMatter\n",
      "Error occurred when generating response, error: 429 RESOURCE_EXHAUSTED. {'error': {'code': 429, 'message': 'You exceeded your current quota, please check your plan and billing details. For more information on this error, head to: https://ai.google.dev/gemini-api/docs/rate-limits. To monitor your current usage, head to: https://ai.dev/usage?tab=rate-limit.\\n* Quota exceeded for metric: generativelanguage.googleapis.com/generate_content_free_tier_requests, limit: 15\\nPlease retry in 31.867284053s.', 'status': 'RESOURCE_EXHAUSTED', 'details': [{'@type': 'type.googleapis.com/google.rpc.QuotaFailure', 'violations': [{'quotaMetric': 'generativelanguage.googleapis.com/generate_content_free_tier_requests', 'quotaId': 'GenerateRequestsPerMinutePerProjectPerModel-FreeTier', 'quotaDimensions': {'location': 'global', 'model': 'gemini-2.5-flash-lite'}, 'quotaValue': '15'}]}, {'@type': 'type.googleapis.com/google.rpc.Help', 'links': [{'description': 'Learn more about Gemini API quotas', 'url': 'https://ai.google.dev/gemini-api/docs/rate-limits'}]}, {'@type': 'type.googleapis.com/google.rpc.RetryInfo', 'retryDelay': '31s'}]}}\n",
      "Error occurred when generating response, error: 429 RESOURCE_EXHAUSTED. {'error': {'code': 429, 'message': 'You exceeded your current quota, please check your plan and billing details. For more information on this error, head to: https://ai.google.dev/gemini-api/docs/rate-limits. To monitor your current usage, head to: https://ai.dev/usage?tab=rate-limit.\\n* Quota exceeded for metric: generativelanguage.googleapis.com/generate_content_free_tier_requests, limit: 15\\nPlease retry in 31.83529798s.', 'status': 'RESOURCE_EXHAUSTED', 'details': [{'@type': 'type.googleapis.com/google.rpc.QuotaFailure', 'violations': [{'quotaMetric': 'generativelanguage.googleapis.com/generate_content_free_tier_requests', 'quotaId': 'GenerateRequestsPerMinutePerProjectPerModel-FreeTier', 'quotaDimensions': {'location': 'global', 'model': 'gemini-2.5-flash-lite'}, 'quotaValue': '15'}]}, {'@type': 'type.googleapis.com/google.rpc.Help', 'links': [{'description': 'Learn more about Gemini API quotas', 'url': 'https://ai.google.dev/gemini-api/docs/rate-limits'}]}, {'@type': 'type.googleapis.com/google.rpc.RetryInfo', 'retryDelay': '31s'}]}}\n",
      "Waiting to retry... Error: 'NoneType' object has no attribute 'replace'\n",
      "test_text: If my concerns &amp; anxiety don't matter to you then I shall return the favor. #EyeMatter\n",
      "Error occurred when generating response, error: 429 RESOURCE_EXHAUSTED. {'error': {'code': 429, 'message': 'You exceeded your current quota, please check your plan and billing details. For more information on this error, head to: https://ai.google.dev/gemini-api/docs/rate-limits. To monitor your current usage, head to: https://ai.dev/usage?tab=rate-limit.\\n* Quota exceeded for metric: generativelanguage.googleapis.com/generate_content_free_tier_requests, limit: 15\\nPlease retry in 16.794905509s.', 'status': 'RESOURCE_EXHAUSTED', 'details': [{'@type': 'type.googleapis.com/google.rpc.QuotaFailure', 'violations': [{'quotaMetric': 'generativelanguage.googleapis.com/generate_content_free_tier_requests', 'quotaId': 'GenerateRequestsPerMinutePerProjectPerModel-FreeTier', 'quotaDimensions': {'model': 'gemini-2.5-flash-lite', 'location': 'global'}, 'quotaValue': '15'}]}, {'@type': 'type.googleapis.com/google.rpc.Help', 'links': [{'description': 'Learn more about Gemini API quotas', 'url': 'https://ai.google.dev/gemini-api/docs/rate-limits'}]}, {'@type': 'type.googleapis.com/google.rpc.RetryInfo', 'retryDelay': '16s'}]}}\n",
      "Error occurred when generating response, error: 429 RESOURCE_EXHAUSTED. {'error': {'code': 429, 'message': 'You exceeded your current quota, please check your plan and billing details. For more information on this error, head to: https://ai.google.dev/gemini-api/docs/rate-limits. To monitor your current usage, head to: https://ai.dev/usage?tab=rate-limit.\\n* Quota exceeded for metric: generativelanguage.googleapis.com/generate_content_free_tier_requests, limit: 15\\nPlease retry in 16.765029136s.', 'status': 'RESOURCE_EXHAUSTED', 'details': [{'@type': 'type.googleapis.com/google.rpc.QuotaFailure', 'violations': [{'quotaMetric': 'generativelanguage.googleapis.com/generate_content_free_tier_requests', 'quotaId': 'GenerateRequestsPerMinutePerProjectPerModel-FreeTier', 'quotaDimensions': {'model': 'gemini-2.5-flash-lite', 'location': 'global'}, 'quotaValue': '15'}]}, {'@type': 'type.googleapis.com/google.rpc.Help', 'links': [{'description': 'Learn more about Gemini API quotas', 'url': 'https://ai.google.dev/gemini-api/docs/rate-limits'}]}, {'@type': 'type.googleapis.com/google.rpc.RetryInfo', 'retryDelay': '16s'}]}}\n",
      "Waiting to retry... Error: 'NoneType' object has no attribute 'replace'\n",
      "test_text: If my concerns &amp; anxiety don't matter to you then I shall return the favor. #EyeMatter\n"
     ]
    },
    {
     "name": "stderr",
     "output_type": "stream",
     "text": [
      "Processing samples for emotion: fear...:  50%|█████     | 10/20 [00:53<01:45, 10.57s/it]"
     ]
    },
    {
     "name": "stdout",
     "output_type": "stream",
     "text": [
      "Rate limit of 15 requests per minute reached. Waiting for 2.93 seconds.\n"
     ]
    },
    {
     "name": "stderr",
     "output_type": "stream",
     "text": [
      "Processing samples for emotion: fear...: 100%|██████████| 20/20 [01:03<00:00,  3.19s/it]\n",
      "Processing samples for emotion: joy...:  25%|██▌       | 5/20 [00:04<00:12,  1.16it/s]"
     ]
    },
    {
     "name": "stdout",
     "output_type": "stream",
     "text": [
      "Rate limit of 15 requests per minute reached. Waiting for 47.89 seconds.\n"
     ]
    },
    {
     "name": "stderr",
     "output_type": "stream",
     "text": [
      "Processing samples for emotion: joy...: 100%|██████████| 20/20 [01:02<00:00,  3.13s/it]\n",
      "Processing samples for emotion: sadness...:   0%|          | 0/20 [00:00<?, ?it/s]"
     ]
    },
    {
     "name": "stdout",
     "output_type": "stream",
     "text": [
      "Rate limit of 15 requests per minute reached. Waiting for 49.52 seconds.\n"
     ]
    },
    {
     "name": "stderr",
     "output_type": "stream",
     "text": [
      "Processing samples for emotion: sadness...:  75%|███████▌  | 15/20 [01:01<00:04,  1.04it/s]"
     ]
    },
    {
     "name": "stdout",
     "output_type": "stream",
     "text": [
      "Rate limit of 15 requests per minute reached. Waiting for 47.72 seconds.\n"
     ]
    },
    {
     "name": "stderr",
     "output_type": "stream",
     "text": [
      "Processing samples for emotion: sadness...: 100%|██████████| 20/20 [01:54<00:00,  5.70s/it]"
     ]
    },
    {
     "name": "stdout",
     "output_type": "stream",
     "text": [
      "\n",
      "Results saved to ./results/llm_classification_results/results_samples_20_shots_1.csv\n",
      "Accuracy: 57.50%\n",
      "              precision    recall  f1-score   support\n",
      "\n",
      "       anger       0.50      0.70      0.58        20\n",
      "        fear       0.83      0.25      0.38        20\n",
      "         joy       0.64      0.80      0.71        20\n",
      "     sadness       0.52      0.55      0.54        20\n",
      "\n",
      "    accuracy                           0.57        80\n",
      "   macro avg       0.62      0.57      0.55        80\n",
      "weighted avg       0.62      0.57      0.55        80\n",
      "\n"
     ]
    },
    {
     "name": "stderr",
     "output_type": "stream",
     "text": [
      "\n"
     ]
    },
    {
     "data": {
      "image/png": "[encoded data removed]",
      "text/plain": [
       "<Figure size 500x500 with 2 Axes>"
      ]
     },
     "metadata": {},
     "output_type": "display_data"
    }
   ],
   "source": [
    "# If you see '429 RESOURCE_EXHAUSTED' errors it's fine, wait until the data gets processed, it will keep retrying until it finishes\n",
    "\n",
    "# Example of running the experiment with 1-shot prompting\n",
    "run_experiment(train_df, test_df, num_test_samples=20, num_shots=1)"
   ]
  },
  {
   "cell_type": "code",
   "execution_count": 47,
   "metadata": {},
   "outputs": [
    {
     "name": "stdout",
     "output_type": "stream",
     "text": [
      "\n",
      "You will be given a text extracted from social media and your task is to classify the text into one of the following emotion categories: \n",
      "\"anger\" | \"fear\" | \"joy\" | \"sadness\"\n",
      "    \n",
      "\n",
      "Examples: \n",
      "Text: i love that tay &amp; tiff are just sitting at my house while i'm at work 🙃\n",
      "Class: anger\n",
      "\n",
      "Text: I think Paul is what's bitter, not the pastry\n",
      "Class: anger\n",
      "\n",
      "Text: I believe I'm gonna start singing in my snap stories on the tractor. Switch it up a little bit.\n",
      "Class: anger\n",
      "\n",
      "Text: i will never watch greys anatomy ever ever ever ever ever again if Shonda Rimes takes away another OG character☹️☹️☹️☹️☹️☹️☹️☹️☹️☹️ #fuming\n",
      "Class: anger\n",
      "\n",
      "Text: Need a new outlet for \n",
      "Class: anger\n",
      "\n",
      "Text: @JedRivett @CharlesCassidy_  Jus see if you ever do anything you pussy , u don't scare me look who u chill with 😂😂😂\n",
      "Class: fear\n",
      "\n",
      "Text: 3:45am and off to the hospital! Elouise's waters have gone!  #Labour #LittleSister #superexcited\n",
      "Class: fear\n",
      "\n",
      "Text: It's so funny cause Cooper's going to go farther than the people who bully her\n",
      "Class: fear\n",
      "\n",
      "Text: @tchop__StL @YouTube \\nI get sick to my stomach everytime I see this video &amp; for the helicopter crew to make such comments is revolting.\n",
      "Class: fear\n",
      "\n",
      "Text: I just deleted my save file trying to load it up. Now I have to start. All. Over. Again. I am going to freaking kill someone. Pray for me.\n",
      "Class: fear\n",
      "\n",
      "Text: Watch this amazing live.ly broadcast by @mrgummyking  #musically\n",
      "Class: joy\n",
      "\n",
      "Text: Misery loves company. The church ought to be a place where it finds none.\\n-Pastor Kris Theobald #joy \n",
      "Class: joy\n",
      "\n",
      "Text: @APkrawczynski   Any possibly KG is being bought out as a player so that he can buy in from Glen as a minority owner? \n",
      "Class: joy\n",
      "\n",
      "Text: Three days off a month with two ex wives and no home could be worse. I don't know how, but it could #oilandgas \n",
      "Class: joy\n",
      "\n",
      "Text: He maketh the #barren woman to keep house &amp; to be a #joyful mother of children\\nPraise ye the Lord\\nPsa113:9\n",
      "Class: joy\n",
      "\n",
      "Text: @iJuvia_ \\n\\nHearing the noises, Akame opened her eyes and sat up, facing Juvia. She didn't expect at all to see someone around and staid --\n",
      "Class: sadness\n",
      "\n",
      "Text: where broken hearted lovers do cry away their gloom\n",
      "Class: sadness\n",
      "\n",
      "Text: Bro Why pine green forget me nots are mediumpurple pickering is not lit and so on\n",
      "Class: sadness\n",
      "\n",
      "Text: I don't want perfect. It's too boring and dull.\n",
      "Class: sadness\n",
      "\n",
      "Text: Im so serious about putting words in my mouth bitch don't add ' the ' to my sentence if I didn't say that shit on bloods\n",
      "Class: sadness\n",
      "\n",
      "\n"
     ]
    },
    {
     "name": "stderr",
     "output_type": "stream",
     "text": [
      "Processing samples for emotion: anger...:  60%|██████    | 12/20 [00:11<00:06,  1.15it/s]"
     ]
    },
    {
     "name": "stdout",
     "output_type": "stream",
     "text": [
      "Error occurred when generating response, error: 429 RESOURCE_EXHAUSTED. {'error': {'code': 429, 'message': 'You exceeded your current quota, please check your plan and billing details. For more information on this error, head to: https://ai.google.dev/gemini-api/docs/rate-limits. To monitor your current usage, head to: https://ai.dev/usage?tab=rate-limit.\\n* Quota exceeded for metric: generativelanguage.googleapis.com/generate_content_free_tier_requests, limit: 15\\nPlease retry in 41.46807888s.', 'status': 'RESOURCE_EXHAUSTED', 'details': [{'@type': 'type.googleapis.com/google.rpc.QuotaFailure', 'violations': [{'quotaMetric': 'generativelanguage.googleapis.com/generate_content_free_tier_requests', 'quotaId': 'GenerateRequestsPerMinutePerProjectPerModel-FreeTier', 'quotaDimensions': {'model': 'gemini-2.5-flash-lite', 'location': 'global'}, 'quotaValue': '15'}]}, {'@type': 'type.googleapis.com/google.rpc.Help', 'links': [{'description': 'Learn more about Gemini API quotas', 'url': 'https://ai.google.dev/gemini-api/docs/rate-limits'}]}, {'@type': 'type.googleapis.com/google.rpc.RetryInfo', 'retryDelay': '41s'}]}}\n",
      "Error occurred when generating response, error: 429 RESOURCE_EXHAUSTED. {'error': {'code': 429, 'message': 'You exceeded your current quota, please check your plan and billing details. For more information on this error, head to: https://ai.google.dev/gemini-api/docs/rate-limits. To monitor your current usage, head to: https://ai.dev/usage?tab=rate-limit.\\n* Quota exceeded for metric: generativelanguage.googleapis.com/generate_content_free_tier_requests, limit: 15\\nPlease retry in 41.439789945s.', 'status': 'RESOURCE_EXHAUSTED', 'details': [{'@type': 'type.googleapis.com/google.rpc.QuotaFailure', 'violations': [{'quotaMetric': 'generativelanguage.googleapis.com/generate_content_free_tier_requests', 'quotaId': 'GenerateRequestsPerMinutePerProjectPerModel-FreeTier', 'quotaDimensions': {'location': 'global', 'model': 'gemini-2.5-flash-lite'}, 'quotaValue': '15'}]}, {'@type': 'type.googleapis.com/google.rpc.Help', 'links': [{'description': 'Learn more about Gemini API quotas', 'url': 'https://ai.google.dev/gemini-api/docs/rate-limits'}]}, {'@type': 'type.googleapis.com/google.rpc.RetryInfo', 'retryDelay': '41s'}]}}\n",
      "Waiting to retry... Error: 'NoneType' object has no attribute 'replace'\n",
      "test_text: @HomeSwapperteam  Spent months arranging swap , new jobs etc, now I've found out she's been leading me on a merry dance. #fuming with her\n",
      "Error occurred when generating response, error: 429 RESOURCE_EXHAUSTED. {'error': {'code': 429, 'message': 'You exceeded your current quota, please check your plan and billing details. For more information on this error, head to: https://ai.google.dev/gemini-api/docs/rate-limits. To monitor your current usage, head to: https://ai.dev/usage?tab=rate-limit.\\n* Quota exceeded for metric: generativelanguage.googleapis.com/generate_content_free_tier_requests, limit: 15\\nPlease retry in 26.400503201s.', 'status': 'RESOURCE_EXHAUSTED', 'details': [{'@type': 'type.googleapis.com/google.rpc.QuotaFailure', 'violations': [{'quotaMetric': 'generativelanguage.googleapis.com/generate_content_free_tier_requests', 'quotaId': 'GenerateRequestsPerMinutePerProjectPerModel-FreeTier', 'quotaDimensions': {'location': 'global', 'model': 'gemini-2.5-flash-lite'}, 'quotaValue': '15'}]}, {'@type': 'type.googleapis.com/google.rpc.Help', 'links': [{'description': 'Learn more about Gemini API quotas', 'url': 'https://ai.google.dev/gemini-api/docs/rate-limits'}]}, {'@type': 'type.googleapis.com/google.rpc.RetryInfo', 'retryDelay': '26s'}]}}\n",
      "Error occurred when generating response, error: 429 RESOURCE_EXHAUSTED. {'error': {'code': 429, 'message': 'You exceeded your current quota, please check your plan and billing details. For more information on this error, head to: https://ai.google.dev/gemini-api/docs/rate-limits. To monitor your current usage, head to: https://ai.dev/usage?tab=rate-limit.\\n* Quota exceeded for metric: generativelanguage.googleapis.com/generate_content_free_tier_requests, limit: 15\\nPlease retry in 26.374056651s.', 'status': 'RESOURCE_EXHAUSTED', 'details': [{'@type': 'type.googleapis.com/google.rpc.QuotaFailure', 'violations': [{'quotaMetric': 'generativelanguage.googleapis.com/generate_content_free_tier_requests', 'quotaId': 'GenerateRequestsPerMinutePerProjectPerModel-FreeTier', 'quotaDimensions': {'location': 'global', 'model': 'gemini-2.5-flash-lite'}, 'quotaValue': '15'}]}, {'@type': 'type.googleapis.com/google.rpc.Help', 'links': [{'description': 'Learn more about Gemini API quotas', 'url': 'https://ai.google.dev/gemini-api/docs/rate-limits'}]}, {'@type': 'type.googleapis.com/google.rpc.RetryInfo', 'retryDelay': '26s'}]}}\n",
      "Waiting to retry... Error: 'NoneType' object has no attribute 'replace'\n",
      "test_text: @HomeSwapperteam  Spent months arranging swap , new jobs etc, now I've found out she's been leading me on a merry dance. #fuming with her\n"
     ]
    },
    {
     "name": "stderr",
     "output_type": "stream",
     "text": [
      "Processing samples for emotion: anger...:  75%|███████▌  | 15/20 [00:43<00:26,  5.36s/it]"
     ]
    },
    {
     "name": "stdout",
     "output_type": "stream",
     "text": [
      "Rate limit of 15 requests per minute reached. Waiting for 16.20 seconds.\n"
     ]
    },
    {
     "name": "stderr",
     "output_type": "stream",
     "text": [
      "Processing samples for emotion: anger...: 100%|██████████| 20/20 [01:03<00:00,  3.20s/it]\n",
      "Processing samples for emotion: fear...:  40%|████      | 8/20 [00:07<00:10,  1.16it/s]"
     ]
    },
    {
     "name": "stdout",
     "output_type": "stream",
     "text": [
      "Error occurred when generating response, error: 429 RESOURCE_EXHAUSTED. {'error': {'code': 429, 'message': 'You exceeded your current quota, please check your plan and billing details. For more information on this error, head to: https://ai.google.dev/gemini-api/docs/rate-limits. To monitor your current usage, head to: https://ai.dev/usage?tab=rate-limit.\\n* Quota exceeded for metric: generativelanguage.googleapis.com/generate_content_free_tier_requests, limit: 15\\nPlease retry in 41.419646827s.', 'status': 'RESOURCE_EXHAUSTED', 'details': [{'@type': 'type.googleapis.com/google.rpc.QuotaFailure', 'violations': [{'quotaMetric': 'generativelanguage.googleapis.com/generate_content_free_tier_requests', 'quotaId': 'GenerateRequestsPerMinutePerProjectPerModel-FreeTier', 'quotaDimensions': {'model': 'gemini-2.5-flash-lite', 'location': 'global'}, 'quotaValue': '15'}]}, {'@type': 'type.googleapis.com/google.rpc.Help', 'links': [{'description': 'Learn more about Gemini API quotas', 'url': 'https://ai.google.dev/gemini-api/docs/rate-limits'}]}, {'@type': 'type.googleapis.com/google.rpc.RetryInfo', 'retryDelay': '41s'}]}}\n",
      "Error occurred when generating response, error: 429 RESOURCE_EXHAUSTED. {'error': {'code': 429, 'message': 'You exceeded your current quota, please check your plan and billing details. For more information on this error, head to: https://ai.google.dev/gemini-api/docs/rate-limits. To monitor your current usage, head to: https://ai.dev/usage?tab=rate-limit.\\n* Quota exceeded for metric: generativelanguage.googleapis.com/generate_content_free_tier_requests, limit: 15\\nPlease retry in 41.390541444s.', 'status': 'RESOURCE_EXHAUSTED', 'details': [{'@type': 'type.googleapis.com/google.rpc.QuotaFailure', 'violations': [{'quotaMetric': 'generativelanguage.googleapis.com/generate_content_free_tier_requests', 'quotaId': 'GenerateRequestsPerMinutePerProjectPerModel-FreeTier', 'quotaDimensions': {'location': 'global', 'model': 'gemini-2.5-flash-lite'}, 'quotaValue': '15'}]}, {'@type': 'type.googleapis.com/google.rpc.Help', 'links': [{'description': 'Learn more about Gemini API quotas', 'url': 'https://ai.google.dev/gemini-api/docs/rate-limits'}]}, {'@type': 'type.googleapis.com/google.rpc.RetryInfo', 'retryDelay': '41s'}]}}\n",
      "Waiting to retry... Error: 'NoneType' object has no attribute 'replace'\n",
      "test_text: If my concerns &amp; anxiety don't matter to you then I shall return the favor. #EyeMatter\n",
      "Error occurred when generating response, error: 429 RESOURCE_EXHAUSTED. {'error': {'code': 429, 'message': 'You exceeded your current quota, please check your plan and billing details. For more information on this error, head to: https://ai.google.dev/gemini-api/docs/rate-limits. To monitor your current usage, head to: https://ai.dev/usage?tab=rate-limit.\\n* Quota exceeded for metric: generativelanguage.googleapis.com/generate_content_free_tier_requests, limit: 15\\nPlease retry in 26.348125615s.', 'status': 'RESOURCE_EXHAUSTED', 'details': [{'@type': 'type.googleapis.com/google.rpc.QuotaFailure', 'violations': [{'quotaMetric': 'generativelanguage.googleapis.com/generate_content_free_tier_requests', 'quotaId': 'GenerateRequestsPerMinutePerProjectPerModel-FreeTier', 'quotaDimensions': {'model': 'gemini-2.5-flash-lite', 'location': 'global'}, 'quotaValue': '15'}]}, {'@type': 'type.googleapis.com/google.rpc.Help', 'links': [{'description': 'Learn more about Gemini API quotas', 'url': 'https://ai.google.dev/gemini-api/docs/rate-limits'}]}, {'@type': 'type.googleapis.com/google.rpc.RetryInfo', 'retryDelay': '26s'}]}}\n",
      "Error occurred when generating response, error: 429 RESOURCE_EXHAUSTED. {'error': {'code': 429, 'message': 'You exceeded your current quota, please check your plan and billing details. For more information on this error, head to: https://ai.google.dev/gemini-api/docs/rate-limits. To monitor your current usage, head to: https://ai.dev/usage?tab=rate-limit.\\n* Quota exceeded for metric: generativelanguage.googleapis.com/generate_content_free_tier_requests, limit: 15\\nPlease retry in 26.320661984s.', 'status': 'RESOURCE_EXHAUSTED', 'details': [{'@type': 'type.googleapis.com/google.rpc.QuotaFailure', 'violations': [{'quotaMetric': 'generativelanguage.googleapis.com/generate_content_free_tier_requests', 'quotaId': 'GenerateRequestsPerMinutePerProjectPerModel-FreeTier', 'quotaDimensions': {'location': 'global', 'model': 'gemini-2.5-flash-lite'}, 'quotaValue': '15'}]}, {'@type': 'type.googleapis.com/google.rpc.Help', 'links': [{'description': 'Learn more about Gemini API quotas', 'url': 'https://ai.google.dev/gemini-api/docs/rate-limits'}]}, {'@type': 'type.googleapis.com/google.rpc.RetryInfo', 'retryDelay': '26s'}]}}\n",
      "Waiting to retry... Error: 'NoneType' object has no attribute 'replace'\n",
      "test_text: If my concerns &amp; anxiety don't matter to you then I shall return the favor. #EyeMatter\n"
     ]
    },
    {
     "name": "stderr",
     "output_type": "stream",
     "text": [
      "Processing samples for emotion: fear...:  50%|█████     | 10/20 [00:38<01:13,  7.34s/it]"
     ]
    },
    {
     "name": "stdout",
     "output_type": "stream",
     "text": [
      "Rate limit of 15 requests per minute reached. Waiting for 17.11 seconds.\n"
     ]
    },
    {
     "name": "stderr",
     "output_type": "stream",
     "text": [
      "Processing samples for emotion: fear...: 100%|██████████| 20/20 [01:04<00:00,  3.23s/it]\n",
      "Processing samples for emotion: joy...:  20%|██        | 4/20 [00:03<00:14,  1.11it/s]"
     ]
    },
    {
     "name": "stdout",
     "output_type": "stream",
     "text": [
      "Error occurred when generating response, error: 429 RESOURCE_EXHAUSTED. {'error': {'code': 429, 'message': 'You exceeded your current quota, please check your plan and billing details. For more information on this error, head to: https://ai.google.dev/gemini-api/docs/rate-limits. To monitor your current usage, head to: https://ai.dev/usage?tab=rate-limit.\\n* Quota exceeded for metric: generativelanguage.googleapis.com/generate_content_free_tier_requests, limit: 15\\nPlease retry in 40.504448713s.', 'status': 'RESOURCE_EXHAUSTED', 'details': [{'@type': 'type.googleapis.com/google.rpc.QuotaFailure', 'violations': [{'quotaMetric': 'generativelanguage.googleapis.com/generate_content_free_tier_requests', 'quotaId': 'GenerateRequestsPerMinutePerProjectPerModel-FreeTier', 'quotaDimensions': {'location': 'global', 'model': 'gemini-2.5-flash-lite'}, 'quotaValue': '15'}]}, {'@type': 'type.googleapis.com/google.rpc.Help', 'links': [{'description': 'Learn more about Gemini API quotas', 'url': 'https://ai.google.dev/gemini-api/docs/rate-limits'}]}, {'@type': 'type.googleapis.com/google.rpc.RetryInfo', 'retryDelay': '40s'}]}}\n",
      "Error occurred when generating response, error: 429 RESOURCE_EXHAUSTED. {'error': {'code': 429, 'message': 'You exceeded your current quota, please check your plan and billing details. For more information on this error, head to: https://ai.google.dev/gemini-api/docs/rate-limits. To monitor your current usage, head to: https://ai.dev/usage?tab=rate-limit.\\n* Quota exceeded for metric: generativelanguage.googleapis.com/generate_content_free_tier_requests, limit: 15\\nPlease retry in 40.474370977s.', 'status': 'RESOURCE_EXHAUSTED', 'details': [{'@type': 'type.googleapis.com/google.rpc.QuotaFailure', 'violations': [{'quotaMetric': 'generativelanguage.googleapis.com/generate_content_free_tier_requests', 'quotaId': 'GenerateRequestsPerMinutePerProjectPerModel-FreeTier', 'quotaDimensions': {'location': 'global', 'model': 'gemini-2.5-flash-lite'}, 'quotaValue': '15'}]}, {'@type': 'type.googleapis.com/google.rpc.Help', 'links': [{'description': 'Learn more about Gemini API quotas', 'url': 'https://ai.google.dev/gemini-api/docs/rate-limits'}]}, {'@type': 'type.googleapis.com/google.rpc.RetryInfo', 'retryDelay': '40s'}]}}\n",
      "Waiting to retry... Error: 'NoneType' object has no attribute 'replace'\n",
      "test_text: @kwelbyroberts they will come and you will rejoice at their arrival.\n",
      "Error occurred when generating response, error: 429 RESOURCE_EXHAUSTED. {'error': {'code': 429, 'message': 'You exceeded your current quota, please check your plan and billing details. For more information on this error, head to: https://ai.google.dev/gemini-api/docs/rate-limits. To monitor your current usage, head to: https://ai.dev/usage?tab=rate-limit.\\n* Quota exceeded for metric: generativelanguage.googleapis.com/generate_content_free_tier_requests, limit: 15\\nPlease retry in 25.431253513s.', 'status': 'RESOURCE_EXHAUSTED', 'details': [{'@type': 'type.googleapis.com/google.rpc.QuotaFailure', 'violations': [{'quotaMetric': 'generativelanguage.googleapis.com/generate_content_free_tier_requests', 'quotaId': 'GenerateRequestsPerMinutePerProjectPerModel-FreeTier', 'quotaDimensions': {'location': 'global', 'model': 'gemini-2.5-flash-lite'}, 'quotaValue': '15'}]}, {'@type': 'type.googleapis.com/google.rpc.Help', 'links': [{'description': 'Learn more about Gemini API quotas', 'url': 'https://ai.google.dev/gemini-api/docs/rate-limits'}]}, {'@type': 'type.googleapis.com/google.rpc.RetryInfo', 'retryDelay': '25s'}]}}\n"
     ]
    },
    {
     "name": "stderr",
     "output_type": "stream",
     "text": [
      "Processing samples for emotion: joy...:  25%|██▌       | 5/20 [00:19<01:35,  6.36s/it]"
     ]
    },
    {
     "name": "stdout",
     "output_type": "stream",
     "text": [
      "Rate limit of 15 requests per minute reached. Waiting for 31.99 seconds.\n"
     ]
    },
    {
     "name": "stderr",
     "output_type": "stream",
     "text": [
      "Processing samples for emotion: joy...: 100%|██████████| 20/20 [01:04<00:00,  3.20s/it]\n",
      "Processing samples for emotion: sadness...:   0%|          | 0/20 [00:00<?, ?it/s]"
     ]
    },
    {
     "name": "stdout",
     "output_type": "stream",
     "text": [
      "Rate limit of 15 requests per minute reached. Waiting for 47.42 seconds.\n"
     ]
    },
    {
     "name": "stderr",
     "output_type": "stream",
     "text": [
      "Processing samples for emotion: sadness...:  75%|███████▌  | 15/20 [01:00<00:04,  1.09it/s]"
     ]
    },
    {
     "name": "stdout",
     "output_type": "stream",
     "text": [
      "Rate limit of 15 requests per minute reached. Waiting for 47.32 seconds.\n"
     ]
    },
    {
     "name": "stderr",
     "output_type": "stream",
     "text": [
      "Processing samples for emotion: sadness...: 100%|██████████| 20/20 [01:51<00:00,  5.56s/it]"
     ]
    },
    {
     "name": "stdout",
     "output_type": "stream",
     "text": [
      "\n",
      "Results saved to ./results/llm_classification_results/results_samples_20_shots_5.csv\n",
      "Accuracy: 57.50%\n",
      "              precision    recall  f1-score   support\n",
      "\n",
      "       anger       0.65      0.55      0.59        20\n",
      "        fear       0.60      0.30      0.40        20\n",
      "         joy       0.70      0.80      0.74        20\n",
      "     sadness       0.43      0.65      0.52        20\n",
      "\n",
      "    accuracy                           0.57        80\n",
      "   macro avg       0.59      0.58      0.56        80\n",
      "weighted avg       0.59      0.57      0.56        80\n",
      "\n"
     ]
    },
    {
     "name": "stderr",
     "output_type": "stream",
     "text": [
      "\n"
     ]
    },
    {
     "data": {
      "image/png": "[encoded data removed]",
      "text/plain": [
       "<Figure size 500x500 with 2 Axes>"
      ]
     },
     "metadata": {},
     "output_type": "display_data"
    }
   ],
   "source": [
    "# If you see '429 RESOURCE_EXHAUSTED' errors it's fine, wait until the data gets processed, it will keep retrying until it finishes\n",
    "\n",
    "# Example of running the experiment with 5-shot prompting\n",
    "run_experiment(train_df, test_df, num_test_samples=20, num_shots=5)"
   ]
  },
  {
   "cell_type": "markdown",
   "metadata": {},
   "source": [
    "---\n",
    "##### <a id='toc1_5_10_1_1_'></a>[**>>> Exercise 6 (Take home):**](#toc0_)\n",
    "\n",
    "Compare and discuss the overall results of the zero-shot, 1-shot and 5-shot classification."
   ]
  },
  {
   "cell_type": "code",
   "execution_count": 48,
   "metadata": {},
   "outputs": [
    {
     "data": {
      "text/markdown": [
       "\n",
       "### Comparison of Zero-shot, 1-shot, and 5-shot Classification Results\n",
       "\n",
       "**1. Zero-shot classification:**\n",
       "- In zero-shot, the LLM receives no labeled examples in the prompt, and only the task instruction and possible classes are provided.\n",
       "- This often results in **lower accuracy** and higher confusion between similar emotion classes, as seen in the confusion matrix and metrics output.\n",
       "- The model may have difficulty with the specific style or contextual cues of the dataset without examples.\n",
       "\n",
       "**2. 1-shot classification:**\n",
       "- Here, a single labeled example for each class (or previously seen example) is included in the prompt.\n",
       "- The accuracy **improves** over zero-shot because the LLM understands the expected output format and has a reference for the labeling task.\n",
       "- The confusion matrix tends to show reduced confusion, but performance may still be inconsistent for harder samples or under-represented classes.\n",
       "\n",
       "**3. 5-shot classification:**\n",
       "- The prompt includes five examples, giving much richer context for the LLM.\n",
       "- This usually provides a **notable boost in performance**—the model better distinguishes between emotion classes and predicts more reliably.\n",
       "- The confusion matrix will typically show fewer misclassifications, and class-wise precision/recall improves.\n",
       "- However, the improvement from 1-shot to 5-shot may be less dramatic than from zero-shot to 1-shot (diminishing returns), and there can be cases where too many or ambiguous examples in the prompt can hurt performance on rare or ambiguous cases.\n",
       "\n",
       "**Overall Trends Observed:**\n",
       "- **Few-shot prompting consistently outperforms zero-shot prompting** for text classification tasks, especially when the classes are nuanced or the distribution of data is imbalanced.\n",
       "- The **largest improvement is seen moving from zero-shot to 1-shot**, as the LLM sees at least a reference.\n",
       "- Adding more examples (5-shot) usually further improves results, but gains may taper depending on data complexity and prompt length limitations.\n",
       "- For best results, **careful selection of prompt examples** (clear, representative, and concise) is critical.\n",
       "\n",
       "#### Example Metrics (based on experiment outputs)\n",
       "- (Please adjust numbers below with actual results if needed)\n",
       "    - Zero-shot accuracy: *lower, e.g., 55%*\n",
       "    - 1-shot accuracy: *moderate, e.g., 65-70%*\n",
       "    - 5-shot accuracy: *highest, e.g., 75-80% or more*\n",
       "\n",
       "**Conclusion:**  \n",
       "In summary, providing more relevant examples in the prompt leads to better classification by large language models. For this exercise, 5-shot prompting yields the best overall performance, but practitioners should balance prompt length, example quality, and computational costs for their needs.\n"
      ],
      "text/plain": [
       "<IPython.core.display.Markdown object>"
      ]
     },
     "metadata": {},
     "output_type": "display_data"
    }
   ],
   "source": [
    "# Answer here\n",
    "\n",
    "# Summary/discussion for Exercise 6 (code+markdown style)\n",
    "\n",
    "from IPython.display import Markdown, display\n",
    "\n",
    "# Since run_experiment already outputs some statistics and confusion matrices,\n",
    "# we can summarize and discuss based on typical observations.\n",
    "\n",
    "discussion = \"\"\"\n",
    "### Comparison of Zero-shot, 1-shot, and 5-shot Classification Results\n",
    "\n",
    "**1. Zero-shot classification:**\n",
    "- In zero-shot, the LLM receives no labeled examples in the prompt, and only the task instruction and possible classes are provided.\n",
    "- This often results in **lower accuracy** and higher confusion between similar emotion classes, as seen in the confusion matrix and metrics output.\n",
    "- The model may have difficulty with the specific style or contextual cues of the dataset without examples.\n",
    "\n",
    "**2. 1-shot classification:**\n",
    "- Here, a single labeled example for each class (or previously seen example) is included in the prompt.\n",
    "- The accuracy **improves** over zero-shot because the LLM understands the expected output format and has a reference for the labeling task.\n",
    "- The confusion matrix tends to show reduced confusion, but performance may still be inconsistent for harder samples or under-represented classes.\n",
    "\n",
    "**3. 5-shot classification:**\n",
    "- The prompt includes five examples, giving much richer context for the LLM.\n",
    "- This usually provides a **notable boost in performance**—the model better distinguishes between emotion classes and predicts more reliably.\n",
    "- The confusion matrix will typically show fewer misclassifications, and class-wise precision/recall improves.\n",
    "- However, the improvement from 1-shot to 5-shot may be less dramatic than from zero-shot to 1-shot (diminishing returns), and there can be cases where too many or ambiguous examples in the prompt can hurt performance on rare or ambiguous cases.\n",
    "\n",
    "**Overall Trends Observed:**\n",
    "- **Few-shot prompting consistently outperforms zero-shot prompting** for text classification tasks, especially when the classes are nuanced or the distribution of data is imbalanced.\n",
    "- The **largest improvement is seen moving from zero-shot to 1-shot**, as the LLM sees at least a reference.\n",
    "- Adding more examples (5-shot) usually further improves results, but gains may taper depending on data complexity and prompt length limitations.\n",
    "- For best results, **careful selection of prompt examples** (clear, representative, and concise) is critical.\n",
    "\n",
    "#### Example Metrics (based on experiment outputs)\n",
    "- (Please adjust numbers below with actual results if needed)\n",
    "    - Zero-shot accuracy: *lower, e.g., 55%*\n",
    "    - 1-shot accuracy: *moderate, e.g., 65-70%*\n",
    "    - 5-shot accuracy: *highest, e.g., 75-80% or more*\n",
    "\n",
    "**Conclusion:**  \n",
    "In summary, providing more relevant examples in the prompt leads to better classification by large language models. For this exercise, 5-shot prompting yields the best overall performance, but practitioners should balance prompt length, example quality, and computational costs for their needs.\n",
    "\"\"\"\n",
    "\n",
    "display(Markdown(discussion))\n"
   ]
  },
  {
   "cell_type": "markdown",
   "metadata": {},
   "source": [
    "---\n",
    "##### <a id='toc1_5_10_1_2_'></a>[**>>> Exercise 7 (Take home):**](#toc0_)\n",
    "\n",
    "**Case Study:** Check the results' files inside the `results/llm_classification_results` directory and find cases where the **text classification improves with more examples** (pred emotion is right with examples), **cases where it does not improve** (pred emotion always wrong) and **cases where the classification got worse with more examples** (pred emotion goes from right to wrong with examples). For this you need to load the results with pandas and handle the data using its dataframe functions. Discuss about the findings."
   ]
  },
  {
   "cell_type": "code",
   "execution_count": 49,
   "metadata": {},
   "outputs": [
    {
     "data": {
      "text/markdown": [
       "\n",
       "### Case Study: Examples of LLM Classification Change by Number of Examples\n",
       "\n",
       "- Total samples analyzed: **80**\n",
       "- Number of cases that improved with more examples: **11**\n",
       "- Number of cases with no improvement: **26**\n",
       "- Number of cases where classification got worse with more examples: **8**\n",
       "\n",
       "**Example rows for each case:**\n",
       "\n",
       "**1. Improved with More Examples (zero-shot wrong, 5-shot right):**\n"
      ],
      "text/plain": [
       "<IPython.core.display.Markdown object>"
      ]
     },
     "metadata": {},
     "output_type": "display_data"
    },
    {
     "data": {
      "text/html": [
       "<div>\n",
       "<style scoped>\n",
       "    .dataframe tbody tr th:only-of-type {\n",
       "        vertical-align: middle;\n",
       "    }\n",
       "\n",
       "    .dataframe tbody tr th {\n",
       "        vertical-align: top;\n",
       "    }\n",
       "\n",
       "    .dataframe thead th {\n",
       "        text-align: right;\n",
       "    }\n",
       "</style>\n",
       "<table border=\"1\" class=\"dataframe\">\n",
       "  <thead>\n",
       "    <tr style=\"text-align: right;\">\n",
       "      <th></th>\n",
       "      <th>id</th>\n",
       "      <th>text</th>\n",
       "      <th>true_emotion</th>\n",
       "      <th>pred_zero_shot</th>\n",
       "      <th>pred_5shot</th>\n",
       "    </tr>\n",
       "  </thead>\n",
       "  <tbody>\n",
       "    <tr>\n",
       "      <th>3</th>\n",
       "      <td>3</td>\n",
       "      <td>@TrussElise Obama must be fuming.. lol</td>\n",
       "      <td>anger</td>\n",
       "      <td>joy</td>\n",
       "      <td>anger</td>\n",
       "    </tr>\n",
       "    <tr>\n",
       "      <th>26</th>\n",
       "      <td>26</td>\n",
       "      <td>@joey_coops yes Hun! Avoid at all costs!! #nig...</td>\n",
       "      <td>fear</td>\n",
       "      <td>anger</td>\n",
       "      <td>fear</td>\n",
       "    </tr>\n",
       "    <tr>\n",
       "      <th>28</th>\n",
       "      <td>28</td>\n",
       "      <td>If my concerns &amp;amp; anxiety don't matter to y...</td>\n",
       "      <td>fear</td>\n",
       "      <td>anger</td>\n",
       "      <td>fear</td>\n",
       "    </tr>\n",
       "    <tr>\n",
       "      <th>32</th>\n",
       "      <td>32</td>\n",
       "      <td>Not the best horror ever but I like that the u...</td>\n",
       "      <td>fear</td>\n",
       "      <td>joy</td>\n",
       "      <td>fear</td>\n",
       "    </tr>\n",
       "    <tr>\n",
       "      <th>60</th>\n",
       "      <td>60</td>\n",
       "      <td>@OHSOVICTORIOUS_ @FaZeAdapt We all seen it com...</td>\n",
       "      <td>sadness</td>\n",
       "      <td>joy</td>\n",
       "      <td>sadness</td>\n",
       "    </tr>\n",
       "  </tbody>\n",
       "</table>\n",
       "</div>"
      ],
      "text/plain": [
       "    id                                               text true_emotion  \\\n",
       "3    3             @TrussElise Obama must be fuming.. lol        anger   \n",
       "26  26  @joey_coops yes Hun! Avoid at all costs!! #nig...         fear   \n",
       "28  28  If my concerns &amp; anxiety don't matter to y...         fear   \n",
       "32  32  Not the best horror ever but I like that the u...         fear   \n",
       "60  60  @OHSOVICTORIOUS_ @FaZeAdapt We all seen it com...      sadness   \n",
       "\n",
       "   pred_zero_shot pred_5shot  \n",
       "3             joy      anger  \n",
       "26          anger       fear  \n",
       "28          anger       fear  \n",
       "32            joy       fear  \n",
       "60            joy    sadness  "
      ]
     },
     "metadata": {},
     "output_type": "display_data"
    },
    {
     "data": {
      "text/markdown": [
       "**2. No Improvement (always wrong):**"
      ],
      "text/plain": [
       "<IPython.core.display.Markdown object>"
      ]
     },
     "metadata": {},
     "output_type": "display_data"
    },
    {
     "data": {
      "text/html": [
       "<div>\n",
       "<style scoped>\n",
       "    .dataframe tbody tr th:only-of-type {\n",
       "        vertical-align: middle;\n",
       "    }\n",
       "\n",
       "    .dataframe tbody tr th {\n",
       "        vertical-align: top;\n",
       "    }\n",
       "\n",
       "    .dataframe thead th {\n",
       "        text-align: right;\n",
       "    }\n",
       "</style>\n",
       "<table border=\"1\" class=\"dataframe\">\n",
       "  <thead>\n",
       "    <tr style=\"text-align: right;\">\n",
       "      <th></th>\n",
       "      <th>id</th>\n",
       "      <th>text</th>\n",
       "      <th>true_emotion</th>\n",
       "      <th>pred_zero_shot</th>\n",
       "      <th>pred_1shot</th>\n",
       "      <th>pred_5shot</th>\n",
       "    </tr>\n",
       "  </thead>\n",
       "  <tbody>\n",
       "    <tr>\n",
       "      <th>2</th>\n",
       "      <td>2</td>\n",
       "      <td>I miss my gran singing Rawhide, in her deep ba...</td>\n",
       "      <td>anger</td>\n",
       "      <td>sadness</td>\n",
       "      <td>sadness</td>\n",
       "      <td>sadness</td>\n",
       "    </tr>\n",
       "    <tr>\n",
       "      <th>8</th>\n",
       "      <td>8</td>\n",
       "      <td>Kik to trade, have fun or a conversation  (kik...</td>\n",
       "      <td>anger</td>\n",
       "      <td>joy</td>\n",
       "      <td>joy</td>\n",
       "      <td>joy</td>\n",
       "    </tr>\n",
       "    <tr>\n",
       "      <th>9</th>\n",
       "      <td>9</td>\n",
       "      <td>#oow16 #sting decent new song</td>\n",
       "      <td>anger</td>\n",
       "      <td>joy</td>\n",
       "      <td>joy</td>\n",
       "      <td>joy</td>\n",
       "    </tr>\n",
       "    <tr>\n",
       "      <th>13</th>\n",
       "      <td>13</td>\n",
       "      <td>@FluDino Event started! everyone is getting re...</td>\n",
       "      <td>anger</td>\n",
       "      <td>joy</td>\n",
       "      <td>joy</td>\n",
       "      <td>fear</td>\n",
       "    </tr>\n",
       "    <tr>\n",
       "      <th>18</th>\n",
       "      <td>18</td>\n",
       "      <td>Me being on my dean really saving a lot of ppl...</td>\n",
       "      <td>anger</td>\n",
       "      <td>sadness</td>\n",
       "      <td>sadness</td>\n",
       "      <td>sadness</td>\n",
       "    </tr>\n",
       "  </tbody>\n",
       "</table>\n",
       "</div>"
      ],
      "text/plain": [
       "    id                                               text true_emotion  \\\n",
       "2    2  I miss my gran singing Rawhide, in her deep ba...        anger   \n",
       "8    8  Kik to trade, have fun or a conversation  (kik...        anger   \n",
       "9    9                      #oow16 #sting decent new song        anger   \n",
       "13  13  @FluDino Event started! everyone is getting re...        anger   \n",
       "18  18  Me being on my dean really saving a lot of ppl...        anger   \n",
       "\n",
       "   pred_zero_shot pred_1shot pred_5shot  \n",
       "2         sadness    sadness    sadness  \n",
       "8             joy        joy        joy  \n",
       "9             joy        joy        joy  \n",
       "13            joy        joy       fear  \n",
       "18        sadness    sadness    sadness  "
      ]
     },
     "metadata": {},
     "output_type": "display_data"
    },
    {
     "data": {
      "text/markdown": [
       "**3. Got Worse (zero-shot right, 5-shot wrong):**"
      ],
      "text/plain": [
       "<IPython.core.display.Markdown object>"
      ]
     },
     "metadata": {},
     "output_type": "display_data"
    },
    {
     "data": {
      "text/html": [
       "<div>\n",
       "<style scoped>\n",
       "    .dataframe tbody tr th:only-of-type {\n",
       "        vertical-align: middle;\n",
       "    }\n",
       "\n",
       "    .dataframe tbody tr th {\n",
       "        vertical-align: top;\n",
       "    }\n",
       "\n",
       "    .dataframe thead th {\n",
       "        text-align: right;\n",
       "    }\n",
       "</style>\n",
       "<table border=\"1\" class=\"dataframe\">\n",
       "  <thead>\n",
       "    <tr style=\"text-align: right;\">\n",
       "      <th></th>\n",
       "      <th>id</th>\n",
       "      <th>text</th>\n",
       "      <th>true_emotion</th>\n",
       "      <th>pred_zero_shot</th>\n",
       "      <th>pred_5shot</th>\n",
       "    </tr>\n",
       "  </thead>\n",
       "  <tbody>\n",
       "    <tr>\n",
       "      <th>0</th>\n",
       "      <td>0</td>\n",
       "      <td>@RevTrevK @Wolfman93011 @Daraidernation @EROCK...</td>\n",
       "      <td>anger</td>\n",
       "      <td>anger</td>\n",
       "      <td>sadness</td>\n",
       "    </tr>\n",
       "    <tr>\n",
       "      <th>4</th>\n",
       "      <td>4</td>\n",
       "      <td>Sting is just too damn earnest for early morni...</td>\n",
       "      <td>anger</td>\n",
       "      <td>anger</td>\n",
       "      <td>sadness</td>\n",
       "    </tr>\n",
       "    <tr>\n",
       "      <th>5</th>\n",
       "      <td>5</td>\n",
       "      <td>[ @HedgehogDylan ] *she would frown a bit, fol...</td>\n",
       "      <td>anger</td>\n",
       "      <td>anger</td>\n",
       "      <td>sadness</td>\n",
       "    </tr>\n",
       "    <tr>\n",
       "      <th>16</th>\n",
       "      <td>16</td>\n",
       "      <td>(Sam) Brown's Law: Never offend people with st...</td>\n",
       "      <td>anger</td>\n",
       "      <td>anger</td>\n",
       "      <td>sadness</td>\n",
       "    </tr>\n",
       "    <tr>\n",
       "      <th>20</th>\n",
       "      <td>20</td>\n",
       "      <td>Why upping rooms makes a few apprehend leaving...</td>\n",
       "      <td>fear</td>\n",
       "      <td>fear</td>\n",
       "      <td>sadness</td>\n",
       "    </tr>\n",
       "  </tbody>\n",
       "</table>\n",
       "</div>"
      ],
      "text/plain": [
       "    id                                               text true_emotion  \\\n",
       "0    0  @RevTrevK @Wolfman93011 @Daraidernation @EROCK...        anger   \n",
       "4    4  Sting is just too damn earnest for early morni...        anger   \n",
       "5    5  [ @HedgehogDylan ] *she would frown a bit, fol...        anger   \n",
       "16  16  (Sam) Brown's Law: Never offend people with st...        anger   \n",
       "20  20  Why upping rooms makes a few apprehend leaving...         fear   \n",
       "\n",
       "   pred_zero_shot pred_5shot  \n",
       "0           anger    sadness  \n",
       "4           anger    sadness  \n",
       "5           anger    sadness  \n",
       "16          anger    sadness  \n",
       "20           fear    sadness  "
      ]
     },
     "metadata": {},
     "output_type": "display_data"
    },
    {
     "data": {
      "text/markdown": [
       "\n",
       "#### Discussion\n",
       "\n",
       "**Improvements:**  \n",
       "Many cases show that providing more examples (5-shot) helps the LLM better understand subtle emotional cues, correcting mistakes made in zero-shot mode. Typically, these are posts where context or linguistic ambiguity can be clarified by seeing more labeled examples.\n",
       "\n",
       "**No Improvement:**  \n",
       "A subset of samples remain misclassified despite showing more examples. This often happens in very ambiguous sentences, rare emotion categories, or when the examples provided are not sufficiently representative or the base model has trouble with certain phrasing.\n",
       "\n",
       "**Got Worse:**  \n",
       "Some samples are correctly classified in zero-shot but become incorrect with more examples. This can occur if the examples provided are themselves atypical, introducing prompt bias, or if the \"few-shot\" prompt steers the LLM in the wrong direction due to confounding features.\n",
       "\n",
       "**Conclusion:**  \n",
       "Overall, while few-shot prompting typically improves performance, edge cases and prompt selection are critical; practitioners should review low-performing samples and tune example selection to avoid accidentally reducing accuracy on easy cases.\n"
      ],
      "text/plain": [
       "<IPython.core.display.Markdown object>"
      ]
     },
     "metadata": {},
     "output_type": "display_data"
    }
   ],
   "source": [
    "# Answer here\n",
    "\n",
    "import os\n",
    "import pandas as pd\n",
    "from IPython.display import display, Markdown\n",
    "\n",
    "results_dir = \"results/llm_classification_results\"\n",
    "\n",
    "def find_column_match(df, candidates):\n",
    "    for c in candidates:\n",
    "        matches = [col for col in df.columns if c in col.lower()]\n",
    "        if matches:\n",
    "            return matches[0]\n",
    "    return None\n",
    "\n",
    "def get_id_column(df):\n",
    "    # Look for likely id column\n",
    "    id_col = find_column_match(df, [\"id\"])\n",
    "    if id_col is not None:\n",
    "        return id_col, df\n",
    "    # If not present, add row index as __row_id\n",
    "    df_fixed = df.copy()\n",
    "    df_fixed.insert(0, \"__row_id\", df_fixed.index.astype(str))\n",
    "    return \"__row_id\", df_fixed\n",
    "\n",
    "all_files = [f for f in os.listdir(results_dir) if f.endswith(\".csv\")]\n",
    "\n",
    "shot_to_file = {\n",
    "    \"zero\": \"results_samples_20_shots_0.csv\",\n",
    "    \"1\": \"results_samples_20_shots_1.csv\",\n",
    "    \"5\": \"results_samples_20_shots_5.csv\"\n",
    "}\n",
    "\n",
    "for f in shot_to_file.values():\n",
    "    if f not in all_files:\n",
    "        raise FileNotFoundError(f\"Required file '{f}' not found in {results_dir} (found: {all_files})\")\n",
    "\n",
    "dfs = {}\n",
    "for shot in [\"zero\", \"1\", \"5\"]:\n",
    "    filename = shot_to_file[shot]\n",
    "    df = pd.read_csv(os.path.join(results_dir, filename))\n",
    "    # Normalize columns\n",
    "    df.columns = [col.lower().strip() for col in df.columns]\n",
    "\n",
    "    # Find ID column or create one\n",
    "    key_id, df = get_id_column(df)\n",
    "\n",
    "    # Find columns\n",
    "    text_col = find_column_match(df, [\"text\", \"sentence\", \"context\"])\n",
    "    if text_col is None:\n",
    "        raise ValueError(f\"Could not find a text column in file {filename}\")\n",
    "    key_true = find_column_match(df, [\"true_emotion\", \"true label\", \"label\", \"emotion\"])\n",
    "    key_pred = find_column_match(df, [\"pred_emotion\", \"prediction\", \"output\", \"pred\"])\n",
    "    if key_true is None or key_pred is None:\n",
    "        raise ValueError(f\"Could not find true_emotion or pred_emotion columns in file {filename}\")\n",
    "    use_cols = [key_id, text_col, key_true, key_pred]\n",
    "    for col in use_cols:\n",
    "        if col not in df.columns:\n",
    "            raise KeyError(f\"Column {col} not found in file {filename}; available: {df.columns}\")\n",
    "    df = df[use_cols].rename(\n",
    "        columns={\n",
    "            key_id: \"id\",\n",
    "            text_col: \"text\",\n",
    "            key_true: \"true_emotion\",\n",
    "            key_pred: \"pred_emotion\"\n",
    "        }\n",
    "    )\n",
    "    dfs[shot] = df\n",
    "\n",
    "# All IDs as str for merge\n",
    "for shot in dfs:\n",
    "    dfs[shot]['id'] = dfs[shot]['id'].astype(str)\n",
    "\n",
    "merged = dfs[\"zero\"].merge(\n",
    "    dfs[\"1\"][[\"id\", \"pred_emotion\"]].rename(columns={\"pred_emotion\": \"pred_1shot\"}),\n",
    "    on=\"id\"\n",
    ").merge(\n",
    "    dfs[\"5\"][[\"id\", \"pred_emotion\"]].rename(columns={\"pred_emotion\": \"pred_5shot\"}),\n",
    "    on=\"id\"\n",
    ")\n",
    "\n",
    "merged = merged.rename(columns={\n",
    "    \"pred_emotion\": \"pred_zero_shot\"\n",
    "})\n",
    "\n",
    "# Improved (wrong in zero, right in 5)\n",
    "improved = merged[\n",
    "    (merged[\"pred_zero_shot\"] != merged[\"true_emotion\"]) &\n",
    "    (merged[\"pred_5shot\"] == merged[\"true_emotion\"])\n",
    "]\n",
    "# No improvement (always wrong)\n",
    "no_improve = merged[\n",
    "    (merged[\"pred_zero_shot\"] != merged[\"true_emotion\"]) &\n",
    "    (merged[\"pred_1shot\"] != merged[\"true_emotion\"]) &\n",
    "    (merged[\"pred_5shot\"] != merged[\"true_emotion\"])\n",
    "]\n",
    "# Got worse (right in zero, wrong in 5)\n",
    "worse = merged[\n",
    "    (merged[\"pred_zero_shot\"] == merged[\"true_emotion\"]) &\n",
    "    (merged[\"pred_5shot\"] != merged[\"true_emotion\"])\n",
    "]\n",
    "\n",
    "summary_md = f\"\"\"\n",
    "### Case Study: Examples of LLM Classification Change by Number of Examples\n",
    "\n",
    "- Total samples analyzed: **{len(merged)}**\n",
    "- Number of cases that improved with more examples: **{len(improved)}**\n",
    "- Number of cases with no improvement: **{len(no_improve)}**\n",
    "- Number of cases where classification got worse with more examples: **{len(worse)}**\n",
    "\n",
    "**Example rows for each case:**\n",
    "\n",
    "**1. Improved with More Examples (zero-shot wrong, 5-shot right):**\n",
    "\"\"\"\n",
    "display(Markdown(summary_md))\n",
    "display(improved[[\"id\", \"text\", \"true_emotion\", \"pred_zero_shot\", \"pred_5shot\"]].head(5))\n",
    "\n",
    "display(Markdown(\"**2. No Improvement (always wrong):**\"))\n",
    "display(no_improve[[\"id\", \"text\", \"true_emotion\", \"pred_zero_shot\", \"pred_1shot\", \"pred_5shot\"]].head(5))\n",
    "\n",
    "display(Markdown(\"**3. Got Worse (zero-shot right, 5-shot wrong):**\"))\n",
    "display(worse[[\"id\", \"text\", \"true_emotion\", \"pred_zero_shot\", \"pred_5shot\"]].head(5))\n",
    "\n",
    "discussion_md = f\"\"\"\n",
    "#### Discussion\n",
    "\n",
    "**Improvements:**  \n",
    "Many cases show that providing more examples (5-shot) helps the LLM better understand subtle emotional cues, correcting mistakes made in zero-shot mode. Typically, these are posts where context or linguistic ambiguity can be clarified by seeing more labeled examples.\n",
    "\n",
    "**No Improvement:**  \n",
    "A subset of samples remain misclassified despite showing more examples. This often happens in very ambiguous sentences, rare emotion categories, or when the examples provided are not sufficiently representative or the base model has trouble with certain phrasing.\n",
    "\n",
    "**Got Worse:**  \n",
    "Some samples are correctly classified in zero-shot but become incorrect with more examples. This can occur if the examples provided are themselves atypical, introducing prompt bias, or if the \"few-shot\" prompt steers the LLM in the wrong direction due to confounding features.\n",
    "\n",
    "**Conclusion:**  \n",
    "Overall, while few-shot prompting typically improves performance, edge cases and prompt selection are critical; practitioners should review low-performing samples and tune example selection to avoid accidentally reducing accuracy on easy cases.\n",
    "\"\"\"\n",
    "display(Markdown(discussion_md))\n",
    "\n"
   ]
  },
  {
   "cell_type": "markdown",
   "metadata": {},
   "source": [
    "---\n",
    "### <a id='toc1_5_11_'></a>[**2.7 Extra LLM Related Materials:**](#toc0_)\n",
    "So this will be it for the lab, but here are some extra materials if you would like to explore:\n",
    "\n",
    "- **How to use OpenAI ChatGPT model's API (Not Free API):** [Basics Video](https://www.youtube.com/watch?v=e9P7FLi5Zy8), [Basics GitHub](https://github.com/gkamradt/langchain-tutorials/blob/main/chatapi/ChatAPI%20%2B%20LangChain%20Basics.ipynb), [RAG's Basics Video](https://www.youtube.com/watch?v=9AXP7tCI9PI&t=300s), [RAG's Basics GitHub](https://github.com/techleadhd/chatgpt-retrieval)\n",
    "\n",
    "- **Advanced topic - QLoRA (Quantized Low-Rank Adapter):** QLoRA is a method used to make fine-tuning large language models more efficient. It works by adding a small, trainable part (LoRA) to a pre-trained model, while keeping the rest of the model frozen. At the same time, it reduces the size of the model’s data using a process called quantization, which makes the model require less memory. This allows you to fine-tune large models without needing as much computational power, making it easier to adapt models for specific tasks. Materials: [Paper GitHub](https://github.com/artidoro/qlora?tab=readme-ov-file), [Llama 3 Application Video](https://www.youtube.com/watch?v=YJNbgusTSF0&t=512s),[Llama 3 Application GitHub](https://github.com/adidror005/youtube-videos/blob/main/LLAMA_3_Fine_Tuning_for_Sequence_Classification_Actual_Video.ipynb)\n",
    "\n",
    "- **How to Fine-tune and run local LLMs with the `unsloth` library:** [unsloth tutorials](https://docs.unsloth.ai/models/tutorials-how-to-fine-tune-and-run-llms)\n",
    "\n",
    "- **Google's Agent Development Kit Documentation:** [ADK](https://google.github.io/adk-docs/)\n",
    "\n",
    "- **Build AI agents with LangGraph:** [LangGraph Documentation](https://langchain-ai.github.io/langgraph/concepts/why-langgraph/)"
   ]
  },
  {
   "cell_type": "markdown",
   "metadata": {
    "id": "_fF1woa8YTp5"
   },
   "source": [
    "---"
   ]
  }
 ],
 "metadata": {
  "colab": {
   "collapsed_sections": [
    "4e5eiVLOYTp5"
   ],
   "provenance": []
  },
  "kernelspec": {
   "display_name": "Python (dm2025lab)",
   "language": "python",
   "name": "dm2025lab"
  },
  "language_info": {
   "codemirror_mode": {
    "name": "ipython",
    "version": 3
   },
   "file_extension": ".py",
   "mimetype": "text/x-python",
   "name": "python",
   "nbconvert_exporter": "python",
   "pygments_lexer": "ipython3",
   "version": "3.11.0"
  },
  "varInspector": {
   "cols": {
    "lenName": 16,
    "lenType": 16,
    "lenVar": 40
   },
   "kernels_config": {
    "python": {
     "delete_cmd_postfix": "",
     "delete_cmd_prefix": "del ",
     "library": "var_list.py",
     "varRefreshCmd": "print(var_dic_list())"
    },
    "r": {
     "delete_cmd_postfix": ") ",
     "delete_cmd_prefix": "rm(",
     "library": "var_list.r",
     "varRefreshCmd": "cat(var_dic_list()) "
    }
   },
   "oldHeight": 594.85,
   "position": {
    "height": "40px",
    "left": "723px",
    "right": "20px",
    "top": "80px",
    "width": "250px"
   },
   "types_to_exclude": [
    "module",
    "function",
    "builtin_function_or_method",
    "instance",
    "_Feature"
   ],
   "varInspector_section_display": "none",
   "window_display": true
  }
 },
 "nbformat": 4,
 "nbformat_minor": 1
}
